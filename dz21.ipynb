{
 "cells": [
  {
   "cell_type": "markdown",
   "metadata": {},
   "source": [
    "\"\"\"Задание 1\n",
    "Дана переменная, в которой хранится слово из латинских букв. Напишите код, который выводит на экран:\n",
    "среднюю букву, если число букв в слове нечетное;\n",
    "две средних буквы, если число букв четное.\"\"\""
   ]
  },
  {
   "cell_type": "code",
   "execution_count": 1,
   "metadata": {},
   "outputs": [
    {
     "name": "stdout",
     "output_type": "stream",
     "text": [
      "t\n"
     ]
    }
   ],
   "source": [
    "word ='picture'\n",
    "x = len(word)\n",
    "y = x/2\n",
    "if x%2==0:\n",
    "    print(word[int(y)-1:int(y)+1])\n",
    "else:\n",
    "    print(word[int(y)])"
   ]
  },
  {
   "cell_type": "markdown",
   "metadata": {},
   "source": [
    "\"\"\"Задание 2. Напишите программу, которая последовательно запрашивает у пользователя числа (по одному за раз) и после \n",
    "первого нуля выводит сумму всех ранее введенных чисел.\"\"\""
   ]
  },
  {
   "cell_type": "code",
   "execution_count": 2,
   "metadata": {},
   "outputs": [
    {
     "name": "stdout",
     "output_type": "stream",
     "text": [
      "Введите число: \n",
      "2\n",
      "Введите число: \n",
      "3\n",
      "Введите число: \n",
      "0\n",
      "Результат: \n",
      "5\n"
     ]
    }
   ],
   "source": [
    "a=1\n",
    "S=[]\n",
    "while a != 0:\n",
    "    print ('Введите число: ')\n",
    "    a = int (input ())\n",
    "    S.append(a)\n",
    "s = sum(S)\n",
    "print ('Результат: ')\n",
    "print (s)"
   ]
  },
  {
   "cell_type": "markdown",
   "metadata": {},
   "source": [
    "\"\"\" Задание 3\n",
    "Мы делаем MVP dating-сервиса, и у нас есть список парней и девушек.\n",
    "Выдвигаем гипотезу: лучшие рекомендации мы получим, если просто отсортируем имена по алфавиту и познакомим людей с одинаковыми индексами после сортировки! Но мы не будем никого знакомить, если кто-то может остаться без пары:\"\"\""
   ]
  },
  {
   "cell_type": "code",
   "execution_count": 4,
   "metadata": {},
   "outputs": [
    {
     "name": "stdout",
     "output_type": "stream",
     "text": [
      "Введите количество мальчиков\n",
      " 2\n",
      "Введите имя мальчика\n",
      " Иван\n",
      "Введите имя мальчика\n",
      " Ивон\n",
      "Введите количество девочек\n",
      " 2\n",
      "Введите имя девочки\n",
      " Мили\n",
      "Введите имя девочки\n",
      " Мала\n",
      "идеальные пары\n",
      "Иван Мала\n",
      "Ивон Мили\n"
     ]
    }
   ],
   "source": [
    "print ('Введите количество мальчиков')\n",
    "END = int (input (' '))\n",
    "m = []\n",
    "for i in range (0, END):\n",
    "    print ('Введите имя мальчика')\n",
    "    NAME = input (str( ' '));\n",
    "    m.append (NAME)\n",
    "\n",
    "print ('Введите количество девочек')\n",
    "END1 = int (input (' '))\n",
    "f = []\n",
    "for i in range (0, END1):\n",
    "    print ('Введите имя девочки')\n",
    "    NAME = input ( str(' '));\n",
    "    f.append (NAME)\n",
    "r = [END, END1]\n",
    "R = min(r)\n",
    "M=[]\n",
    "F=[]\n",
    "M = sorted(m)\n",
    "F = sorted(f)\n",
    "P=0\n",
    "print ('идеальные пары')\n",
    "for i in range (0, R):\n",
    "    P = M[i] + ' ' + F[i]\n",
    "    print (P)"
   ]
  },
  {
   "cell_type": "markdown",
   "metadata": {},
   "source": [
    "\"\"\" Задание 4\n",
    "У нас есть список, содержащий информацию о среднедневной температуре в Фаренгейтах за произвольный период по странам (структура данных в примере). Необходимо написать код, который рассчитает среднюю температуру за период в Цельсиях(!) для каждой страны.\"\"\""
   ]
  },
  {
   "cell_type": "code",
   "execution_count": 5,
   "metadata": {},
   "outputs": [
    {
     "name": "stdout",
     "output_type": "stream",
     "text": [
      "[74.94285714285714, 56.839999999999996, 38.68571428571429, 53.599999999999994]\n",
      "[['Thailand', 23.9], ['Germany', 13.8], ['Russia', 3.7], ['Poland', 12.0]]\n"
     ]
    }
   ],
   "source": [
    "ct = [['Thailand', [75.2, 77, 78.8, 73.4, 68, 75.2, 77]],\n",
    "    ['Germany', [57.2, 55.4, 59, 59, 53.6]],\n",
    "    ['Russia', [35.6, 37.4, 39.2, 41, 42.8, 39.2, 35.6]],\n",
    "    ['Poland', [50, 50, 53.6, 57.2, 55.4, 55.4]]]\n",
    "ct1=[]\n",
    "for i in range (0, len(ct)):\n",
    "    ct1.append(ct[i][1])\n",
    "ct0=[]\n",
    "for i in range (0,len(ct1)):\n",
    "    b = sum(ct1[i])/len(ct1[i])\n",
    "    ct0.append(b)\n",
    "print (ct0)\n",
    "ct2=[]\n",
    "for i in range (0,len(ct0)):\n",
    "    a = round((ct0[i] - 32)/1.8, 1)\n",
    "    ct2.append (a)\n",
    "\n",
    "\n",
    "\n",
    "for i in range (0, len(ct)):\n",
    "    ct[i][1] = ct2[i]\n",
    "print (ct)"
   ]
  },
  {
   "cell_type": "code",
   "execution_count": null,
   "metadata": {},
   "outputs": [],
   "source": []
  }
 ],
 "metadata": {
  "kernelspec": {
   "display_name": "Python 3",
   "language": "python",
   "name": "python3"
  },
  "language_info": {
   "codemirror_mode": {
    "name": "ipython",
    "version": 3
   },
   "file_extension": ".py",
   "mimetype": "text/x-python",
   "name": "python",
   "nbconvert_exporter": "python",
   "pygments_lexer": "ipython3",
   "version": "3.8.5"
  }
 },
 "nbformat": 4,
 "nbformat_minor": 4
}
