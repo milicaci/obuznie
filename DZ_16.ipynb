{
  "nbformat": 4,
  "nbformat_minor": 0,
  "metadata": {
    "colab": {
      "name": "DZ_16",
      "provenance": [],
      "authorship_tag": "ABX9TyOP9TEkh39jz95a7JNPMXGl",
      "include_colab_link": true
    },
    "kernelspec": {
      "name": "python3",
      "display_name": "Python 3"
    },
    "language_info": {
      "name": "python"
    }
  },
  "cells": [
    {
      "cell_type": "markdown",
      "metadata": {
        "id": "view-in-github",
        "colab_type": "text"
      },
      "source": [
        "<a href=\"https://colab.research.google.com/github/milicaci/obuznie/blob/master/DZ_16.ipynb\" target=\"_parent\"><img src=\"https://colab.research.google.com/assets/colab-badge.svg\" alt=\"Open In Colab\"/></a>"
      ]
    },
    {
      "cell_type": "markdown",
      "metadata": {
        "id": "SvRPjNuh12Hk"
      },
      "source": [
        "Смоделировать игру против лотерейного автомата типа “777”. Игрок платит 1 руб., после чего выпадает случайное целое число, равномерно распределенное от 0 до 999. При некоторых значениях числа игрок получает выигрыш (см. справа)\n",
        "\n",
        "Выгодна ли игра игроку?\n",
        "\n",
        "Сколько в среднем приобретает\n",
        "или теряет игрок за одну игру?\n",
        "77: 200 руб.\n",
        "999: 100 руб.\n",
        "555: 50 руб.\n",
        "333: 15 руб.\n",
        "111: 10 руб.\n",
        "*77: 5 руб.\n",
        "**7: 3 руб.\n",
        "*00: 2 руб.\n",
        "**0: 1 руб.\n",
        "\n",
        "– любая цифра\n",
        "Дополнительное задание повышенной сложности. Теоретически рассчитать средний выигрыш (проигрыш) и сравнить с результатами моделирования"
      ]
    },
    {
      "cell_type": "code",
      "metadata": {
        "id": "_ODG0rah1yQx"
      },
      "source": [
        "import numpy as np"
      ],
      "execution_count": 2,
      "outputs": []
    },
    {
      "cell_type": "code",
      "metadata": {
        "id": "V5gMmsWLzt_0"
      },
      "source": [
        "trials = 1000\n",
        "uspekh = 0 \n",
        "podeda = 0"
      ],
      "execution_count": 10,
      "outputs": []
    },
    {
      "cell_type": "code",
      "metadata": {
        "id": "qwA-OiYU0G0q"
      },
      "source": [
        "def teoriy():\n",
        "    variant = []\n",
        "    for i in range(3):\n",
        "        wheel = np.random.randint(0, 10)\n",
        "        variant.append(wheel)\n",
        "    return variant"
      ],
      "execution_count": 11,
      "outputs": []
    },
    {
      "cell_type": "code",
      "metadata": {
        "colab": {
          "base_uri": "https://localhost:8080/"
        },
        "id": "8S4wwvQY0KjZ",
        "outputId": "541f9fc7-e234-4257-a5b7-b805a205a8d7"
      },
      "source": [
        "for i in range(trials):\n",
        "    schet = teoriy()    \n",
        "    if schet[2] == 0 or schet[2] == 7 or schet == [1, 1, 1] or schet == [3, 3, 3] or schet == [5, 5, 5] or schet == [9, 9, 9]:\n",
        "        uspekh += 1\n",
        "    if schet[1] != 0 and schet[2] == 0: \n",
        "        podeda += 1\n",
        "    elif schet[1] != 7 and schet[2] == 7:\n",
        "        podeda += 3\n",
        "    elif schet[1] == 0 and schet[2] == 0:\n",
        "        podeda += 2\n",
        "    elif schet[1] == 7 and schet[2] == 7 and schet[0] != 7:\n",
        "        podeda += 5\n",
        "    elif schet == [1, 1, 1]:\n",
        "        podeda += 10\n",
        "    elif schet == [3, 3, 3]:\n",
        "        podeda += 15\n",
        "    elif schet == [5, 5, 5]:\n",
        "        podeda += 50\n",
        "    elif schet == [9, 9, 9]:\n",
        "        podeda += 100\n",
        "    elif schet == [7, 7, 7]:\n",
        "        podeda += 200\n",
        "    else:\n",
        "        podeda += 0\n",
        "\n",
        "print(uspekh / trials)  # Вероятность выиграть что-либо\n",
        "print(podeda / trials)  # Средний выигрыш / проигрыш за эту игру\n"
      ],
      "execution_count": 16,
      "outputs": [
        {
          "output_type": "stream",
          "text": [
            "0.988\n",
            "3.447\n"
          ],
          "name": "stdout"
        }
      ]
    },
    {
      "cell_type": "code",
      "metadata": {
        "colab": {
          "base_uri": "https://localhost:8080/"
        },
        "id": "O_HzsTC_0RXJ",
        "outputId": "ef3d877a-0455-4133-9c76-57be039ee6a2"
      },
      "source": [
        "# Рассчитаем средний выгрыш / проигрыш\n",
        "\n",
        "r777 = 1/trials   #200 руб\n",
        "r999 = 1/trials   # 100 руб\n",
        "r555 = 1/trials   #50 руб\n",
        "r333 = 1/trials   #15 руб\n",
        "r111 = 1/trials   #10 руб\n",
        "r77 = 9/trials  #5 руб\n",
        "r00 = 9/trials  #2 руб\n",
        "r7 = 90/trials  #3 руб\n",
        "r0 = 90/trials  #1 руб\n",
        "r0\n",
        "\n",
        "podeda_vozmozhna = (200 * r777 + 100 * r999 + 50 * r555 + 15 * r333 + 10 * r111 + 5 * r77 + 2 * r00 + 3 * r7 + 1 * r0) - 1\n",
        "podeda_vozmozhna"
      ],
      "execution_count": 8,
      "outputs": [
        {
          "output_type": "execute_result",
          "data": {
            "text/plain": [
              "-0.20199999999999996"
            ]
          },
          "metadata": {
            "tags": []
          },
          "execution_count": 8
        }
      ]
    },
    {
      "cell_type": "markdown",
      "metadata": {
        "id": "-mEtV8Iz5zHa"
      },
      "source": [
        "Результат: Игра не выгодна всегда. \n",
        "За одну игру игрок теряет около 20 копеек"
      ]
    }
  ]
}