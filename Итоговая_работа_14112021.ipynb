{
  "nbformat": 4,
  "nbformat_minor": 0,
  "metadata": {
    "colab": {
      "name": "Итоговая работа_14112021",
      "provenance": [],
      "authorship_tag": "ABX9TyOesfJzyNViWmSeI/Qr1CU/",
      "include_colab_link": true
    },
    "kernelspec": {
      "name": "python3",
      "display_name": "Python 3"
    },
    "language_info": {
      "name": "python"
    }
  },
  "cells": [
    {
      "cell_type": "markdown",
      "metadata": {
        "id": "view-in-github",
        "colab_type": "text"
      },
      "source": [
        "<a href=\"https://colab.research.google.com/github/milicaci/obuznie/blob/master/%D0%98%D1%82%D0%BE%D0%B3%D0%BE%D0%B2%D0%B0%D1%8F_%D1%80%D0%B0%D0%B1%D0%BE%D1%82%D0%B0_14112021.ipynb\" target=\"_parent\"><img src=\"https://colab.research.google.com/assets/colab-badge.svg\" alt=\"Open In Colab\"/></a>"
      ]
    },
    {
      "cell_type": "code",
      "metadata": {
        "id": "m_u__VrpweoP"
      },
      "source": [
        "import pandas as pd # таблицы\n",
        "import numpy as np\n",
        "import os\n",
        "import seaborn as sns\n",
        "import matplotlib.pyplot as plt\n",
        "from scipy import stats as st\n",
        "import datetime\n",
        "from datetime import *\n",
        "import datetime as dt\n",
        "from datetime import datetime\n",
        "from datetime import date\n",
        "import plotly.express as px\n",
        "import numpy as np\n",
        "import seaborn as sns\n",
        "import matplotlib.pyplot as plt\n",
        "import plotly.express as px\n",
        "\n",
        "\n",
        "import configparser\n",
        "\n",
        "config = configparser.ConfigParser()\n",
        "a = config.read('../../config.ini')\n",
        "\n",
        "import sys\n",
        "sys.path.append('../..')\n",
        "\n",
        "pd.options.mode.chained_assignment = None  # без этого что-то внизу не работаетF\n"
      ],
      "execution_count": null,
      "outputs": []
    },
    {
      "cell_type": "code",
      "metadata": {
        "colab": {
          "base_uri": "https://localhost:8080/"
        },
        "id": "vUPTje5rwpwr",
        "outputId": "fa3381d7-6fdc-4850-c90a-d17bdadb29ea"
      },
      "source": [
        "!pip install plotly"
      ],
      "execution_count": null,
      "outputs": [
        {
          "output_type": "stream",
          "name": "stdout",
          "text": [
            "Requirement already satisfied: plotly in /usr/local/lib/python3.7/dist-packages (4.4.1)\n",
            "Requirement already satisfied: retrying>=1.3.3 in /usr/local/lib/python3.7/dist-packages (from plotly) (1.3.3)\n",
            "Requirement already satisfied: six in /usr/local/lib/python3.7/dist-packages (from plotly) (1.15.0)\n"
          ]
        }
      ]
    },
    {
      "cell_type": "code",
      "metadata": {
        "id": "8UnxgAytwtXa"
      },
      "source": [
        "sbr_intercom = pd.read_csv('data.csv', sep=';' ) # загружаем данные из  файла csv, с разделителм \";\""
      ],
      "execution_count": null,
      "outputs": []
    },
    {
      "cell_type": "code",
      "metadata": {
        "id": "BrL241wFVuWJ"
      },
      "source": [
        "sbr_intercom.columns=['id','time']\n",
        "sbr_intercom=sbr_intercom. sort_values(by = 'time', ascending = True).reset_index()"
      ],
      "execution_count": null,
      "outputs": []
    },
    {
      "cell_type": "code",
      "metadata": {
        "id": "nyI_nZtiw3IE"
      },
      "source": [
        "sbr_intercom['time'] = pd.to_datetime(sbr_intercom['time'])\n",
        "sbr_intercom['time']=sbr_intercom['time'].dt.strftime('%x')\n",
        "sbr_intercom['count']=sbr_intercom.groupby('time')['id'].transform('nunique')\n",
        "sbr_intercom['time'] = pd.to_datetime(sbr_intercom['time'])"
      ],
      "execution_count": null,
      "outputs": []
    },
    {
      "cell_type": "code",
      "metadata": {
        "colab": {
          "base_uri": "https://localhost:8080/"
        },
        "id": "oIGe_jbaa054",
        "outputId": "ee2a15e0-1077-462b-f21d-d96d753b914d"
      },
      "source": [
        "sbr_intercom.info()"
      ],
      "execution_count": null,
      "outputs": [
        {
          "output_type": "stream",
          "name": "stdout",
          "text": [
            "<class 'pandas.core.frame.DataFrame'>\n",
            "RangeIndex: 62680 entries, 0 to 62679\n",
            "Data columns (total 4 columns):\n",
            " #   Column  Non-Null Count  Dtype         \n",
            "---  ------  --------------  -----         \n",
            " 0   index   62680 non-null  int64         \n",
            " 1   id      62680 non-null  int64         \n",
            " 2   time    62680 non-null  datetime64[ns]\n",
            " 3   count   62680 non-null  int64         \n",
            "dtypes: datetime64[ns](1), int64(3)\n",
            "memory usage: 1.9 MB\n"
          ]
        }
      ]
    },
    {
      "cell_type": "code",
      "metadata": {
        "id": "PGqbD7CbyFi0"
      },
      "source": [
        "df_intercom=sbr_intercom[['time','count']]\n",
        "df_intercom=df_intercom.drop_duplicates()\n",
        "df_intercom=df_intercom.rename(columns={'time':'ds', 'count':'y'})\n",
        "df_intercom=df_intercom.sort_values(by='ds').reset_index(drop=True)\n",
        "df_intercom=df_intercom.reset_index()"
      ],
      "execution_count": null,
      "outputs": []
    },
    {
      "cell_type": "code",
      "metadata": {
        "id": "OhU7gSfIyK-z"
      },
      "source": [
        "import datetime\n",
        "df_intercom['ds_ordinal'] = pd.to_datetime(df_intercom.ds, format=\"%Y%M%D\")\n",
        "df_intercom['ds_ordinal'] = df_intercom['ds_ordinal'].map(datetime.datetime.toordinal)"
      ],
      "execution_count": null,
      "outputs": []
    },
    {
      "cell_type": "code",
      "metadata": {
        "id": "9oFVtl5VyOI8"
      },
      "source": [
        "df_intercom['weekday']=df_intercom['ds'].dt.strftime('%A')\n"
      ],
      "execution_count": null,
      "outputs": []
    },
    {
      "cell_type": "code",
      "metadata": {
        "colab": {
          "base_uri": "https://localhost:8080/",
          "height": 363
        },
        "id": "V4kUHbHvbMEU",
        "outputId": "eaf03bcd-4450-41e0-c9ff-d39f772ff2b7"
      },
      "source": [
        "df_intercom.head(10)"
      ],
      "execution_count": null,
      "outputs": [
        {
          "output_type": "execute_result",
          "data": {
            "text/html": [
              "<div>\n",
              "<style scoped>\n",
              "    .dataframe tbody tr th:only-of-type {\n",
              "        vertical-align: middle;\n",
              "    }\n",
              "\n",
              "    .dataframe tbody tr th {\n",
              "        vertical-align: top;\n",
              "    }\n",
              "\n",
              "    .dataframe thead th {\n",
              "        text-align: right;\n",
              "    }\n",
              "</style>\n",
              "<table border=\"1\" class=\"dataframe\">\n",
              "  <thead>\n",
              "    <tr style=\"text-align: right;\">\n",
              "      <th></th>\n",
              "      <th>index</th>\n",
              "      <th>ds</th>\n",
              "      <th>y</th>\n",
              "      <th>ds_ordinal</th>\n",
              "      <th>weekday</th>\n",
              "    </tr>\n",
              "  </thead>\n",
              "  <tbody>\n",
              "    <tr>\n",
              "      <th>0</th>\n",
              "      <td>0</td>\n",
              "      <td>2017-01-11</td>\n",
              "      <td>2131</td>\n",
              "      <td>736340</td>\n",
              "      <td>Wednesday</td>\n",
              "    </tr>\n",
              "    <tr>\n",
              "      <th>1</th>\n",
              "      <td>1</td>\n",
              "      <td>2017-02-11</td>\n",
              "      <td>2243</td>\n",
              "      <td>736371</td>\n",
              "      <td>Saturday</td>\n",
              "    </tr>\n",
              "    <tr>\n",
              "      <th>2</th>\n",
              "      <td>2</td>\n",
              "      <td>2017-03-11</td>\n",
              "      <td>2228</td>\n",
              "      <td>736399</td>\n",
              "      <td>Saturday</td>\n",
              "    </tr>\n",
              "    <tr>\n",
              "      <th>3</th>\n",
              "      <td>3</td>\n",
              "      <td>2017-04-11</td>\n",
              "      <td>2225</td>\n",
              "      <td>736430</td>\n",
              "      <td>Tuesday</td>\n",
              "    </tr>\n",
              "    <tr>\n",
              "      <th>4</th>\n",
              "      <td>4</td>\n",
              "      <td>2017-05-11</td>\n",
              "      <td>2299</td>\n",
              "      <td>736460</td>\n",
              "      <td>Thursday</td>\n",
              "    </tr>\n",
              "    <tr>\n",
              "      <th>5</th>\n",
              "      <td>5</td>\n",
              "      <td>2017-06-11</td>\n",
              "      <td>1939</td>\n",
              "      <td>736491</td>\n",
              "      <td>Sunday</td>\n",
              "    </tr>\n",
              "    <tr>\n",
              "      <th>6</th>\n",
              "      <td>6</td>\n",
              "      <td>2017-07-11</td>\n",
              "      <td>2081</td>\n",
              "      <td>736521</td>\n",
              "      <td>Tuesday</td>\n",
              "    </tr>\n",
              "    <tr>\n",
              "      <th>7</th>\n",
              "      <td>7</td>\n",
              "      <td>2017-08-11</td>\n",
              "      <td>2591</td>\n",
              "      <td>736552</td>\n",
              "      <td>Friday</td>\n",
              "    </tr>\n",
              "    <tr>\n",
              "      <th>8</th>\n",
              "      <td>8</td>\n",
              "      <td>2017-09-11</td>\n",
              "      <td>2367</td>\n",
              "      <td>736583</td>\n",
              "      <td>Monday</td>\n",
              "    </tr>\n",
              "    <tr>\n",
              "      <th>9</th>\n",
              "      <td>9</td>\n",
              "      <td>2017-10-11</td>\n",
              "      <td>2168</td>\n",
              "      <td>736613</td>\n",
              "      <td>Wednesday</td>\n",
              "    </tr>\n",
              "  </tbody>\n",
              "</table>\n",
              "</div>"
            ],
            "text/plain": [
              "   index         ds     y  ds_ordinal    weekday\n",
              "0      0 2017-01-11  2131      736340  Wednesday\n",
              "1      1 2017-02-11  2243      736371   Saturday\n",
              "2      2 2017-03-11  2228      736399   Saturday\n",
              "3      3 2017-04-11  2225      736430    Tuesday\n",
              "4      4 2017-05-11  2299      736460   Thursday\n",
              "5      5 2017-06-11  1939      736491     Sunday\n",
              "6      6 2017-07-11  2081      736521    Tuesday\n",
              "7      7 2017-08-11  2591      736552     Friday\n",
              "8      8 2017-09-11  2367      736583     Monday\n",
              "9      9 2017-10-11  2168      736613  Wednesday"
            ]
          },
          "metadata": {},
          "execution_count": 10
        }
      ]
    },
    {
      "cell_type": "code",
      "metadata": {
        "id": "Qs4LtHtKyRKs"
      },
      "source": [
        "def weekdays(row):\n",
        "    weekday=row.weekday\n",
        "    if weekday=='Thursday' :\n",
        "        return '-0.107205'\n",
        "    if weekday=='Friday' :\n",
        "        return '-0.034104'\n",
        "    if weekday=='Saturday' :\n",
        "        return '0.177063'\n",
        "    if weekday=='Sunday' :\n",
        "        return '0.155909'\n",
        "    if weekday=='Monday' :\n",
        "        return '-0.053048'\n",
        "    if weekday=='Tuesday' :\n",
        "        return '-0.004877'\n",
        "    if weekday=='Wednesday' :\n",
        "        return '-0.066004'\n",
        "        \n",
        "df_intercom['koeff']=df_intercom.apply (lambda row: weekdays(row), axis=1)"
      ],
      "execution_count": null,
      "outputs": []
    },
    {
      "cell_type": "code",
      "metadata": {
        "colab": {
          "base_uri": "https://localhost:8080/",
          "height": 926
        },
        "id": "ntOXK2hjyTiS",
        "outputId": "56256070-2237-4db1-9116-7921a6981673"
      },
      "source": [
        "df_intercom['koeff']=df_intercom['koeff'].astype('float')\n",
        "df_intercom"
      ],
      "execution_count": null,
      "outputs": [
        {
          "output_type": "execute_result",
          "data": {
            "text/html": [
              "<div>\n",
              "<style scoped>\n",
              "    .dataframe tbody tr th:only-of-type {\n",
              "        vertical-align: middle;\n",
              "    }\n",
              "\n",
              "    .dataframe tbody tr th {\n",
              "        vertical-align: top;\n",
              "    }\n",
              "\n",
              "    .dataframe thead th {\n",
              "        text-align: right;\n",
              "    }\n",
              "</style>\n",
              "<table border=\"1\" class=\"dataframe\">\n",
              "  <thead>\n",
              "    <tr style=\"text-align: right;\">\n",
              "      <th></th>\n",
              "      <th>index</th>\n",
              "      <th>ds</th>\n",
              "      <th>y</th>\n",
              "      <th>ds_ordinal</th>\n",
              "      <th>weekday</th>\n",
              "      <th>koeff</th>\n",
              "    </tr>\n",
              "  </thead>\n",
              "  <tbody>\n",
              "    <tr>\n",
              "      <th>0</th>\n",
              "      <td>0</td>\n",
              "      <td>2017-01-11</td>\n",
              "      <td>2131</td>\n",
              "      <td>736340</td>\n",
              "      <td>Wednesday</td>\n",
              "      <td>-0.066004</td>\n",
              "    </tr>\n",
              "    <tr>\n",
              "      <th>1</th>\n",
              "      <td>1</td>\n",
              "      <td>2017-02-11</td>\n",
              "      <td>2243</td>\n",
              "      <td>736371</td>\n",
              "      <td>Saturday</td>\n",
              "      <td>0.177063</td>\n",
              "    </tr>\n",
              "    <tr>\n",
              "      <th>2</th>\n",
              "      <td>2</td>\n",
              "      <td>2017-03-11</td>\n",
              "      <td>2228</td>\n",
              "      <td>736399</td>\n",
              "      <td>Saturday</td>\n",
              "      <td>0.177063</td>\n",
              "    </tr>\n",
              "    <tr>\n",
              "      <th>3</th>\n",
              "      <td>3</td>\n",
              "      <td>2017-04-11</td>\n",
              "      <td>2225</td>\n",
              "      <td>736430</td>\n",
              "      <td>Tuesday</td>\n",
              "      <td>-0.004877</td>\n",
              "    </tr>\n",
              "    <tr>\n",
              "      <th>4</th>\n",
              "      <td>4</td>\n",
              "      <td>2017-05-11</td>\n",
              "      <td>2299</td>\n",
              "      <td>736460</td>\n",
              "      <td>Thursday</td>\n",
              "      <td>-0.107205</td>\n",
              "    </tr>\n",
              "    <tr>\n",
              "      <th>5</th>\n",
              "      <td>5</td>\n",
              "      <td>2017-06-11</td>\n",
              "      <td>1939</td>\n",
              "      <td>736491</td>\n",
              "      <td>Sunday</td>\n",
              "      <td>0.155909</td>\n",
              "    </tr>\n",
              "    <tr>\n",
              "      <th>6</th>\n",
              "      <td>6</td>\n",
              "      <td>2017-07-11</td>\n",
              "      <td>2081</td>\n",
              "      <td>736521</td>\n",
              "      <td>Tuesday</td>\n",
              "      <td>-0.004877</td>\n",
              "    </tr>\n",
              "    <tr>\n",
              "      <th>7</th>\n",
              "      <td>7</td>\n",
              "      <td>2017-08-11</td>\n",
              "      <td>2591</td>\n",
              "      <td>736552</td>\n",
              "      <td>Friday</td>\n",
              "      <td>-0.034104</td>\n",
              "    </tr>\n",
              "    <tr>\n",
              "      <th>8</th>\n",
              "      <td>8</td>\n",
              "      <td>2017-09-11</td>\n",
              "      <td>2367</td>\n",
              "      <td>736583</td>\n",
              "      <td>Monday</td>\n",
              "      <td>-0.053048</td>\n",
              "    </tr>\n",
              "    <tr>\n",
              "      <th>9</th>\n",
              "      <td>9</td>\n",
              "      <td>2017-10-11</td>\n",
              "      <td>2168</td>\n",
              "      <td>736613</td>\n",
              "      <td>Wednesday</td>\n",
              "      <td>-0.066004</td>\n",
              "    </tr>\n",
              "    <tr>\n",
              "      <th>10</th>\n",
              "      <td>10</td>\n",
              "      <td>2017-10-17</td>\n",
              "      <td>1941</td>\n",
              "      <td>736619</td>\n",
              "      <td>Tuesday</td>\n",
              "      <td>-0.004877</td>\n",
              "    </tr>\n",
              "    <tr>\n",
              "      <th>11</th>\n",
              "      <td>11</td>\n",
              "      <td>2017-10-18</td>\n",
              "      <td>2398</td>\n",
              "      <td>736620</td>\n",
              "      <td>Wednesday</td>\n",
              "      <td>-0.066004</td>\n",
              "    </tr>\n",
              "    <tr>\n",
              "      <th>12</th>\n",
              "      <td>12</td>\n",
              "      <td>2017-10-19</td>\n",
              "      <td>2620</td>\n",
              "      <td>736621</td>\n",
              "      <td>Thursday</td>\n",
              "      <td>-0.107205</td>\n",
              "    </tr>\n",
              "    <tr>\n",
              "      <th>13</th>\n",
              "      <td>13</td>\n",
              "      <td>2017-10-20</td>\n",
              "      <td>2401</td>\n",
              "      <td>736622</td>\n",
              "      <td>Friday</td>\n",
              "      <td>-0.034104</td>\n",
              "    </tr>\n",
              "    <tr>\n",
              "      <th>14</th>\n",
              "      <td>14</td>\n",
              "      <td>2017-10-21</td>\n",
              "      <td>2117</td>\n",
              "      <td>736623</td>\n",
              "      <td>Saturday</td>\n",
              "      <td>0.177063</td>\n",
              "    </tr>\n",
              "    <tr>\n",
              "      <th>15</th>\n",
              "      <td>15</td>\n",
              "      <td>2017-10-22</td>\n",
              "      <td>3370</td>\n",
              "      <td>736624</td>\n",
              "      <td>Sunday</td>\n",
              "      <td>0.155909</td>\n",
              "    </tr>\n",
              "    <tr>\n",
              "      <th>16</th>\n",
              "      <td>16</td>\n",
              "      <td>2017-10-23</td>\n",
              "      <td>1839</td>\n",
              "      <td>736625</td>\n",
              "      <td>Monday</td>\n",
              "      <td>-0.053048</td>\n",
              "    </tr>\n",
              "    <tr>\n",
              "      <th>17</th>\n",
              "      <td>17</td>\n",
              "      <td>2017-10-24</td>\n",
              "      <td>1945</td>\n",
              "      <td>736626</td>\n",
              "      <td>Tuesday</td>\n",
              "      <td>-0.004877</td>\n",
              "    </tr>\n",
              "    <tr>\n",
              "      <th>18</th>\n",
              "      <td>18</td>\n",
              "      <td>2017-10-25</td>\n",
              "      <td>2384</td>\n",
              "      <td>736627</td>\n",
              "      <td>Wednesday</td>\n",
              "      <td>-0.066004</td>\n",
              "    </tr>\n",
              "    <tr>\n",
              "      <th>19</th>\n",
              "      <td>19</td>\n",
              "      <td>2017-10-26</td>\n",
              "      <td>2424</td>\n",
              "      <td>736628</td>\n",
              "      <td>Thursday</td>\n",
              "      <td>-0.107205</td>\n",
              "    </tr>\n",
              "    <tr>\n",
              "      <th>20</th>\n",
              "      <td>20</td>\n",
              "      <td>2017-10-27</td>\n",
              "      <td>2616</td>\n",
              "      <td>736629</td>\n",
              "      <td>Friday</td>\n",
              "      <td>-0.034104</td>\n",
              "    </tr>\n",
              "    <tr>\n",
              "      <th>21</th>\n",
              "      <td>21</td>\n",
              "      <td>2017-10-28</td>\n",
              "      <td>2550</td>\n",
              "      <td>736630</td>\n",
              "      <td>Saturday</td>\n",
              "      <td>0.177063</td>\n",
              "    </tr>\n",
              "    <tr>\n",
              "      <th>22</th>\n",
              "      <td>22</td>\n",
              "      <td>2017-10-29</td>\n",
              "      <td>2087</td>\n",
              "      <td>736631</td>\n",
              "      <td>Sunday</td>\n",
              "      <td>0.155909</td>\n",
              "    </tr>\n",
              "    <tr>\n",
              "      <th>23</th>\n",
              "      <td>23</td>\n",
              "      <td>2017-10-30</td>\n",
              "      <td>1897</td>\n",
              "      <td>736632</td>\n",
              "      <td>Monday</td>\n",
              "      <td>-0.053048</td>\n",
              "    </tr>\n",
              "    <tr>\n",
              "      <th>24</th>\n",
              "      <td>24</td>\n",
              "      <td>2017-10-31</td>\n",
              "      <td>1964</td>\n",
              "      <td>736633</td>\n",
              "      <td>Tuesday</td>\n",
              "      <td>-0.004877</td>\n",
              "    </tr>\n",
              "    <tr>\n",
              "      <th>25</th>\n",
              "      <td>25</td>\n",
              "      <td>2017-11-11</td>\n",
              "      <td>1995</td>\n",
              "      <td>736644</td>\n",
              "      <td>Saturday</td>\n",
              "      <td>0.177063</td>\n",
              "    </tr>\n",
              "    <tr>\n",
              "      <th>26</th>\n",
              "      <td>26</td>\n",
              "      <td>2017-11-13</td>\n",
              "      <td>1832</td>\n",
              "      <td>736646</td>\n",
              "      <td>Monday</td>\n",
              "      <td>-0.053048</td>\n",
              "    </tr>\n",
              "    <tr>\n",
              "      <th>27</th>\n",
              "      <td>27</td>\n",
              "      <td>2017-12-11</td>\n",
              "      <td>2028</td>\n",
              "      <td>736674</td>\n",
              "      <td>Monday</td>\n",
              "      <td>-0.053048</td>\n",
              "    </tr>\n",
              "  </tbody>\n",
              "</table>\n",
              "</div>"
            ],
            "text/plain": [
              "    index         ds     y  ds_ordinal    weekday     koeff\n",
              "0       0 2017-01-11  2131      736340  Wednesday -0.066004\n",
              "1       1 2017-02-11  2243      736371   Saturday  0.177063\n",
              "2       2 2017-03-11  2228      736399   Saturday  0.177063\n",
              "3       3 2017-04-11  2225      736430    Tuesday -0.004877\n",
              "4       4 2017-05-11  2299      736460   Thursday -0.107205\n",
              "5       5 2017-06-11  1939      736491     Sunday  0.155909\n",
              "6       6 2017-07-11  2081      736521    Tuesday -0.004877\n",
              "7       7 2017-08-11  2591      736552     Friday -0.034104\n",
              "8       8 2017-09-11  2367      736583     Monday -0.053048\n",
              "9       9 2017-10-11  2168      736613  Wednesday -0.066004\n",
              "10     10 2017-10-17  1941      736619    Tuesday -0.004877\n",
              "11     11 2017-10-18  2398      736620  Wednesday -0.066004\n",
              "12     12 2017-10-19  2620      736621   Thursday -0.107205\n",
              "13     13 2017-10-20  2401      736622     Friday -0.034104\n",
              "14     14 2017-10-21  2117      736623   Saturday  0.177063\n",
              "15     15 2017-10-22  3370      736624     Sunday  0.155909\n",
              "16     16 2017-10-23  1839      736625     Monday -0.053048\n",
              "17     17 2017-10-24  1945      736626    Tuesday -0.004877\n",
              "18     18 2017-10-25  2384      736627  Wednesday -0.066004\n",
              "19     19 2017-10-26  2424      736628   Thursday -0.107205\n",
              "20     20 2017-10-27  2616      736629     Friday -0.034104\n",
              "21     21 2017-10-28  2550      736630   Saturday  0.177063\n",
              "22     22 2017-10-29  2087      736631     Sunday  0.155909\n",
              "23     23 2017-10-30  1897      736632     Monday -0.053048\n",
              "24     24 2017-10-31  1964      736633    Tuesday -0.004877\n",
              "25     25 2017-11-11  1995      736644   Saturday  0.177063\n",
              "26     26 2017-11-13  1832      736646     Monday -0.053048\n",
              "27     27 2017-12-11  2028      736674     Monday -0.053048"
            ]
          },
          "metadata": {},
          "execution_count": 12
        }
      ]
    },
    {
      "cell_type": "code",
      "metadata": {
        "id": "tfRbPjCAyVpU"
      },
      "source": [
        "df_intercom['smooth_y']=df_intercom.y+(df_intercom.y*df_intercom.koeff)\n"
      ],
      "execution_count": null,
      "outputs": []
    },
    {
      "cell_type": "code",
      "metadata": {
        "colab": {
          "base_uri": "https://localhost:8080/",
          "height": 926
        },
        "id": "8I0MIbKbynDj",
        "outputId": "cf68423e-d961-4ced-faa1-5c58804ef583"
      },
      "source": [
        "df_intercom['smooth_p']=(df_intercom.smooth_y)/(13)/(8)# предположим, что норма в час 13 шт, 8 часво работы одного человека\n",
        "df_intercom"
      ],
      "execution_count": null,
      "outputs": [
        {
          "output_type": "execute_result",
          "data": {
            "text/html": [
              "<div>\n",
              "<style scoped>\n",
              "    .dataframe tbody tr th:only-of-type {\n",
              "        vertical-align: middle;\n",
              "    }\n",
              "\n",
              "    .dataframe tbody tr th {\n",
              "        vertical-align: top;\n",
              "    }\n",
              "\n",
              "    .dataframe thead th {\n",
              "        text-align: right;\n",
              "    }\n",
              "</style>\n",
              "<table border=\"1\" class=\"dataframe\">\n",
              "  <thead>\n",
              "    <tr style=\"text-align: right;\">\n",
              "      <th></th>\n",
              "      <th>index</th>\n",
              "      <th>ds</th>\n",
              "      <th>y</th>\n",
              "      <th>ds_ordinal</th>\n",
              "      <th>weekday</th>\n",
              "      <th>koeff</th>\n",
              "      <th>smooth_y</th>\n",
              "      <th>smooth_p</th>\n",
              "    </tr>\n",
              "  </thead>\n",
              "  <tbody>\n",
              "    <tr>\n",
              "      <th>0</th>\n",
              "      <td>0</td>\n",
              "      <td>2017-01-11</td>\n",
              "      <td>2131</td>\n",
              "      <td>736340</td>\n",
              "      <td>Wednesday</td>\n",
              "      <td>-0.066004</td>\n",
              "      <td>1990.345476</td>\n",
              "      <td>19.137937</td>\n",
              "    </tr>\n",
              "    <tr>\n",
              "      <th>1</th>\n",
              "      <td>1</td>\n",
              "      <td>2017-02-11</td>\n",
              "      <td>2243</td>\n",
              "      <td>736371</td>\n",
              "      <td>Saturday</td>\n",
              "      <td>0.177063</td>\n",
              "      <td>2640.152309</td>\n",
              "      <td>25.386080</td>\n",
              "    </tr>\n",
              "    <tr>\n",
              "      <th>2</th>\n",
              "      <td>2</td>\n",
              "      <td>2017-03-11</td>\n",
              "      <td>2228</td>\n",
              "      <td>736399</td>\n",
              "      <td>Saturday</td>\n",
              "      <td>0.177063</td>\n",
              "      <td>2622.496364</td>\n",
              "      <td>25.216311</td>\n",
              "    </tr>\n",
              "    <tr>\n",
              "      <th>3</th>\n",
              "      <td>3</td>\n",
              "      <td>2017-04-11</td>\n",
              "      <td>2225</td>\n",
              "      <td>736430</td>\n",
              "      <td>Tuesday</td>\n",
              "      <td>-0.004877</td>\n",
              "      <td>2214.148675</td>\n",
              "      <td>21.289891</td>\n",
              "    </tr>\n",
              "    <tr>\n",
              "      <th>4</th>\n",
              "      <td>4</td>\n",
              "      <td>2017-05-11</td>\n",
              "      <td>2299</td>\n",
              "      <td>736460</td>\n",
              "      <td>Thursday</td>\n",
              "      <td>-0.107205</td>\n",
              "      <td>2052.535705</td>\n",
              "      <td>19.735920</td>\n",
              "    </tr>\n",
              "    <tr>\n",
              "      <th>5</th>\n",
              "      <td>5</td>\n",
              "      <td>2017-06-11</td>\n",
              "      <td>1939</td>\n",
              "      <td>736491</td>\n",
              "      <td>Sunday</td>\n",
              "      <td>0.155909</td>\n",
              "      <td>2241.307551</td>\n",
              "      <td>21.551034</td>\n",
              "    </tr>\n",
              "    <tr>\n",
              "      <th>6</th>\n",
              "      <td>6</td>\n",
              "      <td>2017-07-11</td>\n",
              "      <td>2081</td>\n",
              "      <td>736521</td>\n",
              "      <td>Tuesday</td>\n",
              "      <td>-0.004877</td>\n",
              "      <td>2070.850963</td>\n",
              "      <td>19.912028</td>\n",
              "    </tr>\n",
              "    <tr>\n",
              "      <th>7</th>\n",
              "      <td>7</td>\n",
              "      <td>2017-08-11</td>\n",
              "      <td>2591</td>\n",
              "      <td>736552</td>\n",
              "      <td>Friday</td>\n",
              "      <td>-0.034104</td>\n",
              "      <td>2502.636536</td>\n",
              "      <td>24.063813</td>\n",
              "    </tr>\n",
              "    <tr>\n",
              "      <th>8</th>\n",
              "      <td>8</td>\n",
              "      <td>2017-09-11</td>\n",
              "      <td>2367</td>\n",
              "      <td>736583</td>\n",
              "      <td>Monday</td>\n",
              "      <td>-0.053048</td>\n",
              "      <td>2241.435384</td>\n",
              "      <td>21.552263</td>\n",
              "    </tr>\n",
              "    <tr>\n",
              "      <th>9</th>\n",
              "      <td>9</td>\n",
              "      <td>2017-10-11</td>\n",
              "      <td>2168</td>\n",
              "      <td>736613</td>\n",
              "      <td>Wednesday</td>\n",
              "      <td>-0.066004</td>\n",
              "      <td>2024.903328</td>\n",
              "      <td>19.470224</td>\n",
              "    </tr>\n",
              "    <tr>\n",
              "      <th>10</th>\n",
              "      <td>10</td>\n",
              "      <td>2017-10-17</td>\n",
              "      <td>1941</td>\n",
              "      <td>736619</td>\n",
              "      <td>Tuesday</td>\n",
              "      <td>-0.004877</td>\n",
              "      <td>1931.533743</td>\n",
              "      <td>18.572440</td>\n",
              "    </tr>\n",
              "    <tr>\n",
              "      <th>11</th>\n",
              "      <td>11</td>\n",
              "      <td>2017-10-18</td>\n",
              "      <td>2398</td>\n",
              "      <td>736620</td>\n",
              "      <td>Wednesday</td>\n",
              "      <td>-0.066004</td>\n",
              "      <td>2239.722408</td>\n",
              "      <td>21.535792</td>\n",
              "    </tr>\n",
              "    <tr>\n",
              "      <th>12</th>\n",
              "      <td>12</td>\n",
              "      <td>2017-10-19</td>\n",
              "      <td>2620</td>\n",
              "      <td>736621</td>\n",
              "      <td>Thursday</td>\n",
              "      <td>-0.107205</td>\n",
              "      <td>2339.122900</td>\n",
              "      <td>22.491566</td>\n",
              "    </tr>\n",
              "    <tr>\n",
              "      <th>13</th>\n",
              "      <td>13</td>\n",
              "      <td>2017-10-20</td>\n",
              "      <td>2401</td>\n",
              "      <td>736622</td>\n",
              "      <td>Friday</td>\n",
              "      <td>-0.034104</td>\n",
              "      <td>2319.116296</td>\n",
              "      <td>22.299195</td>\n",
              "    </tr>\n",
              "    <tr>\n",
              "      <th>14</th>\n",
              "      <td>14</td>\n",
              "      <td>2017-10-21</td>\n",
              "      <td>2117</td>\n",
              "      <td>736623</td>\n",
              "      <td>Saturday</td>\n",
              "      <td>0.177063</td>\n",
              "      <td>2491.842371</td>\n",
              "      <td>23.960023</td>\n",
              "    </tr>\n",
              "    <tr>\n",
              "      <th>15</th>\n",
              "      <td>15</td>\n",
              "      <td>2017-10-22</td>\n",
              "      <td>3370</td>\n",
              "      <td>736624</td>\n",
              "      <td>Sunday</td>\n",
              "      <td>0.155909</td>\n",
              "      <td>3895.413330</td>\n",
              "      <td>37.455897</td>\n",
              "    </tr>\n",
              "    <tr>\n",
              "      <th>16</th>\n",
              "      <td>16</td>\n",
              "      <td>2017-10-23</td>\n",
              "      <td>1839</td>\n",
              "      <td>736625</td>\n",
              "      <td>Monday</td>\n",
              "      <td>-0.053048</td>\n",
              "      <td>1741.444728</td>\n",
              "      <td>16.744661</td>\n",
              "    </tr>\n",
              "    <tr>\n",
              "      <th>17</th>\n",
              "      <td>17</td>\n",
              "      <td>2017-10-24</td>\n",
              "      <td>1945</td>\n",
              "      <td>736626</td>\n",
              "      <td>Tuesday</td>\n",
              "      <td>-0.004877</td>\n",
              "      <td>1935.514235</td>\n",
              "      <td>18.610714</td>\n",
              "    </tr>\n",
              "    <tr>\n",
              "      <th>18</th>\n",
              "      <td>18</td>\n",
              "      <td>2017-10-25</td>\n",
              "      <td>2384</td>\n",
              "      <td>736627</td>\n",
              "      <td>Wednesday</td>\n",
              "      <td>-0.066004</td>\n",
              "      <td>2226.646464</td>\n",
              "      <td>21.410062</td>\n",
              "    </tr>\n",
              "    <tr>\n",
              "      <th>19</th>\n",
              "      <td>19</td>\n",
              "      <td>2017-10-26</td>\n",
              "      <td>2424</td>\n",
              "      <td>736628</td>\n",
              "      <td>Thursday</td>\n",
              "      <td>-0.107205</td>\n",
              "      <td>2164.135080</td>\n",
              "      <td>20.808991</td>\n",
              "    </tr>\n",
              "    <tr>\n",
              "      <th>20</th>\n",
              "      <td>20</td>\n",
              "      <td>2017-10-27</td>\n",
              "      <td>2616</td>\n",
              "      <td>736629</td>\n",
              "      <td>Friday</td>\n",
              "      <td>-0.034104</td>\n",
              "      <td>2526.783936</td>\n",
              "      <td>24.295999</td>\n",
              "    </tr>\n",
              "    <tr>\n",
              "      <th>21</th>\n",
              "      <td>21</td>\n",
              "      <td>2017-10-28</td>\n",
              "      <td>2550</td>\n",
              "      <td>736630</td>\n",
              "      <td>Saturday</td>\n",
              "      <td>0.177063</td>\n",
              "      <td>3001.510650</td>\n",
              "      <td>28.860679</td>\n",
              "    </tr>\n",
              "    <tr>\n",
              "      <th>22</th>\n",
              "      <td>22</td>\n",
              "      <td>2017-10-29</td>\n",
              "      <td>2087</td>\n",
              "      <td>736631</td>\n",
              "      <td>Sunday</td>\n",
              "      <td>0.155909</td>\n",
              "      <td>2412.382083</td>\n",
              "      <td>23.195982</td>\n",
              "    </tr>\n",
              "    <tr>\n",
              "      <th>23</th>\n",
              "      <td>23</td>\n",
              "      <td>2017-10-30</td>\n",
              "      <td>1897</td>\n",
              "      <td>736632</td>\n",
              "      <td>Monday</td>\n",
              "      <td>-0.053048</td>\n",
              "      <td>1796.367944</td>\n",
              "      <td>17.272769</td>\n",
              "    </tr>\n",
              "    <tr>\n",
              "      <th>24</th>\n",
              "      <td>24</td>\n",
              "      <td>2017-10-31</td>\n",
              "      <td>1964</td>\n",
              "      <td>736633</td>\n",
              "      <td>Tuesday</td>\n",
              "      <td>-0.004877</td>\n",
              "      <td>1954.421572</td>\n",
              "      <td>18.792515</td>\n",
              "    </tr>\n",
              "    <tr>\n",
              "      <th>25</th>\n",
              "      <td>25</td>\n",
              "      <td>2017-11-11</td>\n",
              "      <td>1995</td>\n",
              "      <td>736644</td>\n",
              "      <td>Saturday</td>\n",
              "      <td>0.177063</td>\n",
              "      <td>2348.240685</td>\n",
              "      <td>22.579237</td>\n",
              "    </tr>\n",
              "    <tr>\n",
              "      <th>26</th>\n",
              "      <td>26</td>\n",
              "      <td>2017-11-13</td>\n",
              "      <td>1832</td>\n",
              "      <td>736646</td>\n",
              "      <td>Monday</td>\n",
              "      <td>-0.053048</td>\n",
              "      <td>1734.816064</td>\n",
              "      <td>16.680924</td>\n",
              "    </tr>\n",
              "    <tr>\n",
              "      <th>27</th>\n",
              "      <td>27</td>\n",
              "      <td>2017-12-11</td>\n",
              "      <td>2028</td>\n",
              "      <td>736674</td>\n",
              "      <td>Monday</td>\n",
              "      <td>-0.053048</td>\n",
              "      <td>1920.418656</td>\n",
              "      <td>18.465564</td>\n",
              "    </tr>\n",
              "  </tbody>\n",
              "</table>\n",
              "</div>"
            ],
            "text/plain": [
              "    index         ds     y  ...     koeff     smooth_y   smooth_p\n",
              "0       0 2017-01-11  2131  ... -0.066004  1990.345476  19.137937\n",
              "1       1 2017-02-11  2243  ...  0.177063  2640.152309  25.386080\n",
              "2       2 2017-03-11  2228  ...  0.177063  2622.496364  25.216311\n",
              "3       3 2017-04-11  2225  ... -0.004877  2214.148675  21.289891\n",
              "4       4 2017-05-11  2299  ... -0.107205  2052.535705  19.735920\n",
              "5       5 2017-06-11  1939  ...  0.155909  2241.307551  21.551034\n",
              "6       6 2017-07-11  2081  ... -0.004877  2070.850963  19.912028\n",
              "7       7 2017-08-11  2591  ... -0.034104  2502.636536  24.063813\n",
              "8       8 2017-09-11  2367  ... -0.053048  2241.435384  21.552263\n",
              "9       9 2017-10-11  2168  ... -0.066004  2024.903328  19.470224\n",
              "10     10 2017-10-17  1941  ... -0.004877  1931.533743  18.572440\n",
              "11     11 2017-10-18  2398  ... -0.066004  2239.722408  21.535792\n",
              "12     12 2017-10-19  2620  ... -0.107205  2339.122900  22.491566\n",
              "13     13 2017-10-20  2401  ... -0.034104  2319.116296  22.299195\n",
              "14     14 2017-10-21  2117  ...  0.177063  2491.842371  23.960023\n",
              "15     15 2017-10-22  3370  ...  0.155909  3895.413330  37.455897\n",
              "16     16 2017-10-23  1839  ... -0.053048  1741.444728  16.744661\n",
              "17     17 2017-10-24  1945  ... -0.004877  1935.514235  18.610714\n",
              "18     18 2017-10-25  2384  ... -0.066004  2226.646464  21.410062\n",
              "19     19 2017-10-26  2424  ... -0.107205  2164.135080  20.808991\n",
              "20     20 2017-10-27  2616  ... -0.034104  2526.783936  24.295999\n",
              "21     21 2017-10-28  2550  ...  0.177063  3001.510650  28.860679\n",
              "22     22 2017-10-29  2087  ...  0.155909  2412.382083  23.195982\n",
              "23     23 2017-10-30  1897  ... -0.053048  1796.367944  17.272769\n",
              "24     24 2017-10-31  1964  ... -0.004877  1954.421572  18.792515\n",
              "25     25 2017-11-11  1995  ...  0.177063  2348.240685  22.579237\n",
              "26     26 2017-11-13  1832  ... -0.053048  1734.816064  16.680924\n",
              "27     27 2017-12-11  2028  ... -0.053048  1920.418656  18.465564\n",
              "\n",
              "[28 rows x 8 columns]"
            ]
          },
          "metadata": {},
          "execution_count": 14
        }
      ]
    },
    {
      "cell_type": "code",
      "metadata": {
        "colab": {
          "base_uri": "https://localhost:8080/"
        },
        "id": "VfYnqZtWb9Pp",
        "outputId": "227ed524-acce-480b-8103-59116d157c15"
      },
      "source": [
        "df_intercom.info()"
      ],
      "execution_count": null,
      "outputs": [
        {
          "output_type": "stream",
          "name": "stdout",
          "text": [
            "<class 'pandas.core.frame.DataFrame'>\n",
            "RangeIndex: 28 entries, 0 to 27\n",
            "Data columns (total 8 columns):\n",
            " #   Column      Non-Null Count  Dtype         \n",
            "---  ------      --------------  -----         \n",
            " 0   index       28 non-null     int64         \n",
            " 1   ds          28 non-null     datetime64[ns]\n",
            " 2   y           28 non-null     int64         \n",
            " 3   ds_ordinal  28 non-null     int64         \n",
            " 4   weekday     28 non-null     object        \n",
            " 5   koeff       28 non-null     float64       \n",
            " 6   smooth_y    28 non-null     float64       \n",
            " 7   smooth_p    28 non-null     float64       \n",
            "dtypes: datetime64[ns](1), float64(3), int64(3), object(1)\n",
            "memory usage: 1.9+ KB\n"
          ]
        }
      ]
    },
    {
      "cell_type": "code",
      "metadata": {
        "colab": {
          "base_uri": "https://localhost:8080/",
          "height": 298
        },
        "id": "rEbp-8_Nzgsr",
        "outputId": "701c0757-c87e-4548-ce02-fbdec03b3f5c"
      },
      "source": [
        "sns.regplot(x=\"ds_ordinal\", y=\"y\", data=df_intercom)"
      ],
      "execution_count": null,
      "outputs": [
        {
          "output_type": "execute_result",
          "data": {
            "text/plain": [
              "<matplotlib.axes._subplots.AxesSubplot at 0x7f9af0f61350>"
            ]
          },
          "metadata": {},
          "execution_count": 16
        },
        {
          "output_type": "display_data",
          "data": {
            "image/png": "[encoded data removed]",
            "text/plain": [
              "<Figure size 432x288 with 1 Axes>"
            ]
          },
          "metadata": {
            "needs_background": "light"
          }
        }
      ]
    },
    {
      "cell_type": "code",
      "metadata": {
        "colab": {
          "base_uri": "https://localhost:8080/",
          "height": 302
        },
        "id": "PSXcaEexznm9",
        "outputId": "353c853e-2642-42fe-dd98-1a49eced4d66"
      },
      "source": [
        "sns.regplot(x=\"ds_ordinal\", y=\"smooth_y\", data=df_intercom)"
      ],
      "execution_count": null,
      "outputs": [
        {
          "output_type": "execute_result",
          "data": {
            "text/plain": [
              "<matplotlib.axes._subplots.AxesSubplot at 0x7f9af0e55d10>"
            ]
          },
          "metadata": {},
          "execution_count": 17
        },
        {
          "output_type": "display_data",
          "data": {
            "image/png": "[encoded data removed]",
            "text/plain": [
              "<Figure size 432x288 with 1 Axes>"
            ]
          },
          "metadata": {
            "needs_background": "light"
          }
        }
      ]
    },
    {
      "cell_type": "markdown",
      "metadata": {
        "id": "Ua4_2_BClMIH"
      },
      "source": [
        "Загружаем данные сколько поступило звонков по факту."
      ]
    },
    {
      "cell_type": "code",
      "metadata": {
        "id": "VzynkEIjfEoQ"
      },
      "source": [
        "fact = pd.read_csv('fact.csv', sep=';' ) # загружаем данные из  файла csv, с разделителм \";\""
      ],
      "execution_count": null,
      "outputs": []
    },
    {
      "cell_type": "code",
      "metadata": {
        "colab": {
          "base_uri": "https://localhost:8080/"
        },
        "id": "NrjC-aaRcc8v",
        "outputId": "c3594a33-8fe4-4ef4-d77b-8b2c1f8c5801"
      },
      "source": [
        "fact['y_i'].astype('float')"
      ],
      "execution_count": null,
      "outputs": [
        {
          "output_type": "execute_result",
          "data": {
            "text/plain": [
              "0     2010.0\n",
              "1     1659.0\n",
              "2     1297.0\n",
              "3      955.0\n",
              "4     1112.0\n",
              "5     2456.0\n",
              "6     2216.0\n",
              "7     2080.0\n",
              "8     1989.0\n",
              "9     2015.0\n",
              "10     991.0\n",
              "11    1547.0\n",
              "12    2340.0\n",
              "13    2100.0\n",
              "Name: y_i, dtype: float64"
            ]
          },
          "metadata": {},
          "execution_count": 19
        }
      ]
    },
    {
      "cell_type": "code",
      "metadata": {
        "id": "b6zZ4jgIkJDh"
      },
      "source": [
        "#fact['ds'] = fact['ds'].astype('datetime64[ns]')"
      ],
      "execution_count": null,
      "outputs": []
    },
    {
      "cell_type": "code",
      "metadata": {
        "id": "m9J9-wnDeQ4o"
      },
      "source": [
        "fact['smooth_I']=fact['y_i']/(13)/(8)# предположим, что норма в час 13 шт, 8 часво работы одного человека\n"
      ],
      "execution_count": null,
      "outputs": []
    },
    {
      "cell_type": "code",
      "metadata": {
        "colab": {
          "base_uri": "https://localhost:8080/"
        },
        "id": "DMfDxaIMhA-_",
        "outputId": "789092e4-0290-49a0-b189-9fa03c5f65f1"
      },
      "source": [
        "fact.info()"
      ],
      "execution_count": null,
      "outputs": [
        {
          "output_type": "stream",
          "name": "stdout",
          "text": [
            "<class 'pandas.core.frame.DataFrame'>\n",
            "RangeIndex: 14 entries, 0 to 13\n",
            "Data columns (total 3 columns):\n",
            " #   Column    Non-Null Count  Dtype  \n",
            "---  ------    --------------  -----  \n",
            " 0   ds        14 non-null     object \n",
            " 1   y_i       14 non-null     int64  \n",
            " 2   smooth_I  14 non-null     float64\n",
            "dtypes: float64(1), int64(1), object(1)\n",
            "memory usage: 464.0+ bytes\n"
          ]
        }
      ]
    },
    {
      "cell_type": "markdown",
      "metadata": {
        "id": "k2aSp703fPmA"
      },
      "source": [
        "Расчитываем прогноз"
      ]
    },
    {
      "cell_type": "code",
      "metadata": {
        "id": "fZx8wWsf31Ir"
      },
      "source": [
        "dates=df_intercom['ds_ordinal']\n",
        "dates = np.array(dates).reshape((len(dates), 1))"
      ],
      "execution_count": null,
      "outputs": []
    },
    {
      "cell_type": "code",
      "metadata": {
        "id": "sxW-w1M434SC"
      },
      "source": [
        "data=df_intercom['smooth_p']\n",
        "data = np.array(data).reshape((len(data), 1))"
      ],
      "execution_count": null,
      "outputs": []
    },
    {
      "cell_type": "code",
      "metadata": {
        "id": "y9uGnI0736vM"
      },
      "source": [
        "from sklearn import linear_model\n",
        "X=dates\n",
        "y=data\n",
        "lm = linear_model.LinearRegression()\n",
        "model = lm.fit(X,y)"
      ],
      "execution_count": null,
      "outputs": []
    },
    {
      "cell_type": "code",
      "metadata": {
        "id": "924qdgF338lb"
      },
      "source": [
        "def date_generator():\n",
        "  from_date =  datetime.datetime(2017,12, 1)\n",
        "  while True:\n",
        "    yield from_date\n",
        "    from_date = from_date+datetime.timedelta(days=1)"
      ],
      "execution_count": null,
      "outputs": []
    },
    {
      "cell_type": "code",
      "metadata": {
        "id": "n9epio4d3-fC"
      },
      "source": [
        "import itertools\n",
        "future_dates = itertools.islice(date_generator(), 14)\n",
        "future_dates=list(future_dates)"
      ],
      "execution_count": null,
      "outputs": []
    },
    {
      "cell_type": "code",
      "metadata": {
        "id": "hBSvO24D4AMq"
      },
      "source": [
        "from pandas import DataFrame\n",
        "future = DataFrame(future_dates,columns=['future_dates'])"
      ],
      "execution_count": null,
      "outputs": []
    },
    {
      "cell_type": "code",
      "metadata": {
        "id": "i7YBCKAw4Bj0"
      },
      "source": [
        "future['weekday']=future['future_dates'].dt.strftime('%A')"
      ],
      "execution_count": null,
      "outputs": []
    },
    {
      "cell_type": "code",
      "metadata": {
        "id": "BiPS9bZR4DPq"
      },
      "source": [
        "future['future_dates_ordinal'] = pd.to_datetime(future.future_dates, format=\"%Y%M%D\")\n",
        "future['future_dates_ordinal'] = future['future_dates_ordinal'].map(datetime.datetime.toordinal)"
      ],
      "execution_count": null,
      "outputs": []
    },
    {
      "cell_type": "code",
      "metadata": {
        "id": "YDc16QzU4FAK"
      },
      "source": [
        "future_dates_for_model=future['future_dates_ordinal']\n",
        "future_dates_for_model = np.array(future_dates_for_model).reshape((len(future_dates), 1))"
      ],
      "execution_count": null,
      "outputs": []
    },
    {
      "cell_type": "code",
      "metadata": {
        "id": "1Z1ycz2p4Gjr"
      },
      "source": [
        "future_2_weeks_predictions = lm.predict(future_dates_for_model)"
      ],
      "execution_count": null,
      "outputs": []
    },
    {
      "cell_type": "code",
      "metadata": {
        "id": "XIJSREx54H56"
      },
      "source": [
        "df_predict = pd.DataFrame(data=future_2_weeks_predictions, columns=[\"predict\"])"
      ],
      "execution_count": null,
      "outputs": []
    },
    {
      "cell_type": "code",
      "metadata": {
        "id": "KylsYC_y4JKj"
      },
      "source": [
        "df_predict=pd.concat([df_predict, future], axis=1)\n",
        "df_predict=df_predict.T.drop_duplicates().T"
      ],
      "execution_count": null,
      "outputs": []
    },
    {
      "cell_type": "code",
      "metadata": {
        "id": "AjqSeSYb4LHT"
      },
      "source": [
        "def weekdays(row):\n",
        "    weekday=row.weekday\n",
        "    if weekday=='Thursday' :\n",
        "        return '-0.107205'\n",
        "    if weekday=='Friday' :\n",
        "        return '-0.034104'\n",
        "    if weekday=='Saturday' :\n",
        "        return '0.177063'\n",
        "    if weekday=='Sunday' :\n",
        "        return '0.155909'\n",
        "    if weekday=='Monday' :\n",
        "        return '-0.053048'\n",
        "    if weekday=='Tuesday' :\n",
        "        return '-0.004877'\n",
        "    if weekday=='Wednesday' :\n",
        "        return '-0.066004'\n",
        "        \n",
        "df_predict['koeff']=df_predict.apply (lambda row: weekdays(row), axis=1)"
      ],
      "execution_count": null,
      "outputs": []
    },
    {
      "cell_type": "code",
      "metadata": {
        "id": "i8s8DHgl4M0i"
      },
      "source": [
        "df_predict['future_dates'] = pd.to_datetime(df_predict['future_dates'] )\n",
        "df_predict['future_dates']=df_predict['future_dates'].dt.strftime('%x')"
      ],
      "execution_count": null,
      "outputs": []
    },
    {
      "cell_type": "code",
      "metadata": {
        "id": "u09nH5364OQ8"
      },
      "source": [
        "df_predict['koeff']=df_predict['koeff'].astype('float')\n",
        "df_predict['predict'] = df_predict['predict'].astype('float')"
      ],
      "execution_count": null,
      "outputs": []
    },
    {
      "cell_type": "code",
      "metadata": {
        "id": "y6A3jbZC4PkL"
      },
      "source": [
        "df_predict['final_predictions']=df_predict.predict-(df_predict.predict*df_predict.koeff)"
      ],
      "execution_count": null,
      "outputs": []
    },
    {
      "cell_type": "code",
      "metadata": {
        "colab": {
          "base_uri": "https://localhost:8080/"
        },
        "id": "kIJyK_RLgLu3",
        "outputId": "b01189d5-3130-4db5-e469-cb23c5cd5f10"
      },
      "source": [
        "df_predict.info()"
      ],
      "execution_count": null,
      "outputs": [
        {
          "output_type": "stream",
          "name": "stdout",
          "text": [
            "<class 'pandas.core.frame.DataFrame'>\n",
            "RangeIndex: 14 entries, 0 to 13\n",
            "Data columns (total 6 columns):\n",
            " #   Column                Non-Null Count  Dtype  \n",
            "---  ------                --------------  -----  \n",
            " 0   predict               14 non-null     float64\n",
            " 1   future_dates          14 non-null     object \n",
            " 2   weekday               14 non-null     object \n",
            " 3   future_dates_ordinal  14 non-null     object \n",
            " 4   koeff                 14 non-null     float64\n",
            " 5   final_predictions     14 non-null     float64\n",
            "dtypes: float64(3), object(3)\n",
            "memory usage: 800.0+ bytes\n"
          ]
        }
      ]
    },
    {
      "cell_type": "code",
      "metadata": {
        "colab": {
          "base_uri": "https://localhost:8080/",
          "height": 487
        },
        "id": "7BeIrg_OiryA",
        "outputId": "42eac29d-7065-498e-aba1-77518c044057"
      },
      "source": [
        "df_predict"
      ],
      "execution_count": null,
      "outputs": [
        {
          "output_type": "execute_result",
          "data": {
            "text/html": [
              "<div>\n",
              "<style scoped>\n",
              "    .dataframe tbody tr th:only-of-type {\n",
              "        vertical-align: middle;\n",
              "    }\n",
              "\n",
              "    .dataframe tbody tr th {\n",
              "        vertical-align: top;\n",
              "    }\n",
              "\n",
              "    .dataframe thead th {\n",
              "        text-align: right;\n",
              "    }\n",
              "</style>\n",
              "<table border=\"1\" class=\"dataframe\">\n",
              "  <thead>\n",
              "    <tr style=\"text-align: right;\">\n",
              "      <th></th>\n",
              "      <th>predict</th>\n",
              "      <th>future_dates</th>\n",
              "      <th>weekday</th>\n",
              "      <th>future_dates_ordinal</th>\n",
              "      <th>koeff</th>\n",
              "      <th>final_predictions</th>\n",
              "    </tr>\n",
              "  </thead>\n",
              "  <tbody>\n",
              "    <tr>\n",
              "      <th>0</th>\n",
              "      <td>21.604762</td>\n",
              "      <td>12/01/17</td>\n",
              "      <td>Friday</td>\n",
              "      <td>736664</td>\n",
              "      <td>-0.034104</td>\n",
              "      <td>22.341571</td>\n",
              "    </tr>\n",
              "    <tr>\n",
              "      <th>1</th>\n",
              "      <td>21.602173</td>\n",
              "      <td>12/02/17</td>\n",
              "      <td>Saturday</td>\n",
              "      <td>736665</td>\n",
              "      <td>0.177063</td>\n",
              "      <td>17.777227</td>\n",
              "    </tr>\n",
              "    <tr>\n",
              "      <th>2</th>\n",
              "      <td>21.599584</td>\n",
              "      <td>12/03/17</td>\n",
              "      <td>Sunday</td>\n",
              "      <td>736666</td>\n",
              "      <td>0.155909</td>\n",
              "      <td>18.232015</td>\n",
              "    </tr>\n",
              "    <tr>\n",
              "      <th>3</th>\n",
              "      <td>21.596995</td>\n",
              "      <td>12/04/17</td>\n",
              "      <td>Monday</td>\n",
              "      <td>736667</td>\n",
              "      <td>-0.053048</td>\n",
              "      <td>22.742673</td>\n",
              "    </tr>\n",
              "    <tr>\n",
              "      <th>4</th>\n",
              "      <td>21.594406</td>\n",
              "      <td>12/05/17</td>\n",
              "      <td>Tuesday</td>\n",
              "      <td>736668</td>\n",
              "      <td>-0.004877</td>\n",
              "      <td>21.699722</td>\n",
              "    </tr>\n",
              "    <tr>\n",
              "      <th>5</th>\n",
              "      <td>21.591818</td>\n",
              "      <td>12/06/17</td>\n",
              "      <td>Wednesday</td>\n",
              "      <td>736669</td>\n",
              "      <td>-0.066004</td>\n",
              "      <td>23.016964</td>\n",
              "    </tr>\n",
              "    <tr>\n",
              "      <th>6</th>\n",
              "      <td>21.589229</td>\n",
              "      <td>12/07/17</td>\n",
              "      <td>Thursday</td>\n",
              "      <td>736670</td>\n",
              "      <td>-0.107205</td>\n",
              "      <td>23.903702</td>\n",
              "    </tr>\n",
              "    <tr>\n",
              "      <th>7</th>\n",
              "      <td>21.586640</td>\n",
              "      <td>12/08/17</td>\n",
              "      <td>Friday</td>\n",
              "      <td>736671</td>\n",
              "      <td>-0.034104</td>\n",
              "      <td>22.322831</td>\n",
              "    </tr>\n",
              "    <tr>\n",
              "      <th>8</th>\n",
              "      <td>21.584051</td>\n",
              "      <td>12/09/17</td>\n",
              "      <td>Saturday</td>\n",
              "      <td>736672</td>\n",
              "      <td>0.177063</td>\n",
              "      <td>17.762314</td>\n",
              "    </tr>\n",
              "    <tr>\n",
              "      <th>9</th>\n",
              "      <td>21.581462</td>\n",
              "      <td>12/10/17</td>\n",
              "      <td>Sunday</td>\n",
              "      <td>736673</td>\n",
              "      <td>0.155909</td>\n",
              "      <td>18.216718</td>\n",
              "    </tr>\n",
              "    <tr>\n",
              "      <th>10</th>\n",
              "      <td>21.578873</td>\n",
              "      <td>12/11/17</td>\n",
              "      <td>Monday</td>\n",
              "      <td>736674</td>\n",
              "      <td>-0.053048</td>\n",
              "      <td>22.723589</td>\n",
              "    </tr>\n",
              "    <tr>\n",
              "      <th>11</th>\n",
              "      <td>21.576284</td>\n",
              "      <td>12/12/17</td>\n",
              "      <td>Tuesday</td>\n",
              "      <td>736675</td>\n",
              "      <td>-0.004877</td>\n",
              "      <td>21.681512</td>\n",
              "    </tr>\n",
              "    <tr>\n",
              "      <th>12</th>\n",
              "      <td>21.573696</td>\n",
              "      <td>12/13/17</td>\n",
              "      <td>Wednesday</td>\n",
              "      <td>736676</td>\n",
              "      <td>-0.066004</td>\n",
              "      <td>22.997646</td>\n",
              "    </tr>\n",
              "    <tr>\n",
              "      <th>13</th>\n",
              "      <td>21.571107</td>\n",
              "      <td>12/14/17</td>\n",
              "      <td>Thursday</td>\n",
              "      <td>736677</td>\n",
              "      <td>-0.107205</td>\n",
              "      <td>23.883637</td>\n",
              "    </tr>\n",
              "  </tbody>\n",
              "</table>\n",
              "</div>"
            ],
            "text/plain": [
              "      predict future_dates  ...     koeff final_predictions\n",
              "0   21.604762     12/01/17  ... -0.034104         22.341571\n",
              "1   21.602173     12/02/17  ...  0.177063         17.777227\n",
              "2   21.599584     12/03/17  ...  0.155909         18.232015\n",
              "3   21.596995     12/04/17  ... -0.053048         22.742673\n",
              "4   21.594406     12/05/17  ... -0.004877         21.699722\n",
              "5   21.591818     12/06/17  ... -0.066004         23.016964\n",
              "6   21.589229     12/07/17  ... -0.107205         23.903702\n",
              "7   21.586640     12/08/17  ... -0.034104         22.322831\n",
              "8   21.584051     12/09/17  ...  0.177063         17.762314\n",
              "9   21.581462     12/10/17  ...  0.155909         18.216718\n",
              "10  21.578873     12/11/17  ... -0.053048         22.723589\n",
              "11  21.576284     12/12/17  ... -0.004877         21.681512\n",
              "12  21.573696     12/13/17  ... -0.066004         22.997646\n",
              "13  21.571107     12/14/17  ... -0.107205         23.883637\n",
              "\n",
              "[14 rows x 6 columns]"
            ]
          },
          "metadata": {},
          "execution_count": 40
        }
      ]
    },
    {
      "cell_type": "code",
      "metadata": {
        "id": "ywv_cHfWgYB2"
      },
      "source": [
        "df_s= df_predict.join(fact)"
      ],
      "execution_count": null,
      "outputs": []
    },
    {
      "cell_type": "code",
      "metadata": {
        "colab": {
          "base_uri": "https://localhost:8080/",
          "height": 487
        },
        "id": "iqfx5kGIg6MY",
        "outputId": "d167cd01-697b-46b4-836c-66fdf66bbeb5"
      },
      "source": [
        "df_s"
      ],
      "execution_count": null,
      "outputs": [
        {
          "output_type": "execute_result",
          "data": {
            "text/html": [
              "<div>\n",
              "<style scoped>\n",
              "    .dataframe tbody tr th:only-of-type {\n",
              "        vertical-align: middle;\n",
              "    }\n",
              "\n",
              "    .dataframe tbody tr th {\n",
              "        vertical-align: top;\n",
              "    }\n",
              "\n",
              "    .dataframe thead th {\n",
              "        text-align: right;\n",
              "    }\n",
              "</style>\n",
              "<table border=\"1\" class=\"dataframe\">\n",
              "  <thead>\n",
              "    <tr style=\"text-align: right;\">\n",
              "      <th></th>\n",
              "      <th>predict</th>\n",
              "      <th>future_dates</th>\n",
              "      <th>weekday</th>\n",
              "      <th>future_dates_ordinal</th>\n",
              "      <th>koeff</th>\n",
              "      <th>final_predictions</th>\n",
              "      <th>ds</th>\n",
              "      <th>y_i</th>\n",
              "      <th>smooth_I</th>\n",
              "    </tr>\n",
              "  </thead>\n",
              "  <tbody>\n",
              "    <tr>\n",
              "      <th>0</th>\n",
              "      <td>21.604762</td>\n",
              "      <td>12/01/17</td>\n",
              "      <td>Friday</td>\n",
              "      <td>736664</td>\n",
              "      <td>-0.034104</td>\n",
              "      <td>22.341571</td>\n",
              "      <td>12.01.2017</td>\n",
              "      <td>2010</td>\n",
              "      <td>19.326923</td>\n",
              "    </tr>\n",
              "    <tr>\n",
              "      <th>1</th>\n",
              "      <td>21.602173</td>\n",
              "      <td>12/02/17</td>\n",
              "      <td>Saturday</td>\n",
              "      <td>736665</td>\n",
              "      <td>0.177063</td>\n",
              "      <td>17.777227</td>\n",
              "      <td>12.02.2017</td>\n",
              "      <td>1659</td>\n",
              "      <td>15.951923</td>\n",
              "    </tr>\n",
              "    <tr>\n",
              "      <th>2</th>\n",
              "      <td>21.599584</td>\n",
              "      <td>12/03/17</td>\n",
              "      <td>Sunday</td>\n",
              "      <td>736666</td>\n",
              "      <td>0.155909</td>\n",
              "      <td>18.232015</td>\n",
              "      <td>12.03.2017</td>\n",
              "      <td>1297</td>\n",
              "      <td>12.471154</td>\n",
              "    </tr>\n",
              "    <tr>\n",
              "      <th>3</th>\n",
              "      <td>21.596995</td>\n",
              "      <td>12/04/17</td>\n",
              "      <td>Monday</td>\n",
              "      <td>736667</td>\n",
              "      <td>-0.053048</td>\n",
              "      <td>22.742673</td>\n",
              "      <td>12.04.2017</td>\n",
              "      <td>955</td>\n",
              "      <td>9.182692</td>\n",
              "    </tr>\n",
              "    <tr>\n",
              "      <th>4</th>\n",
              "      <td>21.594406</td>\n",
              "      <td>12/05/17</td>\n",
              "      <td>Tuesday</td>\n",
              "      <td>736668</td>\n",
              "      <td>-0.004877</td>\n",
              "      <td>21.699722</td>\n",
              "      <td>12.05.2017</td>\n",
              "      <td>1112</td>\n",
              "      <td>10.692308</td>\n",
              "    </tr>\n",
              "    <tr>\n",
              "      <th>5</th>\n",
              "      <td>21.591818</td>\n",
              "      <td>12/06/17</td>\n",
              "      <td>Wednesday</td>\n",
              "      <td>736669</td>\n",
              "      <td>-0.066004</td>\n",
              "      <td>23.016964</td>\n",
              "      <td>12.06.2017</td>\n",
              "      <td>2456</td>\n",
              "      <td>23.615385</td>\n",
              "    </tr>\n",
              "    <tr>\n",
              "      <th>6</th>\n",
              "      <td>21.589229</td>\n",
              "      <td>12/07/17</td>\n",
              "      <td>Thursday</td>\n",
              "      <td>736670</td>\n",
              "      <td>-0.107205</td>\n",
              "      <td>23.903702</td>\n",
              "      <td>12.07.2017</td>\n",
              "      <td>2216</td>\n",
              "      <td>21.307692</td>\n",
              "    </tr>\n",
              "    <tr>\n",
              "      <th>7</th>\n",
              "      <td>21.586640</td>\n",
              "      <td>12/08/17</td>\n",
              "      <td>Friday</td>\n",
              "      <td>736671</td>\n",
              "      <td>-0.034104</td>\n",
              "      <td>22.322831</td>\n",
              "      <td>12.08.2017</td>\n",
              "      <td>2080</td>\n",
              "      <td>20.000000</td>\n",
              "    </tr>\n",
              "    <tr>\n",
              "      <th>8</th>\n",
              "      <td>21.584051</td>\n",
              "      <td>12/09/17</td>\n",
              "      <td>Saturday</td>\n",
              "      <td>736672</td>\n",
              "      <td>0.177063</td>\n",
              "      <td>17.762314</td>\n",
              "      <td>12.09.2017</td>\n",
              "      <td>1989</td>\n",
              "      <td>19.125000</td>\n",
              "    </tr>\n",
              "    <tr>\n",
              "      <th>9</th>\n",
              "      <td>21.581462</td>\n",
              "      <td>12/10/17</td>\n",
              "      <td>Sunday</td>\n",
              "      <td>736673</td>\n",
              "      <td>0.155909</td>\n",
              "      <td>18.216718</td>\n",
              "      <td>12.10.2017</td>\n",
              "      <td>2015</td>\n",
              "      <td>19.375000</td>\n",
              "    </tr>\n",
              "    <tr>\n",
              "      <th>10</th>\n",
              "      <td>21.578873</td>\n",
              "      <td>12/11/17</td>\n",
              "      <td>Monday</td>\n",
              "      <td>736674</td>\n",
              "      <td>-0.053048</td>\n",
              "      <td>22.723589</td>\n",
              "      <td>12.11.2017</td>\n",
              "      <td>991</td>\n",
              "      <td>9.528846</td>\n",
              "    </tr>\n",
              "    <tr>\n",
              "      <th>11</th>\n",
              "      <td>21.576284</td>\n",
              "      <td>12/12/17</td>\n",
              "      <td>Tuesday</td>\n",
              "      <td>736675</td>\n",
              "      <td>-0.004877</td>\n",
              "      <td>21.681512</td>\n",
              "      <td>12.12.2017</td>\n",
              "      <td>1547</td>\n",
              "      <td>14.875000</td>\n",
              "    </tr>\n",
              "    <tr>\n",
              "      <th>12</th>\n",
              "      <td>21.573696</td>\n",
              "      <td>12/13/17</td>\n",
              "      <td>Wednesday</td>\n",
              "      <td>736676</td>\n",
              "      <td>-0.066004</td>\n",
              "      <td>22.997646</td>\n",
              "      <td>12.13.2017</td>\n",
              "      <td>2340</td>\n",
              "      <td>22.500000</td>\n",
              "    </tr>\n",
              "    <tr>\n",
              "      <th>13</th>\n",
              "      <td>21.571107</td>\n",
              "      <td>12/14/17</td>\n",
              "      <td>Thursday</td>\n",
              "      <td>736677</td>\n",
              "      <td>-0.107205</td>\n",
              "      <td>23.883637</td>\n",
              "      <td>12.14.2017</td>\n",
              "      <td>2100</td>\n",
              "      <td>20.192308</td>\n",
              "    </tr>\n",
              "  </tbody>\n",
              "</table>\n",
              "</div>"
            ],
            "text/plain": [
              "      predict future_dates    weekday  ...          ds   y_i   smooth_I\n",
              "0   21.604762     12/01/17     Friday  ...  12.01.2017  2010  19.326923\n",
              "1   21.602173     12/02/17   Saturday  ...  12.02.2017  1659  15.951923\n",
              "2   21.599584     12/03/17     Sunday  ...  12.03.2017  1297  12.471154\n",
              "3   21.596995     12/04/17     Monday  ...  12.04.2017   955   9.182692\n",
              "4   21.594406     12/05/17    Tuesday  ...  12.05.2017  1112  10.692308\n",
              "5   21.591818     12/06/17  Wednesday  ...  12.06.2017  2456  23.615385\n",
              "6   21.589229     12/07/17   Thursday  ...  12.07.2017  2216  21.307692\n",
              "7   21.586640     12/08/17     Friday  ...  12.08.2017  2080  20.000000\n",
              "8   21.584051     12/09/17   Saturday  ...  12.09.2017  1989  19.125000\n",
              "9   21.581462     12/10/17     Sunday  ...  12.10.2017  2015  19.375000\n",
              "10  21.578873     12/11/17     Monday  ...  12.11.2017   991   9.528846\n",
              "11  21.576284     12/12/17    Tuesday  ...  12.12.2017  1547  14.875000\n",
              "12  21.573696     12/13/17  Wednesday  ...  12.13.2017  2340  22.500000\n",
              "13  21.571107     12/14/17   Thursday  ...  12.14.2017  2100  20.192308\n",
              "\n",
              "[14 rows x 9 columns]"
            ]
          },
          "metadata": {},
          "execution_count": 42
        }
      ]
    },
    {
      "cell_type": "code",
      "metadata": {
        "id": "5Y0ImSwjhhqW"
      },
      "source": [
        "df_s_m = df_s[['ds','weekday','final_predictions','smooth_I']]"
      ],
      "execution_count": null,
      "outputs": []
    },
    {
      "cell_type": "code",
      "metadata": {
        "colab": {
          "base_uri": "https://localhost:8080/"
        },
        "id": "YWMrLpSclheG",
        "outputId": "d113b6b7-2b11-4da7-d87b-73f039f148d9"
      },
      "source": [
        "df_s_m.info()"
      ],
      "execution_count": null,
      "outputs": [
        {
          "output_type": "stream",
          "name": "stdout",
          "text": [
            "<class 'pandas.core.frame.DataFrame'>\n",
            "RangeIndex: 14 entries, 0 to 13\n",
            "Data columns (total 4 columns):\n",
            " #   Column             Non-Null Count  Dtype  \n",
            "---  ------             --------------  -----  \n",
            " 0   ds                 14 non-null     object \n",
            " 1   weekday            14 non-null     object \n",
            " 2   final_predictions  14 non-null     float64\n",
            " 3   smooth_I           14 non-null     float64\n",
            "dtypes: float64(2), object(2)\n",
            "memory usage: 576.0+ bytes\n"
          ]
        }
      ]
    },
    {
      "cell_type": "code",
      "metadata": {
        "colab": {
          "base_uri": "https://localhost:8080/",
          "height": 112
        },
        "id": "aucILaCtQg_y",
        "outputId": "122c052e-1071-423c-f6db-ad67027d93f9"
      },
      "source": [
        "df_s_m.corr()"
      ],
      "execution_count": null,
      "outputs": [
        {
          "output_type": "execute_result",
          "data": {
            "text/html": [
              "<div>\n",
              "<style scoped>\n",
              "    .dataframe tbody tr th:only-of-type {\n",
              "        vertical-align: middle;\n",
              "    }\n",
              "\n",
              "    .dataframe tbody tr th {\n",
              "        vertical-align: top;\n",
              "    }\n",
              "\n",
              "    .dataframe thead th {\n",
              "        text-align: right;\n",
              "    }\n",
              "</style>\n",
              "<table border=\"1\" class=\"dataframe\">\n",
              "  <thead>\n",
              "    <tr style=\"text-align: right;\">\n",
              "      <th></th>\n",
              "      <th>final_predictions</th>\n",
              "      <th>smooth_I</th>\n",
              "    </tr>\n",
              "  </thead>\n",
              "  <tbody>\n",
              "    <tr>\n",
              "      <th>final_predictions</th>\n",
              "      <td>1.000000</td>\n",
              "      <td>0.157511</td>\n",
              "    </tr>\n",
              "    <tr>\n",
              "      <th>smooth_I</th>\n",
              "      <td>0.157511</td>\n",
              "      <td>1.000000</td>\n",
              "    </tr>\n",
              "  </tbody>\n",
              "</table>\n",
              "</div>"
            ],
            "text/plain": [
              "                   final_predictions  smooth_I\n",
              "final_predictions           1.000000  0.157511\n",
              "smooth_I                    0.157511  1.000000"
            ]
          },
          "metadata": {},
          "execution_count": 45
        }
      ]
    },
    {
      "cell_type": "code",
      "metadata": {
        "colab": {
          "base_uri": "https://localhost:8080/",
          "height": 112
        },
        "id": "8cy9hLnKQnTX",
        "outputId": "952ebeb8-42a8-4aac-a4ee-40054b574b3a"
      },
      "source": [
        "df_s_m.corr(method='spearman')"
      ],
      "execution_count": null,
      "outputs": [
        {
          "output_type": "execute_result",
          "data": {
            "text/html": [
              "<div>\n",
              "<style scoped>\n",
              "    .dataframe tbody tr th:only-of-type {\n",
              "        vertical-align: middle;\n",
              "    }\n",
              "\n",
              "    .dataframe tbody tr th {\n",
              "        vertical-align: top;\n",
              "    }\n",
              "\n",
              "    .dataframe thead th {\n",
              "        text-align: right;\n",
              "    }\n",
              "</style>\n",
              "<table border=\"1\" class=\"dataframe\">\n",
              "  <thead>\n",
              "    <tr style=\"text-align: right;\">\n",
              "      <th></th>\n",
              "      <th>final_predictions</th>\n",
              "      <th>smooth_I</th>\n",
              "    </tr>\n",
              "  </thead>\n",
              "  <tbody>\n",
              "    <tr>\n",
              "      <th>final_predictions</th>\n",
              "      <td>1.000000</td>\n",
              "      <td>0.446154</td>\n",
              "    </tr>\n",
              "    <tr>\n",
              "      <th>smooth_I</th>\n",
              "      <td>0.446154</td>\n",
              "      <td>1.000000</td>\n",
              "    </tr>\n",
              "  </tbody>\n",
              "</table>\n",
              "</div>"
            ],
            "text/plain": [
              "                   final_predictions  smooth_I\n",
              "final_predictions           1.000000  0.446154\n",
              "smooth_I                    0.446154  1.000000"
            ]
          },
          "metadata": {},
          "execution_count": 46
        }
      ]
    },
    {
      "cell_type": "markdown",
      "metadata": {
        "id": "IjGdikyIRXqX"
      },
      "source": [
        "Проверили гипотезу, что в выходные надо  меньше  людей, чем в будни.\n",
        "\n",
        "H0 В выходные надо меншье людей, чем в будни \n",
        "H1 В будни надо  меньше людей , чем в будни"
      ]
    },
    {
      "cell_type": "code",
      "metadata": {
        "colab": {
          "base_uri": "https://localhost:8080/"
        },
        "id": "gx-xa3RnRgTn",
        "outputId": "9933add4-e943-4fd1-c8df-a4b883835b35"
      },
      "source": [
        "alpha = 0.05  \n",
        "df_g = st.ttest_ind(df_intercom[df_intercom['weekday'] == 'Sunday']['smooth_p'], df_intercom[df_intercom['weekday'] == 'Monday']['smooth_p'], equal_var=False)\n",
        "print(df_g)\n",
        "if (df_g.pvalue < alpha):\n",
        "    print('Отвергаем Н0 гипотезу. В будни надо меншье людей, чем в выходные ')\n",
        "else:\n",
        "    print('Не отвергаем Н0 гипотезу. В выходные надо  меньше людей, чем в будни')"
      ],
      "execution_count": null,
      "outputs": [
        {
          "output_type": "stream",
          "name": "stdout",
          "text": [
            "Ttest_indResult(statistic=1.804186409390875, pvalue=0.20515437793142147)\n",
            "Не отвергаем Н0 гипотезу. В выходные надо  меньше людей, чем в будни\n"
          ]
        }
      ]
    },
    {
      "cell_type": "code",
      "metadata": {
        "colab": {
          "base_uri": "https://localhost:8080/",
          "height": 542
        },
        "id": "phT86B7N4S7a",
        "outputId": "f1337f14-ced0-4a46-8985-3912d401c046"
      },
      "source": [
        "fig_2 = px.line(df_predict, x=\"future_dates\", y=\"final_predictions\", title='Людей в чате по дням - прогноз')\n",
        "fig_2.show()"
      ],
      "execution_count": null,
      "outputs": [
        {
          "output_type": "display_data",
          "data": {
            "text/html": [
              "<html>\n",
              "<head><meta charset=\"utf-8\" /></head>\n",
              "<body>\n",
              "    <div>\n",
              "            <script src=\"https://cdnjs.cloudflare.com/ajax/libs/mathjax/2.7.5/MathJax.js?config=TeX-AMS-MML_SVG\"></script><script type=\"text/javascript\">if (window.MathJax) {MathJax.Hub.Config({SVG: {font: \"STIX-Web\"}});}</script>\n",
              "                <script type=\"text/javascript\">window.PlotlyConfig = {MathJaxConfig: 'local'};</script>\n",
              "        <script src=\"https://cdn.plot.ly/plotly-latest.min.js\"></script>    \n",
              "            <div id=\"1d211f67-8ca1-4d40-ab0d-6792fb811090\" class=\"plotly-graph-div\" style=\"height:525px; width:100%;\"></div>\n",
              "            <script type=\"text/javascript\">\n",
              "                \n",
              "                    window.PLOTLYENV=window.PLOTLYENV || {};\n",
              "                    \n",
              "                if (document.getElementById(\"1d211f67-8ca1-4d40-ab0d-6792fb811090\")) {\n",
              "                    Plotly.newPlot(\n",
              "                        '1d211f67-8ca1-4d40-ab0d-6792fb811090',\n",
              "                        [{\"hoverlabel\": {\"namelength\": 0}, \"hovertemplate\": \"future_dates=%{x}<br>final_predictions=%{y}\", \"legendgroup\": \"\", \"line\": {\"color\": \"#636efa\", \"dash\": \"solid\"}, \"mode\": \"lines\", \"name\": \"\", \"showlegend\": false, \"type\": \"scatter\", \"x\": [\"12/01/17\", \"12/02/17\", \"12/03/17\", \"12/04/17\", \"12/05/17\", \"12/06/17\", \"12/07/17\", \"12/08/17\", \"12/09/17\", \"12/10/17\", \"12/11/17\", \"12/12/17\", \"12/13/17\", \"12/14/17\"], \"xaxis\": \"x\", \"y\": [22.341570617182896, 17.777227413305052, 18.23201455094797, 22.742672659163595, 21.699722319831867, 23.016963869981225, 23.903701951372877, 22.322830599551608, 17.76231416097314, 18.21671794613606, 22.723589338640135, 21.68151195346903, 22.997645761014404, 23.88363719848395], \"yaxis\": \"y\"}],\n",
              "                        {\"legend\": {\"tracegroupgap\": 0}, \"template\": {\"data\": {\"bar\": [{\"error_x\": {\"color\": \"#2a3f5f\"}, \"error_y\": {\"color\": \"#2a3f5f\"}, \"marker\": {\"line\": {\"color\": \"#E5ECF6\", \"width\": 0.5}}, \"type\": \"bar\"}], \"barpolar\": [{\"marker\": {\"line\": {\"color\": \"#E5ECF6\", \"width\": 0.5}}, \"type\": \"barpolar\"}], \"carpet\": [{\"aaxis\": {\"endlinecolor\": \"#2a3f5f\", \"gridcolor\": \"white\", \"linecolor\": \"white\", \"minorgridcolor\": \"white\", \"startlinecolor\": \"#2a3f5f\"}, \"baxis\": {\"endlinecolor\": \"#2a3f5f\", \"gridcolor\": \"white\", \"linecolor\": \"white\", \"minorgridcolor\": \"white\", \"startlinecolor\": \"#2a3f5f\"}, \"type\": \"carpet\"}], \"choropleth\": [{\"colorbar\": {\"outlinewidth\": 0, \"ticks\": \"\"}, \"type\": \"choropleth\"}], \"contour\": [{\"colorbar\": {\"outlinewidth\": 0, \"ticks\": \"\"}, \"colorscale\": [[0.0, \"#0d0887\"], [0.1111111111111111, \"#46039f\"], [0.2222222222222222, \"#7201a8\"], [0.3333333333333333, \"#9c179e\"], [0.4444444444444444, \"#bd3786\"], [0.5555555555555556, \"#d8576b\"], [0.6666666666666666, \"#ed7953\"], [0.7777777777777778, \"#fb9f3a\"], [0.8888888888888888, \"#fdca26\"], [1.0, \"#f0f921\"]], \"type\": \"contour\"}], \"contourcarpet\": [{\"colorbar\": {\"outlinewidth\": 0, \"ticks\": \"\"}, \"type\": \"contourcarpet\"}], \"heatmap\": [{\"colorbar\": {\"outlinewidth\": 0, \"ticks\": \"\"}, \"colorscale\": [[0.0, \"#0d0887\"], [0.1111111111111111, \"#46039f\"], [0.2222222222222222, \"#7201a8\"], [0.3333333333333333, \"#9c179e\"], [0.4444444444444444, \"#bd3786\"], [0.5555555555555556, \"#d8576b\"], [0.6666666666666666, \"#ed7953\"], [0.7777777777777778, \"#fb9f3a\"], [0.8888888888888888, \"#fdca26\"], [1.0, \"#f0f921\"]], \"type\": \"heatmap\"}], \"heatmapgl\": [{\"colorbar\": {\"outlinewidth\": 0, \"ticks\": \"\"}, \"colorscale\": [[0.0, \"#0d0887\"], [0.1111111111111111, \"#46039f\"], [0.2222222222222222, \"#7201a8\"], [0.3333333333333333, \"#9c179e\"], [0.4444444444444444, \"#bd3786\"], [0.5555555555555556, \"#d8576b\"], [0.6666666666666666, \"#ed7953\"], [0.7777777777777778, \"#fb9f3a\"], [0.8888888888888888, \"#fdca26\"], [1.0, \"#f0f921\"]], \"type\": \"heatmapgl\"}], \"histogram\": [{\"marker\": {\"colorbar\": {\"outlinewidth\": 0, \"ticks\": \"\"}}, \"type\": \"histogram\"}], \"histogram2d\": [{\"colorbar\": {\"outlinewidth\": 0, \"ticks\": \"\"}, \"colorscale\": [[0.0, \"#0d0887\"], [0.1111111111111111, \"#46039f\"], [0.2222222222222222, \"#7201a8\"], [0.3333333333333333, \"#9c179e\"], [0.4444444444444444, \"#bd3786\"], [0.5555555555555556, \"#d8576b\"], [0.6666666666666666, \"#ed7953\"], [0.7777777777777778, \"#fb9f3a\"], [0.8888888888888888, \"#fdca26\"], [1.0, \"#f0f921\"]], \"type\": \"histogram2d\"}], \"histogram2dcontour\": [{\"colorbar\": {\"outlinewidth\": 0, \"ticks\": \"\"}, \"colorscale\": [[0.0, \"#0d0887\"], [0.1111111111111111, \"#46039f\"], [0.2222222222222222, \"#7201a8\"], [0.3333333333333333, \"#9c179e\"], [0.4444444444444444, \"#bd3786\"], [0.5555555555555556, \"#d8576b\"], [0.6666666666666666, \"#ed7953\"], [0.7777777777777778, \"#fb9f3a\"], [0.8888888888888888, \"#fdca26\"], [1.0, \"#f0f921\"]], \"type\": \"histogram2dcontour\"}], \"mesh3d\": [{\"colorbar\": {\"outlinewidth\": 0, \"ticks\": \"\"}, \"type\": \"mesh3d\"}], \"parcoords\": [{\"line\": {\"colorbar\": {\"outlinewidth\": 0, \"ticks\": \"\"}}, \"type\": \"parcoords\"}], \"pie\": [{\"automargin\": true, \"type\": \"pie\"}], \"scatter\": [{\"marker\": {\"colorbar\": {\"outlinewidth\": 0, \"ticks\": \"\"}}, \"type\": \"scatter\"}], \"scatter3d\": [{\"line\": {\"colorbar\": {\"outlinewidth\": 0, \"ticks\": \"\"}}, \"marker\": {\"colorbar\": {\"outlinewidth\": 0, \"ticks\": \"\"}}, \"type\": \"scatter3d\"}], \"scattercarpet\": [{\"marker\": {\"colorbar\": {\"outlinewidth\": 0, \"ticks\": \"\"}}, \"type\": \"scattercarpet\"}], \"scattergeo\": [{\"marker\": {\"colorbar\": {\"outlinewidth\": 0, \"ticks\": \"\"}}, \"type\": \"scattergeo\"}], \"scattergl\": [{\"marker\": {\"colorbar\": {\"outlinewidth\": 0, \"ticks\": \"\"}}, \"type\": \"scattergl\"}], \"scattermapbox\": [{\"marker\": {\"colorbar\": {\"outlinewidth\": 0, \"ticks\": \"\"}}, \"type\": \"scattermapbox\"}], \"scatterpolar\": [{\"marker\": {\"colorbar\": {\"outlinewidth\": 0, \"ticks\": \"\"}}, \"type\": \"scatterpolar\"}], \"scatterpolargl\": [{\"marker\": {\"colorbar\": {\"outlinewidth\": 0, \"ticks\": \"\"}}, \"type\": \"scatterpolargl\"}], \"scatterternary\": [{\"marker\": {\"colorbar\": {\"outlinewidth\": 0, \"ticks\": \"\"}}, \"type\": \"scatterternary\"}], \"surface\": [{\"colorbar\": {\"outlinewidth\": 0, \"ticks\": \"\"}, \"colorscale\": [[0.0, \"#0d0887\"], [0.1111111111111111, \"#46039f\"], [0.2222222222222222, \"#7201a8\"], [0.3333333333333333, \"#9c179e\"], [0.4444444444444444, \"#bd3786\"], [0.5555555555555556, \"#d8576b\"], [0.6666666666666666, \"#ed7953\"], [0.7777777777777778, \"#fb9f3a\"], [0.8888888888888888, \"#fdca26\"], [1.0, \"#f0f921\"]], \"type\": \"surface\"}], \"table\": [{\"cells\": {\"fill\": {\"color\": \"#EBF0F8\"}, \"line\": {\"color\": \"white\"}}, \"header\": {\"fill\": {\"color\": \"#C8D4E3\"}, \"line\": {\"color\": \"white\"}}, \"type\": \"table\"}]}, \"layout\": {\"annotationdefaults\": {\"arrowcolor\": \"#2a3f5f\", \"arrowhead\": 0, \"arrowwidth\": 1}, \"coloraxis\": {\"colorbar\": {\"outlinewidth\": 0, \"ticks\": \"\"}}, \"colorscale\": {\"diverging\": [[0, \"#8e0152\"], [0.1, \"#c51b7d\"], [0.2, \"#de77ae\"], [0.3, \"#f1b6da\"], [0.4, \"#fde0ef\"], [0.5, \"#f7f7f7\"], [0.6, \"#e6f5d0\"], [0.7, \"#b8e186\"], [0.8, \"#7fbc41\"], [0.9, \"#4d9221\"], [1, \"#276419\"]], \"sequential\": [[0.0, \"#0d0887\"], [0.1111111111111111, \"#46039f\"], [0.2222222222222222, \"#7201a8\"], [0.3333333333333333, \"#9c179e\"], [0.4444444444444444, \"#bd3786\"], [0.5555555555555556, \"#d8576b\"], [0.6666666666666666, \"#ed7953\"], [0.7777777777777778, \"#fb9f3a\"], [0.8888888888888888, \"#fdca26\"], [1.0, \"#f0f921\"]], \"sequentialminus\": [[0.0, \"#0d0887\"], [0.1111111111111111, \"#46039f\"], [0.2222222222222222, \"#7201a8\"], [0.3333333333333333, \"#9c179e\"], [0.4444444444444444, \"#bd3786\"], [0.5555555555555556, \"#d8576b\"], [0.6666666666666666, \"#ed7953\"], [0.7777777777777778, \"#fb9f3a\"], [0.8888888888888888, \"#fdca26\"], [1.0, \"#f0f921\"]]}, \"colorway\": [\"#636efa\", \"#EF553B\", \"#00cc96\", \"#ab63fa\", \"#FFA15A\", \"#19d3f3\", \"#FF6692\", \"#B6E880\", \"#FF97FF\", \"#FECB52\"], \"font\": {\"color\": \"#2a3f5f\"}, \"geo\": {\"bgcolor\": \"white\", \"lakecolor\": \"white\", \"landcolor\": \"#E5ECF6\", \"showlakes\": true, \"showland\": true, \"subunitcolor\": \"white\"}, \"hoverlabel\": {\"align\": \"left\"}, \"hovermode\": \"closest\", \"mapbox\": {\"style\": \"light\"}, \"paper_bgcolor\": \"white\", \"plot_bgcolor\": \"#E5ECF6\", \"polar\": {\"angularaxis\": {\"gridcolor\": \"white\", \"linecolor\": \"white\", \"ticks\": \"\"}, \"bgcolor\": \"#E5ECF6\", \"radialaxis\": {\"gridcolor\": \"white\", \"linecolor\": \"white\", \"ticks\": \"\"}}, \"scene\": {\"xaxis\": {\"backgroundcolor\": \"#E5ECF6\", \"gridcolor\": \"white\", \"gridwidth\": 2, \"linecolor\": \"white\", \"showbackground\": true, \"ticks\": \"\", \"zerolinecolor\": \"white\"}, \"yaxis\": {\"backgroundcolor\": \"#E5ECF6\", \"gridcolor\": \"white\", \"gridwidth\": 2, \"linecolor\": \"white\", \"showbackground\": true, \"ticks\": \"\", \"zerolinecolor\": \"white\"}, \"zaxis\": {\"backgroundcolor\": \"#E5ECF6\", \"gridcolor\": \"white\", \"gridwidth\": 2, \"linecolor\": \"white\", \"showbackground\": true, \"ticks\": \"\", \"zerolinecolor\": \"white\"}}, \"shapedefaults\": {\"line\": {\"color\": \"#2a3f5f\"}}, \"ternary\": {\"aaxis\": {\"gridcolor\": \"white\", \"linecolor\": \"white\", \"ticks\": \"\"}, \"baxis\": {\"gridcolor\": \"white\", \"linecolor\": \"white\", \"ticks\": \"\"}, \"bgcolor\": \"#E5ECF6\", \"caxis\": {\"gridcolor\": \"white\", \"linecolor\": \"white\", \"ticks\": \"\"}}, \"title\": {\"x\": 0.05}, \"xaxis\": {\"automargin\": true, \"gridcolor\": \"white\", \"linecolor\": \"white\", \"ticks\": \"\", \"title\": {\"standoff\": 15}, \"zerolinecolor\": \"white\", \"zerolinewidth\": 2}, \"yaxis\": {\"automargin\": true, \"gridcolor\": \"white\", \"linecolor\": \"white\", \"ticks\": \"\", \"title\": {\"standoff\": 15}, \"zerolinecolor\": \"white\", \"zerolinewidth\": 2}}}, \"title\": {\"text\": \"\\u041b\\u044e\\u0434\\u0435\\u0439 \\u0432 \\u0447\\u0430\\u0442\\u0435 \\u043f\\u043e \\u0434\\u043d\\u044f\\u043c - \\u043f\\u0440\\u043e\\u0433\\u043d\\u043e\\u0437\"}, \"xaxis\": {\"anchor\": \"y\", \"domain\": [0.0, 1.0], \"title\": {\"text\": \"future_dates\"}}, \"yaxis\": {\"anchor\": \"x\", \"domain\": [0.0, 1.0], \"title\": {\"text\": \"final_predictions\"}}},\n",
              "                        {\"responsive\": true}\n",
              "                    ).then(function(){\n",
              "                            \n",
              "var gd = document.getElementById('1d211f67-8ca1-4d40-ab0d-6792fb811090');\n",
              "var x = new MutationObserver(function (mutations, observer) {{\n",
              "        var display = window.getComputedStyle(gd).display;\n",
              "        if (!display || display === 'none') {{\n",
              "            console.log([gd, 'removed!']);\n",
              "            Plotly.purge(gd);\n",
              "            observer.disconnect();\n",
              "        }}\n",
              "}});\n",
              "\n",
              "// Listen for the removal of the full notebook cells\n",
              "var notebookContainer = gd.closest('#notebook-container');\n",
              "if (notebookContainer) {{\n",
              "    x.observe(notebookContainer, {childList: true});\n",
              "}}\n",
              "\n",
              "// Listen for the clearing of the current output cell\n",
              "var outputEl = gd.closest('.output');\n",
              "if (outputEl) {{\n",
              "    x.observe(outputEl, {childList: true});\n",
              "}}\n",
              "\n",
              "                        })\n",
              "                };\n",
              "                \n",
              "            </script>\n",
              "        </div>\n",
              "</body>\n",
              "</html>"
            ]
          },
          "metadata": {}
        }
      ]
    },
    {
      "cell_type": "code",
      "metadata": {
        "colab": {
          "base_uri": "https://localhost:8080/",
          "height": 542
        },
        "id": "8_jhcGKCnrC1",
        "outputId": "5408a496-0d58-4c59-ed2f-c77fd62ff4f3"
      },
      "source": [
        "fig_1 = px.line(df_s_m, x=\"ds\", y=\"smooth_I\", title='Людей в чате по дням - факт')\n",
        "fig_1.show()"
      ],
      "execution_count": null,
      "outputs": [
        {
          "output_type": "display_data",
          "data": {
            "text/html": [
              "<html>\n",
              "<head><meta charset=\"utf-8\" /></head>\n",
              "<body>\n",
              "    <div>\n",
              "            <script src=\"https://cdnjs.cloudflare.com/ajax/libs/mathjax/2.7.5/MathJax.js?config=TeX-AMS-MML_SVG\"></script><script type=\"text/javascript\">if (window.MathJax) {MathJax.Hub.Config({SVG: {font: \"STIX-Web\"}});}</script>\n",
              "                <script type=\"text/javascript\">window.PlotlyConfig = {MathJaxConfig: 'local'};</script>\n",
              "        <script src=\"https://cdn.plot.ly/plotly-latest.min.js\"></script>    \n",
              "            <div id=\"11f8a96b-5a53-403e-9188-35f5ff3aef18\" class=\"plotly-graph-div\" style=\"height:525px; width:100%;\"></div>\n",
              "            <script type=\"text/javascript\">\n",
              "                \n",
              "                    window.PLOTLYENV=window.PLOTLYENV || {};\n",
              "                    \n",
              "                if (document.getElementById(\"11f8a96b-5a53-403e-9188-35f5ff3aef18\")) {\n",
              "                    Plotly.newPlot(\n",
              "                        '11f8a96b-5a53-403e-9188-35f5ff3aef18',\n",
              "                        [{\"hoverlabel\": {\"namelength\": 0}, \"hovertemplate\": \"ds=%{x}<br>smooth_I=%{y}\", \"legendgroup\": \"\", \"line\": {\"color\": \"#636efa\", \"dash\": \"solid\"}, \"mode\": \"lines\", \"name\": \"\", \"showlegend\": false, \"type\": \"scatter\", \"x\": [\"12.01.2017\", \"12.02.2017\", \"12.03.2017\", \"12.04.2017\", \"12.05.2017\", \"12.06.2017\", \"12.07.2017\", \"12.08.2017\", \"12.09.2017\", \"12.10.2017\", \"12.11.2017\", \"12.12.2017\", \"12.13.2017\", \"12.14.2017\"], \"xaxis\": \"x\", \"y\": [19.326923076923077, 15.951923076923077, 12.471153846153847, 9.182692307692308, 10.692307692307692, 23.615384615384617, 21.307692307692307, 20.0, 19.125, 19.375, 9.528846153846153, 14.875, 22.5, 20.192307692307693], \"yaxis\": \"y\"}],\n",
              "                        {\"legend\": {\"tracegroupgap\": 0}, \"template\": {\"data\": {\"bar\": [{\"error_x\": {\"color\": \"#2a3f5f\"}, \"error_y\": {\"color\": \"#2a3f5f\"}, \"marker\": {\"line\": {\"color\": \"#E5ECF6\", \"width\": 0.5}}, \"type\": \"bar\"}], \"barpolar\": [{\"marker\": {\"line\": {\"color\": \"#E5ECF6\", \"width\": 0.5}}, \"type\": \"barpolar\"}], \"carpet\": [{\"aaxis\": {\"endlinecolor\": \"#2a3f5f\", \"gridcolor\": \"white\", \"linecolor\": \"white\", \"minorgridcolor\": \"white\", \"startlinecolor\": \"#2a3f5f\"}, \"baxis\": {\"endlinecolor\": \"#2a3f5f\", \"gridcolor\": \"white\", \"linecolor\": \"white\", \"minorgridcolor\": \"white\", \"startlinecolor\": \"#2a3f5f\"}, \"type\": \"carpet\"}], \"choropleth\": [{\"colorbar\": {\"outlinewidth\": 0, \"ticks\": \"\"}, \"type\": \"choropleth\"}], \"contour\": [{\"colorbar\": {\"outlinewidth\": 0, \"ticks\": \"\"}, \"colorscale\": [[0.0, \"#0d0887\"], [0.1111111111111111, \"#46039f\"], [0.2222222222222222, \"#7201a8\"], [0.3333333333333333, \"#9c179e\"], [0.4444444444444444, \"#bd3786\"], [0.5555555555555556, \"#d8576b\"], [0.6666666666666666, \"#ed7953\"], [0.7777777777777778, \"#fb9f3a\"], [0.8888888888888888, \"#fdca26\"], [1.0, \"#f0f921\"]], \"type\": \"contour\"}], \"contourcarpet\": [{\"colorbar\": {\"outlinewidth\": 0, \"ticks\": \"\"}, \"type\": \"contourcarpet\"}], \"heatmap\": [{\"colorbar\": {\"outlinewidth\": 0, \"ticks\": \"\"}, \"colorscale\": [[0.0, \"#0d0887\"], [0.1111111111111111, \"#46039f\"], [0.2222222222222222, \"#7201a8\"], [0.3333333333333333, \"#9c179e\"], [0.4444444444444444, \"#bd3786\"], [0.5555555555555556, \"#d8576b\"], [0.6666666666666666, \"#ed7953\"], [0.7777777777777778, \"#fb9f3a\"], [0.8888888888888888, \"#fdca26\"], [1.0, \"#f0f921\"]], \"type\": \"heatmap\"}], \"heatmapgl\": [{\"colorbar\": {\"outlinewidth\": 0, \"ticks\": \"\"}, \"colorscale\": [[0.0, \"#0d0887\"], [0.1111111111111111, \"#46039f\"], [0.2222222222222222, \"#7201a8\"], [0.3333333333333333, \"#9c179e\"], [0.4444444444444444, \"#bd3786\"], [0.5555555555555556, \"#d8576b\"], [0.6666666666666666, \"#ed7953\"], [0.7777777777777778, \"#fb9f3a\"], [0.8888888888888888, \"#fdca26\"], [1.0, \"#f0f921\"]], \"type\": \"heatmapgl\"}], \"histogram\": [{\"marker\": {\"colorbar\": {\"outlinewidth\": 0, \"ticks\": \"\"}}, \"type\": \"histogram\"}], \"histogram2d\": [{\"colorbar\": {\"outlinewidth\": 0, \"ticks\": \"\"}, \"colorscale\": [[0.0, \"#0d0887\"], [0.1111111111111111, \"#46039f\"], [0.2222222222222222, \"#7201a8\"], [0.3333333333333333, \"#9c179e\"], [0.4444444444444444, \"#bd3786\"], [0.5555555555555556, \"#d8576b\"], [0.6666666666666666, \"#ed7953\"], [0.7777777777777778, \"#fb9f3a\"], [0.8888888888888888, \"#fdca26\"], [1.0, \"#f0f921\"]], \"type\": \"histogram2d\"}], \"histogram2dcontour\": [{\"colorbar\": {\"outlinewidth\": 0, \"ticks\": \"\"}, \"colorscale\": [[0.0, \"#0d0887\"], [0.1111111111111111, \"#46039f\"], [0.2222222222222222, \"#7201a8\"], [0.3333333333333333, \"#9c179e\"], [0.4444444444444444, \"#bd3786\"], [0.5555555555555556, \"#d8576b\"], [0.6666666666666666, \"#ed7953\"], [0.7777777777777778, \"#fb9f3a\"], [0.8888888888888888, \"#fdca26\"], [1.0, \"#f0f921\"]], \"type\": \"histogram2dcontour\"}], \"mesh3d\": [{\"colorbar\": {\"outlinewidth\": 0, \"ticks\": \"\"}, \"type\": \"mesh3d\"}], \"parcoords\": [{\"line\": {\"colorbar\": {\"outlinewidth\": 0, \"ticks\": \"\"}}, \"type\": \"parcoords\"}], \"pie\": [{\"automargin\": true, \"type\": \"pie\"}], \"scatter\": [{\"marker\": {\"colorbar\": {\"outlinewidth\": 0, \"ticks\": \"\"}}, \"type\": \"scatter\"}], \"scatter3d\": [{\"line\": {\"colorbar\": {\"outlinewidth\": 0, \"ticks\": \"\"}}, \"marker\": {\"colorbar\": {\"outlinewidth\": 0, \"ticks\": \"\"}}, \"type\": \"scatter3d\"}], \"scattercarpet\": [{\"marker\": {\"colorbar\": {\"outlinewidth\": 0, \"ticks\": \"\"}}, \"type\": \"scattercarpet\"}], \"scattergeo\": [{\"marker\": {\"colorbar\": {\"outlinewidth\": 0, \"ticks\": \"\"}}, \"type\": \"scattergeo\"}], \"scattergl\": [{\"marker\": {\"colorbar\": {\"outlinewidth\": 0, \"ticks\": \"\"}}, \"type\": \"scattergl\"}], \"scattermapbox\": [{\"marker\": {\"colorbar\": {\"outlinewidth\": 0, \"ticks\": \"\"}}, \"type\": \"scattermapbox\"}], \"scatterpolar\": [{\"marker\": {\"colorbar\": {\"outlinewidth\": 0, \"ticks\": \"\"}}, \"type\": \"scatterpolar\"}], \"scatterpolargl\": [{\"marker\": {\"colorbar\": {\"outlinewidth\": 0, \"ticks\": \"\"}}, \"type\": \"scatterpolargl\"}], \"scatterternary\": [{\"marker\": {\"colorbar\": {\"outlinewidth\": 0, \"ticks\": \"\"}}, \"type\": \"scatterternary\"}], \"surface\": [{\"colorbar\": {\"outlinewidth\": 0, \"ticks\": \"\"}, \"colorscale\": [[0.0, \"#0d0887\"], [0.1111111111111111, \"#46039f\"], [0.2222222222222222, \"#7201a8\"], [0.3333333333333333, \"#9c179e\"], [0.4444444444444444, \"#bd3786\"], [0.5555555555555556, \"#d8576b\"], [0.6666666666666666, \"#ed7953\"], [0.7777777777777778, \"#fb9f3a\"], [0.8888888888888888, \"#fdca26\"], [1.0, \"#f0f921\"]], \"type\": \"surface\"}], \"table\": [{\"cells\": {\"fill\": {\"color\": \"#EBF0F8\"}, \"line\": {\"color\": \"white\"}}, \"header\": {\"fill\": {\"color\": \"#C8D4E3\"}, \"line\": {\"color\": \"white\"}}, \"type\": \"table\"}]}, \"layout\": {\"annotationdefaults\": {\"arrowcolor\": \"#2a3f5f\", \"arrowhead\": 0, \"arrowwidth\": 1}, \"coloraxis\": {\"colorbar\": {\"outlinewidth\": 0, \"ticks\": \"\"}}, \"colorscale\": {\"diverging\": [[0, \"#8e0152\"], [0.1, \"#c51b7d\"], [0.2, \"#de77ae\"], [0.3, \"#f1b6da\"], [0.4, \"#fde0ef\"], [0.5, \"#f7f7f7\"], [0.6, \"#e6f5d0\"], [0.7, \"#b8e186\"], [0.8, \"#7fbc41\"], [0.9, \"#4d9221\"], [1, \"#276419\"]], \"sequential\": [[0.0, \"#0d0887\"], [0.1111111111111111, \"#46039f\"], [0.2222222222222222, \"#7201a8\"], [0.3333333333333333, \"#9c179e\"], [0.4444444444444444, \"#bd3786\"], [0.5555555555555556, \"#d8576b\"], [0.6666666666666666, \"#ed7953\"], [0.7777777777777778, \"#fb9f3a\"], [0.8888888888888888, \"#fdca26\"], [1.0, \"#f0f921\"]], \"sequentialminus\": [[0.0, \"#0d0887\"], [0.1111111111111111, \"#46039f\"], [0.2222222222222222, \"#7201a8\"], [0.3333333333333333, \"#9c179e\"], [0.4444444444444444, \"#bd3786\"], [0.5555555555555556, \"#d8576b\"], [0.6666666666666666, \"#ed7953\"], [0.7777777777777778, \"#fb9f3a\"], [0.8888888888888888, \"#fdca26\"], [1.0, \"#f0f921\"]]}, \"colorway\": [\"#636efa\", \"#EF553B\", \"#00cc96\", \"#ab63fa\", \"#FFA15A\", \"#19d3f3\", \"#FF6692\", \"#B6E880\", \"#FF97FF\", \"#FECB52\"], \"font\": {\"color\": \"#2a3f5f\"}, \"geo\": {\"bgcolor\": \"white\", \"lakecolor\": \"white\", \"landcolor\": \"#E5ECF6\", \"showlakes\": true, \"showland\": true, \"subunitcolor\": \"white\"}, \"hoverlabel\": {\"align\": \"left\"}, \"hovermode\": \"closest\", \"mapbox\": {\"style\": \"light\"}, \"paper_bgcolor\": \"white\", \"plot_bgcolor\": \"#E5ECF6\", \"polar\": {\"angularaxis\": {\"gridcolor\": \"white\", \"linecolor\": \"white\", \"ticks\": \"\"}, \"bgcolor\": \"#E5ECF6\", \"radialaxis\": {\"gridcolor\": \"white\", \"linecolor\": \"white\", \"ticks\": \"\"}}, \"scene\": {\"xaxis\": {\"backgroundcolor\": \"#E5ECF6\", \"gridcolor\": \"white\", \"gridwidth\": 2, \"linecolor\": \"white\", \"showbackground\": true, \"ticks\": \"\", \"zerolinecolor\": \"white\"}, \"yaxis\": {\"backgroundcolor\": \"#E5ECF6\", \"gridcolor\": \"white\", \"gridwidth\": 2, \"linecolor\": \"white\", \"showbackground\": true, \"ticks\": \"\", \"zerolinecolor\": \"white\"}, \"zaxis\": {\"backgroundcolor\": \"#E5ECF6\", \"gridcolor\": \"white\", \"gridwidth\": 2, \"linecolor\": \"white\", \"showbackground\": true, \"ticks\": \"\", \"zerolinecolor\": \"white\"}}, \"shapedefaults\": {\"line\": {\"color\": \"#2a3f5f\"}}, \"ternary\": {\"aaxis\": {\"gridcolor\": \"white\", \"linecolor\": \"white\", \"ticks\": \"\"}, \"baxis\": {\"gridcolor\": \"white\", \"linecolor\": \"white\", \"ticks\": \"\"}, \"bgcolor\": \"#E5ECF6\", \"caxis\": {\"gridcolor\": \"white\", \"linecolor\": \"white\", \"ticks\": \"\"}}, \"title\": {\"x\": 0.05}, \"xaxis\": {\"automargin\": true, \"gridcolor\": \"white\", \"linecolor\": \"white\", \"ticks\": \"\", \"title\": {\"standoff\": 15}, \"zerolinecolor\": \"white\", \"zerolinewidth\": 2}, \"yaxis\": {\"automargin\": true, \"gridcolor\": \"white\", \"linecolor\": \"white\", \"ticks\": \"\", \"title\": {\"standoff\": 15}, \"zerolinecolor\": \"white\", \"zerolinewidth\": 2}}}, \"title\": {\"text\": \"\\u041b\\u044e\\u0434\\u0435\\u0439 \\u0432 \\u0447\\u0430\\u0442\\u0435 \\u043f\\u043e \\u0434\\u043d\\u044f\\u043c - \\u0444\\u0430\\u043a\\u0442\"}, \"xaxis\": {\"anchor\": \"y\", \"domain\": [0.0, 1.0], \"title\": {\"text\": \"ds\"}}, \"yaxis\": {\"anchor\": \"x\", \"domain\": [0.0, 1.0], \"title\": {\"text\": \"smooth_I\"}}},\n",
              "                        {\"responsive\": true}\n",
              "                    ).then(function(){\n",
              "                            \n",
              "var gd = document.getElementById('11f8a96b-5a53-403e-9188-35f5ff3aef18');\n",
              "var x = new MutationObserver(function (mutations, observer) {{\n",
              "        var display = window.getComputedStyle(gd).display;\n",
              "        if (!display || display === 'none') {{\n",
              "            console.log([gd, 'removed!']);\n",
              "            Plotly.purge(gd);\n",
              "            observer.disconnect();\n",
              "        }}\n",
              "}});\n",
              "\n",
              "// Listen for the removal of the full notebook cells\n",
              "var notebookContainer = gd.closest('#notebook-container');\n",
              "if (notebookContainer) {{\n",
              "    x.observe(notebookContainer, {childList: true});\n",
              "}}\n",
              "\n",
              "// Listen for the clearing of the current output cell\n",
              "var outputEl = gd.closest('.output');\n",
              "if (outputEl) {{\n",
              "    x.observe(outputEl, {childList: true});\n",
              "}}\n",
              "\n",
              "                        })\n",
              "                };\n",
              "                \n",
              "            </script>\n",
              "        </div>\n",
              "</body>\n",
              "</html>"
            ]
          },
          "metadata": {}
        }
      ]
    },
    {
      "cell_type": "code",
      "metadata": {
        "colab": {
          "base_uri": "https://localhost:8080/",
          "height": 542
        },
        "id": "wBdTp1fUiGa4",
        "outputId": "474c33ba-e1b4-46d3-9c36-788d81a36983"
      },
      "source": [
        "import plotly.express as px\n",
        "import plotly.graph_objects as go\n",
        "\n",
        "fig1 = px.line(fact, x='ds', y='smooth_I')\n",
        "fig2 = px.line(df_predict, x='future_dates', y='final_predictions')\n",
        "\n",
        "fig = go.Figure(data = fig1.data + fig2.data)\n",
        "fig.show()"
      ],
      "execution_count": null,
      "outputs": [
        {
          "output_type": "display_data",
          "data": {
            "text/html": [
              "<html>\n",
              "<head><meta charset=\"utf-8\" /></head>\n",
              "<body>\n",
              "    <div>\n",
              "            <script src=\"https://cdnjs.cloudflare.com/ajax/libs/mathjax/2.7.5/MathJax.js?config=TeX-AMS-MML_SVG\"></script><script type=\"text/javascript\">if (window.MathJax) {MathJax.Hub.Config({SVG: {font: \"STIX-Web\"}});}</script>\n",
              "                <script type=\"text/javascript\">window.PlotlyConfig = {MathJaxConfig: 'local'};</script>\n",
              "        <script src=\"https://cdn.plot.ly/plotly-latest.min.js\"></script>    \n",
              "            <div id=\"451a3cf5-76fd-46de-8edf-b8e3c0d4bc13\" class=\"plotly-graph-div\" style=\"height:525px; width:100%;\"></div>\n",
              "            <script type=\"text/javascript\">\n",
              "                \n",
              "                    window.PLOTLYENV=window.PLOTLYENV || {};\n",
              "                    \n",
              "                if (document.getElementById(\"451a3cf5-76fd-46de-8edf-b8e3c0d4bc13\")) {\n",
              "                    Plotly.newPlot(\n",
              "                        '451a3cf5-76fd-46de-8edf-b8e3c0d4bc13',\n",
              "                        [{\"hoverlabel\": {\"namelength\": 0}, \"hovertemplate\": \"ds=%{x}<br>smooth_I=%{y}\", \"legendgroup\": \"\", \"line\": {\"color\": \"#636efa\", \"dash\": \"solid\"}, \"mode\": \"lines\", \"name\": \"\", \"showlegend\": false, \"type\": \"scatter\", \"x\": [\"12.01.2017\", \"12.02.2017\", \"12.03.2017\", \"12.04.2017\", \"12.05.2017\", \"12.06.2017\", \"12.07.2017\", \"12.08.2017\", \"12.09.2017\", \"12.10.2017\", \"12.11.2017\", \"12.12.2017\", \"12.13.2017\", \"12.14.2017\"], \"xaxis\": \"x\", \"y\": [19.326923076923077, 15.951923076923077, 12.471153846153847, 9.182692307692308, 10.692307692307692, 23.615384615384617, 21.307692307692307, 20.0, 19.125, 19.375, 9.528846153846153, 14.875, 22.5, 20.192307692307693], \"yaxis\": \"y\"}, {\"hoverlabel\": {\"namelength\": 0}, \"hovertemplate\": \"future_dates=%{x}<br>final_predictions=%{y}\", \"legendgroup\": \"\", \"line\": {\"color\": \"#636efa\", \"dash\": \"solid\"}, \"mode\": \"lines\", \"name\": \"\", \"showlegend\": false, \"type\": \"scatter\", \"x\": [\"12/01/17\", \"12/02/17\", \"12/03/17\", \"12/04/17\", \"12/05/17\", \"12/06/17\", \"12/07/17\", \"12/08/17\", \"12/09/17\", \"12/10/17\", \"12/11/17\", \"12/12/17\", \"12/13/17\", \"12/14/17\"], \"xaxis\": \"x\", \"y\": [22.341570617182896, 17.777227413305052, 18.23201455094797, 22.742672659163595, 21.699722319831867, 23.016963869981225, 23.903701951372877, 22.322830599551608, 17.76231416097314, 18.21671794613606, 22.723589338640135, 21.68151195346903, 22.997645761014404, 23.88363719848395], \"yaxis\": \"y\"}],\n",
              "                        {\"template\": {\"data\": {\"bar\": [{\"error_x\": {\"color\": \"#2a3f5f\"}, \"error_y\": {\"color\": \"#2a3f5f\"}, \"marker\": {\"line\": {\"color\": \"#E5ECF6\", \"width\": 0.5}}, \"type\": \"bar\"}], \"barpolar\": [{\"marker\": {\"line\": {\"color\": \"#E5ECF6\", \"width\": 0.5}}, \"type\": \"barpolar\"}], \"carpet\": [{\"aaxis\": {\"endlinecolor\": \"#2a3f5f\", \"gridcolor\": \"white\", \"linecolor\": \"white\", \"minorgridcolor\": \"white\", \"startlinecolor\": \"#2a3f5f\"}, \"baxis\": {\"endlinecolor\": \"#2a3f5f\", \"gridcolor\": \"white\", \"linecolor\": \"white\", \"minorgridcolor\": \"white\", \"startlinecolor\": \"#2a3f5f\"}, \"type\": \"carpet\"}], \"choropleth\": [{\"colorbar\": {\"outlinewidth\": 0, \"ticks\": \"\"}, \"type\": \"choropleth\"}], \"contour\": [{\"colorbar\": {\"outlinewidth\": 0, \"ticks\": \"\"}, \"colorscale\": [[0.0, \"#0d0887\"], [0.1111111111111111, \"#46039f\"], [0.2222222222222222, \"#7201a8\"], [0.3333333333333333, \"#9c179e\"], [0.4444444444444444, \"#bd3786\"], [0.5555555555555556, \"#d8576b\"], [0.6666666666666666, \"#ed7953\"], [0.7777777777777778, \"#fb9f3a\"], [0.8888888888888888, \"#fdca26\"], [1.0, \"#f0f921\"]], \"type\": \"contour\"}], \"contourcarpet\": [{\"colorbar\": {\"outlinewidth\": 0, \"ticks\": \"\"}, \"type\": \"contourcarpet\"}], \"heatmap\": [{\"colorbar\": {\"outlinewidth\": 0, \"ticks\": \"\"}, \"colorscale\": [[0.0, \"#0d0887\"], [0.1111111111111111, \"#46039f\"], [0.2222222222222222, \"#7201a8\"], [0.3333333333333333, \"#9c179e\"], [0.4444444444444444, \"#bd3786\"], [0.5555555555555556, \"#d8576b\"], [0.6666666666666666, \"#ed7953\"], [0.7777777777777778, \"#fb9f3a\"], [0.8888888888888888, \"#fdca26\"], [1.0, \"#f0f921\"]], \"type\": \"heatmap\"}], \"heatmapgl\": [{\"colorbar\": {\"outlinewidth\": 0, \"ticks\": \"\"}, \"colorscale\": [[0.0, \"#0d0887\"], [0.1111111111111111, \"#46039f\"], [0.2222222222222222, \"#7201a8\"], [0.3333333333333333, \"#9c179e\"], [0.4444444444444444, \"#bd3786\"], [0.5555555555555556, \"#d8576b\"], [0.6666666666666666, \"#ed7953\"], [0.7777777777777778, \"#fb9f3a\"], [0.8888888888888888, \"#fdca26\"], [1.0, \"#f0f921\"]], \"type\": \"heatmapgl\"}], \"histogram\": [{\"marker\": {\"colorbar\": {\"outlinewidth\": 0, \"ticks\": \"\"}}, \"type\": \"histogram\"}], \"histogram2d\": [{\"colorbar\": {\"outlinewidth\": 0, \"ticks\": \"\"}, \"colorscale\": [[0.0, \"#0d0887\"], [0.1111111111111111, \"#46039f\"], [0.2222222222222222, \"#7201a8\"], [0.3333333333333333, \"#9c179e\"], [0.4444444444444444, \"#bd3786\"], [0.5555555555555556, \"#d8576b\"], [0.6666666666666666, \"#ed7953\"], [0.7777777777777778, \"#fb9f3a\"], [0.8888888888888888, \"#fdca26\"], [1.0, \"#f0f921\"]], \"type\": \"histogram2d\"}], \"histogram2dcontour\": [{\"colorbar\": {\"outlinewidth\": 0, \"ticks\": \"\"}, \"colorscale\": [[0.0, \"#0d0887\"], [0.1111111111111111, \"#46039f\"], [0.2222222222222222, \"#7201a8\"], [0.3333333333333333, \"#9c179e\"], [0.4444444444444444, \"#bd3786\"], [0.5555555555555556, \"#d8576b\"], [0.6666666666666666, \"#ed7953\"], [0.7777777777777778, \"#fb9f3a\"], [0.8888888888888888, \"#fdca26\"], [1.0, \"#f0f921\"]], \"type\": \"histogram2dcontour\"}], \"mesh3d\": [{\"colorbar\": {\"outlinewidth\": 0, \"ticks\": \"\"}, \"type\": \"mesh3d\"}], \"parcoords\": [{\"line\": {\"colorbar\": {\"outlinewidth\": 0, \"ticks\": \"\"}}, \"type\": \"parcoords\"}], \"pie\": [{\"automargin\": true, \"type\": \"pie\"}], \"scatter\": [{\"marker\": {\"colorbar\": {\"outlinewidth\": 0, \"ticks\": \"\"}}, \"type\": \"scatter\"}], \"scatter3d\": [{\"line\": {\"colorbar\": {\"outlinewidth\": 0, \"ticks\": \"\"}}, \"marker\": {\"colorbar\": {\"outlinewidth\": 0, \"ticks\": \"\"}}, \"type\": \"scatter3d\"}], \"scattercarpet\": [{\"marker\": {\"colorbar\": {\"outlinewidth\": 0, \"ticks\": \"\"}}, \"type\": \"scattercarpet\"}], \"scattergeo\": [{\"marker\": {\"colorbar\": {\"outlinewidth\": 0, \"ticks\": \"\"}}, \"type\": \"scattergeo\"}], \"scattergl\": [{\"marker\": {\"colorbar\": {\"outlinewidth\": 0, \"ticks\": \"\"}}, \"type\": \"scattergl\"}], \"scattermapbox\": [{\"marker\": {\"colorbar\": {\"outlinewidth\": 0, \"ticks\": \"\"}}, \"type\": \"scattermapbox\"}], \"scatterpolar\": [{\"marker\": {\"colorbar\": {\"outlinewidth\": 0, \"ticks\": \"\"}}, \"type\": \"scatterpolar\"}], \"scatterpolargl\": [{\"marker\": {\"colorbar\": {\"outlinewidth\": 0, \"ticks\": \"\"}}, \"type\": \"scatterpolargl\"}], \"scatterternary\": [{\"marker\": {\"colorbar\": {\"outlinewidth\": 0, \"ticks\": \"\"}}, \"type\": \"scatterternary\"}], \"surface\": [{\"colorbar\": {\"outlinewidth\": 0, \"ticks\": \"\"}, \"colorscale\": [[0.0, \"#0d0887\"], [0.1111111111111111, \"#46039f\"], [0.2222222222222222, \"#7201a8\"], [0.3333333333333333, \"#9c179e\"], [0.4444444444444444, \"#bd3786\"], [0.5555555555555556, \"#d8576b\"], [0.6666666666666666, \"#ed7953\"], [0.7777777777777778, \"#fb9f3a\"], [0.8888888888888888, \"#fdca26\"], [1.0, \"#f0f921\"]], \"type\": \"surface\"}], \"table\": [{\"cells\": {\"fill\": {\"color\": \"#EBF0F8\"}, \"line\": {\"color\": \"white\"}}, \"header\": {\"fill\": {\"color\": \"#C8D4E3\"}, \"line\": {\"color\": \"white\"}}, \"type\": \"table\"}]}, \"layout\": {\"annotationdefaults\": {\"arrowcolor\": \"#2a3f5f\", \"arrowhead\": 0, \"arrowwidth\": 1}, \"coloraxis\": {\"colorbar\": {\"outlinewidth\": 0, \"ticks\": \"\"}}, \"colorscale\": {\"diverging\": [[0, \"#8e0152\"], [0.1, \"#c51b7d\"], [0.2, \"#de77ae\"], [0.3, \"#f1b6da\"], [0.4, \"#fde0ef\"], [0.5, \"#f7f7f7\"], [0.6, \"#e6f5d0\"], [0.7, \"#b8e186\"], [0.8, \"#7fbc41\"], [0.9, \"#4d9221\"], [1, \"#276419\"]], \"sequential\": [[0.0, \"#0d0887\"], [0.1111111111111111, \"#46039f\"], [0.2222222222222222, \"#7201a8\"], [0.3333333333333333, \"#9c179e\"], [0.4444444444444444, \"#bd3786\"], [0.5555555555555556, \"#d8576b\"], [0.6666666666666666, \"#ed7953\"], [0.7777777777777778, \"#fb9f3a\"], [0.8888888888888888, \"#fdca26\"], [1.0, \"#f0f921\"]], \"sequentialminus\": [[0.0, \"#0d0887\"], [0.1111111111111111, \"#46039f\"], [0.2222222222222222, \"#7201a8\"], [0.3333333333333333, \"#9c179e\"], [0.4444444444444444, \"#bd3786\"], [0.5555555555555556, \"#d8576b\"], [0.6666666666666666, \"#ed7953\"], [0.7777777777777778, \"#fb9f3a\"], [0.8888888888888888, \"#fdca26\"], [1.0, \"#f0f921\"]]}, \"colorway\": [\"#636efa\", \"#EF553B\", \"#00cc96\", \"#ab63fa\", \"#FFA15A\", \"#19d3f3\", \"#FF6692\", \"#B6E880\", \"#FF97FF\", \"#FECB52\"], \"font\": {\"color\": \"#2a3f5f\"}, \"geo\": {\"bgcolor\": \"white\", \"lakecolor\": \"white\", \"landcolor\": \"#E5ECF6\", \"showlakes\": true, \"showland\": true, \"subunitcolor\": \"white\"}, \"hoverlabel\": {\"align\": \"left\"}, \"hovermode\": \"closest\", \"mapbox\": {\"style\": \"light\"}, \"paper_bgcolor\": \"white\", \"plot_bgcolor\": \"#E5ECF6\", \"polar\": {\"angularaxis\": {\"gridcolor\": \"white\", \"linecolor\": \"white\", \"ticks\": \"\"}, \"bgcolor\": \"#E5ECF6\", \"radialaxis\": {\"gridcolor\": \"white\", \"linecolor\": \"white\", \"ticks\": \"\"}}, \"scene\": {\"xaxis\": {\"backgroundcolor\": \"#E5ECF6\", \"gridcolor\": \"white\", \"gridwidth\": 2, \"linecolor\": \"white\", \"showbackground\": true, \"ticks\": \"\", \"zerolinecolor\": \"white\"}, \"yaxis\": {\"backgroundcolor\": \"#E5ECF6\", \"gridcolor\": \"white\", \"gridwidth\": 2, \"linecolor\": \"white\", \"showbackground\": true, \"ticks\": \"\", \"zerolinecolor\": \"white\"}, \"zaxis\": {\"backgroundcolor\": \"#E5ECF6\", \"gridcolor\": \"white\", \"gridwidth\": 2, \"linecolor\": \"white\", \"showbackground\": true, \"ticks\": \"\", \"zerolinecolor\": \"white\"}}, \"shapedefaults\": {\"line\": {\"color\": \"#2a3f5f\"}}, \"ternary\": {\"aaxis\": {\"gridcolor\": \"white\", \"linecolor\": \"white\", \"ticks\": \"\"}, \"baxis\": {\"gridcolor\": \"white\", \"linecolor\": \"white\", \"ticks\": \"\"}, \"bgcolor\": \"#E5ECF6\", \"caxis\": {\"gridcolor\": \"white\", \"linecolor\": \"white\", \"ticks\": \"\"}}, \"title\": {\"x\": 0.05}, \"xaxis\": {\"automargin\": true, \"gridcolor\": \"white\", \"linecolor\": \"white\", \"ticks\": \"\", \"title\": {\"standoff\": 15}, \"zerolinecolor\": \"white\", \"zerolinewidth\": 2}, \"yaxis\": {\"automargin\": true, \"gridcolor\": \"white\", \"linecolor\": \"white\", \"ticks\": \"\", \"title\": {\"standoff\": 15}, \"zerolinecolor\": \"white\", \"zerolinewidth\": 2}}}},\n",
              "                        {\"responsive\": true}\n",
              "                    ).then(function(){\n",
              "                            \n",
              "var gd = document.getElementById('451a3cf5-76fd-46de-8edf-b8e3c0d4bc13');\n",
              "var x = new MutationObserver(function (mutations, observer) {{\n",
              "        var display = window.getComputedStyle(gd).display;\n",
              "        if (!display || display === 'none') {{\n",
              "            console.log([gd, 'removed!']);\n",
              "            Plotly.purge(gd);\n",
              "            observer.disconnect();\n",
              "        }}\n",
              "}});\n",
              "\n",
              "// Listen for the removal of the full notebook cells\n",
              "var notebookContainer = gd.closest('#notebook-container');\n",
              "if (notebookContainer) {{\n",
              "    x.observe(notebookContainer, {childList: true});\n",
              "}}\n",
              "\n",
              "// Listen for the clearing of the current output cell\n",
              "var outputEl = gd.closest('.output');\n",
              "if (outputEl) {{\n",
              "    x.observe(outputEl, {childList: true});\n",
              "}}\n",
              "\n",
              "                        })\n",
              "                };\n",
              "                \n",
              "            </script>\n",
              "        </div>\n",
              "</body>\n",
              "</html>"
            ]
          },
          "metadata": {}
        }
      ]
    },
    {
      "cell_type": "code",
      "metadata": {
        "colab": {
          "base_uri": "https://localhost:8080/",
          "height": 264
        },
        "id": "NiyoQvNDhpbW",
        "outputId": "c30f86ca-023e-4223-c47f-f0947da0fab4"
      },
      "source": [
        "ax =df_s_m.plot.kde()"
      ],
      "execution_count": null,
      "outputs": [
        {
          "output_type": "display_data",
          "data": {
            "image/png": "[encoded data removed]",
            "text/plain": [
              "<Figure size 432x288 with 1 Axes>"
            ]
          },
          "metadata": {
            "needs_background": "light"
          }
        }
      ]
    },
    {
      "cell_type": "code",
      "metadata": {
        "colab": {
          "base_uri": "https://localhost:8080/",
          "height": 264
        },
        "id": "qI1g4XBOlu2Q",
        "outputId": "25be2a0c-571a-4633-e141-b83969b46d0e"
      },
      "source": [
        "lines = df_s_m.plot.line()"
      ],
      "execution_count": null,
      "outputs": [
        {
          "output_type": "display_data",
          "data": {
            "image/png": "[encoded data removed]",
            "text/plain": [
              "<Figure size 432x288 with 1 Axes>"
            ]
          },
          "metadata": {
            "needs_background": "light"
          }
        }
      ]
    },
    {
      "cell_type": "code",
      "metadata": {
        "colab": {
          "base_uri": "https://localhost:8080/",
          "height": 252
        },
        "id": "j8X1tzZ_l5yd",
        "outputId": "bdc06781-5313-4c3b-c07a-6c42aa3baed0"
      },
      "source": [
        "ax2 = df_s_m.plot.scatter(x='smooth_I',\n",
        "                      y='weekday',\n",
        "                      c='final_predictions',\n",
        "                      colormap='viridis')"
      ],
      "execution_count": null,
      "outputs": [
        {
          "output_type": "display_data",
          "data": {
            "image/png": "[encoded data removed]",
            "text/plain": [
              "<Figure size 432x288 with 2 Axes>"
            ]
          },
          "metadata": {
            "needs_background": "light"
          }
        }
      ]
    },
    {
      "cell_type": "code",
      "metadata": {
        "colab": {
          "base_uri": "https://localhost:8080/",
          "height": 487
        },
        "id": "JZ5PItjeSVUb",
        "outputId": "48654e65-99af-431a-a8aa-5199207d4c46"
      },
      "source": [
        "final_predictions=df_predict[['future_dates','final_predictions']]\n",
        "final_predictions"
      ],
      "execution_count": null,
      "outputs": [
        {
          "output_type": "execute_result",
          "data": {
            "text/html": [
              "<div>\n",
              "<style scoped>\n",
              "    .dataframe tbody tr th:only-of-type {\n",
              "        vertical-align: middle;\n",
              "    }\n",
              "\n",
              "    .dataframe tbody tr th {\n",
              "        vertical-align: top;\n",
              "    }\n",
              "\n",
              "    .dataframe thead th {\n",
              "        text-align: right;\n",
              "    }\n",
              "</style>\n",
              "<table border=\"1\" class=\"dataframe\">\n",
              "  <thead>\n",
              "    <tr style=\"text-align: right;\">\n",
              "      <th></th>\n",
              "      <th>future_dates</th>\n",
              "      <th>final_predictions</th>\n",
              "    </tr>\n",
              "  </thead>\n",
              "  <tbody>\n",
              "    <tr>\n",
              "      <th>0</th>\n",
              "      <td>12/01/17</td>\n",
              "      <td>22.341571</td>\n",
              "    </tr>\n",
              "    <tr>\n",
              "      <th>1</th>\n",
              "      <td>12/02/17</td>\n",
              "      <td>17.777227</td>\n",
              "    </tr>\n",
              "    <tr>\n",
              "      <th>2</th>\n",
              "      <td>12/03/17</td>\n",
              "      <td>18.232015</td>\n",
              "    </tr>\n",
              "    <tr>\n",
              "      <th>3</th>\n",
              "      <td>12/04/17</td>\n",
              "      <td>22.742673</td>\n",
              "    </tr>\n",
              "    <tr>\n",
              "      <th>4</th>\n",
              "      <td>12/05/17</td>\n",
              "      <td>21.699722</td>\n",
              "    </tr>\n",
              "    <tr>\n",
              "      <th>5</th>\n",
              "      <td>12/06/17</td>\n",
              "      <td>23.016964</td>\n",
              "    </tr>\n",
              "    <tr>\n",
              "      <th>6</th>\n",
              "      <td>12/07/17</td>\n",
              "      <td>23.903702</td>\n",
              "    </tr>\n",
              "    <tr>\n",
              "      <th>7</th>\n",
              "      <td>12/08/17</td>\n",
              "      <td>22.322831</td>\n",
              "    </tr>\n",
              "    <tr>\n",
              "      <th>8</th>\n",
              "      <td>12/09/17</td>\n",
              "      <td>17.762314</td>\n",
              "    </tr>\n",
              "    <tr>\n",
              "      <th>9</th>\n",
              "      <td>12/10/17</td>\n",
              "      <td>18.216718</td>\n",
              "    </tr>\n",
              "    <tr>\n",
              "      <th>10</th>\n",
              "      <td>12/11/17</td>\n",
              "      <td>22.723589</td>\n",
              "    </tr>\n",
              "    <tr>\n",
              "      <th>11</th>\n",
              "      <td>12/12/17</td>\n",
              "      <td>21.681512</td>\n",
              "    </tr>\n",
              "    <tr>\n",
              "      <th>12</th>\n",
              "      <td>12/13/17</td>\n",
              "      <td>22.997646</td>\n",
              "    </tr>\n",
              "    <tr>\n",
              "      <th>13</th>\n",
              "      <td>12/14/17</td>\n",
              "      <td>23.883637</td>\n",
              "    </tr>\n",
              "  </tbody>\n",
              "</table>\n",
              "</div>"
            ],
            "text/plain": [
              "   future_dates  final_predictions\n",
              "0      12/01/17          22.341571\n",
              "1      12/02/17          17.777227\n",
              "2      12/03/17          18.232015\n",
              "3      12/04/17          22.742673\n",
              "4      12/05/17          21.699722\n",
              "5      12/06/17          23.016964\n",
              "6      12/07/17          23.903702\n",
              "7      12/08/17          22.322831\n",
              "8      12/09/17          17.762314\n",
              "9      12/10/17          18.216718\n",
              "10     12/11/17          22.723589\n",
              "11     12/12/17          21.681512\n",
              "12     12/13/17          22.997646\n",
              "13     12/14/17          23.883637"
            ]
          },
          "metadata": {},
          "execution_count": 54
        }
      ]
    },
    {
      "cell_type": "code",
      "metadata": {
        "id": "SlKkQK4QSZ9Z"
      },
      "source": [
        "writer = pd.ExcelWriter('итог.xlsx')\n",
        "final_predictions.to_excel(writer, sheet_name='bar')\n",
        "writer.save()"
      ],
      "execution_count": null,
      "outputs": []
    }
  ]
}