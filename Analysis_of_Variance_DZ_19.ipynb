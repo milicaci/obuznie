{
  "nbformat": 4,
  "nbformat_minor": 0,
  "metadata": {
    "kernelspec": {
      "display_name": "Python 3",
      "language": "python",
      "name": "python3"
    },
    "language_info": {
      "codemirror_mode": {
        "name": "ipython",
        "version": 3
      },
      "file_extension": ".py",
      "mimetype": "text/x-python",
      "name": "python",
      "nbconvert_exporter": "python",
      "pygments_lexer": "ipython3",
      "version": "3.8.5"
    },
    "toc": {
      "base_numbering": 1,
      "nav_menu": {},
      "number_sections": true,
      "sideBar": true,
      "skip_h1_title": false,
      "title_cell": "Table of Contents",
      "title_sidebar": "Contents",
      "toc_cell": false,
      "toc_position": {},
      "toc_section_display": true,
      "toc_window_display": false
    },
    "colab": {
      "name": "Analysis_of_Variance_DZ_19.ipynb",
      "provenance": [],
      "include_colab_link": true
    }
  },
  "cells": [
    {
      "cell_type": "markdown",
      "metadata": {
        "id": "view-in-github",
        "colab_type": "text"
      },
      "source": [
        "<a href=\"https://colab.research.google.com/github/milicaci/obuznie/blob/master/Analysis_of_Variance_DZ_19.ipynb\" target=\"_parent\"><img src=\"https://colab.research.google.com/assets/colab-badge.svg\" alt=\"Open In Colab\"/></a>"
      ]
    },
    {
      "cell_type": "code",
      "metadata": {
        "id": "Q1DK4W8hIVXM"
      },
      "source": [
        " # Подгрузим пакеты \n",
        "import numpy as np\n",
        "import pandas as pd\n",
        "import scipy.stats as stats \n",
        "import matplotlib.pyplot as plt  #Пакет для построения графиков и прочего\n",
        "import seaborn as sns"
      ],
      "execution_count": 29,
      "outputs": []
    },
    {
      "cell_type": "markdown",
      "metadata": {
        "id": "nCiRc3TVIVXO"
      },
      "source": [
        "<p style=\"align: center;\"><img align=center src=\"https://netology.ru/backend/tilda/images/tild3439-3364-4535-b334-656263633534__main.svg\"  width=900></p>\n",
        "<h3 style=\"text-align: center;\"><b>«Статистическая проверка гипотез для связанных выборок. A/B тесты и как их проводить»</b></h3>\n"
      ]
    },
    {
      "cell_type": "code",
      "metadata": {
        "id": "MYy3c3XlIVXQ"
      },
      "source": [
        ""
      ],
      "execution_count": 29,
      "outputs": []
    },
    {
      "cell_type": "code",
      "metadata": {
        "colab": {
          "base_uri": "https://localhost:8080/",
          "height": 195
        },
        "id": "mgNEdDRhIVXR",
        "outputId": "4231d0d3-66f7-42b2-87af-30944a26c502"
      },
      "source": [
        "df = pd.read_csv(\"https://reneshbedre.github.io/assets/posts/anova/onewayanova.txt\", sep=\"\\t\") # Подгрузим данные\n",
        "df"
      ],
      "execution_count": 30,
      "outputs": [
        {
          "output_type": "execute_result",
          "data": {
            "text/html": [
              "<div>\n",
              "<style scoped>\n",
              "    .dataframe tbody tr th:only-of-type {\n",
              "        vertical-align: middle;\n",
              "    }\n",
              "\n",
              "    .dataframe tbody tr th {\n",
              "        vertical-align: top;\n",
              "    }\n",
              "\n",
              "    .dataframe thead th {\n",
              "        text-align: right;\n",
              "    }\n",
              "</style>\n",
              "<table border=\"1\" class=\"dataframe\">\n",
              "  <thead>\n",
              "    <tr style=\"text-align: right;\">\n",
              "      <th></th>\n",
              "      <th>A</th>\n",
              "      <th>B</th>\n",
              "      <th>C</th>\n",
              "      <th>D</th>\n",
              "    </tr>\n",
              "  </thead>\n",
              "  <tbody>\n",
              "    <tr>\n",
              "      <th>0</th>\n",
              "      <td>25</td>\n",
              "      <td>45</td>\n",
              "      <td>30</td>\n",
              "      <td>54</td>\n",
              "    </tr>\n",
              "    <tr>\n",
              "      <th>1</th>\n",
              "      <td>30</td>\n",
              "      <td>55</td>\n",
              "      <td>29</td>\n",
              "      <td>60</td>\n",
              "    </tr>\n",
              "    <tr>\n",
              "      <th>2</th>\n",
              "      <td>28</td>\n",
              "      <td>29</td>\n",
              "      <td>33</td>\n",
              "      <td>51</td>\n",
              "    </tr>\n",
              "    <tr>\n",
              "      <th>3</th>\n",
              "      <td>36</td>\n",
              "      <td>56</td>\n",
              "      <td>37</td>\n",
              "      <td>62</td>\n",
              "    </tr>\n",
              "    <tr>\n",
              "      <th>4</th>\n",
              "      <td>29</td>\n",
              "      <td>40</td>\n",
              "      <td>27</td>\n",
              "      <td>73</td>\n",
              "    </tr>\n",
              "  </tbody>\n",
              "</table>\n",
              "</div>"
            ],
            "text/plain": [
              "    A   B   C   D\n",
              "0  25  45  30  54\n",
              "1  30  55  29  60\n",
              "2  28  29  33  51\n",
              "3  36  56  37  62\n",
              "4  29  40  27  73"
            ]
          },
          "metadata": {
            "tags": []
          },
          "execution_count": 30
        }
      ]
    },
    {
      "cell_type": "code",
      "metadata": {
        "colab": {
          "base_uri": "https://localhost:8080/"
        },
        "id": "EsYSrS5BIVXT",
        "outputId": "d01fc372-e4bd-4fa0-9441-da9a233b9f2f"
      },
      "source": [
        "# изменим формат  данных, подходящего для пакета statsmodels\n",
        "df_melt = pd.melt(df.reset_index(), id_vars=['index'], value_vars=['A', 'B', 'C', 'D'])\n",
        " \n",
        "df_melt.columns = ['index', 'treatments', 'value'] # заменяем имена столбцов\n",
        "print(df_melt)"
      ],
      "execution_count": 31,
      "outputs": [
        {
          "output_type": "stream",
          "text": [
            "    index treatments  value\n",
            "0       0          A     25\n",
            "1       1          A     30\n",
            "2       2          A     28\n",
            "3       3          A     36\n",
            "4       4          A     29\n",
            "5       0          B     45\n",
            "6       1          B     55\n",
            "7       2          B     29\n",
            "8       3          B     56\n",
            "9       4          B     40\n",
            "10      0          C     30\n",
            "11      1          C     29\n",
            "12      2          C     33\n",
            "13      3          C     37\n",
            "14      4          C     27\n",
            "15      0          D     54\n",
            "16      1          D     60\n",
            "17      2          D     51\n",
            "18      3          D     62\n",
            "19      4          D     73\n"
          ],
          "name": "stdout"
        }
      ]
    },
    {
      "cell_type": "code",
      "metadata": {
        "id": "yvaHd0OVIVXV"
      },
      "source": [
        " "
      ],
      "execution_count": 31,
      "outputs": []
    },
    {
      "cell_type": "code",
      "metadata": {
        "colab": {
          "base_uri": "https://localhost:8080/"
        },
        "id": "PngPV_6pIVXW",
        "outputId": "8ed8d420-4cd3-4ae9-ee59-ca14ea606055"
      },
      "source": [
        "#Проверка теста из коробки на вычисления\n",
        "print(df[['A','C']])\n",
        "print()\n",
        "\n",
        "#Вычислим по формуле\n",
        "t  = (df['A'].mean() - df['C'].mean())/(df['A'].std()**2/df['A'].count()+df['C'].std()**2/df['C'].count())**0.5\n",
        "t"
      ],
      "execution_count": 32,
      "outputs": [
        {
          "output_type": "stream",
          "text": [
            "    A   C\n",
            "0  25  30\n",
            "1  30  29\n",
            "2  28  33\n",
            "3  36  37\n",
            "4  29  27\n",
            "\n"
          ],
          "name": "stdout"
        },
        {
          "output_type": "execute_result",
          "data": {
            "text/plain": [
              "-0.6374552583116758"
            ]
          },
          "metadata": {
            "tags": []
          },
          "execution_count": 32
        }
      ]
    },
    {
      "cell_type": "code",
      "metadata": {
        "id": "4ZarLXx7IVXX"
      },
      "source": [
        " "
      ],
      "execution_count": 32,
      "outputs": []
    },
    {
      "cell_type": "code",
      "metadata": {
        "id": "dtiqk3CKIVXY"
      },
      "source": [
        " "
      ],
      "execution_count": 32,
      "outputs": []
    },
    {
      "cell_type": "markdown",
      "metadata": {
        "id": "fshUR-9PIVXZ"
      },
      "source": [
        "**Получаем коробчатую диаграмму, чтобы увидеть распределение данных по группам.** \n",
        "\n",
        "**Используя коробчатую диаграмму, мы можем легко обнаружить различия между разными методами лечения**"
      ]
    },
    {
      "cell_type": "code",
      "metadata": {
        "id": "2VP0wNbFIVXZ"
      },
      "source": [
        ""
      ],
      "execution_count": 32,
      "outputs": []
    },
    {
      "cell_type": "code",
      "metadata": {
        "colab": {
          "base_uri": "https://localhost:8080/",
          "height": 279
        },
        "id": "3aHKk9TGIVXa",
        "outputId": "cb9f761e-df3b-45a5-a526-d07d3bb7e59e"
      },
      "source": [
        "import seaborn as sns  # Еще дна библиотека для визуализации данных, но более продвинутая\n",
        "#sns.set(rc={'figure.figsize':(10, 5)})  # можно менять ширину и высоту при желании\n",
        "\n",
        "\n",
        "ax = sns.boxplot(x='treatments', y='value', data=df_melt, color='#99c2a2')\n",
        "#ax = sns.swarmplot(x=\"treatments\", y=\"value\", data=df_melt, color='#7d0013')\n",
        "plt.show()"
      ],
      "execution_count": 33,
      "outputs": [
        {
          "output_type": "display_data",
          "data": {
            "image/png": "[encoded data removed]",
            "text/plain": [
              "<Figure size 432x288 with 1 Axes>"
            ]
          },
          "metadata": {
            "tags": [],
            "needs_background": "light"
          }
        }
      ]
    },
    {
      "cell_type": "code",
      "metadata": {
        "id": "Us1IFqlXIVXb"
      },
      "source": [
        " "
      ],
      "execution_count": 33,
      "outputs": []
    },
    {
      "cell_type": "code",
      "metadata": {
        "colab": {
          "base_uri": "https://localhost:8080/"
        },
        "id": "cY1Bs0eIIVXb",
        "outputId": "9c1b6056-f66f-42b3-91e9-d404f35d5d91"
      },
      "source": [
        "import scipy.stats as stats\n",
        "# Функция f_oneway принимает группы в качестве входных данных и возвращает значения F и P\n",
        "fvalue, pvalue = stats.f_oneway(df['A'],  df['B'], df['C'], df['D'])\n",
        "\n",
        "print(fvalue, pvalue)\n",
        "# 17.492810457516338 2.639241146210922e-05"
      ],
      "execution_count": 34,
      "outputs": [
        {
          "output_type": "stream",
          "text": [
            "17.492810457516338 2.639241146210922e-05\n"
          ],
          "name": "stdout"
        }
      ]
    },
    {
      "cell_type": "code",
      "metadata": {
        "colab": {
          "base_uri": "https://localhost:8080/"
        },
        "id": "9sqhVbk1IVXc",
        "outputId": "66909f22-acda-444d-c1a4-ca33bd7c5544"
      },
      "source": [
        "fvalue, pvalue = stats.f_oneway(df['A'], df['C'])\n",
        "fvalue, pvalue"
      ],
      "execution_count": 35,
      "outputs": [
        {
          "output_type": "execute_result",
          "data": {
            "text/plain": [
              "(0.40634920634920635, 0.5416380250488471)"
            ]
          },
          "metadata": {
            "tags": []
          },
          "execution_count": 35
        }
      ]
    },
    {
      "cell_type": "code",
      "metadata": {
        "id": "fMbITH53IVXd"
      },
      "source": [
        ""
      ],
      "execution_count": 35,
      "outputs": []
    },
    {
      "cell_type": "markdown",
      "metadata": {
        "id": "w8d6De2AIVXd"
      },
      "source": [
        "### Начнем с датасета про морских гребешков"
      ]
    },
    {
      "cell_type": "code",
      "metadata": {
        "colab": {
          "base_uri": "https://localhost:8080/",
          "height": 136
        },
        "id": "PKsZl7ziIVXe",
        "outputId": "c70acaa7-8294-489f-bdf2-4dd3b0bcf742"
      },
      "source": [
        "abalone = 'https://raw.githubusercontent.com/a-milenkin/datasets_for_t-tests/main/abalone.csv'\n",
        "data = pd.read_csv(abalone, error_bad_lines=False)\n",
        "data.head(3)"
      ],
      "execution_count": 36,
      "outputs": [
        {
          "output_type": "execute_result",
          "data": {
            "text/html": [
              "<div>\n",
              "<style scoped>\n",
              "    .dataframe tbody tr th:only-of-type {\n",
              "        vertical-align: middle;\n",
              "    }\n",
              "\n",
              "    .dataframe tbody tr th {\n",
              "        vertical-align: top;\n",
              "    }\n",
              "\n",
              "    .dataframe thead th {\n",
              "        text-align: right;\n",
              "    }\n",
              "</style>\n",
              "<table border=\"1\" class=\"dataframe\">\n",
              "  <thead>\n",
              "    <tr style=\"text-align: right;\">\n",
              "      <th></th>\n",
              "      <th>Sex</th>\n",
              "      <th>Length</th>\n",
              "      <th>Diameter</th>\n",
              "      <th>Height</th>\n",
              "      <th>Whole weight</th>\n",
              "      <th>Shucked weight</th>\n",
              "      <th>Viscera weight</th>\n",
              "      <th>Shell weight</th>\n",
              "      <th>Rings</th>\n",
              "    </tr>\n",
              "  </thead>\n",
              "  <tbody>\n",
              "    <tr>\n",
              "      <th>0</th>\n",
              "      <td>M</td>\n",
              "      <td>0.455</td>\n",
              "      <td>0.365</td>\n",
              "      <td>0.095</td>\n",
              "      <td>0.5140</td>\n",
              "      <td>0.2245</td>\n",
              "      <td>0.1010</td>\n",
              "      <td>0.15</td>\n",
              "      <td>15</td>\n",
              "    </tr>\n",
              "    <tr>\n",
              "      <th>1</th>\n",
              "      <td>M</td>\n",
              "      <td>0.350</td>\n",
              "      <td>0.265</td>\n",
              "      <td>0.090</td>\n",
              "      <td>0.2255</td>\n",
              "      <td>0.0995</td>\n",
              "      <td>0.0485</td>\n",
              "      <td>0.07</td>\n",
              "      <td>7</td>\n",
              "    </tr>\n",
              "    <tr>\n",
              "      <th>2</th>\n",
              "      <td>F</td>\n",
              "      <td>0.530</td>\n",
              "      <td>0.420</td>\n",
              "      <td>0.135</td>\n",
              "      <td>0.6770</td>\n",
              "      <td>0.2565</td>\n",
              "      <td>0.1415</td>\n",
              "      <td>0.21</td>\n",
              "      <td>9</td>\n",
              "    </tr>\n",
              "  </tbody>\n",
              "</table>\n",
              "</div>"
            ],
            "text/plain": [
              "  Sex  Length  Diameter  ...  Viscera weight  Shell weight  Rings\n",
              "0   M   0.455     0.365  ...          0.1010          0.15     15\n",
              "1   M   0.350     0.265  ...          0.0485          0.07      7\n",
              "2   F   0.530     0.420  ...          0.1415          0.21      9\n",
              "\n",
              "[3 rows x 9 columns]"
            ]
          },
          "metadata": {
            "tags": []
          },
          "execution_count": 36
        }
      ]
    },
    {
      "cell_type": "code",
      "metadata": {
        "colab": {
          "base_uri": "https://localhost:8080/"
        },
        "id": "Ju3NRadcIVXf",
        "outputId": "c7c1c966-9fa2-4c07-a97e-9b0894128b49"
      },
      "source": [
        "half = len(data['Length']) // 2 \n",
        "\n",
        "sam1 = data.loc[half:, 'Length'] # Берем первую половину данных\n",
        "sam2 = data.loc[:half, 'Length'] # Берем вторую половину данных\n",
        "\n",
        "stats.ttest_ind(sam2, sam1) # применяем тест Стьюдента. "
      ],
      "execution_count": 37,
      "outputs": [
        {
          "output_type": "execute_result",
          "data": {
            "text/plain": [
              "Ttest_indResult(statistic=-1.5812897200356624, pvalue=0.11388753958977987)"
            ]
          },
          "metadata": {
            "tags": []
          },
          "execution_count": 37
        }
      ]
    },
    {
      "cell_type": "code",
      "metadata": {
        "id": "SdSl4vWsIVXg"
      },
      "source": [
        " "
      ],
      "execution_count": 37,
      "outputs": []
    },
    {
      "cell_type": "code",
      "metadata": {
        "colab": {
          "base_uri": "https://localhost:8080/"
        },
        "id": "QTZrBpMsIVXg",
        "outputId": "6b588434-5033-4421-91fa-19fe991fd459"
      },
      "source": [
        "df['A']"
      ],
      "execution_count": 38,
      "outputs": [
        {
          "output_type": "execute_result",
          "data": {
            "text/plain": [
              "0    25\n",
              "1    30\n",
              "2    28\n",
              "3    36\n",
              "4    29\n",
              "Name: A, dtype: int64"
            ]
          },
          "metadata": {
            "tags": []
          },
          "execution_count": 38
        }
      ]
    },
    {
      "cell_type": "markdown",
      "metadata": {
        "id": "tKCkb3ZsIVXh"
      },
      "source": [
        "# Дисперсионный анализ и датасет про раковины"
      ]
    },
    {
      "cell_type": "markdown",
      "metadata": {
        "id": "_cQQOe6XIVXh"
      },
      "source": [
        "<div class=\"alert alert-info\">\n",
        "Вот некоторые данные об измерении раковины (длина рубца передней приводящей мышцы, стандартизированная путем деления на длину) у мидии Mytilus trossulus из пяти мест: \n",
        "Тилламук, Орегон; Ньюпорт, Орегон; Петербург, Аляска; Магадан, Россия и Tvarminne, Финляндия.\n",
        "</div>"
      ]
    },
    {
      "cell_type": "code",
      "metadata": {
        "colab": {
          "base_uri": "https://localhost:8080/"
        },
        "id": "EfPwMh-fIVXi",
        "outputId": "94cbe3b5-4b34-45a1-8188-a91b5fb7fbcc"
      },
      "source": [
        "from scipy.stats import f_oneway # импортирем функцию для дисперсионного анализа из библиотеки scipy пакета stats\n",
        "\n",
        "# Берем несколько выборок с размерами раковин разных видов\n",
        "tillamook = [0.0571, 0.0813, 0.0831, 0.0976, 0.0817, 0.0859, 0.0735, 0.0659, 0.0923, 0.0836]\n",
        "newport = [0.0873, 0.0662, 0.0672, 0.0819, 0.0749, 0.0649, 0.0835,0.0725]\n",
        "petersburg = [0.0974, 0.1352, 0.0817, 0.1016, 0.0968, 0.1064, 0.105]\n",
        "magadan = [0.1033, 0.0915, 0.0781, 0.0685, 0.0677, 0.0697, 0.0764, 0.0689]\n",
        "tvarminne = [0.0703, 0.1026, 0.0956, 0.0973, 0.1039, 0.1045]\n",
        "\n",
        "F, p = f_oneway(tillamook, newport, petersburg, magadan, tvarminne)  # дисперсионный анализ (ДА) в python\n",
        "\n",
        "alpha = 0.05  # Уровень значимости\n",
        "print(F, p)   # Смотрим на результаты ДА\n",
        "\n",
        "if p > alpha:\n",
        "    print('Одинаковое распределение (не отвергаем H0)')\n",
        "else:\n",
        "    print('Разное распределение (отклоняем H0)')"
      ],
      "execution_count": 39,
      "outputs": [
        {
          "output_type": "stream",
          "text": [
            "7.121019471642447 0.0002812242314534544\n",
            "Разное распределение (отклоняем H0)\n"
          ],
          "name": "stdout"
        }
      ]
    },
    {
      "cell_type": "code",
      "metadata": {
        "colab": {
          "base_uri": "https://localhost:8080/",
          "height": 0
        },
        "id": "zjUymQ0UIVXj",
        "outputId": "39fa6c5d-f27e-458e-81b7-b94200c78e9c"
      },
      "source": [
        "import seaborn as sns  # Еще дна библиотека для визуализации данных, но более продвинутая\n",
        " \n",
        "#Немного преобразуем данные, не важно как\n",
        "sizes = tillamook + newport +petersburg + magadan + tvarminne\n",
        "kinds = ['tillamook']*len(tillamook) + ['newport']*len(newport)+['petersburg']*len(petersburg)+['magadan']*len(magadan) + ['tvarminne']*len(tvarminne)\n",
        "df_mid = pd.DataFrame()\n",
        "df_mid['sizes'] = sizes\n",
        "df_mid['kinds'] = kinds\n",
        "\n",
        "\n",
        "ax = sns.boxplot(x='kinds', y='sizes', data=df_mid, color='#99c2a2')\n",
        "#ax = sns.swarmplot(x=\"kinds\", y=\"sizes\", data=df_mid, color='#7d0013')\n",
        "plt.show()"
      ],
      "execution_count": 40,
      "outputs": [
        {
          "output_type": "display_data",
          "data": {
            "image/png": "[encoded data removed]",
            "text/plain": [
              "<Figure size 432x288 with 1 Axes>"
            ]
          },
          "metadata": {
            "tags": [],
            "needs_background": "light"
          }
        }
      ]
    },
    {
      "cell_type": "code",
      "metadata": {
        "id": "I5mMUlN5IVXk"
      },
      "source": [
        " "
      ],
      "execution_count": 40,
      "outputs": []
    },
    {
      "cell_type": "markdown",
      "metadata": {
        "id": "3hmbhkvzIVXk"
      },
      "source": [
        "**Можете привести пример когда выборки зависимы, а когда нет ?**"
      ]
    },
    {
      "cell_type": "markdown",
      "metadata": {
        "id": "5hksQN9FIVXl"
      },
      "source": [
        "# Критерием Манна-Уитни"
      ]
    },
    {
      "cell_type": "code",
      "metadata": {
        "colab": {
          "base_uri": "https://localhost:8080/"
        },
        "id": "5SFPLu5CIVXl",
        "outputId": "456aabd2-f981-44b7-ca05-78dccf882408"
      },
      "source": [
        "# Тест Вилкоксона для независимых выборок также называется критерием Манна-Уитни\n",
        "\n",
        "from scipy.stats import mannwhitneyu # Импортируем нужный тест из пакета scipy\n",
        " \n",
        "# Генерируем две независимых выборки\n",
        "group =  [20, 23, 21, 25, 18, 17, 18, 24, 20, 24, 23, 19]*5  # Некий общий элемент\n",
        "group_1 = group*5\n",
        "group_2 = [24, 25, 21, 22, 23, 18, 17, 28, 24, 27, 21, 23]*5\n",
        "\n",
        "# Сравнение групп\n",
        "stat, p = mannwhitneyu(group_1, group_2) # U-тест Манна-Уитни\n",
        "print('Statistics=%.3f, p=%.3f' % (stat, p))\n",
        "\n",
        "\n",
        "# Интерпретируем\n",
        "alpha = 0.05   # Уровень значимости\n",
        "if p > alpha:\n",
        "    print('Одинаковые распределения (не отвергаем H0)')\n",
        "else:\n",
        "    print('Разные распределения (отвергаем H0)')"
      ],
      "execution_count": 41,
      "outputs": [
        {
          "output_type": "stream",
          "text": [
            "Statistics=6250.000, p=0.000\n",
            "Разные распределения (отвергаем H0)\n"
          ],
          "name": "stdout"
        }
      ]
    },
    {
      "cell_type": "code",
      "metadata": {
        "colab": {
          "base_uri": "https://localhost:8080/",
          "height": 282
        },
        "id": "psS5bi9yIVXm",
        "outputId": "9896f7b4-08ce-49ef-eb6a-129e7390597b"
      },
      "source": [
        "print(np.mean(group_1), np.mean(group_2))\n",
        "\n",
        "plt.hist(group_1)\n",
        "plt.hist(group_2);\n"
      ],
      "execution_count": 42,
      "outputs": [
        {
          "output_type": "stream",
          "text": [
            "21.0 22.75\n"
          ],
          "name": "stdout"
        },
        {
          "output_type": "display_data",
          "data": {
            "image/png": "[encoded data removed]",
            "text/plain": [
              "<Figure size 432x288 with 1 Axes>"
            ]
          },
          "metadata": {
            "tags": [],
            "needs_background": "light"
          }
        }
      ]
    },
    {
      "cell_type": "code",
      "metadata": {
        "id": "vjdppcDRIVXn"
      },
      "source": [
        ""
      ],
      "execution_count": 42,
      "outputs": []
    },
    {
      "cell_type": "code",
      "metadata": {
        "colab": {
          "base_uri": "https://localhost:8080/",
          "height": 334
        },
        "id": "VjcLpycHIVXn",
        "outputId": "03b54296-7a23-48f3-ad30-7651adc7375e"
      },
      "source": [
        "data_group = pd.DataFrame()\n",
        "data_group['value'] = group_1 + group_2 \n",
        "data_group['group'] = ['group_1']*len(group_1)+['group_2']*len(group_2)\n",
        "\n",
        "ax = sns.boxplot(x='group', y='value', data=data_group, color='#99c2a2')\n",
        "ax = sns.swarmplot(x=\"group\", y=\"value\", data=data_group, color='#7d0013')\n",
        "plt.show()\n",
        "# pd.DataFrame(group_2).hist()\n",
        "\n"
      ],
      "execution_count": 43,
      "outputs": [
        {
          "output_type": "stream",
          "text": [
            "/usr/local/lib/python3.7/dist-packages/seaborn/categorical.py:1296: UserWarning: 33.3% of the points cannot be placed; you may want to decrease the size of the markers or use stripplot.\n",
            "  warnings.warn(msg, UserWarning)\n"
          ],
          "name": "stderr"
        },
        {
          "output_type": "display_data",
          "data": {
            "image/png": "[encoded data removed]",
            "text/plain": [
              "<Figure size 432x288 with 1 Axes>"
            ]
          },
          "metadata": {
            "tags": [],
            "needs_background": "light"
          }
        }
      ]
    },
    {
      "cell_type": "code",
      "metadata": {
        "id": "Psua8F_qIVXo"
      },
      "source": [
        " "
      ],
      "execution_count": 43,
      "outputs": []
    },
    {
      "cell_type": "markdown",
      "metadata": {
        "id": "YhuQceJZIVXo"
      },
      "source": [
        "**Какие выборки зависимы? Приведите пример**"
      ]
    },
    {
      "cell_type": "markdown",
      "metadata": {
        "id": "cnbnV9XuIVXp"
      },
      "source": [
        "# Критерий Уилкоксона  "
      ]
    },
    {
      "cell_type": "code",
      "metadata": {
        "colab": {
          "base_uri": "https://localhost:8080/"
        },
        "id": "gXhd4I4UIVXp",
        "outputId": "e930b96a-11ad-4299-8bed-d962c54bd595"
      },
      "source": [
        "from scipy.stats import wilcoxon  # Wilcoxon signed-rank test\n",
        " \n",
        "\n",
        "group =  [20, 23, 21, 25, 18, 17, 18, 24, 20, 24, 23, 19]  # Некий общий элемент\n",
        "group_1 = group + group \n",
        "\n",
        "group_2 = group + [24, 25, 21, 22, 23, 18, 17, 28, 24, 27, 21, 23]\n",
        "\n",
        "group_3 = group + [20, 23, 21, 25, 18, 17, 18, 24, 20, 24, 23, 18] # отличие только в одном элементе\n",
        "\n",
        "import scipy.stats as stats\n",
        "\n",
        "#Выполняем the Wilcoxon-Signed Rank Test\n",
        " \n",
        "\n",
        "#stat, p = wilcoxon(group_1, group_2)\n",
        "stat, p = wilcoxon(group_1, group_3)\n",
        "print('Statistics=%.3f, p=%.3f' % (stat, p))\n",
        "# interpret\n",
        "alpha = 0.05\n",
        "if p > alpha:\n",
        "    print('Одинаковые распределения (не отвергаем H0)')\n",
        "else:\n",
        "    print('Разные распределения (отвергаем H0)')"
      ],
      "execution_count": 44,
      "outputs": [
        {
          "output_type": "stream",
          "text": [
            "Statistics=0.000, p=0.317\n",
            "Одинаковые распределения (не отвергаем H0)\n"
          ],
          "name": "stdout"
        },
        {
          "output_type": "stream",
          "text": [
            "/usr/local/lib/python3.7/dist-packages/scipy/stats/morestats.py:2879: UserWarning: Sample size too small for normal approximation.\n",
            "  warnings.warn(\"Sample size too small for normal approximation.\")\n"
          ],
          "name": "stderr"
        }
      ]
    },
    {
      "cell_type": "code",
      "metadata": {
        "colab": {
          "base_uri": "https://localhost:8080/",
          "height": 315
        },
        "id": "y9SxlzQ5IVXq",
        "outputId": "f6c04970-3fc0-4893-9aaa-83381ae01300"
      },
      "source": [
        "plt.hist(group_1)\n",
        "plt.hist(group_2)"
      ],
      "execution_count": 45,
      "outputs": [
        {
          "output_type": "execute_result",
          "data": {
            "text/plain": [
              "(array([5., 1., 2., 3., 1., 4., 4., 2., 0., 2.]),\n",
              " array([17. , 18.1, 19.2, 20.3, 21.4, 22.5, 23.6, 24.7, 25.8, 26.9, 28. ]),\n",
              " <a list of 10 Patch objects>)"
            ]
          },
          "metadata": {
            "tags": []
          },
          "execution_count": 45
        },
        {
          "output_type": "display_data",
          "data": {
            "image/png": "[encoded data removed]",
            "text/plain": [
              "<Figure size 432x288 with 1 Axes>"
            ]
          },
          "metadata": {
            "tags": [],
            "needs_background": "light"
          }
        }
      ]
    },
    {
      "cell_type": "code",
      "metadata": {
        "colab": {
          "base_uri": "https://localhost:8080/",
          "height": 280
        },
        "id": "iUR-sBERIVXr",
        "outputId": "a064ada0-c956-4ff9-be9b-b75c8e2c8962"
      },
      "source": [
        "data_group = pd.DataFrame()\n",
        "data_group['value'] = group_1 + group_2 \n",
        "data_group['group'] = ['group_1']*len(group_1)+['group_2']*len(group_2)\n",
        "\n",
        "ax = sns.boxplot(x='group', y='value', data=data_group, color='#99c2a2')\n",
        "ax = sns.swarmplot(x=\"group\", y=\"value\", data=data_group, color='#7d0013')\n",
        "plt.show()\n",
        "# pd.DataFrame(group_2).hist()\n"
      ],
      "execution_count": 46,
      "outputs": [
        {
          "output_type": "display_data",
          "data": {
            "image/png": "[encoded data removed]",
            "text/plain": [
              "<Figure size 432x288 with 1 Axes>"
            ]
          },
          "metadata": {
            "tags": [],
            "needs_background": "light"
          }
        }
      ]
    },
    {
      "cell_type": "code",
      "metadata": {
        "id": "zleuOawLIVXs"
      },
      "source": [
        ""
      ],
      "execution_count": 46,
      "outputs": []
    },
    {
      "cell_type": "markdown",
      "metadata": {
        "id": "ZDzfHyOcIVXs"
      },
      "source": [
        "# Задания для самостоятельного решения"
      ]
    },
    {
      "cell_type": "markdown",
      "metadata": {
        "id": "PpsmsPeyIVXt"
      },
      "source": [
        "**Замечание: 1** Предполагается, что для решения заданий  № 1-3 будут использоваться разные тесты.\n",
        "\n",
        "**Замечание: 2** Для зачета уже достаточно половины абсолютно верно решенных заданий. \n",
        "\n",
        "Если возникают сложности по ходу решения - пиште свой вопрос в общий чат в Slack. Там всегда подскажут) \n",
        "\n",
        "\n"
      ]
    },
    {
      "cell_type": "markdown",
      "metadata": {
        "id": "RA1XoGEXIVXt"
      },
      "source": [
        "<div class=\"alert alert-info\">\n",
        "<b>Задание № 1 (Обязательно)</b>\n",
        "Вам даны результаты проверки двух препаратов.\n",
        "    \n",
        "Требуется:\n",
        "- Оценить, есть ли различие в эффекте у этих пациентов?\n",
        "- Визуально подтвердить результат\n",
        "    \n",
        "`A` - результаты для группы людей получающих препарат А.\n",
        "\n",
        "`B` - результаты для другой группы людей, получающих препарат B.\n",
        "    \n",
        "</div>"
      ]
    },
    {
      "cell_type": "code",
      "metadata": {
        "colab": {
          "base_uri": "https://localhost:8080/"
        },
        "id": "kKVsNgUUIVXu",
        "outputId": "25059603-5fb1-4966-df51-46f4469ceca4"
      },
      "source": [
        "np.random.seed(11)\n",
        "A = stats.norm.rvs(scale=30, loc=11, size=100)\n",
        "B = A + stats.norm.rvs(scale=54, loc=11, size=100)\n",
        "\n",
        "# Ваш код.\n",
        "stat, p = wilcoxon(A, B)\n",
        "print('Statistics=%.3f, p=%.3f' % (stat, p))\n",
        "# interpret\n",
        "alpha = 0.05\n",
        "if p > alpha:\n",
        "    print('Одинаковые распределения (не отвергаем H0)')\n",
        "else:\n",
        "    print('Разные распределения (отвергаем H0)')"
      ],
      "execution_count": 47,
      "outputs": [
        {
          "output_type": "stream",
          "text": [
            "Statistics=1930.000, p=0.041\n",
            "Разные распределения (отвергаем H0)\n"
          ],
          "name": "stdout"
        }
      ]
    },
    {
      "cell_type": "code",
      "metadata": {
        "colab": {
          "base_uri": "https://localhost:8080/",
          "height": 349
        },
        "id": "Bvootbg1MzHU",
        "outputId": "27fd238e-20d0-445c-b436-e52eec00af44"
      },
      "source": [
        "plt.hist(A)\n",
        "plt.hist(B)"
      ],
      "execution_count": 48,
      "outputs": [
        {
          "output_type": "execute_result",
          "data": {
            "text/plain": [
              "(array([ 5.,  7., 13., 13., 21., 16., 11.,  8.,  3.,  3.]),\n",
              " array([-99.92486747, -73.18817253, -46.45147758, -19.71478263,\n",
              "          7.02191231,  33.75860726,  60.4953022 ,  87.23199715,\n",
              "        113.9686921 , 140.70538704, 167.44208199]),\n",
              " <a list of 10 Patch objects>)"
            ]
          },
          "metadata": {
            "tags": []
          },
          "execution_count": 48
        },
        {
          "output_type": "display_data",
          "data": {
            "image/png": "[encoded data removed]",
            "text/plain": [
              "<Figure size 432x288 with 1 Axes>"
            ]
          },
          "metadata": {
            "tags": [],
            "needs_background": "light"
          }
        }
      ]
    },
    {
      "cell_type": "markdown",
      "metadata": {
        "id": "Op4n6k_qIVXu"
      },
      "source": [
        "<div class=\"alert alert-info\">\n",
        "<b>Задание № 2 (Обязательно)</b>\n",
        "Вам даны результаты проверки двух препаратов. \n",
        "    \n",
        "Требуется: \n",
        "- Оценить, есть ли различие в эффекте у этих пациентов?\n",
        "- Визуально подтвердить результат\n",
        "    \n",
        "`А` - группа людей без препарата.\n",
        "\n",
        "`B` - та же группа людей, но получающая препарат\n",
        "</div>"
      ]
    },
    {
      "cell_type": "code",
      "metadata": {
        "colab": {
          "base_uri": "https://localhost:8080/"
        },
        "id": "KmWw4dpOIVXv",
        "outputId": "22b7c6ac-ff24-44bd-8d49-706d8ae8ab6d"
      },
      "source": [
        "np.random.seed(11)\n",
        "A = stats.norm.rvs(scale=30, loc=11, size=100)\n",
        "B = A + stats.norm.rvs(scale=54, loc=11, size=100)\n",
        "\n",
        "# Ваш код.\n",
        "\n",
        "# Сравнение групп\n",
        "stat, p = mannwhitneyu(A, B) # U-тест Манна-Уитни\n",
        "print('Statistics=%.3f, p=%.3f' % (stat, p))\n",
        "\n",
        "\n",
        "# Интерпретируем\n",
        "alpha = 0.05   # Уровень значимости\n",
        "if p > alpha:\n",
        "    print('Одинаковые распределения (не отвергаем H0)')\n",
        "else:\n",
        "    print('Разные распределения (отвергаем H0)')\n"
      ],
      "execution_count": 49,
      "outputs": [
        {
          "output_type": "stream",
          "text": [
            "Statistics=4343.000, p=0.054\n",
            "Одинаковые распределения (не отвергаем H0)\n"
          ],
          "name": "stdout"
        }
      ]
    },
    {
      "cell_type": "code",
      "metadata": {
        "colab": {
          "base_uri": "https://localhost:8080/",
          "height": 265
        },
        "id": "AyLhSO0nNiRT",
        "outputId": "1b349560-72ca-4878-e2a0-9de7eacdf1ec"
      },
      "source": [
        "plt.hist(A)\n",
        "plt.hist(B);"
      ],
      "execution_count": 50,
      "outputs": [
        {
          "output_type": "display_data",
          "data": {
            "image/png": "[encoded data removed]",
            "text/plain": [
              "<Figure size 432x288 with 1 Axes>"
            ]
          },
          "metadata": {
            "tags": [],
            "needs_background": "light"
          }
        }
      ]
    },
    {
      "cell_type": "code",
      "metadata": {
        "id": "7oIKnux4OcyZ"
      },
      "source": [
        "\n",
        "\n"
      ],
      "execution_count": 50,
      "outputs": []
    },
    {
      "cell_type": "markdown",
      "metadata": {
        "id": "MkSJE1TbIVXv"
      },
      "source": [
        "<div class=\"alert alert-info\">\n",
        "<b>Задание № 3 (Обязательно)</b>\n",
        "Допустим вы решили устроить дачный эксперимент. Берем и поливаем одни огурцы водой, другие огурцы водой с удобнением, третью группу огурцов будем поливать минералкой. \n",
        "    \n",
        " - Используя дисперсионный анализ, сделайте выводы о распредлениях результатов. Есть ли эффект от удобрения по сравнению с минералкой? \n",
        " - Помимо результата статистического теста, продемонстрируйте отличия визуально с помощью `boxplot` или `hist`\n",
        "    \n",
        "`water = [1,2,3,4,2,4,2,4,5,2,3,4,2,1,3,4,3,2,5,1]`\n",
        "\n",
        "`nutri = [1,2,4,6,5,6,7,5,4,5,6,7,4,3,5,5,6,5,4,3,5]`\n",
        "\n",
        "`mineral =[2,1,1,3,2,4,2,4,5,4,3,2,3,2,3,1,3,4,5,1,4]`\n",
        "</div>"
      ]
    },
    {
      "cell_type": "code",
      "metadata": {
        "colab": {
          "base_uri": "https://localhost:8080/"
        },
        "id": "anLrAaQSIVXw",
        "outputId": "916ba97c-4df2-4c8a-a201-b3c7eceb538f"
      },
      "source": [
        "water = [1,2,3,4,2,4,2,4,5,2,3,4,2,1,3,4,3,2,5,1]\n",
        "nutri = [1,2,4,6,5,6,7,5,4,5,6,7,4,3,5,5,6,5,4,3,5]\n",
        "mineral =[2,1,1,3,2,4,2,4,5,4,3,2,3,2,3,1,3,4,5,1,4]\n",
        "\n",
        "# Ваш код.\n",
        "F, p = f_oneway(water, nutri, mineral)  # дисперсионный анализ (ДА) в python\n",
        "\n",
        "alpha = 0.05  # Уровень значимости\n",
        "print(F, p)   # Смотрим на результаты ДА\n",
        "\n",
        "if p > alpha:\n",
        "    print('Одинаковое распределение (не отвергаем H0)')\n",
        "else:\n",
        "    print('Разное распределение (отклоняем H0)')"
      ],
      "execution_count": 51,
      "outputs": [
        {
          "output_type": "stream",
          "text": [
            "12.525963044834192 2.9240047906326866e-05\n",
            "Разное распределение (отклоняем H0)\n"
          ],
          "name": "stdout"
        }
      ]
    },
    {
      "cell_type": "code",
      "metadata": {
        "colab": {
          "base_uri": "https://localhost:8080/",
          "height": 279
        },
        "id": "d3oCMifCIVXx",
        "outputId": "fcf72f98-0225-40a2-a515-199219e79c3a"
      },
      "source": [
        "#Немного преобразуем данные, не важно как\n",
        "rost = water + nutri +mineral\n",
        "vid = ['water']*len(water) + ['nutri']*len(nutri)+['mineral']*len(mineral)\n",
        "df_mid = pd.DataFrame()\n",
        "df_mid['rost'] = rost\n",
        "df_mid['vid'] = vid\n",
        "\n",
        "\n",
        "ax = sns.boxplot(x='vid', y='rost', data=df_mid, color='#99c2a2')\n",
        "#ax = sns.swarmplot(x=\"vid\", y=\"rost\", data=df_mid, color='#7d0013')\n",
        "plt.show()"
      ],
      "execution_count": 52,
      "outputs": [
        {
          "output_type": "display_data",
          "data": {
            "image/png": "[encoded data removed]",
            "text/plain": [
              "<Figure size 432x288 with 1 Axes>"
            ]
          },
          "metadata": {
            "tags": [],
            "needs_background": "light"
          }
        }
      ]
    },
    {
      "cell_type": "markdown",
      "metadata": {
        "id": "zFq5dk_QIVXx"
      },
      "source": [
        "# Cookie Cats (Обязательно)"
      ]
    },
    {
      "cell_type": "markdown",
      "metadata": {
        "id": "oC8-IZVdIVXy"
      },
      "source": [
        "<div class=\"alert alert-info\">\n",
        "Cookie Cats - чрезвычайно популярная мобильная игра-головоломка, разработанная Tactile Entertainment. Это классическая игра-головоломка в стиле «соедините три», в которой игрок должен соединять плитки одного цвета, чтобы очистить поле и выиграть уровень. Здесь также есть поющие кошки. Посмотрите эту короткую демонстрацию:\n",
        "</div>"
      ]
    },
    {
      "cell_type": "markdown",
      "metadata": {
        "id": "EZOcbvfAIVXy"
      },
      "source": [
        "<p style=\"align: center;\"><img align=center src=\"https://i.ytimg.com/vi/iPxZIp0cbJE/maxresdefault.jpg\"  width=500></p>\n",
        " \n",
        " \n",
        "<p style=\"align: center;\"><img align=center src=\"https://s3.amazonaws.com/assets.datacamp.com/production/project_184/img/cc_gates.png\"  width=500></p>\n"
      ]
    },
    {
      "cell_type": "markdown",
      "metadata": {
        "id": "NuzaeO0_IVXz"
      },
      "source": [
        "<div class=\"alert alert-info\">\n",
        "По мере прохождения уровней игры игроки время от времени сталкиваются с воротами, которые заставляют их ждать нетривиальное количество времени или совершать покупки в приложении, чтобы продолжить. Помимо стимулирования покупок в приложении, эти ворота служат важной цели - дать игрокам вынужденный перерыв в игре, что, как мы надеемся, приведет к увеличению и продлению удовольствия от игры.\n",
        "</div>"
      ]
    },
    {
      "cell_type": "markdown",
      "metadata": {
        "id": "_-ZOiDQDIVXz"
      },
      "source": [
        "<div class=\"alert alert-info\">\n",
        "<b>Но где ставить ворота? </b>\n",
        "Первоначально первые ворота были размещены на уровне 30. В этом проекте вам предлагается проанализировать AB-тест, в котором создатели переместили первые ворота в Cookie Cats с 30 уровня на уровень 40. В частности, вам надо рассмотрим влияние A/B теста на удержание игроков.\n",
        "</div>"
      ]
    },
    {
      "cell_type": "markdown",
      "metadata": {
        "id": "M4AzfqZzIVX0"
      },
      "source": [
        "# Данные A/B тестирования"
      ]
    },
    {
      "cell_type": "code",
      "metadata": {
        "colab": {
          "base_uri": "https://localhost:8080/",
          "height": 195
        },
        "id": "5nCvyxHlIVX0",
        "outputId": "adabd231-450f-456e-bfde-dd26441e83d7"
      },
      "source": [
        "cookie_cats = 'https://raw.githubusercontent.com/a-milenkin/datasets_for_t-tests/main/cookie_cats.csv'\n",
        "\n",
        "data = pd.read_csv(cookie_cats, error_bad_lines=False)  # Откроем датасет\n",
        "data.head()"
      ],
      "execution_count": 53,
      "outputs": [
        {
          "output_type": "execute_result",
          "data": {
            "text/html": [
              "<div>\n",
              "<style scoped>\n",
              "    .dataframe tbody tr th:only-of-type {\n",
              "        vertical-align: middle;\n",
              "    }\n",
              "\n",
              "    .dataframe tbody tr th {\n",
              "        vertical-align: top;\n",
              "    }\n",
              "\n",
              "    .dataframe thead th {\n",
              "        text-align: right;\n",
              "    }\n",
              "</style>\n",
              "<table border=\"1\" class=\"dataframe\">\n",
              "  <thead>\n",
              "    <tr style=\"text-align: right;\">\n",
              "      <th></th>\n",
              "      <th>userid</th>\n",
              "      <th>version</th>\n",
              "      <th>sum_gamerounds</th>\n",
              "      <th>retention_1</th>\n",
              "      <th>retention_7</th>\n",
              "    </tr>\n",
              "  </thead>\n",
              "  <tbody>\n",
              "    <tr>\n",
              "      <th>0</th>\n",
              "      <td>116</td>\n",
              "      <td>gate_30</td>\n",
              "      <td>3</td>\n",
              "      <td>False</td>\n",
              "      <td>False</td>\n",
              "    </tr>\n",
              "    <tr>\n",
              "      <th>1</th>\n",
              "      <td>337</td>\n",
              "      <td>gate_30</td>\n",
              "      <td>38</td>\n",
              "      <td>True</td>\n",
              "      <td>False</td>\n",
              "    </tr>\n",
              "    <tr>\n",
              "      <th>2</th>\n",
              "      <td>377</td>\n",
              "      <td>gate_40</td>\n",
              "      <td>165</td>\n",
              "      <td>True</td>\n",
              "      <td>False</td>\n",
              "    </tr>\n",
              "    <tr>\n",
              "      <th>3</th>\n",
              "      <td>483</td>\n",
              "      <td>gate_40</td>\n",
              "      <td>1</td>\n",
              "      <td>False</td>\n",
              "      <td>False</td>\n",
              "    </tr>\n",
              "    <tr>\n",
              "      <th>4</th>\n",
              "      <td>488</td>\n",
              "      <td>gate_40</td>\n",
              "      <td>179</td>\n",
              "      <td>True</td>\n",
              "      <td>True</td>\n",
              "    </tr>\n",
              "  </tbody>\n",
              "</table>\n",
              "</div>"
            ],
            "text/plain": [
              "   userid  version  sum_gamerounds  retention_1  retention_7\n",
              "0     116  gate_30               3        False        False\n",
              "1     337  gate_30              38         True        False\n",
              "2     377  gate_40             165         True        False\n",
              "3     483  gate_40               1        False        False\n",
              "4     488  gate_40             179         True         True"
            ]
          },
          "metadata": {
            "tags": []
          },
          "execution_count": 53
        }
      ]
    },
    {
      "cell_type": "markdown",
      "metadata": {
        "id": "5nVKz-H9IVX1"
      },
      "source": [
        "**Данные получены от 90 189 игроков, которые установили игру во время проведения AB-теста. Переменные:**\n",
        "\n",
        "* `userid` - уникальный номер, идентифицирующий каждого игрока.\n",
        "\n",
        "* `version` - был ли игрок помещен в контрольную группу (gate_30 - ворота на уровне 30) или в тестовую группу (gate_40 - ворота на уровне 40).\n",
        "\n",
        "* `sum_gamerounds` - количество игровых раундов, сыгранных игроком в течение первой недели после установки\n",
        "* `retention_1` - проигрыватель вернулся и поиграл через 1 день после установки?\n",
        "* `retention_7` - проигрыватель вернулся и играл через 7 дней после установки?\n",
        "\n",
        "Когда игрок устанавливал игру, ему случайным образом назначали `gate_30` или `gate_40`."
      ]
    },
    {
      "cell_type": "markdown",
      "metadata": {
        "id": "41PvYG1cIVX1"
      },
      "source": [
        "<div class=\"alert alert-info\">\n",
        "<b>Задание: провести анализ данных и сделать выводы о лучшем месте для установки ворот. </b>\n",
        "    \n",
        "Замечание: приведенных вспомогательных фрагментов кода не хватает для ответа на вопрос. \n",
        "Делать выводы необходимо опираясь на статистические тесты, разобранные в лекции. Большим плюсом будет построение визуализиции для подтверждения ваших выводом. Рекомендую использовать `seaborn` c его `sns.boxplot`/`sns.carplot`, `sns.barplot`, но можно обойтись и обычном `matplotlib`\n",
        "</div>"
      ]
    },
    {
      "cell_type": "code",
      "metadata": {
        "colab": {
          "base_uri": "https://localhost:8080/",
          "height": 136
        },
        "id": "IA3EvD9vIVX2",
        "outputId": "ddf334c7-c2a9-4475-b5c7-e43e9ec431f4"
      },
      "source": [
        "#Сгрупируем результаты теста по версиям игры.\n",
        "data.groupby('version').count()"
      ],
      "execution_count": 54,
      "outputs": [
        {
          "output_type": "execute_result",
          "data": {
            "text/html": [
              "<div>\n",
              "<style scoped>\n",
              "    .dataframe tbody tr th:only-of-type {\n",
              "        vertical-align: middle;\n",
              "    }\n",
              "\n",
              "    .dataframe tbody tr th {\n",
              "        vertical-align: top;\n",
              "    }\n",
              "\n",
              "    .dataframe thead th {\n",
              "        text-align: right;\n",
              "    }\n",
              "</style>\n",
              "<table border=\"1\" class=\"dataframe\">\n",
              "  <thead>\n",
              "    <tr style=\"text-align: right;\">\n",
              "      <th></th>\n",
              "      <th>userid</th>\n",
              "      <th>sum_gamerounds</th>\n",
              "      <th>retention_1</th>\n",
              "      <th>retention_7</th>\n",
              "    </tr>\n",
              "    <tr>\n",
              "      <th>version</th>\n",
              "      <th></th>\n",
              "      <th></th>\n",
              "      <th></th>\n",
              "      <th></th>\n",
              "    </tr>\n",
              "  </thead>\n",
              "  <tbody>\n",
              "    <tr>\n",
              "      <th>gate_30</th>\n",
              "      <td>44700</td>\n",
              "      <td>44700</td>\n",
              "      <td>44700</td>\n",
              "      <td>44700</td>\n",
              "    </tr>\n",
              "    <tr>\n",
              "      <th>gate_40</th>\n",
              "      <td>45489</td>\n",
              "      <td>45489</td>\n",
              "      <td>45489</td>\n",
              "      <td>45489</td>\n",
              "    </tr>\n",
              "  </tbody>\n",
              "</table>\n",
              "</div>"
            ],
            "text/plain": [
              "         userid  sum_gamerounds  retention_1  retention_7\n",
              "version                                                  \n",
              "gate_30   44700           44700        44700        44700\n",
              "gate_40   45489           45489        45489        45489"
            ]
          },
          "metadata": {
            "tags": []
          },
          "execution_count": 54
        }
      ]
    },
    {
      "cell_type": "code",
      "metadata": {
        "id": "ZWtBSk4wIVX2"
      },
      "source": [
        "#Ваши выводы\n",
        "#В группе  на уровне 40  количество игровых раундов больше, чем группе на  уровне 30."
      ],
      "execution_count": 55,
      "outputs": []
    },
    {
      "cell_type": "code",
      "metadata": {
        "colab": {
          "base_uri": "https://localhost:8080/",
          "height": 279
        },
        "id": "y8F40vfZWENW",
        "outputId": "382358a0-481e-40ef-8343-fc85124e7747"
      },
      "source": [
        "plot_data = data.sum_gamerounds.value_counts()\n",
        "plot_df = data.groupby(['sum_gamerounds']).agg({'userid':'count'}).reset_index()\n",
        "\n",
        "ax = plot_df.head(100).plot(x='sum_gamerounds', y='userid')\n",
        "ax.set_xlabel(\"Kolvo raundow\")\n",
        "ax.set_ylabel(\"Kolvo igrakov\");"
      ],
      "execution_count": 64,
      "outputs": [
        {
          "output_type": "display_data",
          "data": {
            "image/png": "[encoded data removed]",
            "text/plain": [
              "<Figure size 432x288 with 1 Axes>"
            ]
          },
          "metadata": {
            "tags": [],
            "needs_background": "light"
          }
        }
      ]
    },
    {
      "cell_type": "code",
      "metadata": {
        "id": "rwsQCREaWztn",
        "colab": {
          "base_uri": "https://localhost:8080/"
        },
        "outputId": "c6efea79-07aa-4f00-e4d0-e879fd6ba2d4"
      },
      "source": [
        "data.retention_1.sum()/df.shape[0]*100"
      ],
      "execution_count": 65,
      "outputs": [
        {
          "output_type": "execute_result",
          "data": {
            "text/plain": [
              "51.69492616481918"
            ]
          },
          "metadata": {
            "tags": []
          },
          "execution_count": 65
        }
      ]
    },
    {
      "cell_type": "markdown",
      "metadata": {
        "id": "NTdQHxj0XfEJ"
      },
      "source": [
        "Вывод:  меньше 50 % возвращаются после 1 дня игры."
      ]
    },
    {
      "cell_type": "code",
      "metadata": {
        "id": "Jd65BIPHX_Pv",
        "colab": {
          "base_uri": "https://localhost:8080/"
        },
        "outputId": "16c88195-1b5d-46f1-95c8-ff6117d5ec37"
      },
      "source": [
        "\n",
        "df_gate_30 = data[data.version == 'gate_30']\n",
        "retention_percent_gate_30 = df_gate_30.retention_1.sum()/df_gate_30.shape[0]*100\n",
        "\n",
        "df_gate_40 = df[df.version == 'gate_40']\n",
        "retention_percent_gate_40 = df_gate_40.retention_1.sum()/df_gate_40.shape[0]*100\n",
        "retention_percent_gate_30, retention_percent_gate_40\n",
        "\n",
        "print('Yderzhaniy % of Gate_30 Group: {0}\\nYderzhaniy % of Gate_40 Group: {1}'.format(retention_percent_gate_30, retention_percent_gate_40))\n"
      ],
      "execution_count": 66,
      "outputs": [
        {
          "output_type": "stream",
          "text": [
            "Yderzhaniy % of Gate_30 Group: 44.81879194630872\n",
            "Yderzhaniy % of Gate_40 Group: 36.83349939960655\n"
          ],
          "name": "stdout"
        }
      ]
    },
    {
      "cell_type": "code",
      "metadata": {
        "id": "Eyhmt9jEZGj3",
        "colab": {
          "base_uri": "https://localhost:8080/",
          "height": 265
        },
        "outputId": "a00da1b8-cd4f-4478-ee51-645919052c0c"
      },
      "source": [
        "zapusk = []\n",
        "for i in range(500):\n",
        "    zapusk_mean = 100*data.sample(replace=True, frac=1).groupby(['version'])['retention_1'].mean()\n",
        "    zapusk.append(zapusk_mean)\n",
        "\n",
        "zapusk = pd.DataFrame(zapusk)\n",
        "zapusk.plot(kind='kde');"
      ],
      "execution_count": 67,
      "outputs": [
        {
          "output_type": "display_data",
          "data": {
            "image/png": "[encoded data removed]",
            "text/plain": [
              "<Figure size 432x288 with 1 Axes>"
            ]
          },
          "metadata": {
            "tags": [],
            "needs_background": "light"
          }
        }
      ]
    },
    {
      "cell_type": "code",
      "metadata": {
        "id": "cX9FPPrhIVX3",
        "colab": {
          "base_uri": "https://localhost:8080/",
          "height": 592
        },
        "outputId": "583b56e8-6732-4e94-cf10-29582602194e"
      },
      "source": [
        "v_30 = data.loc[data.version == 'gate_30']\n",
        "v_40 = data.loc[data.version == 'gate_40']\n",
        "v_30 = v_30.drop(v_30.loc[v_30.sum_gamerounds > 100].index)\n",
        "v_40 = v_40.drop(v_40.loc[v_40.sum_gamerounds > 100].index)\n",
        "\n",
        "\n",
        "bins = 100\n",
        "plt.figure(figsize=(15, 10))\n",
        "plt.hist(v_30['sum_gamerounds'], bins=bins, alpha=1, edgecolor='black', label='gate 30')\n",
        "plt.hist(v_40['sum_gamerounds'], bins=bins, alpha=0.7, label='gate 40')\n",
        "plt.legend(loc='upper right', bbox_to_anchor=(0.45, 0.35))\n",
        "plt.show()"
      ],
      "execution_count": 60,
      "outputs": [
        {
          "output_type": "display_data",
          "data": {
            "image/png": "[encoded data removed]",
            "text/plain": [
              "<Figure size 1080x720 with 1 Axes>"
            ]
          },
          "metadata": {
            "tags": [],
            "needs_background": "light"
          }
        }
      ]
    },
    {
      "cell_type": "markdown",
      "metadata": {
        "id": "KJuK6OrUIVX3"
      },
      "source": [
        "**Ваши выводы** В группе 30 возращается больший процент (37,55%) игровков на первой неделе игры.  в группе 40  процент составляет  (36.83%)."
      ]
    },
    {
      "cell_type": "code",
      "metadata": {
        "id": "MmujCwcQIVX4",
        "colab": {
          "base_uri": "https://localhost:8080/",
          "height": 383
        },
        "outputId": "71d8f0e1-9685-4ad4-f22d-4325da4e5b12"
      },
      "source": [
        "df = data.loc[data['sum_gamerounds'] < 100].copy();\n",
        "\n",
        "\n",
        "sns.catplot(x=\"version\", y=\"sum_gamerounds\",\n",
        "            hue=\"retention_1\", col = 'retention_7',\n",
        "            data=df, kind=\"box\",\n",
        "            height=5, aspect=.95);\n"
      ],
      "execution_count": 61,
      "outputs": [
        {
          "output_type": "display_data",
          "data": {
            "image/png": "[encoded data removed]",
            "text/plain": [
              "<Figure size 748.875x360 with 2 Axes>"
            ]
          },
          "metadata": {
            "tags": [],
            "needs_background": "light"
          }
        }
      ]
    },
    {
      "cell_type": "code",
      "metadata": {
        "id": "WT81ptWnIVX4"
      },
      "source": [
        "# #Если вдруг оказалось сложно, то вот еще ододин способ визуализации различий\n",
        "# # Creating an list with bootstrapped means for each AB-group\n",
        "# plt.figure(figsize=(15, 10))\n",
        "\n",
        "# boot_1d = []\n",
        "# for i in range(1000):\n",
        "#     boot_mean = data.sample(frac = 1, replace = True).groupby('version')['retention_7'].mean()  #retention_1\n",
        "#     boot_1d.append(boot_mean)\n",
        "    \n",
        "# # Преобразование списка в DataFrame\n",
        "# boot_1d = pd.DataFrame(boot_1d)\n",
        "    \n",
        "# # A Kernel Density Estimate plot of the bootstrap distributions\n",
        "# boot_1d.plot(kind='density')"
      ],
      "execution_count": null,
      "outputs": []
    },
    {
      "cell_type": "markdown",
      "metadata": {
        "id": "4QJ4U8guIVX5"
      },
      "source": [
        "#### Используя любой тест для проверки статистической гипотезы, продемонстрируйте наличие эффекта из-за сдвига ворот."
      ]
    },
    {
      "cell_type": "code",
      "metadata": {
        "id": "E8i6kkirIVX5",
        "colab": {
          "base_uri": "https://localhost:8080/"
        },
        "outputId": "e444f131-1ad6-477e-d69b-88f471bad53f"
      },
      "source": [
        "\n",
        "from scipy.stats import f_oneway \n",
        "#from scipy.stats import wilcoxon\n",
        "from scipy.stats import mannwhitneyu\n",
        "import scipy.stats as stats\n",
        "\n",
        "# Ваш код. \n",
        "f, p = f_oneway(data[data['version'] == 'gate_30']['sum_gamerounds'], data[data['version'] == 'gate_40']['sum_gamerounds'])\n",
        "f, p\n",
        "stat, p = mannwhitneyu(data[data['version'] == 'gate_30']['sum_gamerounds'], data[data['version'] == 'gate_40']['sum_gamerounds'])\n",
        "print('Statistics=%.3f, p=%.3f' % (stat, p))\n",
        "alpha = 0.05   # Уровень значимости\n",
        "if p > alpha:\n",
        "    print('Одинаковые распределения (не отвергаем H0)')\n",
        "else:\n",
        "    print('Разные распределения (отвергаем H0)')"
      ],
      "execution_count": 76,
      "outputs": [
        {
          "output_type": "stream",
          "text": [
            "Statistics=1009027049.500, p=0.025\n",
            "Разные распределения (отвергаем H0)\n"
          ],
          "name": "stdout"
        }
      ]
    },
    {
      "cell_type": "code",
      "metadata": {
        "colab": {
          "base_uri": "https://localhost:8080/",
          "height": 282
        },
        "id": "ksWjaUnwqkb_",
        "outputId": "e1d22117-0472-464f-e480-286904841117"
      },
      "source": [
        "print(np.mean(data[data['version'] == 'gate_30']['sum_gamerounds']), np.mean(data[data['version'] == 'gate_40']['sum_gamerounds']))\n",
        "\n",
        "plt.hist(data[data['version'] == 'gate_30']['sum_gamerounds'])\n",
        "plt.hist(data[data['version'] == 'gate_40']['sum_gamerounds']);"
      ],
      "execution_count": 77,
      "outputs": [
        {
          "output_type": "stream",
          "text": [
            "52.45626398210291 51.29877552814966\n"
          ],
          "name": "stdout"
        },
        {
          "output_type": "display_data",
          "data": {
            "image/png": "[encoded data removed]",
            "text/plain": [
              "<Figure size 432x288 with 1 Axes>"
            ]
          },
          "metadata": {
            "tags": [],
            "needs_background": "light"
          }
        }
      ]
    },
    {
      "cell_type": "markdown",
      "metadata": {
        "id": "tvbVR8KqIVX6"
      },
      "source": [
        "**Ваши выводы?** "
      ]
    },
    {
      "cell_type": "markdown",
      "metadata": {
        "id": "5_oQecvBIVX8"
      },
      "source": [
        "# Покемоны и AB-тестирование \n",
        "(реальный кейс собеседования на позицию Аналитика).\n",
        "\n",
        "\n",
        "# Описание задачи\n",
        "\n",
        "![banner](https://storage.googleapis.com/kaggle-datasets-images/635/1204/126be74882028aac7241553cef0e27a7/dataset-original.jpg)\n",
        "\n",
        "Покемоны - это маленькие существа, которые сражаются друг с другом на соревнованиях. Все покемоны имеют разные характеристики (сила атаки, защиты и т. д.) И относятся к одному или двум так называемым классам (вода, огонь и т. д.).\n",
        "Профессор Оук является изобретателем Pokedex, портативного устройства, которое хранит информацию обо всех существующих покемонах. Как его ведущий специалист по данным, Вы только что получили от него запрос с просьбой осуществить аналитику данных на всех устройствах Pokedex. \n",
        "\n",
        "## Описание набора данных\n",
        "Профессор Оук скопировал все содержимое память одного устройства Pokedex, в результате чего получился набор данных, с которым Вы будете работать в этой задаче. В этом файле каждая строка представляет характеристики одного покемона:\n",
        "\n",
        "* `pid`: Numeric - ID покемона\n",
        "* `HP`: Numeric - Очки здоровья\n",
        "* `Attack`: Numeric - Сила обычной атаки\n",
        "* `Defense`: Numeric - Сила обычной защиты\n",
        "* `Sp. Atk`: Numeric - Сила специальной атаки\n",
        "* `Sp. Def`: Numeric - Сила специальной защиты\n",
        "* `Speed`: Numeric - Скорость движений\n",
        "* `Legendary`: Boolean - «True», если покемон редкий\n",
        "* `Class 1`: Categorical - Класс покемона\n",
        "* `Class 2`: Categorical - Класс покемона"
      ]
    },
    {
      "cell_type": "code",
      "metadata": {
        "id": "8z1-DMcFIVX8"
      },
      "source": [
        "pokemon_path = 'https://raw.githubusercontent.com/a-milenkin/datasets_for_t-tests/main/pokemon.csv'\n",
        "pokemon = pd.read_csv(pokemon_path, error_bad_lines=False)  # Откроем датасет\n",
        "pokemon.head()\n",
        "\n",
        " \n",
        "#Обратите внимание, что у покемона может быть один или два класса. Если у покемона два класса, считается,\n",
        "#что они имеют одинаковую значимость."
      ],
      "execution_count": null,
      "outputs": []
    },
    {
      "cell_type": "markdown",
      "metadata": {
        "id": "jL5pRvwsIVX8"
      },
      "source": [
        "# Задачи"
      ]
    },
    {
      "cell_type": "markdown",
      "metadata": {
        "id": "EhJJAtSzIVX9"
      },
      "source": [
        "<div class=\"alert alert-info\">\n",
        "<b>Задание № 1 (Обязательно):</b>\n",
        "    \n",
        "Профессор Оук подозревает, что покемоны в классе `grass` имеют более сильную обычную атаку, чем у покемонов в классе `rock`. Проверьте, прав ли он, и убедите его в своем выводе статистически.\n",
        "    \n",
        "    \n",
        "Примечание: если есть покемоны, которые относятся к обоим классам, просто выбросьте их;\n",
        "    \n",
        "Вы можете предположить, что распределение обычных атак является нормальным для всех классов покемонов.\n",
        "\n",
        "</div>\n"
      ]
    },
    {
      "cell_type": "code",
      "metadata": {
        "id": "-Ub8IOAJIVX9"
      },
      "source": [
        ""
      ],
      "execution_count": null,
      "outputs": []
    },
    {
      "cell_type": "markdown",
      "metadata": {
        "id": "rtUpUqU0IVX9"
      },
      "source": [
        "<div class=\"alert alert-info\">\n",
        "<b>Задание № 2 (Обязательно):</b>\n",
        "    \n",
        "Профессор Оук уже долго не может спать по ночам ведь его волнует вопрос, а правда, что покемоны что покемоны в классе `Water` в среднем более быстрые, чем покемоны в классе `Normal`. \n",
        "    \n",
        "    \n",
        "Проверьте, прав ли он, и убедите его в своем выводе статистически.\n",
        "    \n",
        "Примечание: если есть покемоны относятся к обоим классам, выбросьте их;\n",
        "    \n",
        "Вы можете предположить, что распределение скорости движения является нормальным для всех классов покемонов.\n",
        "\n",
        "</div>"
      ]
    },
    {
      "cell_type": "code",
      "metadata": {
        "id": "6jYzffZqIVX-"
      },
      "source": [
        ""
      ],
      "execution_count": null,
      "outputs": []
    },
    {
      "cell_type": "markdown",
      "metadata": {
        "id": "7bgvqeOSIVX-"
      },
      "source": [
        "<div class=\"alert alert-info\">\n",
        "<b>Задание № 3:</b>\n",
        "    \n",
        "Профессор Оук тот еще безумец. Он изобрел сыворотку, способную ускорить покемона. Однако, мы усомнились в эффективности его вакцины. Професоор дал эту сыворотку следующим покемонам: смотри массив `treathed_pokemon`. Проверьте, работает ли вообще его сыворотка, убедите всех в своем выводе статистически.\n",
        "    \n",
        "    \n",
        "Вы можете предположить, что распределение скорости движения является нормальным для всех классов покемонов.\n",
        "\n",
        "</div>"
      ]
    },
    {
      "cell_type": "code",
      "metadata": {
        "id": "sPMc1ScqIVX-"
      },
      "source": [
        ""
      ],
      "execution_count": null,
      "outputs": []
    },
    {
      "cell_type": "markdown",
      "metadata": {
        "id": "dK4i72yVIVX_"
      },
      "source": [
        "<div class=\"alert alert-info\">\n",
        "<b>Задание № 4:</b>\n",
        "    \n",
        "Профессор Оук тот еще безумец. Он изобрел сыворотку, способную ускорить покемона. Однако, мы усомнились в эффективности его вакцины. Професоор дал эту сыворотку следующим покемонам: смотри массив `treathed_pokemon`. Проверьте, работает ли вообще его сыворотка, убедите всех в своем выводе статистически.\n",
        "    \n",
        "    \n",
        "Вы можете предположить, что распределение скорости движения является нормальным для всех классов покемонов.\n",
        "\n",
        "</div>"
      ]
    },
    {
      "cell_type": "code",
      "metadata": {
        "id": "ca6gU-ZCIVX_"
      },
      "source": [
        "# Покемоны, которые принимали сыворотку увеличения скорости\n",
        "treathed_pokemon = ['Mega Beedrill','Mega Alakazam', 'Deoxys Normal Forme', 'Mega Lopunny']"
      ],
      "execution_count": null,
      "outputs": []
    },
    {
      "cell_type": "code",
      "metadata": {
        "id": "LbdNH6vJIVYA"
      },
      "source": [
        ""
      ],
      "execution_count": null,
      "outputs": []
    },
    {
      "cell_type": "markdown",
      "metadata": {
        "id": "h8MpIUOSIVYA"
      },
      "source": [
        "<div class=\"alert alert-info\">\n",
        "<b>Задание № 5:</b>\n",
        "    \n",
        "Профессор Оук всегда любил истории про легендарных покемонов. Однако, профессор не очень уверен, что они самые лучшие относительно остальных покемонов. Оук предложил разобраться в этом нам. Проверьте, действительно ли сумма характеристик `HP`,`Attack`,`Defense` у легендарных покемонов выше, чем у других покемонов? А произведение этих же параметров?? Найдите ответы на эти вопросы и убедите всех в своем выводе статистически.\n",
        "   \n",
        "\n",
        "Вы можете предположить, что распределение сум и произведений этих параметров является нормальным для всех классов покемонов.\n",
        "\n",
        "</div>"
      ]
    },
    {
      "cell_type": "code",
      "metadata": {
        "id": "y4Z7LLIIIVYA"
      },
      "source": [
        ""
      ],
      "execution_count": null,
      "outputs": []
    },
    {
      "cell_type": "code",
      "metadata": {
        "id": "n176PMqbIVYB"
      },
      "source": [
        ""
      ],
      "execution_count": null,
      "outputs": []
    },
    {
      "cell_type": "markdown",
      "metadata": {
        "id": "8CjYVHkJIVYB"
      },
      "source": [
        "<div class=\"alert alert-info\">\n",
        "<b>Задание № 6:</b>\n",
        "    \n",
        "Профессор Оук частенько наблюдает за боями покемонов. После очередных таких боев Оук выделил три класса `best_defence_class`, которые на его взгляд одинаковы по \"силе обычной защиты\" `Defense`. Проверьте, действительно ли эти классы покемонов не отличаются по уровню защиты статистически значимо? Все та же статистика вам в помощь! \n",
        "   \n",
        "\n",
        "Вы можете предположить, что распределение сум и произведений этих параметров является нормальным для всех классов покемонов.\n",
        "\n",
        "</div>"
      ]
    },
    {
      "cell_type": "code",
      "metadata": {
        "id": "g69EVPxpIVYB"
      },
      "source": [
        "best_defence_class = ['Rock', 'Ground','Steel','Ice']\n",
        "best_defence_class"
      ],
      "execution_count": null,
      "outputs": []
    },
    {
      "cell_type": "code",
      "metadata": {
        "id": "fzRbuPyfIVYC"
      },
      "source": [
        ""
      ],
      "execution_count": null,
      "outputs": []
    },
    {
      "cell_type": "code",
      "metadata": {
        "id": "5rdt3aiTIVYC"
      },
      "source": [
        ""
      ],
      "execution_count": null,
      "outputs": []
    }
  ]
}