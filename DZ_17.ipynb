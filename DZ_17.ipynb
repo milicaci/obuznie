{
  "nbformat": 4,
  "nbformat_minor": 0,
  "metadata": {
    "colab": {
      "name": "DZ_17",
      "provenance": [],
      "authorship_tag": "ABX9TyNommPpNQTvkSqsIj06qi93",
      "include_colab_link": true
    },
    "kernelspec": {
      "name": "python3",
      "display_name": "Python 3"
    },
    "language_info": {
      "name": "python"
    }
  },
  "cells": [
    {
      "cell_type": "markdown",
      "metadata": {
        "id": "view-in-github",
        "colab_type": "text"
      },
      "source": [
        "<a href=\"https://colab.research.google.com/github/milicaci/obuznie/blob/master/DZ_17.ipynb\" target=\"_parent\"><img src=\"https://colab.research.google.com/assets/colab-badge.svg\" alt=\"Open In Colab\"/></a>"
      ]
    },
    {
      "cell_type": "code",
      "metadata": {
        "colab": {
          "base_uri": "https://localhost:8080/"
        },
        "id": "kCNlV3iFOMSq",
        "outputId": "6b7dbbdf-7f04-42e8-b74f-02a0023f6814"
      },
      "source": [
        "import pandas as pd\n",
        "import matplotlib.pyplot as plt\n",
        "import seaborn as sns\n",
        "from sklearn.linear_model import LinearRegression\n",
        "from sklearn.model_selection import train_test_split\n",
        "import statsmodels.api as sm\n",
        "from statsmodels.sandbox.regression.predstd import wls_prediction_std\n"
      ],
      "execution_count": 1,
      "outputs": [
        {
          "output_type": "stream",
          "text": [
            "/usr/local/lib/python3.7/dist-packages/statsmodels/tools/_testing.py:19: FutureWarning: pandas.util.testing is deprecated. Use the functions in the public API at pandas.testing instead.\n",
            "  import pandas.util.testing as tm\n"
          ],
          "name": "stderr"
        }
      ]
    },
    {
      "cell_type": "code",
      "metadata": {
        "id": "y7MQJLr6Oaft"
      },
      "source": [
        "rezult = pd.read_csv('water.csv')\n",
        "#rezult\n",
        "rezult_ru = rezult.rename(columns={'Unnamed: 0': 'Номер', 'location': 'Район', \n",
        "                                   'town': 'Город', 'mortality': 'Смертность'\n",
        "                                   , 'hardness': 'Жесткость воды'\n",
        "                                   })\n",
        "rezult_anl = rezult_ru [['Смертность', 'Жесткость воды']]\n",
        "#rezult_anl"
      ],
      "execution_count": 2,
      "outputs": []
    },
    {
      "cell_type": "code",
      "metadata": {
        "colab": {
          "base_uri": "https://localhost:8080/",
          "height": 136
        },
        "id": "1Jd3hdZ0SYJ-",
        "outputId": "2b4f6a32-c321-420d-b05e-1b68d1e8b978"
      },
      "source": [
        "rezult_ru.head(3)"
      ],
      "execution_count": 3,
      "outputs": [
        {
          "output_type": "execute_result",
          "data": {
            "text/html": [
              "<div>\n",
              "<style scoped>\n",
              "    .dataframe tbody tr th:only-of-type {\n",
              "        vertical-align: middle;\n",
              "    }\n",
              "\n",
              "    .dataframe tbody tr th {\n",
              "        vertical-align: top;\n",
              "    }\n",
              "\n",
              "    .dataframe thead th {\n",
              "        text-align: right;\n",
              "    }\n",
              "</style>\n",
              "<table border=\"1\" class=\"dataframe\">\n",
              "  <thead>\n",
              "    <tr style=\"text-align: right;\">\n",
              "      <th></th>\n",
              "      <th>Номер</th>\n",
              "      <th>Район</th>\n",
              "      <th>Город</th>\n",
              "      <th>Смертность</th>\n",
              "      <th>Жесткость воды</th>\n",
              "    </tr>\n",
              "  </thead>\n",
              "  <tbody>\n",
              "    <tr>\n",
              "      <th>0</th>\n",
              "      <td>1</td>\n",
              "      <td>South</td>\n",
              "      <td>Bath</td>\n",
              "      <td>1247</td>\n",
              "      <td>105</td>\n",
              "    </tr>\n",
              "    <tr>\n",
              "      <th>1</th>\n",
              "      <td>2</td>\n",
              "      <td>North</td>\n",
              "      <td>Birkenhead</td>\n",
              "      <td>1668</td>\n",
              "      <td>17</td>\n",
              "    </tr>\n",
              "    <tr>\n",
              "      <th>2</th>\n",
              "      <td>3</td>\n",
              "      <td>South</td>\n",
              "      <td>Birmingham</td>\n",
              "      <td>1466</td>\n",
              "      <td>5</td>\n",
              "    </tr>\n",
              "  </tbody>\n",
              "</table>\n",
              "</div>"
            ],
            "text/plain": [
              "   Номер  Район       Город  Смертность  Жесткость воды\n",
              "0      1  South        Bath        1247             105\n",
              "1      2  North  Birkenhead        1668              17\n",
              "2      3  South  Birmingham        1466               5"
            ]
          },
          "metadata": {
            "tags": []
          },
          "execution_count": 3
        }
      ]
    },
    {
      "cell_type": "code",
      "metadata": {
        "id": "1s0GfVRgzvRN"
      },
      "source": [
        "rezult_ru_s = rezult_ru[rezult_ru['Район'] == 'South']\n",
        "#rezult_ru_s\n",
        "rezult_ru_n = rezult_ru[rezult_ru['Район'] == 'North']\n",
        "#rezult_ru_n"
      ],
      "execution_count": 4,
      "outputs": []
    },
    {
      "cell_type": "code",
      "metadata": {
        "id": "Zpq9QGmKPGMd"
      },
      "source": [
        "#rezult.info()"
      ],
      "execution_count": null,
      "outputs": []
    },
    {
      "cell_type": "markdown",
      "metadata": {
        "id": "PvId5_G8vu2b"
      },
      "source": [
        "# **1. Раздел**"
      ]
    },
    {
      "cell_type": "markdown",
      "metadata": {
        "id": "rG4qXbcPQmi0"
      },
      "source": [
        "# 1.Точечный график"
      ]
    },
    {
      "cell_type": "code",
      "metadata": {
        "colab": {
          "base_uri": "https://localhost:8080/",
          "height": 400
        },
        "id": "g4Gc9vWVQjNN",
        "outputId": "639821d8-42a2-4f9c-b836-35ace5356480"
      },
      "source": [
        "sns.relplot(data=rezult_anl, x=\"Жесткость воды\", y=\"Смертность\")"
      ],
      "execution_count": 5,
      "outputs": [
        {
          "output_type": "execute_result",
          "data": {
            "text/plain": [
              "<seaborn.axisgrid.FacetGrid at 0x7fa5fad0bed0>"
            ]
          },
          "metadata": {
            "tags": []
          },
          "execution_count": 5
        },
        {
          "output_type": "display_data",
          "data": {
            "image/png": "[encoded data removed]",
            "text/plain": [
              "<Figure size 360x360 with 1 Axes>"
            ]
          },
          "metadata": {
            "tags": [],
            "needs_background": "light"
          }
        }
      ]
    },
    {
      "cell_type": "markdown",
      "metadata": {
        "id": "kzadocmAqSZS"
      },
      "source": [
        "Вывод: Из точечного графика видно, что жесткость воды имеет  низкую связь со смертностью. "
      ]
    },
    {
      "cell_type": "markdown",
      "metadata": {
        "id": "am3NM8ECTQij"
      },
      "source": [
        "# 2. Коэффициент корреляции Пирсона и Спирмена"
      ]
    },
    {
      "cell_type": "code",
      "metadata": {
        "colab": {
          "base_uri": "https://localhost:8080/",
          "height": 106
        },
        "id": "l8MXszL2TPeX",
        "outputId": "f94670e2-76e9-43d0-e956-203afd0517cc"
      },
      "source": [
        "rezult_anl.corr()# Коэффициент корреляции Пирсона"
      ],
      "execution_count": 6,
      "outputs": [
        {
          "output_type": "execute_result",
          "data": {
            "text/html": [
              "<div>\n",
              "<style scoped>\n",
              "    .dataframe tbody tr th:only-of-type {\n",
              "        vertical-align: middle;\n",
              "    }\n",
              "\n",
              "    .dataframe tbody tr th {\n",
              "        vertical-align: top;\n",
              "    }\n",
              "\n",
              "    .dataframe thead th {\n",
              "        text-align: right;\n",
              "    }\n",
              "</style>\n",
              "<table border=\"1\" class=\"dataframe\">\n",
              "  <thead>\n",
              "    <tr style=\"text-align: right;\">\n",
              "      <th></th>\n",
              "      <th>Смертность</th>\n",
              "      <th>Жесткость воды</th>\n",
              "    </tr>\n",
              "  </thead>\n",
              "  <tbody>\n",
              "    <tr>\n",
              "      <th>Смертность</th>\n",
              "      <td>1.000000</td>\n",
              "      <td>-0.654849</td>\n",
              "    </tr>\n",
              "    <tr>\n",
              "      <th>Жесткость воды</th>\n",
              "      <td>-0.654849</td>\n",
              "      <td>1.000000</td>\n",
              "    </tr>\n",
              "  </tbody>\n",
              "</table>\n",
              "</div>"
            ],
            "text/plain": [
              "                Смертность  Жесткость воды\n",
              "Смертность        1.000000       -0.654849\n",
              "Жесткость воды   -0.654849        1.000000"
            ]
          },
          "metadata": {
            "tags": []
          },
          "execution_count": 6
        }
      ]
    },
    {
      "cell_type": "markdown",
      "metadata": {
        "id": "MgOIRqnxf0g2"
      },
      "source": [
        "Вывод: высокая отрицательная связь"
      ]
    },
    {
      "cell_type": "code",
      "metadata": {
        "colab": {
          "base_uri": "https://localhost:8080/",
          "height": 106
        },
        "id": "xE653bv4eymF",
        "outputId": "fa35f78d-ad8a-4beb-b3e6-766e4656f7aa"
      },
      "source": [
        "rezult_anl.corr(method='spearman')# Коэффициент корреляции Спирмена"
      ],
      "execution_count": 7,
      "outputs": [
        {
          "output_type": "execute_result",
          "data": {
            "text/html": [
              "<div>\n",
              "<style scoped>\n",
              "    .dataframe tbody tr th:only-of-type {\n",
              "        vertical-align: middle;\n",
              "    }\n",
              "\n",
              "    .dataframe tbody tr th {\n",
              "        vertical-align: top;\n",
              "    }\n",
              "\n",
              "    .dataframe thead th {\n",
              "        text-align: right;\n",
              "    }\n",
              "</style>\n",
              "<table border=\"1\" class=\"dataframe\">\n",
              "  <thead>\n",
              "    <tr style=\"text-align: right;\">\n",
              "      <th></th>\n",
              "      <th>Смертность</th>\n",
              "      <th>Жесткость воды</th>\n",
              "    </tr>\n",
              "  </thead>\n",
              "  <tbody>\n",
              "    <tr>\n",
              "      <th>Смертность</th>\n",
              "      <td>1.000000</td>\n",
              "      <td>-0.631665</td>\n",
              "    </tr>\n",
              "    <tr>\n",
              "      <th>Жесткость воды</th>\n",
              "      <td>-0.631665</td>\n",
              "      <td>1.000000</td>\n",
              "    </tr>\n",
              "  </tbody>\n",
              "</table>\n",
              "</div>"
            ],
            "text/plain": [
              "                Смертность  Жесткость воды\n",
              "Смертность        1.000000       -0.631665\n",
              "Жесткость воды   -0.631665        1.000000"
            ]
          },
          "metadata": {
            "tags": []
          },
          "execution_count": 7
        }
      ]
    },
    {
      "cell_type": "markdown",
      "metadata": {
        "id": "3XT8CkPCiPMl"
      },
      "source": [
        "Вывод: умеренная отрицательная связь"
      ]
    },
    {
      "cell_type": "markdown",
      "metadata": {
        "id": "q6VeGnLxi0mE"
      },
      "source": [
        "# 3.Модель линейной регрессии"
      ]
    },
    {
      "cell_type": "code",
      "metadata": {
        "id": "vo0xXMRqjyIl"
      },
      "source": [
        "x = rezult_ru[['Жесткость воды']]\n",
        "y = rezult_ru['Смертность']"
      ],
      "execution_count": 8,
      "outputs": []
    },
    {
      "cell_type": "code",
      "metadata": {
        "id": "HLAFegLloWp-"
      },
      "source": [
        "x_train, x_test, y_train, y_test = train_test_split(x, y, test_size=0.30, random_state=42)"
      ],
      "execution_count": 9,
      "outputs": []
    },
    {
      "cell_type": "code",
      "metadata": {
        "colab": {
          "base_uri": "https://localhost:8080/"
        },
        "id": "5HgxmoZJls6G",
        "outputId": "3b8033a5-2a2b-43ba-c00c-7cf882aac350"
      },
      "source": [
        "model = LinearRegression()\n",
        "model.fit(x, y)\n",
        "print('Двумерный массив с единственным элементом b₁:', model.coef_)"
      ],
      "execution_count": 11,
      "outputs": [
        {
          "output_type": "stream",
          "text": [
            "Двумерный массив с единственным элементом b₁: [-3.22609161]\n"
          ],
          "name": "stdout"
        }
      ]
    },
    {
      "cell_type": "code",
      "metadata": {
        "colab": {
          "base_uri": "https://localhost:8080/",
          "height": 282
        },
        "id": "QGVBmq3zo612",
        "outputId": "427f1651-2b40-4594-88dd-849e8e805209"
      },
      "source": [
        "y_pred = model.predict(x_test)\n",
        "plt.scatter(x_test, y_test)\n",
        "plt.plot(x_test, y_pred, c='r')"
      ],
      "execution_count": 13,
      "outputs": [
        {
          "output_type": "execute_result",
          "data": {
            "text/plain": [
              "[<matplotlib.lines.Line2D at 0x7fa5f0c412d0>]"
            ]
          },
          "metadata": {
            "tags": []
          },
          "execution_count": 13
        },
        {
          "output_type": "display_data",
          "data": {
            "image/png": "[encoded data removed]",
            "text/plain": [
              "<Figure size 432x288 with 1 Axes>"
            ]
          },
          "metadata": {
            "tags": [],
            "needs_background": "light"
          }
        }
      ]
    },
    {
      "cell_type": "markdown",
      "metadata": {
        "id": "9NXp4GgqpPhJ"
      },
      "source": [
        "# 4.Коэффициент детерминации"
      ]
    },
    {
      "cell_type": "code",
      "metadata": {
        "colab": {
          "base_uri": "https://localhost:8080/"
        },
        "id": "aXb0F8dkpOon",
        "outputId": "a5616a06-1294-43a8-c0a6-836a69daf9bf"
      },
      "source": [
        "r_sq = model.score(x, y)\n",
        "print('Коэффициент детерминации:', r_sq)"
      ],
      "execution_count": 14,
      "outputs": [
        {
          "output_type": "stream",
          "text": [
            "Коэффициент детерминации: 0.4288267193124974\n"
          ],
          "name": "stdout"
        }
      ]
    },
    {
      "cell_type": "markdown",
      "metadata": {
        "id": "GKKvr3c5nJsX"
      },
      "source": [
        "Вывод: Коэффициент детерминации показывает, что  модель  имеет умеренная силу связи."
      ]
    },
    {
      "cell_type": "markdown",
      "metadata": {
        "id": "Rqk9OACSsIPM"
      },
      "source": [
        "## 5. График остатков"
      ]
    },
    {
      "cell_type": "code",
      "metadata": {
        "id": "x2Ybim48sm0U"
      },
      "source": [
        "x_const = sm.add_constant(x_train)"
      ],
      "execution_count": 18,
      "outputs": []
    },
    {
      "cell_type": "code",
      "metadata": {
        "id": "_JeZTC3S6-Qd"
      },
      "source": [
        "model = sm.OLS(y_train, x_const)\n",
        "results_os = model.fit()"
      ],
      "execution_count": 19,
      "outputs": []
    },
    {
      "cell_type": "code",
      "metadata": {
        "colab": {
          "base_uri": "https://localhost:8080/",
          "height": 282
        },
        "id": "P9V-xkNFtuO4",
        "outputId": "0cadfb4d-0755-442c-b9ea-e54205175c8f"
      },
      "source": [
        "plt.scatter(x_const.iloc[:, 1], results_os.resid)"
      ],
      "execution_count": 20,
      "outputs": [
        {
          "output_type": "execute_result",
          "data": {
            "text/plain": [
              "<matplotlib.collections.PathCollection at 0x7fa5f0b71f90>"
            ]
          },
          "metadata": {
            "tags": []
          },
          "execution_count": 20
        },
        {
          "output_type": "display_data",
          "data": {
            "image/png": "[encoded data removed]",
            "text/plain": [
              "<Figure size 432x288 with 1 Axes>"
            ]
          },
          "metadata": {
            "tags": [],
            "needs_background": "light"
          }
        }
      ]
    },
    {
      "cell_type": "markdown",
      "metadata": {
        "id": "WeYnDA8A-c3e"
      },
      "source": [
        "Вывод:  остатки сруппированы в районе низкой жесткости."
      ]
    },
    {
      "cell_type": "markdown",
      "metadata": {
        "id": "FJ5efwILvfZJ"
      },
      "source": [
        "# **2.Раздел для района South**"
      ]
    },
    {
      "cell_type": "markdown",
      "metadata": {
        "id": "EdZqwBt-1zH9"
      },
      "source": [
        "# 1.Точечный график"
      ]
    },
    {
      "cell_type": "code",
      "metadata": {
        "colab": {
          "base_uri": "https://localhost:8080/",
          "height": 400
        },
        "id": "j6pQhbTG11o0",
        "outputId": "9a0f16e0-a1b8-4a9b-8adb-7208507af33a"
      },
      "source": [
        "sns.relplot(data=rezult_ru_s, x=\"Жесткость воды\", y=\"Смертность\")"
      ],
      "execution_count": 21,
      "outputs": [
        {
          "output_type": "execute_result",
          "data": {
            "text/plain": [
              "<seaborn.axisgrid.FacetGrid at 0x7fa5f0c7aed0>"
            ]
          },
          "metadata": {
            "tags": []
          },
          "execution_count": 21
        },
        {
          "output_type": "display_data",
          "data": {
            "image/png": "[encoded data removed]",
            "text/plain": [
              "<Figure size 360x360 with 1 Axes>"
            ]
          },
          "metadata": {
            "tags": [],
            "needs_background": "light"
          }
        }
      ]
    },
    {
      "cell_type": "markdown",
      "metadata": {
        "id": "ulL9kkpZ2EPo"
      },
      "source": [
        "Вывод: Из точечного графика видно, что жесткость воды практический не имеет  связи со смертностью. "
      ]
    },
    {
      "cell_type": "markdown",
      "metadata": {
        "id": "EBsvjRgX2GLd"
      },
      "source": [
        "# 2. Коэффициент корреляции Пирсона и Спирмена"
      ]
    },
    {
      "cell_type": "code",
      "metadata": {
        "colab": {
          "base_uri": "https://localhost:8080/",
          "height": 136
        },
        "id": "yF_1CViK2Sfb",
        "outputId": "60e0435b-5c78-46c4-8a0a-fc9cc2251482"
      },
      "source": [
        "rezult_ru_s.corr()# Коэффициент корреляции Пирсона"
      ],
      "execution_count": 22,
      "outputs": [
        {
          "output_type": "execute_result",
          "data": {
            "text/html": [
              "<div>\n",
              "<style scoped>\n",
              "    .dataframe tbody tr th:only-of-type {\n",
              "        vertical-align: middle;\n",
              "    }\n",
              "\n",
              "    .dataframe tbody tr th {\n",
              "        vertical-align: top;\n",
              "    }\n",
              "\n",
              "    .dataframe thead th {\n",
              "        text-align: right;\n",
              "    }\n",
              "</style>\n",
              "<table border=\"1\" class=\"dataframe\">\n",
              "  <thead>\n",
              "    <tr style=\"text-align: right;\">\n",
              "      <th></th>\n",
              "      <th>Номер</th>\n",
              "      <th>Смертность</th>\n",
              "      <th>Жесткость воды</th>\n",
              "    </tr>\n",
              "  </thead>\n",
              "  <tbody>\n",
              "    <tr>\n",
              "      <th>Номер</th>\n",
              "      <td>1.000000</td>\n",
              "      <td>0.396333</td>\n",
              "      <td>-0.005337</td>\n",
              "    </tr>\n",
              "    <tr>\n",
              "      <th>Смертность</th>\n",
              "      <td>0.396333</td>\n",
              "      <td>1.000000</td>\n",
              "      <td>-0.602153</td>\n",
              "    </tr>\n",
              "    <tr>\n",
              "      <th>Жесткость воды</th>\n",
              "      <td>-0.005337</td>\n",
              "      <td>-0.602153</td>\n",
              "      <td>1.000000</td>\n",
              "    </tr>\n",
              "  </tbody>\n",
              "</table>\n",
              "</div>"
            ],
            "text/plain": [
              "                   Номер  Смертность  Жесткость воды\n",
              "Номер           1.000000    0.396333       -0.005337\n",
              "Смертность      0.396333    1.000000       -0.602153\n",
              "Жесткость воды -0.005337   -0.602153        1.000000"
            ]
          },
          "metadata": {
            "tags": []
          },
          "execution_count": 22
        }
      ]
    },
    {
      "cell_type": "markdown",
      "metadata": {
        "id": "hHlwbwLA2ZFt"
      },
      "source": [
        "Вывод: высокая отрицательная связь"
      ]
    },
    {
      "cell_type": "code",
      "metadata": {
        "colab": {
          "base_uri": "https://localhost:8080/",
          "height": 136
        },
        "id": "JLtkUnNe2f54",
        "outputId": "590fa405-a228-4514-a903-3014d33fe00d"
      },
      "source": [
        "rezult_ru_s.corr(method='spearman')# Коэффициент корреляции Спирмена"
      ],
      "execution_count": 23,
      "outputs": [
        {
          "output_type": "execute_result",
          "data": {
            "text/html": [
              "<div>\n",
              "<style scoped>\n",
              "    .dataframe tbody tr th:only-of-type {\n",
              "        vertical-align: middle;\n",
              "    }\n",
              "\n",
              "    .dataframe tbody tr th {\n",
              "        vertical-align: top;\n",
              "    }\n",
              "\n",
              "    .dataframe thead th {\n",
              "        text-align: right;\n",
              "    }\n",
              "</style>\n",
              "<table border=\"1\" class=\"dataframe\">\n",
              "  <thead>\n",
              "    <tr style=\"text-align: right;\">\n",
              "      <th></th>\n",
              "      <th>Номер</th>\n",
              "      <th>Смертность</th>\n",
              "      <th>Жесткость воды</th>\n",
              "    </tr>\n",
              "  </thead>\n",
              "  <tbody>\n",
              "    <tr>\n",
              "      <th>Номер</th>\n",
              "      <td>1.000000</td>\n",
              "      <td>0.354591</td>\n",
              "      <td>-0.013685</td>\n",
              "    </tr>\n",
              "    <tr>\n",
              "      <th>Смертность</th>\n",
              "      <td>0.354591</td>\n",
              "      <td>1.000000</td>\n",
              "      <td>-0.595723</td>\n",
              "    </tr>\n",
              "    <tr>\n",
              "      <th>Жесткость воды</th>\n",
              "      <td>-0.013685</td>\n",
              "      <td>-0.595723</td>\n",
              "      <td>1.000000</td>\n",
              "    </tr>\n",
              "  </tbody>\n",
              "</table>\n",
              "</div>"
            ],
            "text/plain": [
              "                   Номер  Смертность  Жесткость воды\n",
              "Номер           1.000000    0.354591       -0.013685\n",
              "Смертность      0.354591    1.000000       -0.595723\n",
              "Жесткость воды -0.013685   -0.595723        1.000000"
            ]
          },
          "metadata": {
            "tags": []
          },
          "execution_count": 23
        }
      ]
    },
    {
      "cell_type": "markdown",
      "metadata": {
        "id": "8Njb_nl-2kxL"
      },
      "source": [
        "Вывод: умеренная отрицательная связь"
      ]
    },
    {
      "cell_type": "markdown",
      "metadata": {
        "id": "IBJNvn7v2pUW"
      },
      "source": [
        "# 3.Модель линейной регрессии"
      ]
    },
    {
      "cell_type": "code",
      "metadata": {
        "id": "VIhwTHym3Q_L"
      },
      "source": [
        "x_s = rezult_ru_s[['Жесткость воды']]\n",
        "y_s = rezult_ru_s['Смертность']"
      ],
      "execution_count": 24,
      "outputs": []
    },
    {
      "cell_type": "code",
      "metadata": {
        "colab": {
          "base_uri": "https://localhost:8080/"
        },
        "id": "TGxCyNox23by",
        "outputId": "f1438473-1321-41ec-9cc3-38c49b15e522"
      },
      "source": [
        "x_s_train, x_s_test, y_s_train, y_s_test = train_test_split(x_s, y_s, test_size=0.30, random_state=42)\n",
        "model = LinearRegression()\n",
        "model.fit(x_s, y_s)\n",
        "print('Двумерный массив с единственным элементом b₁:', model.coef_)\n"
      ],
      "execution_count": 26,
      "outputs": [
        {
          "output_type": "stream",
          "text": [
            "Двумерный массив с единственным элементом b₁: [-2.09271845]\n"
          ],
          "name": "stdout"
        }
      ]
    },
    {
      "cell_type": "code",
      "metadata": {
        "colab": {
          "base_uri": "https://localhost:8080/",
          "height": 282
        },
        "id": "ZvJf_I5y3FWB",
        "outputId": "165f5aca-1ab1-48d3-a3bc-c27bfb1f46bf"
      },
      "source": [
        "y_pred_s = model.predict(x_s_test)\n",
        "plt.scatter(x_s_test, y_s_test)\n",
        "plt.plot(x_s_test, y_pred_s, c='r')"
      ],
      "execution_count": 27,
      "outputs": [
        {
          "output_type": "execute_result",
          "data": {
            "text/plain": [
              "[<matplotlib.lines.Line2D at 0x7fa5f0b7fb50>]"
            ]
          },
          "metadata": {
            "tags": []
          },
          "execution_count": 27
        },
        {
          "output_type": "display_data",
          "data": {
            "image/png": "[encoded data removed]",
            "text/plain": [
              "<Figure size 432x288 with 1 Axes>"
            ]
          },
          "metadata": {
            "tags": [],
            "needs_background": "light"
          }
        }
      ]
    },
    {
      "cell_type": "markdown",
      "metadata": {
        "id": "ran8VzEm4BCx"
      },
      "source": [
        "# 4.Коэффициент детерминации"
      ]
    },
    {
      "cell_type": "code",
      "metadata": {
        "colab": {
          "base_uri": "https://localhost:8080/"
        },
        "id": "pICGSmx_4II0",
        "outputId": "6a090672-cb5b-4d19-b101-870b2c8654f4"
      },
      "source": [
        "r_sq_s = model.score(x_s, y_s)\n",
        "print('Коэффициент детерминации:', r_sq_s)"
      ],
      "execution_count": 28,
      "outputs": [
        {
          "output_type": "stream",
          "text": [
            "Коэффициент детерминации: 0.3625885624364601\n"
          ],
          "name": "stdout"
        }
      ]
    },
    {
      "cell_type": "markdown",
      "metadata": {
        "id": "nSABhJ_Y4aGh"
      },
      "source": [
        "Вывод: Коэффициент детерминации показывает, что  модель  имеет слабую силу связи."
      ]
    },
    {
      "cell_type": "markdown",
      "metadata": {
        "id": "xU0MICfC4hHK"
      },
      "source": [
        "## 5. График остатков"
      ]
    },
    {
      "cell_type": "code",
      "metadata": {
        "id": "TXew4nBa7XIg"
      },
      "source": [
        "x_s_const = sm.add_constant(x_s_train)"
      ],
      "execution_count": 29,
      "outputs": []
    },
    {
      "cell_type": "code",
      "metadata": {
        "id": "vGiiJ9H77gLy"
      },
      "source": [
        "model = sm.OLS(y_s_train, x_s_const)\n",
        "results_n = model.fit()"
      ],
      "execution_count": 30,
      "outputs": []
    },
    {
      "cell_type": "code",
      "metadata": {
        "colab": {
          "base_uri": "https://localhost:8080/",
          "height": 282
        },
        "id": "E5tkV_-a7ucb",
        "outputId": "474a93f7-fe1c-42c2-adb7-c4d725645f3a"
      },
      "source": [
        "plt.scatter(x_s_const.iloc[:, 1], results_n.resid)"
      ],
      "execution_count": 31,
      "outputs": [
        {
          "output_type": "execute_result",
          "data": {
            "text/plain": [
              "<matplotlib.collections.PathCollection at 0x7fa5f09e1c10>"
            ]
          },
          "metadata": {
            "tags": []
          },
          "execution_count": 31
        },
        {
          "output_type": "display_data",
          "data": {
            "image/png": "[encoded data removed]",
            "text/plain": [
              "<Figure size 432x288 with 1 Axes>"
            ]
          },
          "metadata": {
            "tags": [],
            "needs_background": "light"
          }
        }
      ]
    },
    {
      "cell_type": "markdown",
      "metadata": {
        "id": "TxADRqEk_buR"
      },
      "source": [
        "Вывод: остатки по Южному району не имеют яркой выраженой сруппированности, а  распределены по всему району."
      ]
    },
    {
      "cell_type": "markdown",
      "metadata": {
        "id": "bCTKUVMr1ttC"
      },
      "source": [
        "# **2.Раздел для района North**"
      ]
    },
    {
      "cell_type": "markdown",
      "metadata": {
        "id": "xUDzGq3c0qSc"
      },
      "source": [
        "# 1.Точечный график"
      ]
    },
    {
      "cell_type": "code",
      "metadata": {
        "colab": {
          "base_uri": "https://localhost:8080/",
          "height": 400
        },
        "id": "GrcCLeKV0cvU",
        "outputId": "d276a00f-a270-41d4-a219-0682762b8987"
      },
      "source": [
        "sns.relplot(data=rezult_ru_n, x=\"Жесткость воды\", y=\"Смертность\")"
      ],
      "execution_count": 32,
      "outputs": [
        {
          "output_type": "execute_result",
          "data": {
            "text/plain": [
              "<seaborn.axisgrid.FacetGrid at 0x7fa5f0924d10>"
            ]
          },
          "metadata": {
            "tags": []
          },
          "execution_count": 32
        },
        {
          "output_type": "display_data",
          "data": {
            "image/png": "[encoded data removed]",
            "text/plain": [
              "<Figure size 360x360 with 1 Axes>"
            ]
          },
          "metadata": {
            "tags": [],
            "needs_background": "light"
          }
        }
      ]
    },
    {
      "cell_type": "markdown",
      "metadata": {
        "id": "fIBV75j205uv"
      },
      "source": [
        "Вывод: Из точечного графика видно, что жесткость воды имеет низкую связь со смертностью. "
      ]
    },
    {
      "cell_type": "markdown",
      "metadata": {
        "id": "g8MMHYNA1CYN"
      },
      "source": [
        "# 2. Коэффициент корреляции Пирсона и Спирмена"
      ]
    },
    {
      "cell_type": "code",
      "metadata": {
        "colab": {
          "base_uri": "https://localhost:8080/",
          "height": 136
        },
        "id": "twSInEX81IIJ",
        "outputId": "cb1ccc5f-7060-4d6b-d9f9-dfc0ef0da9d8"
      },
      "source": [
        "rezult_ru_n.corr()# Коэффициент корреляции Пирсона"
      ],
      "execution_count": 33,
      "outputs": [
        {
          "output_type": "execute_result",
          "data": {
            "text/html": [
              "<div>\n",
              "<style scoped>\n",
              "    .dataframe tbody tr th:only-of-type {\n",
              "        vertical-align: middle;\n",
              "    }\n",
              "\n",
              "    .dataframe tbody tr th {\n",
              "        vertical-align: top;\n",
              "    }\n",
              "\n",
              "    .dataframe thead th {\n",
              "        text-align: right;\n",
              "    }\n",
              "</style>\n",
              "<table border=\"1\" class=\"dataframe\">\n",
              "  <thead>\n",
              "    <tr style=\"text-align: right;\">\n",
              "      <th></th>\n",
              "      <th>Номер</th>\n",
              "      <th>Смертность</th>\n",
              "      <th>Жесткость воды</th>\n",
              "    </tr>\n",
              "  </thead>\n",
              "  <tbody>\n",
              "    <tr>\n",
              "      <th>Номер</th>\n",
              "      <td>1.000000</td>\n",
              "      <td>-0.103548</td>\n",
              "      <td>0.309195</td>\n",
              "    </tr>\n",
              "    <tr>\n",
              "      <th>Смертность</th>\n",
              "      <td>-0.103548</td>\n",
              "      <td>1.000000</td>\n",
              "      <td>-0.368598</td>\n",
              "    </tr>\n",
              "    <tr>\n",
              "      <th>Жесткость воды</th>\n",
              "      <td>0.309195</td>\n",
              "      <td>-0.368598</td>\n",
              "      <td>1.000000</td>\n",
              "    </tr>\n",
              "  </tbody>\n",
              "</table>\n",
              "</div>"
            ],
            "text/plain": [
              "                   Номер  Смертность  Жесткость воды\n",
              "Номер           1.000000   -0.103548        0.309195\n",
              "Смертность     -0.103548    1.000000       -0.368598\n",
              "Жесткость воды  0.309195   -0.368598        1.000000"
            ]
          },
          "metadata": {
            "tags": []
          },
          "execution_count": 33
        }
      ]
    },
    {
      "cell_type": "markdown",
      "metadata": {
        "id": "hMlVHcn91MvE"
      },
      "source": [
        "Вывод: высокая отрицательная связь"
      ]
    },
    {
      "cell_type": "code",
      "metadata": {
        "colab": {
          "base_uri": "https://localhost:8080/",
          "height": 136
        },
        "id": "i0X178H-1Qx7",
        "outputId": "25bb1adf-5dbb-41c0-b641-c8966350b378"
      },
      "source": [
        "rezult_ru_n.corr(method='spearman')# Коэффициент корреляции Спирмена"
      ],
      "execution_count": 34,
      "outputs": [
        {
          "output_type": "execute_result",
          "data": {
            "text/html": [
              "<div>\n",
              "<style scoped>\n",
              "    .dataframe tbody tr th:only-of-type {\n",
              "        vertical-align: middle;\n",
              "    }\n",
              "\n",
              "    .dataframe tbody tr th {\n",
              "        vertical-align: top;\n",
              "    }\n",
              "\n",
              "    .dataframe thead th {\n",
              "        text-align: right;\n",
              "    }\n",
              "</style>\n",
              "<table border=\"1\" class=\"dataframe\">\n",
              "  <thead>\n",
              "    <tr style=\"text-align: right;\">\n",
              "      <th></th>\n",
              "      <th>Номер</th>\n",
              "      <th>Смертность</th>\n",
              "      <th>Жесткость воды</th>\n",
              "    </tr>\n",
              "  </thead>\n",
              "  <tbody>\n",
              "    <tr>\n",
              "      <th>Номер</th>\n",
              "      <td>1.000000</td>\n",
              "      <td>-0.109812</td>\n",
              "      <td>0.222145</td>\n",
              "    </tr>\n",
              "    <tr>\n",
              "      <th>Смертность</th>\n",
              "      <td>-0.109812</td>\n",
              "      <td>1.000000</td>\n",
              "      <td>-0.404208</td>\n",
              "    </tr>\n",
              "    <tr>\n",
              "      <th>Жесткость воды</th>\n",
              "      <td>0.222145</td>\n",
              "      <td>-0.404208</td>\n",
              "      <td>1.000000</td>\n",
              "    </tr>\n",
              "  </tbody>\n",
              "</table>\n",
              "</div>"
            ],
            "text/plain": [
              "                   Номер  Смертность  Жесткость воды\n",
              "Номер           1.000000   -0.109812        0.222145\n",
              "Смертность     -0.109812    1.000000       -0.404208\n",
              "Жесткость воды  0.222145   -0.404208        1.000000"
            ]
          },
          "metadata": {
            "tags": []
          },
          "execution_count": 34
        }
      ]
    },
    {
      "cell_type": "markdown",
      "metadata": {
        "id": "GmhnwvUe1b-E"
      },
      "source": [
        "Вывод: умеренная отрицательная связь"
      ]
    },
    {
      "cell_type": "markdown",
      "metadata": {
        "id": "7JZE-Mv-2slf"
      },
      "source": [
        "# 3.Модель линейной регрессии"
      ]
    },
    {
      "cell_type": "code",
      "metadata": {
        "id": "Lxp4qXSX3n8Y"
      },
      "source": [
        "x_n = rezult_ru_n[['Жесткость воды']]\n",
        "y_n = rezult_ru_n['Смертность']"
      ],
      "execution_count": 35,
      "outputs": []
    },
    {
      "cell_type": "code",
      "metadata": {
        "id": "jJLrYD916Qvq"
      },
      "source": [
        "x_n_train, x_n_test, y_n_train, y_n_test = train_test_split(x_n, y_n, test_size=0.30, random_state=42)"
      ],
      "execution_count": 36,
      "outputs": []
    },
    {
      "cell_type": "code",
      "metadata": {
        "colab": {
          "base_uri": "https://localhost:8080/"
        },
        "id": "6lBxlTuP3wfn",
        "outputId": "280cc3af-b001-42c9-dbc2-02818c68219e"
      },
      "source": [
        "model = LinearRegression()\n",
        "model.fit(x_n, y_n)\n",
        "print('Двумерный массив с единственным элементом b₁:', model.coef_)"
      ],
      "execution_count": 38,
      "outputs": [
        {
          "output_type": "stream",
          "text": [
            "Двумерный массив с единственным элементом b₁: [-1.93134215]\n"
          ],
          "name": "stdout"
        }
      ]
    },
    {
      "cell_type": "code",
      "metadata": {
        "colab": {
          "base_uri": "https://localhost:8080/",
          "height": 282
        },
        "id": "-hE4KKxe34rv",
        "outputId": "66bb920d-09b1-425a-b71c-cb2ef6852a1e"
      },
      "source": [
        "y_pred_n = model.predict(x_n_test)\n",
        "plt.scatter(x_n_test, y_n_test)\n",
        "plt.plot(x_n_test, y_pred_n, c='r')"
      ],
      "execution_count": 39,
      "outputs": [
        {
          "output_type": "execute_result",
          "data": {
            "text/plain": [
              "[<matplotlib.lines.Line2D at 0x7fa5f090bf10>]"
            ]
          },
          "metadata": {
            "tags": []
          },
          "execution_count": 39
        },
        {
          "output_type": "display_data",
          "data": {
            "image/png": "[encoded data removed]",
            "text/plain": [
              "<Figure size 432x288 with 1 Axes>"
            ]
          },
          "metadata": {
            "tags": [],
            "needs_background": "light"
          }
        }
      ]
    },
    {
      "cell_type": "markdown",
      "metadata": {
        "id": "sRH-jhfm4DmQ"
      },
      "source": [
        "# 4.Коэффициент детерминации"
      ]
    },
    {
      "cell_type": "code",
      "metadata": {
        "colab": {
          "base_uri": "https://localhost:8080/"
        },
        "id": "_K0VmWVQ4T7o",
        "outputId": "2bc43cba-9080-4502-a8b7-e565d5a3557b"
      },
      "source": [
        "r_sq_n = model.score(x_n, y_n)\n",
        "print('Коэффициент детерминации:', r_sq_n)"
      ],
      "execution_count": 40,
      "outputs": [
        {
          "output_type": "stream",
          "text": [
            "Коэффициент детерминации: 0.1358643664207173\n"
          ],
          "name": "stdout"
        }
      ]
    },
    {
      "cell_type": "markdown",
      "metadata": {
        "id": "PSY9xonk4cT9"
      },
      "source": [
        "Вывод: Коэффициент детерминации показывает, что  модель  имеет слабую силу связи."
      ]
    },
    {
      "cell_type": "markdown",
      "metadata": {
        "id": "VBvjLaG74i4O"
      },
      "source": [
        "## 5. График остатков"
      ]
    },
    {
      "cell_type": "code",
      "metadata": {
        "id": "YalO4tXc6tuK"
      },
      "source": [
        "x_n_const = sm.add_constant(x_n_train)"
      ],
      "execution_count": 49,
      "outputs": []
    },
    {
      "cell_type": "code",
      "metadata": {
        "id": "wH_TfYOZ6jxz"
      },
      "source": [
        "model = sm.OLS(y_n_train, x_n_const)\n",
        "results_n = model.fit()"
      ],
      "execution_count": 50,
      "outputs": []
    },
    {
      "cell_type": "code",
      "metadata": {
        "colab": {
          "base_uri": "https://localhost:8080/",
          "height": 282
        },
        "id": "JvgXbj9A4sLc",
        "outputId": "0d59eb0a-b537-488d-fa7e-cfa510cfae5d"
      },
      "source": [
        "plt.scatter(x_n_const.iloc[:, 1], results_n.resid)"
      ],
      "execution_count": 52,
      "outputs": [
        {
          "output_type": "execute_result",
          "data": {
            "text/plain": [
              "<matplotlib.collections.PathCollection at 0x7fa5f0999d50>"
            ]
          },
          "metadata": {
            "tags": []
          },
          "execution_count": 52
        },
        {
          "output_type": "display_data",
          "data": {
            "image/png": "[encoded data removed]",
            "text/plain": [
              "<Figure size 432x288 with 1 Axes>"
            ]
          },
          "metadata": {
            "tags": [],
            "needs_background": "light"
          }
        }
      ]
    },
    {
      "cell_type": "markdown",
      "metadata": {
        "id": "FPl3ohT5AHnv"
      },
      "source": [
        "Вывод:  остатки  Северному району сруппированы в районе низкой жесткости."
      ]
    },
    {
      "cell_type": "markdown",
      "metadata": {
        "id": "Yz6-eYx9AJ71"
      },
      "source": [
        "# Сравнение двух районов "
      ]
    },
    {
      "cell_type": "code",
      "metadata": {
        "colab": {
          "base_uri": "https://localhost:8080/",
          "height": 296
        },
        "id": "jZGmhqwn8KM9",
        "outputId": "9aa519dd-1263-4a2a-c16e-aa44b63fd3f7"
      },
      "source": [
        "ax = rezult_ru_s.plot(kind='scatter', x ='Жесткость воды', y = 'Смертность', c ='g')\n",
        "rezult_ru_n.plot(ax=ax, kind='scatter', x ='Жесткость воды', y = 'Смертность', c ='m')\n",
        "ax.legend(['South', 'North'])"
      ],
      "execution_count": 48,
      "outputs": [
        {
          "output_type": "execute_result",
          "data": {
            "text/plain": [
              "<matplotlib.legend.Legend at 0x7fa5f05f9210>"
            ]
          },
          "metadata": {
            "tags": []
          },
          "execution_count": 48
        },
        {
          "output_type": "display_data",
          "data": {
            "image/png": "[encoded data removed]",
            "text/plain": [
              "<Figure size 432x288 with 1 Axes>"
            ]
          },
          "metadata": {
            "tags": [],
            "needs_background": "light"
          }
        }
      ]
    },
    {
      "cell_type": "markdown",
      "metadata": {
        "id": "GifumS5n_Ve7"
      },
      "source": [
        "Вывод:  По двум района Северному и Южному сруппированы в районе низкой жесткости и имеют ярко выраженныю сгруппированности, можно сказать, что смертности и жесткость воды, может быть, но нужнен  более грубокий анализ, других показателей, что бы точно доказать, наличее связи."
      ]
    }
  ]
}