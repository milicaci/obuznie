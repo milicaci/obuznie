{
 "cells": [
  {
   "cell_type": "code",
   "execution_count": 41,
   "metadata": {},
   "outputs": [],
   "source": [
    "import json"
   ]
  },
  {
   "cell_type": "code",
   "execution_count": 42,
   "metadata": {},
   "outputs": [],
   "source": [
    "new_slovar={} #lделаем  словарь\n",
    "with open('purchase_log.txt', encoding='utf-8') as m: #открываем файл\n",
    "    for stolb in m:\n",
    "        stolb = stolb.strip()  # удаляем перенос строки и лишние пробелы\n",
    "        mesto_1 = json.loads(stolb)  # перевод строки в список\n",
    "        #print(mesto_1)\n",
    "        key = mesto_1['user_id']\n",
    "        value = mesto_1['category']\n",
    "        if key !='user_id':\n",
    "            new_slovar.setdefault(key,value)"
   ]
  },
  {
   "cell_type": "code",
   "execution_count": 47,
   "metadata": {},
   "outputs": [],
   "source": [
    "with open('visit_log.csv', 'r') as m, open('itog.csv', 'w') as n_m:\n",
    "    for stolb in m:\n",
    "        line_list = stolb.strip().split(',')\n",
    "        if line_list[0] in new_slovar.keys():\n",
    "            line_list.append(new_slovar[line_list[0]])\n",
    "            n_line=','.join(line_list)\n",
    "            #print(line_list)\n",
    "        elif line_list[0] == 'user_id':\n",
    "            line_list.append('category')\n",
    "            n_line=','.join(line_list)\n",
    "            #print(line_list)\n",
    "        else:\n",
    "            n_line=','.join(line_list)\n",
    "        n_m.write(n_line+'\\n')\n",
    "        #print(n_line)      \n",
    "        \n"
   ]
  }
 ],
 "metadata": {
  "kernelspec": {
   "display_name": "Python 3",
   "language": "python",
   "name": "python3"
  },
  "language_info": {
   "codemirror_mode": {
    "name": "ipython",
    "version": 3
   },
   "file_extension": ".py",
   "mimetype": "text/x-python",
   "name": "python",
   "nbconvert_exporter": "python",
   "pygments_lexer": "ipython3",
   "version": "3.8.5"
  }
 },
 "nbformat": 4,
 "nbformat_minor": 4
}
