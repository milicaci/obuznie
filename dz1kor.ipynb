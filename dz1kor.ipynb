{
 "cells": [
  {
   "cell_type": "markdown",
   "metadata": {},
   "source": [
    "\"\"\"Задание 1. Даны 2 переменных, в которых хранятся строки произвольной длины: phrase_1 и phrase_2.\n",
    "Напишите код, который проверяет какая из этих строк длиннее.\"\"\""
   ]
  },
  {
   "cell_type": "code",
   "execution_count": 39,
   "metadata": {},
   "outputs": [],
   "source": [
    "phrase_1 =\"Здесь вам не равнина — здесь климат иной.Идут лавины одна за одной,И здесь за камнепадом ревет камнепад.\""
   ]
  },
  {
   "cell_type": "code",
   "execution_count": 40,
   "metadata": {},
   "outputs": [],
   "source": [
    "phrase_2 =\"И можно свернуть, обрыв обогнуть,-Но мы выбираем трудный путь,Опасный, как военная тропа.\""
   ]
  },
  {
   "cell_type": "code",
   "execution_count": 41,
   "metadata": {},
   "outputs": [
    {
     "name": "stdout",
     "output_type": "stream",
     "text": [
      "Фраза 2 длиннее фразы 1\n"
     ]
    }
   ],
   "source": [
    "if phrase_1 > phrase_2:\n",
    "    print('Фраза 1 длиннее фразы 2')\n",
    "elif phrase_1 < phrase_2:\n",
    "    print('Фраза 2 длиннее фразы 1')\n",
    "else:\n",
    "    print('Фразы равной длины')"
   ]
  },
  {
   "cell_type": "markdown",
   "metadata": {},
   "source": [
    "\"\"\"Задание 2. Дана переменная, в которой хранится четырехзначное число (год). Необходимо написать программу, которая выведет, является ли данный год високосным или обычным.\"\"\""
   ]
  },
  {
   "cell_type": "code",
   "execution_count": null,
   "metadata": {},
   "outputs": [],
   "source": [
    "year = int(input())\n",
    "if year % 4 == 0:\n",
    "    print ('Високосный год')\n",
    "else:\n",
    "    print ('Обычный год')\n"
   ]
  },
  {
   "cell_type": "markdown",
   "metadata": {},
   "source": [
    "\"\"\"Задание 3. Необходимо написать программу, которая будет запрашивать у пользователя месяц и дату рождения и выводить соответствующий знак зодиака.\"\"\""
   ]
  },
  {
   "cell_type": "code",
   "execution_count": 66,
   "metadata": {
    "scrolled": true
   },
   "outputs": [
    {
     "name": "stdout",
     "output_type": "stream",
     "text": [
      "Введите день:25\n",
      "Введите месяц:25\n"
     ]
    }
   ],
   "source": [
    "day = int(input('Введите день:'))\n",
    "month = str(input('Введите месяц:'))\n",
    "if(day>=21 and day<=31 and month=='Март') or (day>=1 and day<=19 and month=='Апрель'):\n",
    "    print('Ваш знак зодиака: Овен')\n",
    "if(day>=20 and day<=30 and month=='Апрель') or (day>=1 and day<=20 and month=='Май'):\n",
    "     print('Ваш знак зодиака: Телец')                                         \n",
    "if(day>=21 and day<=31 and month=='Май') or (day>=1 and day<=20 and month=='Июнь'):\n",
    "    print('Ваш знак зодиака: Близнецы')                                   \n",
    "if(day>=21 and day<=30 and month=='Июнь') or (day>=1 and day<=22 and month=='Июль'):\n",
    "    print('Ваш знак зодиака: Рак')                                  \n",
    "if(day>=23 and day<=31 and month=='Июль') or (day>=1 and day<=22 and month=='Август'):\n",
    "    print('Ваш знак зодиака: Лев')                               \n",
    "if(day>=23 and day<=31 and month=='Август') or (day>=1 and day<=22 and month=='Сентябрь'):\n",
    "    print('Ваш знак зодиака: Дева')                                 \n",
    "if(day>=23 and day<=30 and month=='Сентябрь') or (day>=1 and day<=22 and month=='Октябрь'):\n",
    "    print('Ваш знак зодиака: Весы')                               \n",
    "if(day>=23 and day<=31 and month=='Октябрь') or (day>=1 and day<=21 and month=='Ноябрь'):\n",
    "    print('Ваш знак зодиака: Скорпион')                            \n",
    "if(day>=22 and day<=30 and month=='Ноябрь') or (day>=1 and day<=21 and month=='Декабрь'):\n",
    "    print('Ваш знак зодиака: Стрелец')                         \n",
    "if(day>=22 and day<=31 and month=='Декабрь') or (day>=1 and day<=19 and month=='Январь'):\n",
    "    print('Ваш знак зодиака: Козерог')                  \n",
    "if(day>=20 and day<=31 and month=='Январь') or (day>=1 and day<=18 and month=='Февраль'):\n",
    "    print('Ваш знак зодиака: Водолей')\n",
    "if(day>=19 and day<=42 and month=='Февраль') or (day>=1 and day<=20 and month=='Март'):\n",
    "    print('Ваш знак зодиака: Рыбы') \n",
    "    "
   ]
  },
  {
   "cell_type": "markdown",
   "metadata": {},
   "source": [
    "\"\"\"Задание 4. Вам нужно написать программу для подбора упаковок по размерам товара. Размеры хранятся в переменных (в сантиметрах): \"\"\""
   ]
  },
  {
   "cell_type": "code",
   "execution_count": 64,
   "metadata": {},
   "outputs": [
    {
     "name": "stdout",
     "output_type": "stream",
     "text": [
      "Введите ширину (см.):10\n",
      "Введите длину (см.):205\n",
      "Введите высоту(см.):5\n",
      "Упаковка для лыж\n"
     ]
    }
   ],
   "source": [
    "width = int(input('Введите ширину (см.):'))\n",
    "length = int(input('Введите длину (см.):'))\n",
    "height = int(input('Введите высоту(см.):'))\n",
    "#если каждое из трех измерений менее 15 сантиметров, то выведите на экран “Коробка №1”\n",
    "if (width < 15 and length < 15 and height < 15):\n",
    "    print('Коробка №1') \n",
    "#если хотя бы одно из измерений больше 15 сантиметров, но менее 50 сантиметров, то выводите “Коробка №2”\n",
    "elif(width >= 15 and width < 50)  or (length >= 15 and length < 50) or (height >= 15 and height < 50):\n",
    "    print('Коробка №2')    \n",
    "#если длина товара больше 2 метров, то выводите “Упаковка для лыж”\n",
    "elif(length > 200):\n",
    "    print('Упаковка для лыж')\n",
    "#во всех остальных случаях выводите “Стандартная коробка №3”\n",
    "else:\n",
    "    print('Стандартная коробка №3')"
   ]
  }
 ],
 "metadata": {
  "kernelspec": {
   "display_name": "Python 3",
   "language": "python",
   "name": "python3"
  },
  "language_info": {
   "codemirror_mode": {
    "name": "ipython",
    "version": 3
   },
   "file_extension": ".py",
   "mimetype": "text/x-python",
   "name": "python",
   "nbconvert_exporter": "python",
   "pygments_lexer": "ipython3",
   "version": "3.8.5"
  }
 },
 "nbformat": 4,
 "nbformat_minor": 4
}
