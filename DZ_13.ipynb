{
  "nbformat": 4,
  "nbformat_minor": 0,
  "metadata": {
    "colab": {
      "name": "Untitled10.ipynb",
      "provenance": [],
      "authorship_tag": "ABX9TyNcfUEl6+ogAbBxb2JewR+U",
      "include_colab_link": true
    },
    "kernelspec": {
      "name": "python3",
      "display_name": "Python 3"
    },
    "language_info": {
      "name": "python"
    }
  },
  "cells": [
    {
      "cell_type": "markdown",
      "metadata": {
        "id": "view-in-github",
        "colab_type": "text"
      },
      "source": [
        "<a href=\"https://colab.research.google.com/github/milicaci/obuznie/blob/master/DZ_13.ipynb\" target=\"_parent\"><img src=\"https://colab.research.google.com/assets/colab-badge.svg\" alt=\"Open In Colab\"/></a>"
      ]
    },
    {
      "cell_type": "code",
      "metadata": {
        "id": "0vk2sVkyVVaH"
      },
      "source": [
        "import json\n",
        "import pandas as pd\n",
        "import requests\n",
        "from datetime import datetime"
      ],
      "execution_count": 9,
      "outputs": []
    },
    {
      "cell_type": "code",
      "metadata": {
        "colab": {
          "base_uri": "https://localhost:8080/"
        },
        "id": "bc2p1FZQVYXb",
        "outputId": "6613d1eb-4fba-4dd7-8e31-410b8a95eaa6"
      },
      "source": [
        "EMAIL = ['xxx@x.ru', 'yyy@y.com']\n",
        "URL = 'https://identityprotection.avast.com/v1/web/query/site-breaches/unauthorized-data'\n",
        "params = {'emailAddresses': EMAIL}\n",
        "headers = {\n",
        "    'Content-Type': 'application/json;charset=utf-8',\n",
        "    'Accept': 'text/plain',\n",
        "    'Vaar-Header-App-Product-Name': 'hackcheck-web-avast',\n",
        "    'Vaar-Version': '0',\n",
        "    'Vaar-Header-App-Product': 'hackcheck-web-avast',\n",
        "    'Vaar-Header-App-Build-Version': '1.0.0'\n",
        "}\n",
        "avast_hack_check_req = requests.post(URL, data = json.dumps(params), headers = headers )\n",
        "\n",
        "print(avast_hack_check_req)"
      ],
      "execution_count": 2,
      "outputs": [
        {
          "output_type": "stream",
          "text": [
            "<Response [200]>\n"
          ],
          "name": "stdout"
        }
      ]
    },
    {
      "cell_type": "code",
      "metadata": {
        "colab": {
          "base_uri": "https://localhost:8080/"
        },
        "id": "EXPFa00KVfUm",
        "outputId": "3f22ce6e-f712-4ea4-f1ec-5763824fe004"
      },
      "source": [
        "avast_leaks_4 = avast_hack_check_req.json()\n",
        "print(avast_leaks_4)"
      ],
      "execution_count": 3,
      "outputs": [
        {
          "output_type": "stream",
          "text": [
            "{'breaches': {'16613': {'breachId': 16613, 'site': 'verifications.io', 'recordsCount': 677914246, 'description': 'Big data e-mail verification platform verifications.io leaked a database containing sensitive PII belonging to over 600 million victims. The breach was discovered by a security researcher who found an unsecured 150GB MongoDB database, which he was able to track to an email verification service called Verifications.io. The leaked database contained information such as physical addresses, phone numbers, email addresses, dates of birth, gender, employer and job information, geographic location and IP addresses.\\r\\n\\r\\n', 'publishDate': '2019-03-28T00:00:00Z', 'statistics': {'usernames': 0, 'passwords': 0, 'emails': 677914246}}, '17609': {'breachId': 17609, 'site': 'vk.com', 'recordsCount': 42536910, 'description': 'At some time in 2020, the Russian social networking website vKontakte was allegedly breached. The stolen data contains email addresses and additional personal information. This breach is being privately shared on the internet.', 'publishDate': '2020-05-21T00:00:00Z', 'statistics': {'usernames': 0, 'passwords': 0, 'emails': 20549631}}, '17110': {'breachId': 17110, 'site': 'azcentral.com', 'recordsCount': 705538, 'description': 'At an unconfirmed date, online Arizona newspaper \"AZ Central\" was allegedly breached. The stolen data contains passwords and email addresses. This breach is being publicly shared on the internet.', 'publishDate': '2020-01-03T00:00:00Z', 'statistics': {'usernames': 0, 'passwords': 702971, 'emails': 705538}}, '17670': {'breachId': 17670, 'site': 'wishbone.io', 'recordsCount': 37475476, 'description': 'In January 2020, the online poll website Wishbone was allegedly breached. The stolen data contains usernames, passwords, email addresses and additional personal information. This breach is being privately shared on the internet.', 'publishDate': '2020-05-28T00:00:00Z', 'statistics': {'usernames': 31111127, 'passwords': 10648734, 'emails': 10234249}}, '13094': {'breachId': 13094, 'site': 'myheritage.com', 'recordsCount': 110041653, 'description': 'In October 2017, a customer database belonging to online genealogy platform MyHeritage was breached. The stolen records included email addresses and SHA-1 hashed passwords, as well as sensitive PII. The data has been sold on at least one dark web market and is also being privately shared amongst several criminal groups.', 'publishDate': '2017-11-04T00:00:00Z', 'statistics': {'usernames': 0, 'passwords': 110041647, 'emails': 110041653}}, '37177': {'breachId': 37177, 'site': 'forums.vkmonline.com', 'recordsCount': 825654, 'description': 'At an unconfirmed date, the Russian-language music forum VKM was allegedly breached. The stolen data contains passwords, IPs, email addresses, usernames and additional personal information. This breach is being privately shared on the internet.', 'publishDate': '2021-02-11T00:00:00Z', 'statistics': {'usernames': 825566, 'passwords': 825654, 'emails': 824936}}, '16768': {'breachId': 16768, 'site': 'canva.com', 'recordsCount': 137434010, 'description': \"In May 2019, graphic-design site Canva's database was allegedly breached. The stolen data contains usernames, passwords, email addresses and additional personal information. This breach is being privately shared on the internet.\", 'publishDate': '2019-06-13T00:00:00Z', 'statistics': {'usernames': 137304104, 'passwords': 61348974, 'emails': 137402835}}, '3176': {'breachId': 3176, 'site': 'parapa.mail.ru', 'recordsCount': 5029003, 'description': \"In July and August 2016, two criminals executed attacks against three separate forums hosted by Mail.ru including the Russian forum Parapa. Shortly after the breach occurred, the contents of Parapa's database were leaked publicly. The database contains usernames, email addresses, and hashed passwords for around 5 million users.\", 'publishDate': '2017-02-14T00:00:00Z', 'statistics': {'usernames': 5029000, 'passwords': 5029003, 'emails': 4941344}}, '41': {'breachId': 41, 'site': 'dropbox.com', 'recordsCount': 68591031, 'description': \"Cloud storage company Dropbox suffered a major data breach in 2012. Criminals leveraged stolen employee login credentials to access a project document containing user email addresses and hashed passwords. Thanks to employees' passwords reuse between work and personal accounts, several matches were exploited, which ultimately lead to the full scope of the breach. It wasn't until August 2016 that Dropbox confirmed over 68 million user credentials had been breached in 2012. In response, DropBox enforced a password reset for its users. \", 'publishDate': '2016-10-24T00:00:00Z', 'statistics': {'usernames': 0, 'passwords': 68591031, 'emails': 68591031}}, '2': {'breachId': 2, 'site': 'linkedin.com', 'recordsCount': 158591429, 'description': \"In 2012, online professional networking platform LinkedIn fell victim to a breach of its members' passwords. Four years later, 117 million email and password combinations from that breach appeared for sale on a dark web marketplace. \\n\\nThe leaked passwords had only been protected by unsalted SHA-1 cryptographic hashing, which prompted LinkedIn to enforce salted hashing after the breach. Russian national Yevgeniy Nikulin was accused of the breach and was extradited from the Czech Republic to the United States as of March 2018.\", 'publishDate': '2016-10-21T00:00:00Z', 'statistics': {'usernames': 0, 'passwords': 111975337, 'emails': 158591429}}, '3587': {'breachId': 3587, 'site': 'rayli.com.cn', 'recordsCount': 4844179, 'description': \"On an unconfirmed date, Chinese gossip site Rayli's user database was allegedly breached. The stolen data contains over 4,850,000 records including email addresses, usernames, passwords, and salts. The compromised data is being shared privately among closed and trusted groups.\", 'publishDate': '2017-03-01T00:00:00Z', 'statistics': {'usernames': 4841886, 'passwords': 4833694, 'emails': 4803135}}, '17009': {'breachId': 17009, 'site': 'zynga.com', 'recordsCount': 216159495, 'description': 'In September 2019, the game developer Zynga was allegedly breached. The stolen data contains usernames, passwords, salts, email addresses and additional personal information. This breach is being privately shared on the internet.', 'publishDate': '2019-10-17T00:00:00Z', 'statistics': {'usernames': 214648143, 'passwords': 134762791, 'emails': 159032663}}, '12': {'breachId': 12, 'site': 'vk.com', 'recordsCount': 110121799, 'description': \"Popular Russian social networking platform VKontakte was breached in late 2012. Over 100 million clear-text passwords were compromised in the breach. Breached credential sets included victims' e-mail addresses, passwords, dates of birth, phone numbers and location details. The credential set was advertised on a dark web marketplace as of June 2016 for a price of one bitcoin. \", 'publishDate': '2016-10-29T00:00:00Z', 'statistics': {'usernames': 0, 'passwords': 107425364, 'emails': 104247327}}, '3': {'breachId': 3, 'site': 'adobe.com', 'recordsCount': 152046506, 'description': \"In October of 2013, criminals penetrated Adobe's corporate network and the stole source code for several of its software products. The affected products included Adobe's ColdFusion web application platform as well as the Acrobat suite of products. Adobe asserts that criminals also accessed nearly three-million customer credit card records and stole login data for an undisclosed number of Adobe user accounts.\", 'publishDate': '2016-10-21T00:00:00Z', 'statistics': {'usernames': 0, 'passwords': 129430596, 'emails': 152046506}}, '13662': {'breachId': 13662, 'site': 'netlog.com', 'recordsCount': 52904632, 'description': 'Netlog (formerly known as Facebox and Bingbox) was a Belgian social networking website specifically targeted at the global youth demographic. On Netlog, members could create their own web page, meet new people, chat, play games, share videos and post blogs.\\r\\n\\r\\nIn July 2018, Netlog sent out an email informing users registered before December 2012 that there was a security breach of their user database.', 'publishDate': '2018-02-18T00:00:00Z', 'statistics': {'usernames': 0, 'passwords': 52902665, 'emails': 52904632}}, '3520': {'breachId': 3520, 'site': 'globalreach.eu', 'recordsCount': 921298, 'description': \"In 2016, Global Reach Technology's database was allegedly breached. The stolen records are being shared among private cirlces on the darknet.\", 'publishDate': '2017-03-15T00:00:00Z', 'statistics': {'usernames': 13492, 'passwords': 921298, 'emails': 907696}}, '3164': {'breachId': 3164, 'site': 'cfire.mail.ru', 'recordsCount': 12880232, 'description': \"In July and August of 2016, two criminals carried out attacks on three separate forums hosted by Mail.ru, including CFire. The hackers used known SQL injection vulnerabilities found in older vBulletin forum software to obtain access to the databases. Shortly after the breach itself, the contents of CFire's database were leaked publicly. The database contains usernames, email addresses, and MD5 hashed passwords for just under 13 million users.\", 'publishDate': '2017-02-14T00:00:00Z', 'statistics': {'usernames': 12880232, 'passwords': 12880222, 'emails': 12845820}}, '2961': {'breachId': 2961, 'site': 'cdprojektred.com', 'recordsCount': 1871459, 'description': \"In March 2016, CDProjektRed.com.com's forum database was breached. The attacker may have exploited a vulnerability in vBulletin. The stolen data contains over 1,870,000 user records including associated usernames, email addresses, hashed passwords, and salts. The leaked credentials are being shared and sold privately on the dark web.\", 'publishDate': '2017-01-31T00:00:00Z', 'statistics': {'usernames': 1871410, 'passwords': 1871457, 'emails': 1871289}}, '15': {'breachId': 15, 'site': 'imesh.com', 'recordsCount': 50913222, 'description': 'In June 2016, a cache of over 51 million user credentials from the online sharing service iMesh appeared for sale on a dark web marketplace.  The database contained user email addresses, usernames, passwords, IP addresses and location.', 'publishDate': '2016-10-23T00:00:00Z', 'statistics': {'usernames': 50909015, 'passwords': 50913222, 'emails': 50913222}}, '3669': {'breachId': 3669, 'site': 'youku.com', 'recordsCount': 94244880, 'description': 'Youku is a large Chinese video content company whose user database was allegedly breached in 2016. The compromised data later appeared for sale on a dark web marketplace April 2017. The dark web listing advertised the sale of 100M user accounts.', 'publishDate': '2017-03-24T00:00:00Z', 'statistics': {'usernames': 0, 'passwords': 94238535, 'emails': 94244880}}}, 'data': {'parapa.mail.ru': {'xxx@x.ru': [{'breachId': 3176, 'usernameBreached': True, 'passwordBreached': True}]}, 'verifications.io': {'xxx@x.ru': [{'breachId': 16613, 'usernameBreached': True, 'passwordBreached': True}]}, 'adobe.com': {'xxx@x.ru': [{'breachId': 3, 'usernameBreached': True, 'passwordBreached': True}], 'yyy@y.com': [{'breachId': 3, 'usernameBreached': True, 'passwordBreached': True}]}, 'cdprojektred.com': {'xxx@x.ru': [{'breachId': 2961, 'usernameBreached': True, 'passwordBreached': True}]}, 'azcentral.com': {'yyy@y.com': [{'breachId': 17110, 'usernameBreached': True, 'passwordBreached': True}]}, 'linkedin.com': {'yyy@y.com': [{'breachId': 2, 'usernameBreached': True, 'passwordBreached': True}]}, 'dropbox.com': {'yyy@y.com': [{'breachId': 41, 'usernameBreached': True, 'passwordBreached': True}]}, 'wishbone.io': {'yyy@y.com': [{'breachId': 17670, 'usernameBreached': True, 'passwordBreached': True}]}, 'youku.com': {'yyy@y.com': [{'breachId': 3669, 'usernameBreached': True, 'passwordBreached': True}]}, 'myheritage.com': {'yyy@y.com': [{'breachId': 13094, 'usernameBreached': True, 'passwordBreached': True}]}, 'rayli.com.cn': {'yyy@y.com': [{'breachId': 3587, 'usernameBreached': True, 'passwordBreached': True}]}, 'canva.com': {'yyy@y.com': [{'breachId': 16768, 'usernameBreached': True, 'passwordBreached': True}]}, 'globalreach.eu': {'yyy@y.com': [{'breachId': 3520, 'usernameBreached': True, 'passwordBreached': True}]}, 'cfire.mail.ru': {'xxx@x.ru': [{'breachId': 3164, 'usernameBreached': True, 'passwordBreached': True}]}, 'vk.com': {'xxx@x.ru': [{'breachId': 17609, 'usernameBreached': True, 'passwordBreached': True}, {'breachId': 12, 'usernameBreached': True, 'passwordBreached': True}]}, 'forums.vkmonline.com': {'yyy@y.com': [{'breachId': 37177, 'usernameBreached': True, 'passwordBreached': True}]}, 'netlog.com': {'yyy@y.com': [{'breachId': 13662, 'usernameBreached': True, 'passwordBreached': True}]}, 'imesh.com': {'xxx@x.ru': [{'breachId': 15, 'usernameBreached': True, 'passwordBreached': True}], 'yyy@y.com': [{'breachId': 15, 'usernameBreached': True, 'passwordBreached': True}]}, 'zynga.com': {'yyy@y.com': [{'breachId': 17009, 'usernameBreached': True, 'passwordBreached': True}]}}, 'summary': {'xxx@x.ru': {'breaches': [16613, 17609, 3176, 12, 3, 3164, 2961, 15]}, 'yyy@y.com': {'breaches': [17110, 17670, 13094, 37177, 16768, 41, 2, 3587, 17009, 3, 13662, 3520, 15, 3669]}}}\n"
          ],
          "name": "stdout"
        }
      ]
    },
    {
      "cell_type": "code",
      "metadata": {
        "id": "_ja7mO1QVjfm"
      },
      "source": [
        "avast_leaks10= pd.DataFrame()"
      ],
      "execution_count": 19,
      "outputs": []
    },
    {
      "cell_type": "code",
      "metadata": {
        "colab": {
          "base_uri": "https://localhost:8080/",
          "height": 191
        },
        "id": "cKek_xzpVmbH",
        "outputId": "b4ef6e33-832d-47de-d62d-f9296357e287"
      },
      "source": [
        "for breach in avast_leaks_4['breaches']:\n",
        "    breach_date = avast_leaks_4['breaches'][breach]['publishDate']\n",
        "    breach_date = datetime.strptime(breach_date, '%Y-%m-%dT%H:%M:%SZ').strftime('%d.%m.%Y')\n",
        "    breach_site = avast_leaks_4['breaches'][breach]['site']\n",
        "    breach_desc = avast_leaks_4['breaches'][breach]['description']\n",
        "    for mail in avast_leaks_4['summary']:\n",
        "        if int(breach) in avast_leaks_4['summary'][mail]['breaches']:\n",
        "            breach_mail = mail\n",
        "       \n",
        "    row = {'mail': breach_mail, 'date': breach_date, 'site': breach_site, 'description': breach_desc}\n",
        "    \n",
        "    avast_leaks10 = pd.concat([avast_leaks10, pd.DataFrame([row])])     \n",
        "    \n",
        "avast_leaks10.head()"
      ],
      "execution_count": 21,
      "outputs": [
        {
          "output_type": "execute_result",
          "data": {
            "text/html": [
              "<div>\n",
              "<style scoped>\n",
              "    .dataframe tbody tr th:only-of-type {\n",
              "        vertical-align: middle;\n",
              "    }\n",
              "\n",
              "    .dataframe tbody tr th {\n",
              "        vertical-align: top;\n",
              "    }\n",
              "\n",
              "    .dataframe thead th {\n",
              "        text-align: right;\n",
              "    }\n",
              "</style>\n",
              "<table border=\"1\" class=\"dataframe\">\n",
              "  <thead>\n",
              "    <tr style=\"text-align: right;\">\n",
              "      <th></th>\n",
              "      <th>mail</th>\n",
              "      <th>date</th>\n",
              "      <th>site</th>\n",
              "      <th>description</th>\n",
              "    </tr>\n",
              "  </thead>\n",
              "  <tbody>\n",
              "    <tr>\n",
              "      <th>0</th>\n",
              "      <td>xxx@x.ru</td>\n",
              "      <td>28.03.2019</td>\n",
              "      <td>verifications.io</td>\n",
              "      <td>Big data e-mail verification platform verifica...</td>\n",
              "    </tr>\n",
              "    <tr>\n",
              "      <th>0</th>\n",
              "      <td>xxx@x.ru</td>\n",
              "      <td>21.05.2020</td>\n",
              "      <td>vk.com</td>\n",
              "      <td>At some time in 2020, the Russian social netwo...</td>\n",
              "    </tr>\n",
              "    <tr>\n",
              "      <th>0</th>\n",
              "      <td>yyy@y.com</td>\n",
              "      <td>03.01.2020</td>\n",
              "      <td>azcentral.com</td>\n",
              "      <td>At an unconfirmed date, online Arizona newspap...</td>\n",
              "    </tr>\n",
              "    <tr>\n",
              "      <th>0</th>\n",
              "      <td>yyy@y.com</td>\n",
              "      <td>28.05.2020</td>\n",
              "      <td>wishbone.io</td>\n",
              "      <td>In January 2020, the online poll website Wishb...</td>\n",
              "    </tr>\n",
              "    <tr>\n",
              "      <th>0</th>\n",
              "      <td>yyy@y.com</td>\n",
              "      <td>04.11.2017</td>\n",
              "      <td>myheritage.com</td>\n",
              "      <td>In October 2017, a customer database belonging...</td>\n",
              "    </tr>\n",
              "  </tbody>\n",
              "</table>\n",
              "</div>"
            ],
            "text/plain": [
              "        mail  ...                                        description\n",
              "0   xxx@x.ru  ...  Big data e-mail verification platform verifica...\n",
              "0   xxx@x.ru  ...  At some time in 2020, the Russian social netwo...\n",
              "0  yyy@y.com  ...  At an unconfirmed date, online Arizona newspap...\n",
              "0  yyy@y.com  ...  In January 2020, the online poll website Wishb...\n",
              "0  yyy@y.com  ...  In October 2017, a customer database belonging...\n",
              "\n",
              "[5 rows x 4 columns]"
            ]
          },
          "metadata": {
            "tags": []
          },
          "execution_count": 21
        }
      ]
    }
  ]
}