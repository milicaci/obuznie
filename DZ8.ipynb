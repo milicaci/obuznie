{
 "cells": [
  {
   "cell_type": "markdown",
   "metadata": {},
   "source": [
    "Задание 1\n",
    "Напишите функцию, которая принимает на вход строку и проверяет является ли она валидным транспортным номером (1 буква, 3 цифры, 2 буквы, 2-3 цифры). Обратите внимание, что не все буквы кириллического алфавита используются в транспортных номерах.\n",
    "\n",
    "Если номер валиден, то функция должна возвращать отдельно номер и регион."
   ]
  },
  {
   "cell_type": "code",
   "execution_count": 109,
   "metadata": {},
   "outputs": [],
   "source": [
    "import re"
   ]
  },
  {
   "cell_type": "code",
   "execution_count": 110,
   "metadata": {},
   "outputs": [
    {
     "name": "stdout",
     "output_type": "stream",
     "text": [
      "Номер  А273ВС96  валиден. Регион:  96\n"
     ]
    }
   ],
   "source": [
    "car_id = 'А273ВС96'\n",
    "\n",
    "def car_nomer(car_id):\n",
    "\n",
    "    car_poisk_obrazec = r'^[АВЕКМНОРСТУХ]{1}\\d{3}[АВЕКМНОРСТУХ]{2}\\d{2,3}$'\n",
    "    car_poisk_nomer = r'([АВЕКМНОРСТУХ]{1}\\d{3}[АВЕКМНОРСТУХ]{2})'\n",
    "    car_poisk_region = r'([АВЕКМНОРСТУХ]\\d{3}\\w{2})(\\d{1,3})'\n",
    "\n",
    "    if re.findall(car_poisk_obrazec, car_id): \n",
    "        print('Номер ', re.sub(car_poisk_nomer, r'\\1', car_id), ' валиден. Регион: ', re.sub(car_poisk_region, r'\\2', car_id))\n",
    "\n",
    "    else:\n",
    "        print('Номер не валиден')\n",
    "        \n",
    "car_nomer(car_id)"
   ]
  },
  {
   "cell_type": "markdown",
   "metadata": {},
   "source": [
    "Задание 2\n",
    "Напишите функцию , которая будет удалять все последовательные повторы слов из заданной строки при помощи регулярных выражений."
   ]
  },
  {
   "cell_type": "code",
   "execution_count": 111,
   "metadata": {},
   "outputs": [
    {
     "name": "stdout",
     "output_type": "stream",
     "text": [
      "Напишите функцию, которая будет удалять все последовательные повторы слов из заданной строки при помощи регулярных выражений\n"
     ]
    }
   ],
   "source": [
    "some_string = 'Напишите Напишите функцию функцию, которая будет будет будет будет удалять удалять все все все все последовательные повторы слов из из из из заданной строки строки при помощи регулярных выражений'\n",
    "\n",
    "def del_povtor_slava(some_string):\n",
    "    print(re.sub(r'\\b(\\w+)(\\W+\\1\\b)+', r'\\1', some_string))\n",
    "    \n",
    "del_povtor_slava(some_string)"
   ]
  },
  {
   "cell_type": "markdown",
   "metadata": {},
   "source": [
    "Задание 3\n",
    "Напишите функцию, которая будет возвращать акроним по переданной в нее строке со словами."
   ]
  },
  {
   "cell_type": "code",
   "execution_count": 112,
   "metadata": {},
   "outputs": [
    {
     "name": "stdout",
     "output_type": "stream",
     "text": [
      "ИТ\n"
     ]
    }
   ],
   "source": [
    "some_words = 'Информационные технологии'\n",
    "\n",
    "def bol(some_words):\n",
    "\n",
    "    bol_poisk = r'(\\w)+'\n",
    "    print(re.sub(r'\\s', '', re.sub(r'(\\w)\\w+', r'\\1', some_words.upper())))\n",
    "\n",
    "bol(some_words)"
   ]
  },
  {
   "cell_type": "markdown",
   "metadata": {},
   "source": [
    "Задание 4\n",
    "Напишите функцию, которая будет принимать на вход список email-адресов и выводить их распределение по доменным зонам."
   ]
  },
  {
   "cell_type": "code",
   "execution_count": 113,
   "metadata": {},
   "outputs": [
    {
     "name": "stdout",
     "output_type": "stream",
     "text": [
      "gmail.com: 2\n",
      "test.in: 1\n",
      "ya.ru: 2\n",
      "mail.ru: 1\n"
     ]
    }
   ],
   "source": [
    "emails = ['test@gmail.com', 'xyz@test.in', 'test@ya.ru', 'xyz@mail.ru', 'xyz@ya.ru', 'xyz@gmail.com']\n",
    "\n",
    "def email_dom(emails):\n",
    "\n",
    "    a = {}\n",
    "    email_poisk = r'(?<=\\b)+(?<=@)\\w+\\.\\w+'\n",
    "    for pochta in emails:\n",
    "\n",
    "        if re.findall(email_poisk, pochta)[0] in a:\n",
    "            a[re.findall(email_poisk, pochta)[0]] +=1\n",
    "        else:\n",
    "            a[re.findall(email_poisk, pochta)[0]] = 1\n",
    "\n",
    "    for key, value in a.items():\n",
    "        print(f'{key}: {value}')\n",
    "        \n",
    "email_dom(emails)"
   ]
  }
 ],
 "metadata": {
  "kernelspec": {
   "display_name": "Python 3",
   "language": "python",
   "name": "python3"
  },
  "language_info": {
   "codemirror_mode": {
    "name": "ipython",
    "version": 3
   },
   "file_extension": ".py",
   "mimetype": "text/x-python",
   "name": "python",
   "nbconvert_exporter": "python",
   "pygments_lexer": "ipython3",
   "version": "3.8.5"
  }
 },
 "nbformat": 4,
 "nbformat_minor": 4
}
