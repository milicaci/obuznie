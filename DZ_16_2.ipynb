{
  "nbformat": 4,
  "nbformat_minor": 0,
  "metadata": {
    "colab": {
      "name": "DZ_16_2",
      "provenance": [],
      "collapsed_sections": [],
      "authorship_tag": "ABX9TyOIW0XsrL9bavSxRCT3gyCJ",
      "include_colab_link": true
    },
    "kernelspec": {
      "name": "python3",
      "display_name": "Python 3"
    },
    "language_info": {
      "name": "python"
    }
  },
  "cells": [
    {
      "cell_type": "markdown",
      "metadata": {
        "id": "view-in-github",
        "colab_type": "text"
      },
      "source": [
        "<a href=\"https://colab.research.google.com/github/milicaci/obuznie/blob/master/DZ_16_2.ipynb\" target=\"_parent\"><img src=\"https://colab.research.google.com/assets/colab-badge.svg\" alt=\"Open In Colab\"/></a>"
      ]
    },
    {
      "cell_type": "markdown",
      "metadata": {
        "id": "SvRPjNuh12Hk"
      },
      "source": [
        "Смоделировать игру против лотерейного автомата типа “777”. Игрок платит 1 руб., после чего выпадает случайное целое число, равномерно распределенное от 0 до 999. При некоторых значениях числа игрок получает выигрыш (см. справа)\n",
        "\n",
        "Выгодна ли игра игроку?\n",
        "\n",
        "Сколько в среднем приобретает\n",
        "или теряет игрок за одну игру?\n",
        "77: 200 руб.\n",
        "999: 100 руб.\n",
        "555: 50 руб.\n",
        "333: 15 руб.\n",
        "111: 10 руб.\n",
        "*77: 5 руб.\n",
        "**7: 3 руб.\n",
        "*00: 2 руб.\n",
        "**0: 1 руб.\n",
        "\n",
        "– любая цифра\n",
        "Дополнительное задание повышенной сложности. Теоретически рассчитать средний выигрыш (проигрыш) и сравнить с результатами моделирования"
      ]
    },
    {
      "cell_type": "code",
      "metadata": {
        "id": "_ODG0rah1yQx"
      },
      "source": [
        "import numpy as np"
      ],
      "execution_count": null,
      "outputs": []
    },
    {
      "cell_type": "code",
      "metadata": {
        "id": "-C0fwdT0YpXG"
      },
      "source": [
        "trials = 10000000 # Сколько расходуется денег (Количество испытаний)"
      ],
      "execution_count": null,
      "outputs": []
    },
    {
      "cell_type": "code",
      "metadata": {
        "id": "V5gMmsWLzt_0",
        "colab": {
          "base_uri": "https://localhost:8080/"
        },
        "outputId": "d50a7a94-c07d-41b6-be47-e480d9781444"
      },
      "source": [
        "uspekh = 0    # Количество успехов\n",
        "deneg = 0 \n",
        "    \n",
        "\n",
        "for i in range(trials):\n",
        "    vybor_sluchaj = np.random.randint(0, 1000)   \n",
        "    deneg+=1\n",
        "    if vybor_sluchaj % 10==0:\n",
        "        if vybor_sluchaj %100==0:\n",
        "            uspekh += 2\n",
        "        else:\n",
        "            uspekh += 1 \n",
        "            \n",
        "    if vybor_sluchaj%10==7:\n",
        "        if vybor_sluchaj%100==77:\n",
        "            if vybor_sluchaj==777:\n",
        "                uspekh +=200\n",
        "            else:\n",
        "                uspekh += 5\n",
        "        else:\n",
        "            uspekh += 3\n",
        "    \n",
        "    if vybor_sluchaj ==111:\n",
        "        uspekh += 10\n",
        "    if vybor_sluchaj == 333:\n",
        "        uspekh += 15\n",
        "    if random_score == 555:\n",
        "        uspekh += 50   \n",
        "    if random_score == 999:\n",
        "        uspekh += 100     \n",
        "podeda_vozmozhna = (uspekh / trials)*100 # Вероятность смоделированная\n",
        "print(f'Потратили', trials)\n",
        "print(f'Выиграли', uspekh)\n",
        "print(f'Вероятность выиграть смоделированная {podeda_vozmozhna} %')\n",
        "\n",
        "if (uspekh - pay_money) > 0:\n",
        "    print('Игра выгодна игроку. Выигрыш за 1 игру составил', (uspekh - pay_money)/trials)\n",
        "else:\n",
        "    print('Игра не выгодна игроку. Проигрыш за 1 игру составил', (uspekh - pay_money)/trials, 'руб.')"
      ],
      "execution_count": null,
      "outputs": [
        {
          "output_type": "stream",
          "text": [
            "Потратили 10000000\n",
            "Выиграли 6519892\n",
            "Вероятность выиграть смоделированная 65.19892 %\n",
            "Игра не выгодна игроку. Проигрыш за 1 игру составил -0.3480108 руб.\n"
          ],
          "name": "stdout"
        }
      ]
    },
    {
      "cell_type": "code",
      "metadata": {
        "colab": {
          "base_uri": "https://localhost:8080/"
        },
        "id": "O_HzsTC_0RXJ",
        "outputId": "ff5c1e05-b451-40f2-8784-7fef3222cc8e"
      },
      "source": [
        "# Рассчитаем средний выгрыш / проигрыш\n",
        "\n",
        "r777 = 1/trials   #200 руб\n",
        "r999 = 1/trials   # 100 руб\n",
        "r555 = 1/trials   #50 руб\n",
        "r333 = 1/trials   #15 руб\n",
        "r111 = 1/trials   #10 руб\n",
        "r77 = 9/trials  #5 руб\n",
        "r00 = 9/trials  #2 руб\n",
        "r7 = 90/trials  #3 руб\n",
        "r0 = 90/trials  #1 руб\n",
        "r0\n",
        "\n",
        "podeda_vozmozhna_n = ((200 * r777 + 100 * r999 + 50 * r555 + 15 * r333 + 10 * r111 + 5 * r77 + 2 * r00 + 3 * r7 + 1 * r0)-1)  # Вероятность расчетная\n",
        "\n",
        "\n",
        "if (podeda_vozmozhna_n) > 0:\n",
        "    print('Игра выгодна игроку. Выигрыш за 1 игру составил', podeda_vozmozhna_n)\n",
        "else:\n",
        "    print('Игра не выгодна игроку. Проигрыш за 1 игру составил', podeda_vozmozhna_n, 'руб.')"
      ],
      "execution_count": null,
      "outputs": [
        {
          "output_type": "stream",
          "text": [
            "Игра не выгодна игроку. Проигрыш за 1 игру составил -0.9999202 руб.\n"
          ],
          "name": "stdout"
        }
      ]
    }
  ]
}