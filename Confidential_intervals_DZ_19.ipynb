{
  "nbformat": 4,
  "nbformat_minor": 0,
  "metadata": {
    "kernelspec": {
      "display_name": "Python 3",
      "language": "python",
      "name": "python3"
    },
    "language_info": {
      "codemirror_mode": {
        "name": "ipython",
        "version": 3
      },
      "file_extension": ".py",
      "mimetype": "text/x-python",
      "name": "python",
      "nbconvert_exporter": "python",
      "pygments_lexer": "ipython3",
      "version": "3.8.5"
    },
    "toc": {
      "base_numbering": 1,
      "nav_menu": {},
      "number_sections": true,
      "sideBar": true,
      "skip_h1_title": false,
      "title_cell": "Table of Contents",
      "title_sidebar": "Contents",
      "toc_cell": false,
      "toc_position": {},
      "toc_section_display": true,
      "toc_window_display": false
    },
    "colab": {
      "name": "Confidential_intervals_DZ_19.ipynb",
      "provenance": [],
      "include_colab_link": true
    }
  },
  "cells": [
    {
      "cell_type": "markdown",
      "metadata": {
        "id": "view-in-github",
        "colab_type": "text"
      },
      "source": [
        "<a href=\"https://colab.research.google.com/github/milicaci/obuznie/blob/master/Confidential_intervals_DZ_19.ipynb\" target=\"_parent\"><img src=\"https://colab.research.google.com/assets/colab-badge.svg\" alt=\"Open In Colab\"/></a>"
      ]
    },
    {
      "cell_type": "code",
      "metadata": {
        "scrolled": true,
        "id": "dfr6T-ai1BoX"
      },
      "source": [
        "import numpy as np  \n",
        "import pandas as pd  # для работы с таблицами\n",
        "import scipy.stats # При работе со статистикой\n",
        "import matplotlib.pyplot as plt  # Библиотека для визуализации результатов \n",
        "\n",
        "import seaborn as sns # Более продвинутая библиотека для визуализации"
      ],
      "execution_count": 1,
      "outputs": []
    },
    {
      "cell_type": "markdown",
      "metadata": {
        "id": "xZqdnzCz1Boc"
      },
      "source": [
        "<p style=\"align: center;\"><img align=center src=\"https://netology.ru/backend/tilda/images/tild3439-3364-4535-b334-656263633534__main.svg\"  width=900></p>\n",
        "<h3 style=\"text-align: center;\"><b>«Доверительные интервалы. Статистическая проверка гипотез для несвязанных выборок »</b></h3>\n"
      ]
    },
    {
      "cell_type": "code",
      "metadata": {
        "id": "jI3-jcTx1Boe"
      },
      "source": [
        "#Вспомогательная функция для подсчета доверительного интервала\n",
        "\n",
        "def mean_confidence_interval(data, confidence=0.95):   \n",
        "    n = len(data)\n",
        "    m, se = np.mean(data), scipy.stats.sem(data)\n",
        "    h = se * scipy.stats.t.ppf((1 + confidence)/2, n)  #  функция ppf из scipy возвращает нам перцентиль\n",
        "    return m-h, m, m+h  #,h"
      ],
      "execution_count": 2,
      "outputs": []
    },
    {
      "cell_type": "code",
      "metadata": {
        "colab": {
          "base_uri": "https://localhost:8080/"
        },
        "id": "05NDmgIs1Boe",
        "outputId": "d70b714e-507e-45cf-eafb-d946be288345"
      },
      "source": [
        "a =  [5,7,7,9,10,16,7,14,13,15,16,15,\n",
        "     16,17,18,13,14,15,6,13, 14, 12 ,13 ]\n",
        "\n",
        "\n",
        "print(mean_confidence_interval(a, 0.60))\n",
        " "
      ],
      "execution_count": 3,
      "outputs": [
        {
          "output_type": "stream",
          "text": [
            "(11.707786838827133, 12.391304347826088, 13.074821856825043)\n"
          ],
          "name": "stdout"
        }
      ]
    },
    {
      "cell_type": "code",
      "metadata": {
        "id": "Z8Xdgf-e1Bog"
      },
      "source": [
        ""
      ],
      "execution_count": 3,
      "outputs": []
    },
    {
      "cell_type": "markdown",
      "metadata": {
        "id": "PgoFF3NZ1Boh"
      },
      "source": [
        "<h3 style=\"text-align: center;\"><b>Выборы в президенты или зачем нам доверительные интерваллы?!</b></h3>\n",
        "\n",
        "<p style=\"align: center;\"><img align=center src=\"https://www.englisch-hilfen.de/images/usa/states/map.gif\"  width=400></p>\n",
        "\n"
      ]
    },
    {
      "cell_type": "code",
      "metadata": {
        "colab": {
          "base_uri": "https://localhost:8080/",
          "height": 402
        },
        "id": "pCkMmwjt1Boh",
        "outputId": "3eecebb3-02af-4e3b-d298-f354146ab05b"
      },
      "source": [
        "US_elect_county = 'https://raw.githubusercontent.com/a-milenkin/datasets_for_t-tests/main/2012_US_elect_county.csv'\n",
        " \n",
        "df = pd.read_csv(US_elect_county, sep=',',  error_bad_lines=False) # Откроем датасет\n",
        "\n",
        "\n",
        "df.dropna(how='any',inplace=True)  #Удалим пустые значения\n",
        "df=df[df['%']!='#DIV/0!'][['State Postal','County Name','%']] #Удалим мусор из данных и оставим только нужное\n",
        "df['%'] = df['%'].astype(float) # Приведем к численному значению результаты голосования\n",
        "df"
      ],
      "execution_count": 4,
      "outputs": [
        {
          "output_type": "execute_result",
          "data": {
            "text/html": [
              "<div>\n",
              "<style scoped>\n",
              "    .dataframe tbody tr th:only-of-type {\n",
              "        vertical-align: middle;\n",
              "    }\n",
              "\n",
              "    .dataframe tbody tr th {\n",
              "        vertical-align: top;\n",
              "    }\n",
              "\n",
              "    .dataframe thead th {\n",
              "        text-align: right;\n",
              "    }\n",
              "</style>\n",
              "<table border=\"1\" class=\"dataframe\">\n",
              "  <thead>\n",
              "    <tr style=\"text-align: right;\">\n",
              "      <th></th>\n",
              "      <th>State Postal</th>\n",
              "      <th>County Name</th>\n",
              "      <th>%</th>\n",
              "    </tr>\n",
              "  </thead>\n",
              "  <tbody>\n",
              "    <tr>\n",
              "      <th>0</th>\n",
              "      <td>AK</td>\n",
              "      <td>Alaska</td>\n",
              "      <td>41.6</td>\n",
              "    </tr>\n",
              "    <tr>\n",
              "      <th>1</th>\n",
              "      <td>AK</td>\n",
              "      <td>Alaska</td>\n",
              "      <td>41.6</td>\n",
              "    </tr>\n",
              "    <tr>\n",
              "      <th>2</th>\n",
              "      <td>AL</td>\n",
              "      <td>Alabama</td>\n",
              "      <td>38.4</td>\n",
              "    </tr>\n",
              "    <tr>\n",
              "      <th>3</th>\n",
              "      <td>AL</td>\n",
              "      <td>Autauga</td>\n",
              "      <td>26.6</td>\n",
              "    </tr>\n",
              "    <tr>\n",
              "      <th>4</th>\n",
              "      <td>AL</td>\n",
              "      <td>Baldwin</td>\n",
              "      <td>21.6</td>\n",
              "    </tr>\n",
              "    <tr>\n",
              "      <th>...</th>\n",
              "      <td>...</td>\n",
              "      <td>...</td>\n",
              "      <td>...</td>\n",
              "    </tr>\n",
              "    <tr>\n",
              "      <th>4069</th>\n",
              "      <td>WV</td>\n",
              "      <td>Webster</td>\n",
              "      <td>34.2</td>\n",
              "    </tr>\n",
              "    <tr>\n",
              "      <th>4070</th>\n",
              "      <td>WV</td>\n",
              "      <td>Wetzel</td>\n",
              "      <td>37.8</td>\n",
              "    </tr>\n",
              "    <tr>\n",
              "      <th>4071</th>\n",
              "      <td>WV</td>\n",
              "      <td>Wirt</td>\n",
              "      <td>31.1</td>\n",
              "    </tr>\n",
              "    <tr>\n",
              "      <th>4072</th>\n",
              "      <td>WV</td>\n",
              "      <td>Wood</td>\n",
              "      <td>32.9</td>\n",
              "    </tr>\n",
              "    <tr>\n",
              "      <th>4073</th>\n",
              "      <td>WV</td>\n",
              "      <td>Wyoming</td>\n",
              "      <td>21.0</td>\n",
              "    </tr>\n",
              "  </tbody>\n",
              "</table>\n",
              "<p>4072 rows × 3 columns</p>\n",
              "</div>"
            ],
            "text/plain": [
              "     State Postal County Name     %\n",
              "0              AK      Alaska  41.6\n",
              "1              AK      Alaska  41.6\n",
              "2              AL     Alabama  38.4\n",
              "3              AL     Autauga  26.6\n",
              "4              AL     Baldwin  21.6\n",
              "...           ...         ...   ...\n",
              "4069           WV     Webster  34.2\n",
              "4070           WV      Wetzel  37.8\n",
              "4071           WV        Wirt  31.1\n",
              "4072           WV        Wood  32.9\n",
              "4073           WV     Wyoming  21.0\n",
              "\n",
              "[4072 rows x 3 columns]"
            ]
          },
          "metadata": {
            "tags": []
          },
          "execution_count": 4
        }
      ]
    },
    {
      "cell_type": "code",
      "metadata": {
        "colab": {
          "base_uri": "https://localhost:8080/",
          "height": 282
        },
        "id": "ETsOzrkO1Boi",
        "outputId": "8c740aa8-7a85-4f6e-e557-7f64a61f1f22"
      },
      "source": [
        "df['%'].hist(bins=150)\n",
        "print('Среднее по всей выборке: ',df['%'].mean())"
      ],
      "execution_count": 5,
      "outputs": [
        {
          "output_type": "stream",
          "text": [
            "Среднее по всей выборке:  44.07946954813346\n"
          ],
          "name": "stdout"
        },
        {
          "output_type": "display_data",
          "data": {
            "image/png": "[encoded data removed]",
            "text/plain": [
              "<Figure size 432x288 with 1 Axes>"
            ]
          },
          "metadata": {
            "tags": [],
            "needs_background": "light"
          }
        }
      ]
    },
    {
      "cell_type": "code",
      "metadata": {
        "colab": {
          "base_uri": "https://localhost:8080/"
        },
        "id": "2GgxQiTQ1Boj",
        "outputId": "15a48e94-6d13-47e3-fb91-e9e4e79c2cc7"
      },
      "source": [
        "some_states_1 = ['AK','OH','WV','ME','CA','MD']\n",
        "some_states_2 = ['WA','AK','DE']\n",
        "some_states_3 = ['AZ','RI','MA']\n",
        "\n",
        "\n",
        "\n",
        "sub_df = df.loc[df['State Postal'].isin(some_states_1)]  # Выборка по нескольким штатам\n",
        "l,s,r=mean_confidence_interval(sub_df['%'], 0.99)\n",
        "l,s,r"
      ],
      "execution_count": 6,
      "outputs": [
        {
          "output_type": "execute_result",
          "data": {
            "text/plain": [
              "(47.3315937164351, 48.45610425240053, 49.580614788365956)"
            ]
          },
          "metadata": {
            "tags": []
          },
          "execution_count": 6
        }
      ]
    },
    {
      "cell_type": "code",
      "metadata": {
        "id": "wC4iewoX1Boj"
      },
      "source": [
        "#df['State Postal'].value_counts()  Расскоментить, если интересно соотношение штатов. "
      ],
      "execution_count": 7,
      "outputs": []
    },
    {
      "cell_type": "markdown",
      "metadata": {
        "id": "1WPxL_tb1Bok"
      },
      "source": [
        "<p style=\"align: center;\"><img align=center src=\"https://encrypted-tbn0.gstatic.com/images?q=tbn:ANd9GcQM7ZUiNIwL4fZho5F7zqWpLBw-eL-Ttg0-UA&usqp=CAU\"  width=400></p>\n",
        " "
      ]
    },
    {
      "cell_type": "markdown",
      "metadata": {
        "id": "O5zZc1IX1Bok"
      },
      "source": [
        "<div class=\"alert alert-info\">\n",
        "<b>Другой пример: </b>\n",
        "    \n",
        "Расмотрим такой случай. Допустим, вы журналист и оказались в 2016 году в предверии выборов президента в США и хотите по результатам своих исследований достаточно точно определить, кто победит на этих выборах. Сколько вам необходимо опросить людей, чтобы назвать будущего президента с точность в 95%???\n",
        "</div>"
      ]
    },
    {
      "cell_type": "markdown",
      "metadata": {
        "id": "Ule-QeeI1Bol"
      },
      "source": [
        "<div class=\"alert alert-info\">\n",
        "    \n",
        "Результаты предшествующих исследований свидетельствуют, что стандартное отклонение генеральной совокупности приближенно равно 15. Таким образом, обозначим погрешность: $\\Delta$ = 5, Стандартное отклонение: $\\sigma$ = 15 и Z = 1,96\n",
        "\n",
        "</div>"
      ]
    },
    {
      "cell_type": "markdown",
      "metadata": {
        "id": "f2tiigWp1Bol"
      },
      "source": [
        "$$ n = (\\frac{Z*\\sigma}{\\Delta})^2$$\n",
        "- $\\Delta$ - допустимая ошибка/погрешность, \n",
        "\n",
        "- $\\sigma$ - стандартное отклонение, \n",
        "\n",
        "- Z - квантиль нормального распределения\n"
      ]
    },
    {
      "cell_type": "code",
      "metadata": {
        "id": "IGlfilaX1Bom"
      },
      "source": [
        "sigma = 15  # Стандартное отклонение\n",
        "Z = 1.96  #  %   # Квантиль нормального распределения. \n",
        "Delta = 5 #%         #Погрешность"
      ],
      "execution_count": 8,
      "outputs": []
    },
    {
      "cell_type": "code",
      "metadata": {
        "colab": {
          "base_uri": "https://localhost:8080/"
        },
        "id": "aAWE8jYC1Bom",
        "outputId": "b0ede0df-1f96-4a38-ff96-4cfd8c6b271a"
      },
      "source": [
        "N = int(((sigma*Z)/Delta)**2)\n",
        "N"
      ],
      "execution_count": 9,
      "outputs": [
        {
          "output_type": "execute_result",
          "data": {
            "text/plain": [
              "34"
            ]
          },
          "metadata": {
            "tags": []
          },
          "execution_count": 9
        }
      ]
    },
    {
      "cell_type": "markdown",
      "metadata": {
        "id": "_nYq3iQS1Bon"
      },
      "source": [
        "# Проверим разумность наших расуждений:"
      ]
    },
    {
      "cell_type": "code",
      "metadata": {
        "colab": {
          "base_uri": "https://localhost:8080/",
          "height": 0
        },
        "id": "5_sLCrFP1Bon",
        "outputId": "2cf2fb03-9931-4073-d429-305b59442503"
      },
      "source": [
        "df = df['%']\n",
        "print('Стандартное отклонение: ', df.std())\n",
        "print('Среднее: ', df.mean())\n",
        "df.hist(bins=80)"
      ],
      "execution_count": 10,
      "outputs": [
        {
          "output_type": "stream",
          "text": [
            "Стандартное отклонение:  15.742396788859033\n",
            "Среднее:  44.07946954813346\n"
          ],
          "name": "stdout"
        },
        {
          "output_type": "execute_result",
          "data": {
            "text/plain": [
              "<matplotlib.axes._subplots.AxesSubplot at 0x7f2207b46250>"
            ]
          },
          "metadata": {
            "tags": []
          },
          "execution_count": 10
        },
        {
          "output_type": "display_data",
          "data": {
            "image/png": "[encoded data removed]",
            "text/plain": [
              "<Figure size 432x288 with 1 Axes>"
            ]
          },
          "metadata": {
            "tags": [],
            "needs_background": "light"
          }
        }
      ]
    },
    {
      "cell_type": "code",
      "metadata": {
        "colab": {
          "base_uri": "https://localhost:8080/"
        },
        "id": "9q-B6DfY1Bon",
        "outputId": "29ae3779-8388-4e68-ea26-4bffbd767fa0"
      },
      "source": [
        "MEAN = df.sample(n = int(N)).mean()  # Возьмем выборку из случайных n значений\n",
        "print('Среднее выборки: ', MEAN)\n",
        "print('Среднее генеральной совокупности: ', df.mean())\n",
        "print(MEAN-Delta, MEAN+Delta)"
      ],
      "execution_count": 11,
      "outputs": [
        {
          "output_type": "stream",
          "text": [
            "Среднее выборки:  46.05000000000001\n",
            "Среднее генеральной совокупности:  44.07946954813346\n",
            "41.05000000000001 51.05000000000001\n"
          ],
          "name": "stdout"
        }
      ]
    },
    {
      "cell_type": "code",
      "metadata": {
        "id": "i7Rb54Mq1Boo"
      },
      "source": [
        "#df.boxplot(by='%')"
      ],
      "execution_count": 12,
      "outputs": []
    },
    {
      "cell_type": "code",
      "metadata": {
        "id": "JTYMnXT-1Boo"
      },
      "source": [
        "# from scipy.stats import norm\n",
        "# norm.ppf(0.95, loc=0, scale=1)\n"
      ],
      "execution_count": 13,
      "outputs": []
    },
    {
      "cell_type": "code",
      "metadata": {
        "id": "xW6_1xeI1Bop"
      },
      "source": [
        " "
      ],
      "execution_count": 13,
      "outputs": []
    },
    {
      "cell_type": "markdown",
      "metadata": {
        "id": "UwRuSRNP1Bop"
      },
      "source": [
        "# Проверка гипотез с помощью Python. "
      ]
    },
    {
      "cell_type": "code",
      "metadata": {
        "colab": {
          "base_uri": "https://localhost:8080/"
        },
        "id": "HXNWr0zp1Bop",
        "outputId": "ae8899df-37db-4675-ea85-3e624d6da42a"
      },
      "source": [
        "from scipy import stats  # Импортируем библиотеку\n",
        "np.random.seed(21)  # Загрепим seed для воспроизводимости результата.\n",
        "\n",
        "# Генерируем случайное множество с нормальным распределением, где среднее = loc, а стандартное распределение = scale\n",
        "A = stats.norm.rvs(loc=50, scale=10, size=500)  \n",
        "B = stats.norm.rvs(loc=49, scale=10, size=1500) \n",
        "\n",
        "\n",
        "t, p = stats.ttest_ind(A, B)\n",
        "t, p"
      ],
      "execution_count": 14,
      "outputs": [
        {
          "output_type": "execute_result",
          "data": {
            "text/plain": [
              "(3.0258839844589733, 0.0025107075866209454)"
            ]
          },
          "metadata": {
            "tags": []
          },
          "execution_count": 14
        }
      ]
    },
    {
      "cell_type": "code",
      "metadata": {
        "id": "2ra4gi-w1Boq",
        "colab": {
          "base_uri": "https://localhost:8080/"
        },
        "outputId": "3e39c46c-4c53-4ded-875d-d898a62719fe"
      },
      "source": [
        " stats.ttest_ind(A, B, equal_var = False)"
      ],
      "execution_count": 15,
      "outputs": [
        {
          "output_type": "execute_result",
          "data": {
            "text/plain": [
              "Ttest_indResult(statistic=3.019304910727292, pvalue=0.002609079015138788)"
            ]
          },
          "metadata": {
            "tags": []
          },
          "execution_count": 15
        }
      ]
    },
    {
      "cell_type": "markdown",
      "metadata": {
        "id": "D8lK9n011Boq"
      },
      "source": [
        "Мы получаем хорошее значение p, равное 0,0026, и, таким образом, мы отклоняем нулевую гипотезу и, таким образом,\n",
        "это доказывает, что средние значения двух распределений различны и различие статистически значимо."
      ]
    },
    {
      "cell_type": "markdown",
      "metadata": {
        "id": "pA8BR5GM1Bor"
      },
      "source": [
        "#### И действительно, если посмотреть на сгенерированные выборки. "
      ]
    },
    {
      "cell_type": "code",
      "metadata": {
        "colab": {
          "base_uri": "https://localhost:8080/",
          "height": 0
        },
        "id": "n_KY6Mez1Bor",
        "outputId": "8f2093ff-eabe-4f5c-f8bb-ef4b7b5fdd06"
      },
      "source": [
        "plt.hist(B, bins=25); #Выборка A\n",
        "plt.hist(A, bins=25);  #Выборка B"
      ],
      "execution_count": 16,
      "outputs": [
        {
          "output_type": "display_data",
          "data": {
            "image/png": "[encoded data removed]",
            "text/plain": [
              "<Figure size 432x288 with 1 Axes>"
            ]
          },
          "metadata": {
            "tags": [],
            "needs_background": "light"
          }
        }
      ]
    },
    {
      "cell_type": "code",
      "metadata": {
        "id": "e-MeXILb1Bor"
      },
      "source": [
        "# plt.boxplot(A);\n",
        "# plt.boxplot(B);\n"
      ],
      "execution_count": 17,
      "outputs": []
    },
    {
      "cell_type": "markdown",
      "metadata": {
        "id": "9DD8Zcdk1Bos"
      },
      "source": [
        "# Проверка гипотез"
      ]
    },
    {
      "cell_type": "markdown",
      "metadata": {
        "id": "N5CCnd_I1Bos"
      },
      "source": [
        "### t-Тест Стьюдента"
      ]
    },
    {
      "cell_type": "code",
      "metadata": {
        "colab": {
          "base_uri": "https://localhost:8080/"
        },
        "id": "uaPbOqdu1Bos",
        "outputId": "e9ca5adb-01c0-4095-ac96-0428698ff067"
      },
      "source": [
        "from scipy import stats\n",
        "np.random.seed(42)  # Загрепим seed для воспроизводимости результата.\n",
        "\n",
        "## Определим 2 случайных распределения\n",
        "N = 100  #Размер выборок\n",
        "\n",
        "\n",
        "b = np.random.randn(N) #Нормальное распределение с mean = 0 and var = 1\n",
        "a = np.random.randn(N) + 1.5 #Нормальное распределение с mean = 2 and var = 1\n",
        " \n",
        "### мы получаем хорошее значение p, равное 0,0005, и, таким образом, мы отклоняем нулевую гипотезу и, таким образом,\n",
        "### это доказывает, что средние значения двух распределений различны и различие статистически значимо.\n",
        " \n",
        "t , p  = stats.ttest_ind(a, b)\n",
        "print(\"t = \" + str(t))\n",
        "print(\"p = \" + str(p))\n",
        "\n",
        "# Большое значение t-score говорит нам, что группы отличаются\n",
        "# Маленькие значения t-score говорят нам, что группы схожи"
      ],
      "execution_count": 18,
      "outputs": [
        {
          "output_type": "stream",
          "text": [
            "t = 12.348223942992178\n",
            "p = 2.395356067387906e-26\n"
          ],
          "name": "stdout"
        }
      ]
    },
    {
      "cell_type": "code",
      "metadata": {
        "id": "COsRSZHw1Bot"
      },
      "source": [
        ""
      ],
      "execution_count": 18,
      "outputs": []
    },
    {
      "cell_type": "code",
      "metadata": {
        "colab": {
          "base_uri": "https://localhost:8080/",
          "height": 0
        },
        "id": "obWBs0F51Bot",
        "outputId": "16a09000-f2cc-410f-dc34-c4e45a257b92"
      },
      "source": [
        "plt.hist(a, bins=25); #Выборка a\n",
        "plt.hist(b, bins=25);  #Выборка b"
      ],
      "execution_count": 19,
      "outputs": [
        {
          "output_type": "display_data",
          "data": {
            "image/png": "[encoded data removed]",
            "text/plain": [
              "<Figure size 432x288 with 1 Axes>"
            ]
          },
          "metadata": {
            "tags": [],
            "needs_background": "light"
          }
        }
      ]
    },
    {
      "cell_type": "markdown",
      "metadata": {
        "id": "IsfqdHFu1Bou"
      },
      "source": [
        "# a. Одновыборочный T-test (Выборка + ГС)"
      ]
    },
    {
      "cell_type": "markdown",
      "metadata": {
        "id": "VwYdzJvm1Bou"
      },
      "source": [
        "<div class=\"alert alert-info\">\n",
        "<b>Описание: </b>\n",
        "Давайте попробуем это на одном образце. Тест покажет нам, отличаются ли средние значения выборки и генеральной совокупности (сравниваем с генеральной!). Рассмотрим количество голосующих в Индии и население всего Мира. Отличается ли средний возраст избирателей Индии от возраста населения? Сейчас выясним!\n",
        "</div>"
      ]
    },
    {
      "cell_type": "code",
      "metadata": {
        "colab": {
          "base_uri": "https://localhost:8080/"
        },
        "id": "2u874NST1Bou",
        "outputId": "fbf6a8ce-0d8e-4b81-b3bf-337dd632fffa"
      },
      "source": [
        "import scipy.stats as stats\n",
        " \n",
        "\n",
        "population_ages1=stats.norm.rvs(loc=18, scale=45, size=150000)   \n",
        "population_ages2=stats.norm.rvs(loc=18, scale=10, size=100000)\n",
        "population_ages=np.concatenate((population_ages1,population_ages2))  # Сгенерировали всю популяцию. \n",
        "\n",
        "\n",
        "india_ages1=stats.norm.rvs(loc=18, scale=45, size=9000)  # Индия 1\n",
        "india_ages2=stats.norm.rvs(loc=18, scale=35, size=9000)\n",
        "india_ages=np.concatenate((india_ages1,india_ages2)) #Выборка\n",
        "population_ages.mean()\n"
      ],
      "execution_count": 20,
      "outputs": [
        {
          "output_type": "execute_result",
          "data": {
            "text/plain": [
              "18.04097903032585"
            ]
          },
          "metadata": {
            "tags": []
          },
          "execution_count": 20
        }
      ]
    },
    {
      "cell_type": "code",
      "metadata": {
        "colab": {
          "base_uri": "https://localhost:8080/"
        },
        "id": "thK534HI1Bov",
        "outputId": "4283b3af-6b2d-44af-864a-d3a52757727c"
      },
      "source": [
        "india_ages.mean()"
      ],
      "execution_count": 21,
      "outputs": [
        {
          "output_type": "execute_result",
          "data": {
            "text/plain": [
              "17.912805318044327"
            ]
          },
          "metadata": {
            "tags": []
          },
          "execution_count": 21
        }
      ]
    },
    {
      "cell_type": "code",
      "metadata": {
        "colab": {
          "base_uri": "https://localhost:8080/"
        },
        "id": "liru3UNB1Bov",
        "outputId": "06942db7-5d8e-451b-c536-097293c6709e"
      },
      "source": [
        "stats.ttest_1samp(a=india_ages, popmean=population_ages.mean())"
      ],
      "execution_count": 22,
      "outputs": [
        {
          "output_type": "execute_result",
          "data": {
            "text/plain": [
              "Ttest_1sampResult(statistic=-0.42891365181458957, pvalue=0.6679911980738282)"
            ]
          },
          "metadata": {
            "tags": []
          },
          "execution_count": 22
        }
      ]
    },
    {
      "cell_type": "markdown",
      "metadata": {
        "id": "uUw0KYVc1Bow"
      },
      "source": [
        "**Теперь это значение `statistic=0.1197` говорит нам, насколько отклоняется выборочное среднее от нулевой гипотезы.**"
      ]
    },
    {
      "cell_type": "code",
      "metadata": {
        "colab": {
          "base_uri": "https://localhost:8080/",
          "height": 0
        },
        "id": "MekzB1PN1Bow",
        "outputId": "a34aa3bc-d911-4eee-9a28-1d9d123a38f9"
      },
      "source": [
        "plt.hist(population_ages, bins=120); # Вся популяция.\n",
        "plt.hist(india_ages, bins=120);  # Выборка"
      ],
      "execution_count": 23,
      "outputs": [
        {
          "output_type": "display_data",
          "data": {
            "image/png": "[encoded data removed]",
            "text/plain": [
              "<Figure size 432x288 with 1 Axes>"
            ]
          },
          "metadata": {
            "tags": [],
            "needs_background": "light"
          }
        }
      ]
    },
    {
      "cell_type": "markdown",
      "metadata": {
        "id": "BRUFG46V1Bow"
      },
      "source": [
        "# b. Двух-выборочный T-test (Две выборки)"
      ]
    },
    {
      "cell_type": "markdown",
      "metadata": {
        "id": "p53FVb8s1Bow"
      },
      "source": [
        "<div class=\"alert alert-info\">\n",
        "<b>Описание: </b>\n",
        "Такой тест показывает, имеют ли две выборки данных разные средние значения (Теперь у нас две разные выборки, а не одна!). Здесь мы принимаем нулевую гипотезу о том, что обе группы имеют равные средние. Для этого нам не нужен известный параметр численности.\n",
        "</div>"
      ]
    },
    {
      "cell_type": "code",
      "metadata": {
        "colab": {
          "base_uri": "https://localhost:8080/"
        },
        "id": "LNBFD2mQ1Box",
        "outputId": "5a02f09c-9eb4-444e-f9da-9a8330c5064f"
      },
      "source": [
        "np.random.seed(84)\n",
        "maharashtra_ages1=stats.norm.rvs(loc=17,scale=5,size=3000)\n",
        "maharashtra_ages2=stats.norm.rvs(loc=17,scale=15,size=2000)\n",
        " \n",
        "\n",
        "maharashtra_ages=np.concatenate((maharashtra_ages1,maharashtra_ages2))\n",
        "maharashtra_ages.mean()\n",
        " "
      ],
      "execution_count": 24,
      "outputs": [
        {
          "output_type": "execute_result",
          "data": {
            "text/plain": [
              "16.93951973942959"
            ]
          },
          "metadata": {
            "tags": []
          },
          "execution_count": 24
        }
      ]
    },
    {
      "cell_type": "code",
      "metadata": {
        "colab": {
          "base_uri": "https://localhost:8080/",
          "height": 0
        },
        "id": "MsOR8oi91Box",
        "outputId": "e8e3814e-49a9-4ed6-d296-feeb1a8b17e1"
      },
      "source": [
        "#Расскомментировать, если интересно увидеть отличия визуально\n",
        "plt.hist(maharashtra_ages, bins=120);\n",
        "plt.hist(maharashtra_ages2, bins=120);"
      ],
      "execution_count": 25,
      "outputs": [
        {
          "output_type": "display_data",
          "data": {
            "image/png": "[encoded data removed]",
            "text/plain": [
              "<Figure size 432x288 with 1 Axes>"
            ]
          },
          "metadata": {
            "tags": [],
            "needs_background": "light"
          }
        }
      ]
    },
    {
      "cell_type": "code",
      "metadata": {
        "colab": {
          "base_uri": "https://localhost:8080/"
        },
        "id": "r--dzH2O1Boy",
        "outputId": "dddbb919-d6a8-48d1-e16f-50314f4eb375"
      },
      "source": [
        "stats.ttest_ind(a=india_ages, b=maharashtra_ages, equal_var=False)  # Смотри сюда!!! "
      ],
      "execution_count": 26,
      "outputs": [
        {
          "output_type": "execute_result",
          "data": {
            "text/plain": [
              "Ttest_indResult(statistic=2.929306138816564, pvalue=0.003400545578247028)"
            ]
          },
          "metadata": {
            "tags": []
          },
          "execution_count": 26
        }
      ]
    },
    {
      "cell_type": "markdown",
      "metadata": {
        "id": "PkOKsCsH1Boy"
      },
      "source": [
        "**Значение `pvalue= 0.0014` говорит о том, что существует вероятность 0.14%, что данные выборки настолько далеко друг от друга\n",
        "для двух одинаковых групп. Это меньше, чем уровень достоверности 5%.**"
      ]
    },
    {
      "cell_type": "code",
      "metadata": {
        "id": "5TiJVPZp1Boz"
      },
      "source": [
        "#Расскомментировать, если интересно увидеть отличия визуально\n",
        "# plt.hist(india_ages, bins=120);\n",
        "# plt.hist(maharashtra_ages, bins=120);"
      ],
      "execution_count": 27,
      "outputs": []
    },
    {
      "cell_type": "markdown",
      "metadata": {
        "id": "U-bJgfpm1Boz"
      },
      "source": [
        "# c. Paired T-test (Сравнение зависимых)"
      ]
    },
    {
      "cell_type": "markdown",
      "metadata": {
        "id": "aWNfccfq1Boz"
      },
      "source": [
        "<div class=\"alert alert-info\">\n",
        "<b>Описание: </b>\n",
        "    \n",
        "T-критерий парной выборки, иногда называемый `t-критерием` зависимой выборки, представляет собой статистическую процедуру, используемую для определения того, равна ли нулю средняя разница между двумя наборами наблюдений. В парном выборочном `t-тесте` каждый субъект или объект измеряется дважды, в результате чего получаются пары наблюдений. Общие применения парного `t-критерия` выборки включают исследования случай-контроль или планы повторных измерений. \n",
        "\n",
        " Предположим, вас интересует оценка эффективности программы обучения компании. Один из подходов, который вы можете рассмотреть, - это измерение производительности выборки сотрудников до и после завершения программы и анализ различий с использованием парного выборочного `t-критерия`. \n",
        "</div>"
      ]
    },
    {
      "cell_type": "markdown",
      "metadata": {
        "id": "JiSJNDxA1Bo0"
      },
      "source": [
        " "
      ]
    },
    {
      "cell_type": "code",
      "metadata": {
        "colab": {
          "base_uri": "https://localhost:8080/",
          "height": 0
        },
        "id": "RodEVs8v1Bo0",
        "outputId": "f1f2222c-e9b5-4cf8-dfd5-50994a9ae6bc"
      },
      "source": [
        "np.random.seed(12)\n",
        "before = stats.norm.rvs(scale = 30, loc = 250, size = 100)\n",
        "after = before + stats.norm.rvs(scale = 5, loc = -.273, size = 100)\n",
        "weight_df = pd.DataFrame({\"weight_before\":before,\n",
        "                         \"weight_after\":after,\n",
        "                         \"weight_change\":after-before})\n",
        "weight_df.describe()"
      ],
      "execution_count": 28,
      "outputs": [
        {
          "output_type": "execute_result",
          "data": {
            "text/html": [
              "<div>\n",
              "<style scoped>\n",
              "    .dataframe tbody tr th:only-of-type {\n",
              "        vertical-align: middle;\n",
              "    }\n",
              "\n",
              "    .dataframe tbody tr th {\n",
              "        vertical-align: top;\n",
              "    }\n",
              "\n",
              "    .dataframe thead th {\n",
              "        text-align: right;\n",
              "    }\n",
              "</style>\n",
              "<table border=\"1\" class=\"dataframe\">\n",
              "  <thead>\n",
              "    <tr style=\"text-align: right;\">\n",
              "      <th></th>\n",
              "      <th>weight_before</th>\n",
              "      <th>weight_after</th>\n",
              "      <th>weight_change</th>\n",
              "    </tr>\n",
              "  </thead>\n",
              "  <tbody>\n",
              "    <tr>\n",
              "      <th>count</th>\n",
              "      <td>100.000000</td>\n",
              "      <td>100.000000</td>\n",
              "      <td>100.000000</td>\n",
              "    </tr>\n",
              "    <tr>\n",
              "      <th>mean</th>\n",
              "      <td>245.670775</td>\n",
              "      <td>244.316557</td>\n",
              "      <td>-1.354218</td>\n",
              "    </tr>\n",
              "    <tr>\n",
              "      <th>std</th>\n",
              "      <td>31.536594</td>\n",
              "      <td>31.351874</td>\n",
              "      <td>5.157803</td>\n",
              "    </tr>\n",
              "    <tr>\n",
              "      <th>min</th>\n",
              "      <td>155.577504</td>\n",
              "      <td>155.560250</td>\n",
              "      <td>-13.370467</td>\n",
              "    </tr>\n",
              "    <tr>\n",
              "      <th>25%</th>\n",
              "      <td>227.831705</td>\n",
              "      <td>224.927586</td>\n",
              "      <td>-5.204568</td>\n",
              "    </tr>\n",
              "    <tr>\n",
              "      <th>50%</th>\n",
              "      <td>246.688266</td>\n",
              "      <td>246.142588</td>\n",
              "      <td>-1.629565</td>\n",
              "    </tr>\n",
              "    <tr>\n",
              "      <th>75%</th>\n",
              "      <td>265.132293</td>\n",
              "      <td>261.730528</td>\n",
              "      <td>1.989948</td>\n",
              "    </tr>\n",
              "    <tr>\n",
              "      <th>max</th>\n",
              "      <td>336.154582</td>\n",
              "      <td>332.751176</td>\n",
              "      <td>14.935431</td>\n",
              "    </tr>\n",
              "  </tbody>\n",
              "</table>\n",
              "</div>"
            ],
            "text/plain": [
              "       weight_before  weight_after  weight_change\n",
              "count     100.000000    100.000000     100.000000\n",
              "mean      245.670775    244.316557      -1.354218\n",
              "std        31.536594     31.351874       5.157803\n",
              "min       155.577504    155.560250     -13.370467\n",
              "25%       227.831705    224.927586      -5.204568\n",
              "50%       246.688266    246.142588      -1.629565\n",
              "75%       265.132293    261.730528       1.989948\n",
              "max       336.154582    332.751176      14.935431"
            ]
          },
          "metadata": {
            "tags": []
          },
          "execution_count": 28
        }
      ]
    },
    {
      "cell_type": "code",
      "metadata": {
        "colab": {
          "base_uri": "https://localhost:8080/"
        },
        "id": "b5-emhcL1Bo0",
        "outputId": "87b0a241-9370-41a9-a7bc-de91e9299be7"
      },
      "source": [
        "stats.ttest_rel(a=before, b=after)"
      ],
      "execution_count": 29,
      "outputs": [
        {
          "output_type": "execute_result",
          "data": {
            "text/plain": [
              "Ttest_relResult(statistic=2.625571255881005, pvalue=0.01002290520917281)"
            ]
          },
          "metadata": {
            "tags": []
          },
          "execution_count": 29
        }
      ]
    },
    {
      "cell_type": "markdown",
      "metadata": {
        "id": "9rNz8q0-1Bo1"
      },
      "source": [
        "**Итак, мы видим, что у нас есть только 1% шансов найти такие огромные различия между образцами.**"
      ]
    },
    {
      "cell_type": "markdown",
      "metadata": {
        "id": "4YMDbY2J1Bo1"
      },
      "source": [
        "# Практическое применение t-Тест Стьюдента"
      ]
    },
    {
      "cell_type": "markdown",
      "metadata": {
        "id": "zSwWcEh71Bo1"
      },
      "source": [
        "<div class=\"alert alert-info\">\n",
        "<b>Задание: </b>\n",
        "    \n",
        "Представим, что вы следователь какой-то крупной рекламной компаннии. \n",
        "Ваша задача иследовать рыннок манго в течени последних нескольких лет.\n",
        "У вас уже есть предварительные данные. Ваши подчиненные решили схалтурить и принести вам совсем другие отчеты. \n",
        "\n",
        "Сможели ли вы их разоблачить с помощью t-Тест Стьюдента?\n",
        "</div>"
      ]
    },
    {
      "cell_type": "markdown",
      "metadata": {
        "id": "VAFu4aUR1Bo2"
      },
      "source": [
        "<p style=\"align: center;\"><img align=center src=\"https://www.canadianbusiness.com/wp-content/uploads/2012/02/6ed2b4b84defad6ff7b3b813f634.jpg\"  width=400></p>\n",
        "\n"
      ]
    },
    {
      "cell_type": "code",
      "metadata": {
        "colab": {
          "base_uri": "https://localhost:8080/"
        },
        "id": "VUcBMaNz1Bo2",
        "outputId": "4d527fd7-2d5d-4b4f-e847-b5d610368e87"
      },
      "source": [
        "avocado = 'https://raw.githubusercontent.com/a-milenkin/datasets_for_t-tests/main/avocado.csv'\n",
        "Students = 'https://raw.githubusercontent.com/a-milenkin/datasets_for_t-tests/main/StudentsPerformance.csv'\n",
        "\n",
        "A = pd.read_csv(avocado, sep=',', index_col=0, error_bad_lines=False).AveragePrice[:1000]\n",
        "B = pd.read_csv(Students, sep=',', index_col=0, error_bad_lines=False)['math score']\n",
        "t, p = stats.ttest_ind(A, B)\n",
        "t, p"
      ],
      "execution_count": 30,
      "outputs": [
        {
          "output_type": "execute_result",
          "data": {
            "text/plain": [
              "(-135.56983375430264, 0.0)"
            ]
          },
          "metadata": {
            "tags": []
          },
          "execution_count": 30
        }
      ]
    },
    {
      "cell_type": "code",
      "metadata": {
        "colab": {
          "base_uri": "https://localhost:8080/",
          "height": 0
        },
        "id": "j9G7Y2pB1Bo2",
        "outputId": "61abdc00-a5cc-4e09-9d65-50307eea78b4"
      },
      "source": [
        "#и действительно выборки пренадлежать разным распределениям\n",
        "\n",
        "plt.hist(B, bins=70);\n",
        "plt.hist(A, bins=70);"
      ],
      "execution_count": 31,
      "outputs": [
        {
          "output_type": "display_data",
          "data": {
            "image/png": "[encoded data removed]",
            "text/plain": [
              "<Figure size 432x288 with 1 Axes>"
            ]
          },
          "metadata": {
            "tags": [],
            "needs_background": "light"
          }
        }
      ]
    },
    {
      "cell_type": "code",
      "metadata": {
        "id": "V3B2ZmkX1Bo3"
      },
      "source": [
        ""
      ],
      "execution_count": 31,
      "outputs": []
    },
    {
      "cell_type": "markdown",
      "metadata": {
        "id": "Y2MXhvLI1Bo3"
      },
      "source": [
        "# $\\chi^{2}$ -  Критерий пирсона"
      ]
    },
    {
      "cell_type": "code",
      "metadata": {
        "id": "7sTZ7owdeMR1"
      },
      "source": [
        "import  scipy.stats  as  sps"
      ],
      "execution_count": 32,
      "outputs": []
    },
    {
      "cell_type": "code",
      "metadata": {
        "id": "tlHtUK3t1ypb"
      },
      "source": [
        "from scipy.stats import chi2_contingency\n"
      ],
      "execution_count": 33,
      "outputs": []
    },
    {
      "cell_type": "code",
      "metadata": {
        "colab": {
          "base_uri": "https://localhost:8080/",
          "height": 229
        },
        "id": "zC0Wrdi31Bo3",
        "outputId": "515d404c-a65d-49e5-ad94-8a6496171524"
      },
      "source": [
        "# Сгенерируем случайную матрицу 2х2\n",
        "X, y = np.random.randint(2, size=50).reshape(10, 5), np.random.randint(2, size=10) \n",
        "contingency_table = sps.sparse.coo_matrix( (np.ones_like(y), (X[:, 0], y)),    \n",
        "                                         shape=(np.unique(X[:, 0]).shape[0], \n",
        "                                                np.unique(y).shape[0])).A\n",
        "\n",
        "print('Реальная таблица')\n",
        "print(contingency_table)\n",
        "chi2, p, do, expected =  chi2_contingency(contingency_table)\n",
        "\n",
        "print(chi2, p, do)\n",
        "\n",
        "print('Ожидаемая таблица')\n",
        "print(expected)\n",
        "\n",
        "# Возвращает:\n",
        "# chi2 : Посчитанную статистику теста.\n",
        "# p :  p-value теста\n",
        "# dof : Степени свободы\n",
        "# expected : Ожидаемые частоты, основанные на предельных суммах таблицы."
      ],
      "execution_count": 34,
      "outputs": [
        {
          "output_type": "error",
          "ename": "AttributeError",
          "evalue": "ignored",
          "traceback": [
            "\u001b[0;31m---------------------------------------------------------------------------\u001b[0m",
            "\u001b[0;31mAttributeError\u001b[0m                            Traceback (most recent call last)",
            "\u001b[0;32m<ipython-input-34-a859d9887abb>\u001b[0m in \u001b[0;36m<module>\u001b[0;34m()\u001b[0m\n\u001b[1;32m      1\u001b[0m \u001b[0;31m# Сгенерируем случайную матрицу 2х2\u001b[0m\u001b[0;34m\u001b[0m\u001b[0;34m\u001b[0m\u001b[0;34m\u001b[0m\u001b[0m\n\u001b[1;32m      2\u001b[0m \u001b[0mX\u001b[0m\u001b[0;34m,\u001b[0m \u001b[0my\u001b[0m \u001b[0;34m=\u001b[0m \u001b[0mnp\u001b[0m\u001b[0;34m.\u001b[0m\u001b[0mrandom\u001b[0m\u001b[0;34m.\u001b[0m\u001b[0mrandint\u001b[0m\u001b[0;34m(\u001b[0m\u001b[0;36m2\u001b[0m\u001b[0;34m,\u001b[0m \u001b[0msize\u001b[0m\u001b[0;34m=\u001b[0m\u001b[0;36m50\u001b[0m\u001b[0;34m)\u001b[0m\u001b[0;34m.\u001b[0m\u001b[0mreshape\u001b[0m\u001b[0;34m(\u001b[0m\u001b[0;36m10\u001b[0m\u001b[0;34m,\u001b[0m \u001b[0;36m5\u001b[0m\u001b[0;34m)\u001b[0m\u001b[0;34m,\u001b[0m \u001b[0mnp\u001b[0m\u001b[0;34m.\u001b[0m\u001b[0mrandom\u001b[0m\u001b[0;34m.\u001b[0m\u001b[0mrandint\u001b[0m\u001b[0;34m(\u001b[0m\u001b[0;36m2\u001b[0m\u001b[0;34m,\u001b[0m \u001b[0msize\u001b[0m\u001b[0;34m=\u001b[0m\u001b[0;36m10\u001b[0m\u001b[0;34m)\u001b[0m\u001b[0;34m\u001b[0m\u001b[0;34m\u001b[0m\u001b[0m\n\u001b[0;32m----> 3\u001b[0;31m contingency_table = sps.sparse.coo_matrix( (np.ones_like(y), (X[:, 0], y)),    \n\u001b[0m\u001b[1;32m      4\u001b[0m                                          shape=(np.unique(X[:, 0]).shape[0], \n\u001b[1;32m      5\u001b[0m                                                 np.unique(y).shape[0])).A\n",
            "\u001b[0;31mAttributeError\u001b[0m: module 'scipy.stats' has no attribute 'sparse'"
          ]
        }
      ]
    },
    {
      "cell_type": "markdown",
      "metadata": {
        "id": "kLelt6pH1Bo4"
      },
      "source": [
        "**Пример использования Хи-квадрат теста**"
      ]
    },
    {
      "cell_type": "code",
      "metadata": {
        "id": "SbG6VIof1Bo4"
      },
      "source": [
        "from scipy.stats import chi2_contingency\n",
        "\n",
        " \n",
        "table = [[10, 20, 30],[6,  9,  17]]\n",
        "print(np.array(table))\n",
        "stat, p, dof, expected = chi2_contingency(table)\n",
        "print('stat=%.3f, p=%.3f' % (stat, p))\n",
        "if p > 0.05:\n",
        "    print('Вероятно независимы')\n",
        "else:\n",
        "    print('Вероятно зависимы')"
      ],
      "execution_count": null,
      "outputs": []
    },
    {
      "cell_type": "code",
      "metadata": {
        "id": "RjriTkkC1Bo5"
      },
      "source": [
        "subjects = pd.DataFrame(\n",
        "    [\n",
        "        [25,46,15],\n",
        "        [15,44,15],\n",
        "        [10,10,20]\n",
        "    ],\n",
        "    index=['Биология','Химия','Физика'],\n",
        "    columns=['Math SL AA','Math SL AI','Math HL'])\n",
        "subjects"
      ],
      "execution_count": null,
      "outputs": []
    },
    {
      "cell_type": "markdown",
      "metadata": {
        "id": "LUOUTXC41Bo5"
      },
      "source": [
        "**Если рассчитанный хи-квадрат больше критического значения, мы отклоняем нулевую гипотезу.**"
      ]
    },
    {
      "cell_type": "code",
      "metadata": {
        "id": "CJnSY0jk1Bo5"
      },
      "source": [
        "chi, pval, dof, exp = scipy.stats.chi2_contingency(subjects) #  \n",
        "print('p-value is: ', pval)\n",
        "significance = 0.05\n",
        "p = 1 - significance\n",
        "critical_value = scipy.stats.chi2.ppf(p, dof)\n",
        "print('chi=%.6f, критическоре значение=%.6f\\n' % (chi, critical_value))\n",
        "\n",
        "\n",
        "\n",
        "if chi > critical_value:\n",
        "    print(\"\"\"На %.2f уровене значимости, мы отвергаем нулевые гипотезы и принимаем H1.\n",
        "        Они не независимы.\"\"\" % (significance))\n",
        "else:\n",
        "    print(\"\"\"На %.2f уровене значимости, мы принимаем нулевые гипотезы. \n",
        "        Они независимы.\"\"\" % (significance))"
      ],
      "execution_count": null,
      "outputs": []
    },
    {
      "cell_type": "markdown",
      "metadata": {
        "id": "Bma-T2Cc1Bo6"
      },
      "source": [
        "**В качестве альтернативы мы можем сравнить p-значение и уровень значимости. Если значение p <уровня значимости, мы отклоняем нулевую гипотезу.**"
      ]
    },
    {
      "cell_type": "code",
      "metadata": {
        "id": "g-ATLSr31Bo7"
      },
      "source": [
        "chi, pval, dof, exp = scipy.stats.chi2_contingency(subjects)\n",
        "significance = 0.05\n",
        "print('p-value=%.6f, significance=%.2f\\n' % (pval, significance))\n",
        "\n",
        "\n",
        "if pval < significance:\n",
        "    print(\"\"\"На %.2f уровене значимости, мы отвергаем нулевые гипотезы и принимаем H1.\n",
        "            Они не независимы.\"\"\" % (significance))\n",
        "else:\n",
        "    print(\"\"\"На %.2f уровене значимости, мы принимаем нулевые гипотезы.  \n",
        "            Они независимы.\"\"\" % (significance))"
      ],
      "execution_count": null,
      "outputs": []
    },
    {
      "cell_type": "markdown",
      "metadata": {
        "id": "7h5JM-121Bo7"
      },
      "source": [
        "# Точный критерий Фишера "
      ]
    },
    {
      "cell_type": "code",
      "metadata": {
        "id": "fU08errw1Bo7"
      },
      "source": [
        "import scipy as sp\n",
        "\n",
        "x = [[107,93],[74,45]]\n",
        "print(x)\n",
        "oddsratio, pvalue = sp.stats.fisher_exact(x)\n",
        "oddsratio, pvalue"
      ],
      "execution_count": null,
      "outputs": []
    },
    {
      "cell_type": "markdown",
      "metadata": {
        "id": "Bo_r9WD31Bo8"
      },
      "source": [
        "# Проанализируем теперь рынок жилья в New York City"
      ]
    },
    {
      "cell_type": "markdown",
      "metadata": {
        "id": "TENBMdGG1Bo8"
      },
      "source": [
        "New York City Airbnb Open Data\n",
        "Airbnb listings and metrics in NYC, NY, USA (2019)"
      ]
    },
    {
      "cell_type": "markdown",
      "metadata": {
        "id": "fAbwb7Un1Bo8"
      },
      "source": [
        "<p style=\"align: center;\"><img align=center src=\"https://upload.wikimedia.org/wikipedia/commons/5/5a/New_York_City_District_Map.png\n",
        "\"  width=400></p>\n"
      ]
    },
    {
      "cell_type": "markdown",
      "metadata": {
        "id": "J764IBlX1Bo8"
      },
      "source": [
        "<div class=\"alert alert-info\">\n",
        "<b>Предостирежение: </b>\n",
        "    \n",
        "Для построения доверительного интервала с помощью метода, показанного выше, важно, чтобы распределение исследуемой выборки имело нормально распределение\n",
        "</div>"
      ]
    },
    {
      "cell_type": "code",
      "metadata": {
        "id": "7snGLbWi1Bo9"
      },
      "source": [
        "url  = 'https://raw.githubusercontent.com/a-milenkin/datasets_for_t-tests/main/AB_NYC_2019.csv'\n",
        "df = pd.read_csv(url, error_bad_lines=False)\n",
        "#df = pd.read_csv('AB_NYC_2019.csv')\n",
        "df.dropna(how='any',inplace=True)\n",
        "df.head(4)"
      ],
      "execution_count": null,
      "outputs": []
    },
    {
      "cell_type": "code",
      "metadata": {
        "id": "Pc1n1o3d1Bo9"
      },
      "source": [
        "df[df.price<500].price.hist(bins=50)"
      ],
      "execution_count": null,
      "outputs": []
    },
    {
      "cell_type": "code",
      "metadata": {
        "id": "7sxLvOWN1BpB"
      },
      "source": [
        "print('Можно ли использовать тут наш подход?')"
      ],
      "execution_count": null,
      "outputs": []
    },
    {
      "cell_type": "code",
      "metadata": {
        "id": "fIKJzmca1BpB"
      },
      "source": [
        "np.log2(abs(df[df.price<500].price)+1).hist(bins=150)"
      ],
      "execution_count": null,
      "outputs": []
    },
    {
      "cell_type": "code",
      "metadata": {
        "id": "0fj4jcn81BpC"
      },
      "source": [
        "# df.neighbourhood_group.hist()"
      ],
      "execution_count": null,
      "outputs": []
    },
    {
      "cell_type": "code",
      "metadata": {
        "id": "g0IsGrfn1BpC"
      },
      "source": [
        "print(df[df.price<400].price.mean())\n",
        "\n",
        "data = df[(df.neighbourhood_group == 'Brooklyn') | (df.neighbourhood_group=='Staten Island') | (df.neighbourhood_group=='Queens')].price\n",
        "\n",
        "mean_confidence_interval(data, confidence=0.999) # Возможно вам понадобиться эта функция."
      ],
      "execution_count": null,
      "outputs": []
    },
    {
      "cell_type": "code",
      "metadata": {
        "id": "f3lniv7e1BpC"
      },
      "source": [
        " "
      ],
      "execution_count": null,
      "outputs": []
    },
    {
      "cell_type": "code",
      "metadata": {
        "id": "SRv1TkrH1BpD"
      },
      "source": [
        ""
      ],
      "execution_count": null,
      "outputs": []
    },
    {
      "cell_type": "markdown",
      "metadata": {
        "id": "1GLWn0A51BpD"
      },
      "source": [
        "# Задания для самостоятельного решения\n"
      ]
    },
    {
      "cell_type": "code",
      "metadata": {
        "id": "_xfQLKF25WGH"
      },
      "source": [
        "import matplotlib.pyplot as plt \n",
        "import scipy.stats as stats\n",
        "import  scipy.stats  as  sps\n",
        "from scipy import stats \n",
        "from scipy.stats import chi2_contingency\n",
        "import  scipy.stats  as  sps\n",
        "from bioinfokit.analys import stat\n",
        "from bioinfokit.analys import get_data\n",
        "from scipy import stats as st\n",
        "import math\n",
        "import pandas as pd\n",
        "import numpy as np \n",
        "import scipy.stats"
      ],
      "execution_count": 44,
      "outputs": []
    },
    {
      "cell_type": "code",
      "metadata": {
        "colab": {
          "base_uri": "https://localhost:8080/"
        },
        "id": "p3vLZHCu3F11",
        "outputId": "0917f5c1-d0af-4f9f-d99e-df0f97db3c91"
      },
      "source": [
        "pip install bioinfokit"
      ],
      "execution_count": 1,
      "outputs": [
        {
          "output_type": "stream",
          "text": [
            "Collecting bioinfokit\n",
            "\u001b[?25l  Downloading https://files.pythonhosted.org/packages/0f/2b/c219e90dfddcaa19726152cd12c4f1beae0c9e0efe82e9fa75dd81adad19/bioinfokit-2.0.4.tar.gz (82kB)\n",
            "\r\u001b[K     |████                            | 10kB 18.9MB/s eta 0:00:01\r\u001b[K     |████████                        | 20kB 25.2MB/s eta 0:00:01\r\u001b[K     |████████████                    | 30kB 30.9MB/s eta 0:00:01\r\u001b[K     |███████████████▉                | 40kB 20.0MB/s eta 0:00:01\r\u001b[K     |███████████████████▉            | 51kB 15.6MB/s eta 0:00:01\r\u001b[K     |███████████████████████▉        | 61kB 13.0MB/s eta 0:00:01\r\u001b[K     |███████████████████████████▊    | 71kB 14.3MB/s eta 0:00:01\r\u001b[K     |███████████████████████████████▊| 81kB 15.7MB/s eta 0:00:01\r\u001b[K     |████████████████████████████████| 92kB 7.7MB/s \n",
            "\u001b[?25hRequirement already satisfied: pandas in /usr/local/lib/python3.7/dist-packages (from bioinfokit) (1.1.5)\n",
            "Requirement already satisfied: numpy in /usr/local/lib/python3.7/dist-packages (from bioinfokit) (1.19.5)\n",
            "Requirement already satisfied: matplotlib in /usr/local/lib/python3.7/dist-packages (from bioinfokit) (3.2.2)\n",
            "Requirement already satisfied: scipy in /usr/local/lib/python3.7/dist-packages (from bioinfokit) (1.4.1)\n",
            "Requirement already satisfied: scikit-learn in /usr/local/lib/python3.7/dist-packages (from bioinfokit) (0.22.2.post1)\n",
            "Requirement already satisfied: seaborn in /usr/local/lib/python3.7/dist-packages (from bioinfokit) (0.11.1)\n",
            "Requirement already satisfied: matplotlib-venn in /usr/local/lib/python3.7/dist-packages (from bioinfokit) (0.11.6)\n",
            "Requirement already satisfied: tabulate in /usr/local/lib/python3.7/dist-packages (from bioinfokit) (0.8.9)\n",
            "Requirement already satisfied: statsmodels in /usr/local/lib/python3.7/dist-packages (from bioinfokit) (0.10.2)\n",
            "Collecting textwrap3\n",
            "  Downloading https://files.pythonhosted.org/packages/77/9c/a53e561d496ee5866bbeea4d3a850b3b545ed854f8a21007c1e0d872e94d/textwrap3-0.9.2-py2.py3-none-any.whl\n",
            "Collecting adjustText\n",
            "  Downloading https://files.pythonhosted.org/packages/9e/15/4157718bf323fd5f5b81c891c660d0f388e042d2689a558bf1389632dc44/adjustText-0.7.3.tar.gz\n",
            "Requirement already satisfied: pytz>=2017.2 in /usr/local/lib/python3.7/dist-packages (from pandas->bioinfokit) (2018.9)\n",
            "Requirement already satisfied: python-dateutil>=2.7.3 in /usr/local/lib/python3.7/dist-packages (from pandas->bioinfokit) (2.8.1)\n",
            "Requirement already satisfied: cycler>=0.10 in /usr/local/lib/python3.7/dist-packages (from matplotlib->bioinfokit) (0.10.0)\n",
            "Requirement already satisfied: kiwisolver>=1.0.1 in /usr/local/lib/python3.7/dist-packages (from matplotlib->bioinfokit) (1.3.1)\n",
            "Requirement already satisfied: pyparsing!=2.0.4,!=2.1.2,!=2.1.6,>=2.0.1 in /usr/local/lib/python3.7/dist-packages (from matplotlib->bioinfokit) (2.4.7)\n",
            "Requirement already satisfied: joblib>=0.11 in /usr/local/lib/python3.7/dist-packages (from scikit-learn->bioinfokit) (1.0.1)\n",
            "Requirement already satisfied: patsy>=0.4.0 in /usr/local/lib/python3.7/dist-packages (from statsmodels->bioinfokit) (0.5.1)\n",
            "Requirement already satisfied: six>=1.5 in /usr/local/lib/python3.7/dist-packages (from python-dateutil>=2.7.3->pandas->bioinfokit) (1.15.0)\n",
            "Building wheels for collected packages: bioinfokit, adjustText\n",
            "  Building wheel for bioinfokit (setup.py) ... \u001b[?25l\u001b[?25hdone\n",
            "  Created wheel for bioinfokit: filename=bioinfokit-2.0.4-cp37-none-any.whl size=56008 sha256=f71fc32804b4c2df4bfef3d9994a98336eecbd9c9b75cc49c79b5248ede1d45b\n",
            "  Stored in directory: /root/.cache/pip/wheels/43/cf/aa/4a4fe54a3edb663ee7bd9b245bd946506c8bd4b99f4ae00507\n",
            "  Building wheel for adjustText (setup.py) ... \u001b[?25l\u001b[?25hdone\n",
            "  Created wheel for adjustText: filename=adjustText-0.7.3-cp37-none-any.whl size=7100 sha256=b73b7a525efa0000bf7843526dc89dd460867c5afe3558b827a9525c898738a5\n",
            "  Stored in directory: /root/.cache/pip/wheels/41/95/74/7d347e136d672f8bc28e937032bc92baf4f80856763a7e7b72\n",
            "Successfully built bioinfokit adjustText\n",
            "Installing collected packages: textwrap3, adjustText, bioinfokit\n",
            "Successfully installed adjustText-0.7.3 bioinfokit-2.0.4 textwrap3-0.9.2\n"
          ],
          "name": "stdout"
        }
      ]
    },
    {
      "cell_type": "markdown",
      "metadata": {
        "id": "BjkGymlc1BpD"
      },
      "source": [
        "<div class=\"alert alert-info\">\n",
        "<b>Задание № 0</b>\n",
        "\n",
        "Найдите минимально необходимый объем выборки для построения интервальной оценки среднего.\n",
        "\n",
        "- желаемая точность $\\Delta$ = 3;\n",
        "- дисперсия $\\sigma^2$  = 225;\n",
        "- уровень доверия $\\beta$ = 0.95.\n",
        "    \n",
        "Ответ округлите до целого\n",
        "</div>"
      ]
    },
    {
      "cell_type": "code",
      "metadata": {
        "id": "Ca43QjFh1BpD",
        "colab": {
          "base_uri": "https://localhost:8080/"
        },
        "outputId": "c3b7a189-495a-46fb-a0d4-d9fd33302d34"
      },
      "source": [
        "### Ваши код/вычесления...\n",
        "sigma = math.sqrt(225) # Стандартное отклонение\n",
        "Z = 0.95 # % # Квантиль нормального распределения.\n",
        "Delta = 3 #% #Погрешность\n",
        "N = int(((sigma*Z)/Delta)**2)\n",
        "N\n"
      ],
      "execution_count": 23,
      "outputs": [
        {
          "output_type": "execute_result",
          "data": {
            "text/plain": [
              "22"
            ]
          },
          "metadata": {
            "tags": []
          },
          "execution_count": 23
        }
      ]
    },
    {
      "cell_type": "code",
      "metadata": {
        "id": "DdyHq8Epr3lh"
      },
      "source": [
        "n = 22  #Запишите в эту переменную ваш высчитанный ответ!\n"
      ],
      "execution_count": 24,
      "outputs": []
    },
    {
      "cell_type": "code",
      "metadata": {
        "colab": {
          "base_uri": "https://localhost:8080/"
        },
        "id": "_S1f_oyY1BpD",
        "outputId": "c395ec39-24ed-4f3f-9f29-c6c1765d0886"
      },
      "source": [
        "#Не меняйте этот код, он нужен для проверки вашего ответа ответа!\n",
        "if n%1!=0: print('Вы забыли округлить ответ!!!!')\n",
        "elif hash(str(n)) == -6483854632660926687: print(\"Ошибка, вероятно выбран квартиль для уровня доверия 0.95, а не 0.975. Смотри формулу!\")\n",
        "elif hash(str(n)) != 8942973788178395504: print(\"Нет, Неверно!\")\n",
        "else: print('Верно!!!! Двигайтесь дальше!')\n",
        "#Если у вас долго не получается запустить эту ячейку без ошибок, но оставьте свой ответ и идите дальше. "
      ],
      "execution_count": 25,
      "outputs": [
        {
          "output_type": "stream",
          "text": [
            "Нет, Неверно!\n"
          ],
          "name": "stdout"
        }
      ]
    },
    {
      "cell_type": "markdown",
      "metadata": {
        "id": "qjzUIlZ31BpE"
      },
      "source": [
        "<div class=\"alert alert-info\">\n",
        "<b>Задание № 1</b>\n",
        "\n",
        "Постройте `98% доверительный интервал` для среднего значения, если известно, что\n",
        "\n",
        "- объем выборки n = 25;\n",
        "- среднее значение по выборке $\\overline x$ = 130;\n",
        "- Из достоверных источников известно стандартное отклонение $\\sigma = 15$.\n",
        "    \n",
        "В ответ укажите длину полученного доверительного интервала (разницу между правым и левым концом), окруленную до целого\n",
        "</div>"
      ]
    },
    {
      "cell_type": "code",
      "metadata": {
        "id": "yGUoN7OI1BpE",
        "colab": {
          "base_uri": "https://localhost:8080/"
        },
        "outputId": "6d64e211-6790-4b23-d2f8-cf9e2264cf75"
      },
      "source": [
        "### Ваши код/вычесления...\n",
        "f_r = 0.99\n",
        "t_r = 2.33\n",
        "sqrt = (15/math.sqrt(25))*2.33\n",
        "pr = (130-(sqrt))\n",
        "lv = (130+(sqrt))\n",
        "print(pr)\n",
        "print(lv)\n",
        "print(sqrt)\n",
        "\n",
        "itog = lv - pr\n",
        "print(itog)\n",
        "\n",
        "L = 14  #Запишите в эту переменную ваш высчитанный ответ!\n"
      ],
      "execution_count": 26,
      "outputs": [
        {
          "output_type": "stream",
          "text": [
            "123.01\n",
            "136.99\n",
            "6.99\n",
            "13.980000000000004\n"
          ],
          "name": "stdout"
        }
      ]
    },
    {
      "cell_type": "code",
      "metadata": {
        "id": "-4UbUR4q1BpE",
        "colab": {
          "base_uri": "https://localhost:8080/"
        },
        "outputId": "b5dce545-b460-45a3-c1c5-ca0571d969cd"
      },
      "source": [
        "#Не меняйте этот код, он нужен для проверки ответа!\n",
        "if L%1!=0: print('Вы забыли округлить ответ!!!!')\n",
        "elif hash(str(L)) == 8859716730303628099: print(\"Ошибка, вероятно выбран квартиль для уровня доверия 0.98, а не 0.99. Смотри формулу!\")\n",
        "elif hash(str(L)) != 6091462292841498317: print(\"Нет, Неверно!\")\n",
        "else: print('Верно!!!! Двигайтесь дальше!')\n",
        "#Если у вас долго не получается запустить эту ячейку без ошибок, но оставьте свой ответ и идите дальше. "
      ],
      "execution_count": 27,
      "outputs": [
        {
          "output_type": "stream",
          "text": [
            "Нет, Неверно!\n"
          ],
          "name": "stdout"
        }
      ]
    },
    {
      "cell_type": "markdown",
      "metadata": {
        "id": "TRcF1SwL1BpF"
      },
      "source": [
        "<div class=\"alert alert-info\">\n",
        "<b>Задание № 2</b>\n",
        "\n",
        "Даны две выборки роста мужчин и женщин. \n",
        "- Докажите, используя `t-Тест Стьдента`, что различие между выборками незначительно, если уровень значимости равен $\\alpha$ `= 0.001`.\n",
        "- Покажите различия визуально\n",
        "</div>"
      ]
    },
    {
      "cell_type": "code",
      "metadata": {
        "id": "E_7MyJuu1BpF",
        "colab": {
          "base_uri": "https://localhost:8080/"
        },
        "outputId": "d1813514-3e12-49da-cd67-819b0ac3ec08"
      },
      "source": [
        "\n",
        "population_men  = stats.norm.rvs(loc=19, scale=171, size=11000000)  # Выборка мужчин со средним ростом 171\n",
        "population_women = stats.norm.rvs(loc=16, scale=165, size=12000)  # Выборка женщин со средним ростом 165\n",
        "\n",
        "### Ваш код...\n",
        "t, p = stats.ttest_ind(population_men, population_women)\n",
        "t, p\n",
        "\n"
      ],
      "execution_count": 28,
      "outputs": [
        {
          "output_type": "execute_result",
          "data": {
            "text/plain": [
              "(1.595286844360484, 0.11064813481019303)"
            ]
          },
          "metadata": {
            "tags": []
          },
          "execution_count": 28
        }
      ]
    },
    {
      "cell_type": "code",
      "metadata": {
        "colab": {
          "base_uri": "https://localhost:8080/",
          "height": 265
        },
        "id": "zY2QQyf8Ptsa",
        "outputId": "198a5de8-8f1a-406b-9c06-fa62cd721064"
      },
      "source": [
        "plt.hist(population_men, bins=70);\n",
        "plt.hist(population_women, bins=70);"
      ],
      "execution_count": 29,
      "outputs": [
        {
          "output_type": "display_data",
          "data": {
            "image/png": "[encoded data removed]",
            "text/plain": [
              "<Figure size 432x288 with 1 Axes>"
            ]
          },
          "metadata": {
            "tags": [],
            "needs_background": "light"
          }
        }
      ]
    },
    {
      "cell_type": "markdown",
      "metadata": {
        "id": "q9b8nZRB1BpG"
      },
      "source": [
        "<div class=\"alert alert-info\">\n",
        "<b>Задание № 3</b>\n",
        "\n",
        "Определите объем необходимой выборки для исследования среднего чека за кофе в случайном городе если известно, что в этом городе:\n",
        "\n",
        "- стандартное отклонение $\\sigma = 150$;\n",
        "- уровень доверия $\\beta$  = 95%;\n",
        "- Погрешность $\\Delta = 50$ рублей.\n",
        "</div>"
      ]
    },
    {
      "cell_type": "code",
      "metadata": {
        "id": "JII8SrHB1BpG",
        "colab": {
          "base_uri": "https://localhost:8080/"
        },
        "outputId": "5482b7c1-91de-4cb0-ccfe-94ef0beee091"
      },
      "source": [
        "### Ваш код...\n",
        "sigma = 150 # Стандартное отклонение\n",
        "Z = 0.95 # % # Квантиль нормального распределения.\n",
        "Delta = 50 #% #Погрешность\n",
        "N = int(((sigma*Z)/Delta)**2)\n",
        "N"
      ],
      "execution_count": 30,
      "outputs": [
        {
          "output_type": "execute_result",
          "data": {
            "text/plain": [
              "8"
            ]
          },
          "metadata": {
            "tags": []
          },
          "execution_count": 30
        }
      ]
    },
    {
      "cell_type": "markdown",
      "metadata": {
        "id": "aFlqZ--E1BpG"
      },
      "source": [
        "<div class=\"alert alert-info\">\n",
        "<b>Задание № 4</b>\n",
        "\n",
        "Представьте, что вы хотите разоблачить \"волшебника\" который считает, что умеет предсказывать погоду на завтра, отвечая просто: дождь или солнце. Вы пронаблюдали за ответами \"волшебника\" в течении какого-то периода времени и получили некие результаты (см.ниже).\n",
        "\n",
        "Можно ли сказать, что маг действительно умеет предсказывать погоду? Уровень значимости принять за `0.05` ($\\alpha=0.05$).\n",
        "</div>"
      ]
    },
    {
      "cell_type": "code",
      "metadata": {
        "id": "Kq7HzbYA1BpG",
        "colab": {
          "base_uri": "https://localhost:8080/",
          "height": 106
        },
        "outputId": "53488385-471a-47ca-a025-783386a3a7d8"
      },
      "source": [
        "observations = pd.DataFrame([[10,15],[39,34]],\n",
        "                            index=['Дождь','Солнце'],\n",
        "                            columns=['Ответ волшебника','Реальность'])\n",
        "observations"
      ],
      "execution_count": 33,
      "outputs": [
        {
          "output_type": "execute_result",
          "data": {
            "text/html": [
              "<div>\n",
              "<style scoped>\n",
              "    .dataframe tbody tr th:only-of-type {\n",
              "        vertical-align: middle;\n",
              "    }\n",
              "\n",
              "    .dataframe tbody tr th {\n",
              "        vertical-align: top;\n",
              "    }\n",
              "\n",
              "    .dataframe thead th {\n",
              "        text-align: right;\n",
              "    }\n",
              "</style>\n",
              "<table border=\"1\" class=\"dataframe\">\n",
              "  <thead>\n",
              "    <tr style=\"text-align: right;\">\n",
              "      <th></th>\n",
              "      <th>Ответ волшебника</th>\n",
              "      <th>Реальность</th>\n",
              "    </tr>\n",
              "  </thead>\n",
              "  <tbody>\n",
              "    <tr>\n",
              "      <th>Дождь</th>\n",
              "      <td>10</td>\n",
              "      <td>15</td>\n",
              "    </tr>\n",
              "    <tr>\n",
              "      <th>Солнце</th>\n",
              "      <td>39</td>\n",
              "      <td>34</td>\n",
              "    </tr>\n",
              "  </tbody>\n",
              "</table>\n",
              "</div>"
            ],
            "text/plain": [
              "        Ответ волшебника  Реальность\n",
              "Дождь                 10          15\n",
              "Солнце                39          34"
            ]
          },
          "metadata": {
            "tags": []
          },
          "execution_count": 33
        }
      ]
    },
    {
      "cell_type": "code",
      "metadata": {
        "id": "6WGF0i4d1BpH",
        "colab": {
          "base_uri": "https://localhost:8080/"
        },
        "outputId": "6f651080-9996-4fa4-f494-38ea95624ede"
      },
      "source": [
        "oddsratio, pvalue = stats.fisher_exact(observations)\n",
        "\n",
        "### Ваш код...\n",
        "np.random.seed(21)  # Загрепим seed для воспроизводимости результата.\n",
        "\n",
        "before = stats.norm.rvs(scale = 30, loc = 250, size = 100)\n",
        "after = before + stats.norm.rvs(scale = 5, loc = -.273, size = 100)\n",
        "\n",
        "weight_df = pd.DataFrame({\"Ответ волшебника\":before, \"Реальность\":after})\n",
        "weight_df.describe()\n",
        "\n",
        "stats.ttest_rel(a=before, b=after)"
      ],
      "execution_count": 40,
      "outputs": [
        {
          "output_type": "execute_result",
          "data": {
            "text/plain": [
              "Ttest_relResult(statistic=1.6822679879140943, pvalue=0.09566854231527926)"
            ]
          },
          "metadata": {
            "tags": []
          },
          "execution_count": 40
        }
      ]
    },
    {
      "cell_type": "code",
      "metadata": {
        "colab": {
          "base_uri": "https://localhost:8080/",
          "height": 265
        },
        "id": "QjHWdXNmkx26",
        "outputId": "5964e223-d7e8-4352-c0e2-54737efd0ae0"
      },
      "source": [
        "plt.hist(before, bins=70); \n",
        "plt.hist(after , bins=70);  "
      ],
      "execution_count": 41,
      "outputs": [
        {
          "output_type": "display_data",
          "data": {
            "image/png": "[encoded data removed]",
            "text/plain": [
              "<Figure size 432x288 with 1 Axes>"
            ]
          },
          "metadata": {
            "tags": [],
            "needs_background": "light"
          }
        }
      ]
    },
    {
      "cell_type": "markdown",
      "metadata": {
        "id": "96LKD3WBXVIi"
      },
      "source": [
        "**Вывод:** Итак, мы видим, что у нас есть только 1% шансов найти такие огромные различия между образцами. Мы получаем хорошее значение p, равное 0,01, и, таким образом, мы отклоняем нулевую гипотезу и, таким образом, это доказывает, что средние значения двух распределений различны и различие статистически значимо."
      ]
    },
    {
      "cell_type": "markdown",
      "metadata": {
        "id": "seS4n2WI1BpH"
      },
      "source": [
        "<div class=\"alert alert-info\">\n",
        "<b>Задание № 5</b> \n",
        "\n",
        "Используя функцию mean_confidence_interval(data, confidence), постройте доверительный интервал с уровнем доверия $\\beta = 90\\%$ для выборки:\n",
        "\n",
        "</div>"
      ]
    },
    {
      "cell_type": "code",
      "metadata": {
        "id": "8_3SgWwT1BpH"
      },
      "source": [
        "data = [4,5,8,9,6,7,5,6,7,8,5,6,7,0,9,8,4,6,\n",
        "        7,9,8,6,5,7,8,9,6,7,5,8,6,7,9,5,10]\n",
        "\n",
        "### Ваш код...\n",
        "def mean_confidence_interval(data, confidence=0.90):   \n",
        "    n = len(data)\n",
        "    m, se = np.mean(data), scipy.stats.sem(data)\n",
        "    h = se * scipy.stats.t.ppf((1 + confidence)/2, n)  #  функция ppf из scipy возвращает нам перцентиль\n",
        "    return m-h, m, m+h  #,h"
      ],
      "execution_count": 45,
      "outputs": []
    },
    {
      "cell_type": "code",
      "metadata": {
        "id": "iphVqmCHsedV",
        "colab": {
          "base_uri": "https://localhost:8080/"
        },
        "outputId": "2ce7f282-388d-4c61-fa47-90bab9fb7561"
      },
      "source": [
        "print(mean_confidence_interval(data, 0.90))"
      ],
      "execution_count": 46,
      "outputs": [
        {
          "output_type": "stream",
          "text": [
            "(6.074074746111319, 6.628571428571429, 7.183068111031539)\n"
          ],
          "name": "stdout"
        }
      ]
    },
    {
      "cell_type": "markdown",
      "metadata": {
        "id": "0wW4TLm-1BpH"
      },
      "source": [
        "<div class=\"alert alert-info\">\n",
        "<b>Задание № 6</b>\n",
        "\n",
        "Принадлежат ли выборки data_1 и data_2 одному множеству? \n",
        "    \n",
        "- Оцените это с помощью известных вам тестов для проверок статистических гипотез;\n",
        "- Покажите различия визуально.\n",
        "</div>"
      ]
    },
    {
      "cell_type": "code",
      "metadata": {
        "id": "D-ROMkMF1BpI",
        "colab": {
          "base_uri": "https://localhost:8080/",
          "height": 265
        },
        "outputId": "dcbe9c84-063c-4b74-fcff-aaa939c17b6c"
      },
      "source": [
        "data_1 = [4,5,8,9,6,7,5,6,7,8,5,6,7,0,9,8,4,\n",
        "          6,7,9,8,6,5,7,8,9,6,7,5,8,6,7,9,5,10]\n",
        "\n",
        "data_2 = [8,5,6,7,0,1,8,4,6,7,0,2,6,5,7,5,3,5,3,\n",
        "          5,3,5,5,8,7,6,4,5,3,5,4,6,4,5,3,2,6,4,\n",
        "          2,6,1,0,4,3,5,4,3,4,5,4,3,4,5,4,3,4,5,\n",
        "          3,4,4,1,2,4,3,1,2,4,3,2,1,5,3,4,6,4,5,\n",
        "          3,2,4,5,6,4,3,1,3,5,3,4,4,4,2,5,3]\n",
        "\n",
        "#Ваш код:\n",
        "np.random.seed(21) # Загрепим seed для воспроизводимости результата.\n",
        "\n",
        "t, p = stats.ttest_ind(data_1,data_2)\n",
        "t, p\n",
        "\n",
        "plt.hist(data_1, bins=25); #Выборка data_1\n",
        "plt.hist(data_2, bins=25); #Выборка data_2\n",
        "\n"
      ],
      "execution_count": 48,
      "outputs": [
        {
          "output_type": "display_data",
          "data": {
            "image/png": "[encoded data removed]",
            "text/plain": [
              "<Figure size 432x288 with 1 Axes>"
            ]
          },
          "metadata": {
            "tags": [],
            "needs_background": "light"
          }
        }
      ]
    },
    {
      "cell_type": "markdown",
      "metadata": {
        "id": "V71QwdVG1BpI"
      },
      "source": [
        "<div class=\"alert alert-info\">\n",
        "<b>Задание № 7 (задание без подвоха)</b>\n",
        "\n",
        "На примере датасета про жилье в New York City, мы сталкивались с примером, когда переменная имеет не совсем нормальное распределение. \n",
        "\n",
        "- Предположим, Вы сформировали две гипотезы:\n",
        "    - нулевая гипотеза - распределение нормальное;\n",
        "    - альтернативная гипотеза - распределение ненормальное.\n",
        "- допустим, вы применили какой-то тест (сейчас неважно какой), который показал уровень значимости  `p-value = 0.03`. Каковы будут ваши выводы? Будем считать что у нас нормальное распределение или все-таки нет?)\n",
        "    \n",
        "</div>"
      ]
    },
    {
      "cell_type": "markdown",
      "metadata": {
        "id": "f8HW3Lu5FRY3"
      },
      "source": [
        "**Ваши выводы:**\n",
        "p-value = 0.03 говорит о том, что существует вероятность 30%, что данные выборки настолько далеко друг от друга для двух одинаковых групп. Это меньше, чем уровень достоверности 5%."
      ]
    },
    {
      "cell_type": "markdown",
      "metadata": {
        "id": "sCQkVT6M1BpI"
      },
      "source": [
        "<div class=\"alert alert-info\">\n",
        "<b>Задание № 8</b>\n",
        "    \n",
        "Первая выборка — это пациенты, которых лечили препаратом `А`.  Вторая выборка — пациенты, которых лечили препаратом `B`.\n",
        "\n",
        "Значения в выборках — это некоторая характеристика эффективности лечения (уровень метаболита в крови, температура через три дня после начала лечения, срок выздоровления, число койко-дней, и т.д.) \n",
        "\n",
        "- Требуется выяснить, имеется ли значимое различие эффективности препаратов `А` и `B`, или различия являются чисто случайными и объясняются «естественной» дисперсией выбранной характеристики?  (`уровень значимости принять за 0.05 (5%)`)\n",
        "\n",
        "- При каком минимальном p-value различия были бы уже значимы? \n",
        "    \n",
        "- Если выборки незначительно отличаются, то продемонстрируйте это визуально\n",
        "</div>"
      ]
    },
    {
      "cell_type": "code",
      "metadata": {
        "colab": {
          "base_uri": "https://localhost:8080/",
          "height": 106
        },
        "id": "l-bbX5Vf3fLO",
        "outputId": "d5296369-9567-49f3-c8a5-68407967a97f"
      },
      "source": [
        "df = get_data('t_ind_samp').data\n",
        "df.head(2)"
      ],
      "execution_count": 49,
      "outputs": [
        {
          "output_type": "execute_result",
          "data": {
            "text/html": [
              "<div>\n",
              "<style scoped>\n",
              "    .dataframe tbody tr th:only-of-type {\n",
              "        vertical-align: middle;\n",
              "    }\n",
              "\n",
              "    .dataframe tbody tr th {\n",
              "        vertical-align: top;\n",
              "    }\n",
              "\n",
              "    .dataframe thead th {\n",
              "        text-align: right;\n",
              "    }\n",
              "</style>\n",
              "<table border=\"1\" class=\"dataframe\">\n",
              "  <thead>\n",
              "    <tr style=\"text-align: right;\">\n",
              "      <th></th>\n",
              "      <th>Genotype</th>\n",
              "      <th>yield</th>\n",
              "    </tr>\n",
              "  </thead>\n",
              "  <tbody>\n",
              "    <tr>\n",
              "      <th>0</th>\n",
              "      <td>A</td>\n",
              "      <td>78.0</td>\n",
              "    </tr>\n",
              "    <tr>\n",
              "      <th>1</th>\n",
              "      <td>A</td>\n",
              "      <td>84.3</td>\n",
              "    </tr>\n",
              "  </tbody>\n",
              "</table>\n",
              "</div>"
            ],
            "text/plain": [
              "  Genotype  yield\n",
              "0        A   78.0\n",
              "1        A   84.3"
            ]
          },
          "metadata": {
            "tags": []
          },
          "execution_count": 49
        }
      ]
    },
    {
      "cell_type": "code",
      "metadata": {
        "colab": {
          "base_uri": "https://localhost:8080/"
        },
        "id": "Zw1yhNV_3nkX",
        "outputId": "d82c193b-f537-4e9c-c66c-cb76b606e37d"
      },
      "source": [
        "a = df.loc[df['Genotype'] == 'A', 'yield'].to_numpy()\n",
        "b = df.loc[df['Genotype'] == 'B', 'yield'].to_numpy()\n",
        "st.ttest_ind(a=a, b=b, equal_var=True)"
      ],
      "execution_count": 50,
      "outputs": [
        {
          "output_type": "execute_result",
          "data": {
            "text/plain": [
              "Ttest_indResult(statistic=-5.407091104196024, pvalue=0.00029840786595462836)"
            ]
          },
          "metadata": {
            "tags": []
          },
          "execution_count": 50
        }
      ]
    },
    {
      "cell_type": "code",
      "metadata": {
        "colab": {
          "base_uri": "https://localhost:8080/"
        },
        "id": "CaiRb8uu36Xd",
        "outputId": "cd5f40e8-0a32-45d5-a08c-bdfe51691265"
      },
      "source": [
        "res = stat()\n",
        "# for unequal variance t-test (Welch's t-test) set evar=False\n",
        "res.ttest(df=df, xfac=\"Genotype\", res=\"yield\", test_type=2)\n",
        "print(res.summary)"
      ],
      "execution_count": 51,
      "outputs": [
        {
          "output_type": "stream",
          "text": [
            "\n",
            "Two sample t-test with equal variance\n",
            "\n",
            "------------------  -------------\n",
            "Mean diff           -10.3\n",
            "t                    -5.40709\n",
            "Std Error             1.90491\n",
            "df                   10\n",
            "P-value (one-tail)    0.000149204\n",
            "P-value (two-tail)    0.000298408\n",
            "Lower 95.0%         -14.5444\n",
            "Upper 95.0%          -6.05561\n",
            "------------------  -------------\n",
            "\n",
            "Parameter estimates\n",
            "\n",
            "Level      Number    Mean    Std Dev    Std Error    Lower 95.0%    Upper 95.0%\n",
            "-------  --------  ------  ---------  -----------  -------------  -------------\n",
            "A               6    79.1    3.30817      1.35056        75.6283        82.5717\n",
            "B               6    89.4    3.29059      1.34338        85.9467        92.8533\n",
            "\n"
          ],
          "name": "stdout"
        }
      ]
    },
    {
      "cell_type": "code",
      "metadata": {
        "colab": {
          "base_uri": "https://localhost:8080/",
          "height": 265
        },
        "id": "nNbCrwWQ47tn",
        "outputId": "6db67960-16b9-4610-ba77-099a265eb7aa"
      },
      "source": [
        "plt.hist(a, bins=70);\n",
        "plt.hist(b, bins=70);"
      ],
      "execution_count": 52,
      "outputs": [
        {
          "output_type": "display_data",
          "data": {
            "image/png": "[encoded data removed]",
            "text/plain": [
              "<Figure size 432x288 with 1 Axes>"
            ]
          },
          "metadata": {
            "tags": [],
            "needs_background": "light"
          }
        }
      ]
    },
    {
      "cell_type": "markdown",
      "metadata": {
        "id": "EK5Y-rzf3GL0"
      },
      "source": [
        "H0: Эффективности лечения до и после теста равны\n",
        "\n",
        "HA: Эффективности лечения тестирования не равны\n",
        "\n",
        "Поскольку p-значение (0,00028) меньше 0,05, мы отвергаем нулевую гипотезу."
      ]
    }
  ]
}