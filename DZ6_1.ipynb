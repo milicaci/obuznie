{
 "cells": [
  {
   "cell_type": "markdown",
   "metadata": {},
   "source": [
    "1. Печатные газеты использовали свой формат дат для каждого выпуска.\n",
    "\n",
    "Для каждой газеты из списка напишите формат указанной даты для перевода в объект datetime:\n",
    "The Moscow Times - Wednesday, October 2, 2002\n",
    "The Guardian - Friday, 11.10.13\n",
    "Daily News - Thursday, 18 August 1977"
   ]
  },
  {
   "cell_type": "code",
   "execution_count": 7,
   "metadata": {},
   "outputs": [],
   "source": [
    "from datetime import datetime"
   ]
  },
  {
   "cell_type": "code",
   "execution_count": 18,
   "metadata": {},
   "outputs": [
    {
     "name": "stdout",
     "output_type": "stream",
     "text": [
      "The Moscow Times:  2002-10-02 00:00:00\n",
      "The Guardian:  2013-10-11 00:00:00\n",
      "The Guardian:  1977-08-18 00:00:00\n"
     ]
    }
   ],
   "source": [
    "print('The Moscow Times: ', datetime.strptime('Wednesday, October 2, 2002', '%A, %B %d, %Y'))\n",
    "print('The Guardian: ', datetime.strptime('Friday, 11.10.13', '%A, %d.%m.%y'))\n",
    "print('The Guardian: ', datetime.strptime('Thursday, 18 August 1977', '%A, %d %B %Y'))"
   ]
  },
  {
   "cell_type": "markdown",
   "metadata": {},
   "source": [
    "2. Дан поток дат в формате YYYY-MM-DD, в которых встречаются некорректные значения:\n",
    "stream = [‘2018-04-02’, ‘2018-02-29’, ‘2018-19-02’]\n",
    "\n",
    "Напишите функцию, которая проверяет эти даты на корректность. Т. е. для каждой даты возвращает True (дата корректна) или False (некорректная дата)."
   ]
  },
  {
   "cell_type": "code",
   "execution_count": 36,
   "metadata": {},
   "outputs": [
    {
     "name": "stdout",
     "output_type": "stream",
     "text": [
      "2018-04-02 True\n",
      "2018-02-29 False\n",
      "2018-19-02 False\n"
     ]
    }
   ],
   "source": [
    "stream =  ['2018-04-02', '2018-02-29', '2018-19-02']\n",
    "for data_n in stream:\n",
    "    try:\n",
    "        date_m = datetime.strptime(data_n, '%Y-%m-%d')\n",
    "        print(data_n, 'True')\n",
    "    except:\n",
    "        print(data_n, 'False')"
   ]
  },
  {
   "cell_type": "markdown",
   "metadata": {},
   "source": [
    "3. Напишите функцию date_range, которая возвращает список дат за период от start_date до end_date. Даты должны вводиться в формате YYYY-MM-DD. В случае неверного формата или при start_date > end_date должен возвращаться пустой список."
   ]
  },
  {
   "cell_type": "code",
   "execution_count": 38,
   "metadata": {},
   "outputs": [],
   "source": [
    "from datetime import timedelta"
   ]
  },
  {
   "cell_type": "code",
   "execution_count": 42,
   "metadata": {},
   "outputs": [
    {
     "name": "stdout",
     "output_type": "stream",
     "text": [
      "Введите начальную дату в формате(YYYY-MM-DD): 2018-02-03\n",
      "Введите кончную дату в формате(YYYY-MM-DD): 2018-02-03\n",
      "2018-02-03\n",
      "None\n"
     ]
    }
   ],
   "source": [
    "start_date = input('Введите начальную дату в формате(YYYY-MM-DD): ')\n",
    "end_date = input('Введите кончную дату в формате(YYYY-MM-DD): ')\n",
    "def date_range(start_date, end_date):\n",
    "    try:\n",
    "        start_dt = datetime.strptime(start_date, '%Y-%m-%d')\n",
    "        end_dt = datetime.strptime(end_date, '%Y-%m-%d')\n",
    "        if end_dt >= start_dt:\n",
    "            x_dt = start_dt\n",
    "            while x_dt <= end_dt:\n",
    "                print(x_dt.strftime('%Y-%m-%d'))\n",
    "                x_dt += timedelta(days=1)\n",
    "        else:\n",
    "            print(noll)\n",
    "    except:\n",
    "        print(noll) \n",
    "print(date_range(start_date, end_date))   "
   ]
  }
 ],
 "metadata": {
  "kernelspec": {
   "display_name": "Python 3",
   "language": "python",
   "name": "python3"
  },
  "language_info": {
   "codemirror_mode": {
    "name": "ipython",
    "version": 3
   },
   "file_extension": ".py",
   "mimetype": "text/x-python",
   "name": "python",
   "nbconvert_exporter": "python",
   "pygments_lexer": "ipython3",
   "version": "3.8.5"
  }
 },
 "nbformat": 4,
 "nbformat_minor": 4
}
