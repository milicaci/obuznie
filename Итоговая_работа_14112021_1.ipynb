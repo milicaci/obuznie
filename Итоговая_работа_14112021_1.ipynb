{
  "nbformat": 4,
  "nbformat_minor": 0,
  "metadata": {
    "colab": {
      "name": "Итоговая работа_14112021_1",
      "provenance": [],
      "collapsed_sections": []
    },
    "kernelspec": {
      "name": "python3",
      "display_name": "Python 3"
    },
    "language_info": {
      "name": "python"
    }
  },
  "cells": [
    {
      "cell_type": "code",
      "metadata": {
        "id": "m_u__VrpweoP"
      },
      "source": [
        "import pandas as pd # таблицы\n",
        "import numpy as np\n",
        "import os\n",
        "import seaborn as sns\n",
        "import matplotlib.pyplot as plt\n",
        "from scipy import stats as st\n",
        "import datetime as dt\n",
        "from datetime import datetime\n",
        "from datetime import date\n",
        "import plotly.express as px\n",
        "import numpy as np\n",
        "import seaborn as sns\n",
        "import math\n",
        "import statistics\n",
        "import scipy.stats\n",
        "import configparser\n",
        "\n",
        "config = configparser.ConfigParser()\n",
        "a = config.read('../../config.ini')\n",
        "\n",
        "import sys\n",
        "sys.path.append('../..')\n",
        "\n",
        "pd.options.mode.chained_assignment = None  # без этого что-то внизу не работаетF\n"
      ],
      "execution_count": 1,
      "outputs": []
    },
    {
      "cell_type": "code",
      "metadata": {
        "colab": {
          "base_uri": "https://localhost:8080/"
        },
        "id": "vUPTje5rwpwr",
        "outputId": "5a6e9443-f6e7-4603-cc4d-be8b31fe3f76"
      },
      "source": [
        "!pip install plotly"
      ],
      "execution_count": 2,
      "outputs": [
        {
          "output_type": "stream",
          "name": "stdout",
          "text": [
            "Requirement already satisfied: plotly in /usr/local/lib/python3.7/dist-packages (4.4.1)\n",
            "Requirement already satisfied: six in /usr/local/lib/python3.7/dist-packages (from plotly) (1.15.0)\n",
            "Requirement already satisfied: retrying>=1.3.3 in /usr/local/lib/python3.7/dist-packages (from plotly) (1.3.3)\n"
          ]
        }
      ]
    },
    {
      "cell_type": "code",
      "metadata": {
        "id": "8UnxgAytwtXa"
      },
      "source": [
        "sbr_intercom = pd.read_csv('data.csv', sep=';' ) # загружаем данные из  файла csv, с разделителм \";\""
      ],
      "execution_count": 3,
      "outputs": []
    },
    {
      "cell_type": "code",
      "metadata": {
        "id": "ANJlzUMJ3CLU"
      },
      "source": [
        "ad = sbr_intercom "
      ],
      "execution_count": 4,
      "outputs": []
    },
    {
      "cell_type": "code",
      "metadata": {
        "colab": {
          "base_uri": "https://localhost:8080/"
        },
        "id": "PpFhQ4aH2has",
        "outputId": "9472a81b-c085-4e2b-a0d9-a256df91abfb"
      },
      "source": [
        "ad.info() #Оценка столбцов/поиск недостающих значений"
      ],
      "execution_count": 5,
      "outputs": [
        {
          "output_type": "stream",
          "name": "stdout",
          "text": [
            "<class 'pandas.core.frame.DataFrame'>\n",
            "RangeIndex: 62680 entries, 0 to 62679\n",
            "Data columns (total 2 columns):\n",
            " #   Column     Non-Null Count  Dtype \n",
            "---  ------     --------------  ----- \n",
            " 0   id         62680 non-null  int64 \n",
            " 1   dt_active  62680 non-null  object\n",
            "dtypes: int64(1), object(1)\n",
            "memory usage: 979.5+ KB\n"
          ]
        }
      ]
    },
    {
      "cell_type": "markdown",
      "metadata": {
        "id": "CnseaPMV3sHr"
      },
      "source": [
        "два поля  id  типа int64 и dt_active object"
      ]
    },
    {
      "cell_type": "code",
      "metadata": {
        "colab": {
          "base_uri": "https://localhost:8080/"
        },
        "id": "CYLG2V8Z3Yoc",
        "outputId": "ce8574ba-5427-4a8e-c81c-2dabad56957f"
      },
      "source": [
        "ad.isnull().sum()# Поиск пропущенных значений"
      ],
      "execution_count": 6,
      "outputs": [
        {
          "output_type": "execute_result",
          "data": {
            "text/plain": [
              "id           0\n",
              "dt_active    0\n",
              "dtype: int64"
            ]
          },
          "metadata": {},
          "execution_count": 6
        }
      ]
    },
    {
      "cell_type": "markdown",
      "metadata": {
        "id": "4B-IuFZw3okj"
      },
      "source": [
        "нет пропущенных значений"
      ]
    },
    {
      "cell_type": "code",
      "metadata": {
        "colab": {
          "base_uri": "https://localhost:8080/",
          "height": 300
        },
        "id": "-OiP2tbZ2NBD",
        "outputId": "e35d11db-cfe5-41a0-8c00-34790a575384"
      },
      "source": [
        "ad.describe() #"
      ],
      "execution_count": 7,
      "outputs": [
        {
          "output_type": "execute_result",
          "data": {
            "text/html": [
              "<div>\n",
              "<style scoped>\n",
              "    .dataframe tbody tr th:only-of-type {\n",
              "        vertical-align: middle;\n",
              "    }\n",
              "\n",
              "    .dataframe tbody tr th {\n",
              "        vertical-align: top;\n",
              "    }\n",
              "\n",
              "    .dataframe thead th {\n",
              "        text-align: right;\n",
              "    }\n",
              "</style>\n",
              "<table border=\"1\" class=\"dataframe\">\n",
              "  <thead>\n",
              "    <tr style=\"text-align: right;\">\n",
              "      <th></th>\n",
              "      <th>id</th>\n",
              "    </tr>\n",
              "  </thead>\n",
              "  <tbody>\n",
              "    <tr>\n",
              "      <th>count</th>\n",
              "      <td>6.268000e+04</td>\n",
              "    </tr>\n",
              "    <tr>\n",
              "      <th>mean</th>\n",
              "      <td>3.725500e+08</td>\n",
              "    </tr>\n",
              "    <tr>\n",
              "      <th>std</th>\n",
              "      <td>3.625116e+06</td>\n",
              "    </tr>\n",
              "    <tr>\n",
              "      <th>min</th>\n",
              "      <td>3.663192e+08</td>\n",
              "    </tr>\n",
              "    <tr>\n",
              "      <th>25%</th>\n",
              "      <td>3.693584e+08</td>\n",
              "    </tr>\n",
              "    <tr>\n",
              "      <th>50%</th>\n",
              "      <td>3.724129e+08</td>\n",
              "    </tr>\n",
              "    <tr>\n",
              "      <th>75%</th>\n",
              "      <td>3.756691e+08</td>\n",
              "    </tr>\n",
              "    <tr>\n",
              "      <th>max</th>\n",
              "      <td>3.790245e+08</td>\n",
              "    </tr>\n",
              "  </tbody>\n",
              "</table>\n",
              "</div>"
            ],
            "text/plain": [
              "                 id\n",
              "count  6.268000e+04\n",
              "mean   3.725500e+08\n",
              "std    3.625116e+06\n",
              "min    3.663192e+08\n",
              "25%    3.693584e+08\n",
              "50%    3.724129e+08\n",
              "75%    3.756691e+08\n",
              "max    3.790245e+08"
            ]
          },
          "metadata": {},
          "execution_count": 7
        }
      ]
    },
    {
      "cell_type": "markdown",
      "metadata": {
        "id": "4F3PDT-B3-GS"
      },
      "source": [
        "в нашем случае ничего ценного не показывает"
      ]
    },
    {
      "cell_type": "code",
      "metadata": {
        "id": "BrL241wFVuWJ"
      },
      "source": [
        "sbr_intercom.columns=['id','time']# меняем название \n",
        "sbr_intercom=sbr_intercom. sort_values(by = 'time', ascending = True).reset_index() # сортируем по времени, индексируем строки "
      ],
      "execution_count": 8,
      "outputs": []
    },
    {
      "cell_type": "code",
      "metadata": {
        "colab": {
          "base_uri": "https://localhost:8080/"
        },
        "id": "APC0DkeI5Ga0",
        "outputId": "3bc7c32a-46cf-4a4e-dd12-18fdcf31adf5"
      },
      "source": [
        "sbr_intercom.info()"
      ],
      "execution_count": 9,
      "outputs": [
        {
          "output_type": "stream",
          "name": "stdout",
          "text": [
            "<class 'pandas.core.frame.DataFrame'>\n",
            "RangeIndex: 62680 entries, 0 to 62679\n",
            "Data columns (total 3 columns):\n",
            " #   Column  Non-Null Count  Dtype \n",
            "---  ------  --------------  ----- \n",
            " 0   index   62680 non-null  int64 \n",
            " 1   id      62680 non-null  int64 \n",
            " 2   time    62680 non-null  object\n",
            "dtypes: int64(2), object(1)\n",
            "memory usage: 1.4+ MB\n"
          ]
        }
      ]
    },
    {
      "cell_type": "code",
      "metadata": {
        "id": "nyI_nZtiw3IE"
      },
      "source": [
        "sbr_intercom['time'] = pd.to_datetime(sbr_intercom['time']) #преобразвываем object в  datetime64\n",
        "sbr_intercom['time']=sbr_intercom['time'].dt.strftime('%x') ##преобразвываем\n",
        "sbr_intercom['count']=sbr_intercom.groupby('time')['id'].transform('nunique')#группируем по  полю  time  и добавлеям поле \"count\"\n",
        "sbr_intercom['time'] = pd.to_datetime(sbr_intercom['time'])#преобразвываем"
      ],
      "execution_count": 10,
      "outputs": []
    },
    {
      "cell_type": "code",
      "metadata": {
        "colab": {
          "base_uri": "https://localhost:8080/"
        },
        "id": "oIGe_jbaa054",
        "outputId": "926f69c0-8ce4-4ce8-83b3-a48fa0f6ba29"
      },
      "source": [
        "sbr_intercom.info()"
      ],
      "execution_count": 11,
      "outputs": [
        {
          "output_type": "stream",
          "name": "stdout",
          "text": [
            "<class 'pandas.core.frame.DataFrame'>\n",
            "RangeIndex: 62680 entries, 0 to 62679\n",
            "Data columns (total 4 columns):\n",
            " #   Column  Non-Null Count  Dtype         \n",
            "---  ------  --------------  -----         \n",
            " 0   index   62680 non-null  int64         \n",
            " 1   id      62680 non-null  int64         \n",
            " 2   time    62680 non-null  datetime64[ns]\n",
            " 3   count   62680 non-null  int64         \n",
            "dtypes: datetime64[ns](1), int64(3)\n",
            "memory usage: 1.9 MB\n"
          ]
        }
      ]
    },
    {
      "cell_type": "code",
      "metadata": {
        "id": "PGqbD7CbyFi0"
      },
      "source": [
        "df_intercom=sbr_intercom[['time','count']]\n",
        "df_intercom=df_intercom.drop_duplicates()# устранение дубликато набор данных\n",
        "df_intercom=df_intercom.rename(columns={'time':'ds', 'count':'y'})\n",
        "df_intercom=df_intercom.sort_values(by='ds').reset_index(drop=True)\n",
        "df_intercom=df_intercom.reset_index()"
      ],
      "execution_count": 12,
      "outputs": []
    },
    {
      "cell_type": "code",
      "metadata": {
        "colab": {
          "base_uri": "https://localhost:8080/",
          "height": 112
        },
        "id": "2ew9Ftbv6JFW",
        "outputId": "d238803f-1ae8-4aaa-9024-73a8aae8d149"
      },
      "source": [
        "df_intercom.head(2)"
      ],
      "execution_count": 13,
      "outputs": [
        {
          "output_type": "execute_result",
          "data": {
            "text/html": [
              "<div>\n",
              "<style scoped>\n",
              "    .dataframe tbody tr th:only-of-type {\n",
              "        vertical-align: middle;\n",
              "    }\n",
              "\n",
              "    .dataframe tbody tr th {\n",
              "        vertical-align: top;\n",
              "    }\n",
              "\n",
              "    .dataframe thead th {\n",
              "        text-align: right;\n",
              "    }\n",
              "</style>\n",
              "<table border=\"1\" class=\"dataframe\">\n",
              "  <thead>\n",
              "    <tr style=\"text-align: right;\">\n",
              "      <th></th>\n",
              "      <th>index</th>\n",
              "      <th>ds</th>\n",
              "      <th>y</th>\n",
              "    </tr>\n",
              "  </thead>\n",
              "  <tbody>\n",
              "    <tr>\n",
              "      <th>0</th>\n",
              "      <td>0</td>\n",
              "      <td>2017-01-11</td>\n",
              "      <td>2131</td>\n",
              "    </tr>\n",
              "    <tr>\n",
              "      <th>1</th>\n",
              "      <td>1</td>\n",
              "      <td>2017-02-11</td>\n",
              "      <td>2243</td>\n",
              "    </tr>\n",
              "  </tbody>\n",
              "</table>\n",
              "</div>"
            ],
            "text/plain": [
              "   index         ds     y\n",
              "0      0 2017-01-11  2131\n",
              "1      1 2017-02-11  2243"
            ]
          },
          "metadata": {},
          "execution_count": 13
        }
      ]
    },
    {
      "cell_type": "code",
      "metadata": {
        "colab": {
          "base_uri": "https://localhost:8080/",
          "height": 285
        },
        "id": "KDOomkA58sMU",
        "outputId": "e071ae93-d6b0-4ee4-d582-c7fb3fb9819e"
      },
      "source": [
        "import seaborn as sns\n",
        "import matplotlib.pyplot as plt\n",
        "\n",
        "sns.boxplot(data=df_intercom)"
      ],
      "execution_count": 14,
      "outputs": [
        {
          "output_type": "execute_result",
          "data": {
            "text/plain": [
              "<matplotlib.axes._subplots.AxesSubplot at 0x7f8eeffe0150>"
            ]
          },
          "metadata": {},
          "execution_count": 14
        },
        {
          "output_type": "display_data",
          "data": {
            "image/png": "[encoded data removed]",
            "text/plain": [
              "<Figure size 432x288 with 1 Axes>"
            ]
          },
          "metadata": {
            "needs_background": "light"
          }
        }
      ]
    },
    {
      "cell_type": "markdown",
      "metadata": {
        "id": "hbLtKEe7-RLx"
      },
      "source": [
        "В данных имеется выбос, вероятно был сьой систем и клиенты  обращались в поддержку больше чем обычно"
      ]
    },
    {
      "cell_type": "code",
      "metadata": {
        "colab": {
          "base_uri": "https://localhost:8080/",
          "height": 297
        },
        "id": "O-Y_WjK2_Sh0",
        "outputId": "06e1c940-5858-45b9-d3e2-e1b0b36d0d55"
      },
      "source": [
        "df_intercom.plot(x='y', y='ds', kind='scatter')"
      ],
      "execution_count": 15,
      "outputs": [
        {
          "output_type": "execute_result",
          "data": {
            "text/plain": [
              "<matplotlib.axes._subplots.AxesSubplot at 0x7f8eefcadf50>"
            ]
          },
          "metadata": {},
          "execution_count": 15
        },
        {
          "output_type": "display_data",
          "data": {
            "image/png": "[encoded data removed]",
            "text/plain": [
              "<Figure size 432x288 with 1 Axes>"
            ]
          },
          "metadata": {
            "needs_background": "light"
          }
        }
      ]
    },
    {
      "cell_type": "markdown",
      "metadata": {
        "id": "OYqMqcBDAJ4l"
      },
      "source": [
        "На точечном графике показана слабая  отрицательная корреляция "
      ]
    },
    {
      "cell_type": "code",
      "metadata": {
        "id": "OhU7gSfIyK-z"
      },
      "source": [
        "import datetime\n",
        "df_intercom['ds_ordinal'] = pd.to_datetime(df_intercom.ds, format=\"%Y%M%D\")\n",
        "df_intercom['ds_ordinal'] = df_intercom['ds_ordinal'].map(datetime.datetime.toordinal)"
      ],
      "execution_count": 16,
      "outputs": []
    },
    {
      "cell_type": "code",
      "metadata": {
        "id": "9oFVtl5VyOI8"
      },
      "source": [
        "df_intercom['weekday']=df_intercom['ds'].dt.strftime('%A')"
      ],
      "execution_count": 17,
      "outputs": []
    },
    {
      "cell_type": "code",
      "metadata": {
        "colab": {
          "base_uri": "https://localhost:8080/",
          "height": 112
        },
        "id": "V4kUHbHvbMEU",
        "outputId": "d131fbfc-f876-4a23-e788-2824b29859b8"
      },
      "source": [
        "df_intercom.head(2)"
      ],
      "execution_count": 18,
      "outputs": [
        {
          "output_type": "execute_result",
          "data": {
            "text/html": [
              "<div>\n",
              "<style scoped>\n",
              "    .dataframe tbody tr th:only-of-type {\n",
              "        vertical-align: middle;\n",
              "    }\n",
              "\n",
              "    .dataframe tbody tr th {\n",
              "        vertical-align: top;\n",
              "    }\n",
              "\n",
              "    .dataframe thead th {\n",
              "        text-align: right;\n",
              "    }\n",
              "</style>\n",
              "<table border=\"1\" class=\"dataframe\">\n",
              "  <thead>\n",
              "    <tr style=\"text-align: right;\">\n",
              "      <th></th>\n",
              "      <th>index</th>\n",
              "      <th>ds</th>\n",
              "      <th>y</th>\n",
              "      <th>ds_ordinal</th>\n",
              "      <th>weekday</th>\n",
              "    </tr>\n",
              "  </thead>\n",
              "  <tbody>\n",
              "    <tr>\n",
              "      <th>0</th>\n",
              "      <td>0</td>\n",
              "      <td>2017-01-11</td>\n",
              "      <td>2131</td>\n",
              "      <td>736340</td>\n",
              "      <td>Wednesday</td>\n",
              "    </tr>\n",
              "    <tr>\n",
              "      <th>1</th>\n",
              "      <td>1</td>\n",
              "      <td>2017-02-11</td>\n",
              "      <td>2243</td>\n",
              "      <td>736371</td>\n",
              "      <td>Saturday</td>\n",
              "    </tr>\n",
              "  </tbody>\n",
              "</table>\n",
              "</div>"
            ],
            "text/plain": [
              "   index         ds     y  ds_ordinal    weekday\n",
              "0      0 2017-01-11  2131      736340  Wednesday\n",
              "1      1 2017-02-11  2243      736371   Saturday"
            ]
          },
          "metadata": {},
          "execution_count": 18
        }
      ]
    },
    {
      "cell_type": "code",
      "metadata": {
        "id": "Qs4LtHtKyRKs"
      },
      "source": [
        "def weekdays(row):\n",
        "    weekday=row.weekday\n",
        "    if weekday=='Thursday' :\n",
        "        return '-0.107205'\n",
        "    if weekday=='Friday' :\n",
        "        return '-0.034104'\n",
        "    if weekday=='Saturday' :\n",
        "        return '0.177063'\n",
        "    if weekday=='Sunday' :\n",
        "        return '0.155909'\n",
        "    if weekday=='Monday' :\n",
        "        return '-0.053048'\n",
        "    if weekday=='Tuesday' :\n",
        "        return '-0.004877'\n",
        "    if weekday=='Wednesday' :\n",
        "        return '-0.066004'\n",
        "        \n",
        "df_intercom['koeff']=df_intercom.apply (lambda row: weekdays(row), axis=1)# дню неделю присваем  данные для получния коэфициента, данные "
      ],
      "execution_count": 19,
      "outputs": []
    },
    {
      "cell_type": "code",
      "metadata": {
        "colab": {
          "base_uri": "https://localhost:8080/",
          "height": 112
        },
        "id": "ntOXK2hjyTiS",
        "outputId": "add35245-48d1-4206-f024-364347a89928"
      },
      "source": [
        "df_intercom['koeff']=df_intercom['koeff'].astype('float')\n",
        "df_intercom.head(2)"
      ],
      "execution_count": 20,
      "outputs": [
        {
          "output_type": "execute_result",
          "data": {
            "text/html": [
              "<div>\n",
              "<style scoped>\n",
              "    .dataframe tbody tr th:only-of-type {\n",
              "        vertical-align: middle;\n",
              "    }\n",
              "\n",
              "    .dataframe tbody tr th {\n",
              "        vertical-align: top;\n",
              "    }\n",
              "\n",
              "    .dataframe thead th {\n",
              "        text-align: right;\n",
              "    }\n",
              "</style>\n",
              "<table border=\"1\" class=\"dataframe\">\n",
              "  <thead>\n",
              "    <tr style=\"text-align: right;\">\n",
              "      <th></th>\n",
              "      <th>index</th>\n",
              "      <th>ds</th>\n",
              "      <th>y</th>\n",
              "      <th>ds_ordinal</th>\n",
              "      <th>weekday</th>\n",
              "      <th>koeff</th>\n",
              "    </tr>\n",
              "  </thead>\n",
              "  <tbody>\n",
              "    <tr>\n",
              "      <th>0</th>\n",
              "      <td>0</td>\n",
              "      <td>2017-01-11</td>\n",
              "      <td>2131</td>\n",
              "      <td>736340</td>\n",
              "      <td>Wednesday</td>\n",
              "      <td>-0.066004</td>\n",
              "    </tr>\n",
              "    <tr>\n",
              "      <th>1</th>\n",
              "      <td>1</td>\n",
              "      <td>2017-02-11</td>\n",
              "      <td>2243</td>\n",
              "      <td>736371</td>\n",
              "      <td>Saturday</td>\n",
              "      <td>0.177063</td>\n",
              "    </tr>\n",
              "  </tbody>\n",
              "</table>\n",
              "</div>"
            ],
            "text/plain": [
              "   index         ds     y  ds_ordinal    weekday     koeff\n",
              "0      0 2017-01-11  2131      736340  Wednesday -0.066004\n",
              "1      1 2017-02-11  2243      736371   Saturday  0.177063"
            ]
          },
          "metadata": {},
          "execution_count": 20
        }
      ]
    },
    {
      "cell_type": "code",
      "metadata": {
        "id": "tfRbPjCAyVpU"
      },
      "source": [
        "df_intercom['smooth_y']=df_intercom.y+(df_intercom.y*df_intercom.koeff)\n"
      ],
      "execution_count": 21,
      "outputs": []
    },
    {
      "cell_type": "code",
      "metadata": {
        "colab": {
          "base_uri": "https://localhost:8080/",
          "height": 112
        },
        "id": "8I0MIbKbynDj",
        "outputId": "e2ee54a7-039d-4c38-c7d7-933dcc939d5f"
      },
      "source": [
        "df_intercom['smooth_p']=(df_intercom.smooth_y)/(13)/(8)# предположим, что норма в час 13 шт, 8 часво работы одного человека\n",
        "df_intercom.head(2)"
      ],
      "execution_count": 22,
      "outputs": [
        {
          "output_type": "execute_result",
          "data": {
            "text/html": [
              "<div>\n",
              "<style scoped>\n",
              "    .dataframe tbody tr th:only-of-type {\n",
              "        vertical-align: middle;\n",
              "    }\n",
              "\n",
              "    .dataframe tbody tr th {\n",
              "        vertical-align: top;\n",
              "    }\n",
              "\n",
              "    .dataframe thead th {\n",
              "        text-align: right;\n",
              "    }\n",
              "</style>\n",
              "<table border=\"1\" class=\"dataframe\">\n",
              "  <thead>\n",
              "    <tr style=\"text-align: right;\">\n",
              "      <th></th>\n",
              "      <th>index</th>\n",
              "      <th>ds</th>\n",
              "      <th>y</th>\n",
              "      <th>ds_ordinal</th>\n",
              "      <th>weekday</th>\n",
              "      <th>koeff</th>\n",
              "      <th>smooth_y</th>\n",
              "      <th>smooth_p</th>\n",
              "    </tr>\n",
              "  </thead>\n",
              "  <tbody>\n",
              "    <tr>\n",
              "      <th>0</th>\n",
              "      <td>0</td>\n",
              "      <td>2017-01-11</td>\n",
              "      <td>2131</td>\n",
              "      <td>736340</td>\n",
              "      <td>Wednesday</td>\n",
              "      <td>-0.066004</td>\n",
              "      <td>1990.345476</td>\n",
              "      <td>19.137937</td>\n",
              "    </tr>\n",
              "    <tr>\n",
              "      <th>1</th>\n",
              "      <td>1</td>\n",
              "      <td>2017-02-11</td>\n",
              "      <td>2243</td>\n",
              "      <td>736371</td>\n",
              "      <td>Saturday</td>\n",
              "      <td>0.177063</td>\n",
              "      <td>2640.152309</td>\n",
              "      <td>25.386080</td>\n",
              "    </tr>\n",
              "  </tbody>\n",
              "</table>\n",
              "</div>"
            ],
            "text/plain": [
              "   index         ds     y  ...     koeff     smooth_y   smooth_p\n",
              "0      0 2017-01-11  2131  ... -0.066004  1990.345476  19.137937\n",
              "1      1 2017-02-11  2243  ...  0.177063  2640.152309  25.386080\n",
              "\n",
              "[2 rows x 8 columns]"
            ]
          },
          "metadata": {},
          "execution_count": 22
        }
      ]
    },
    {
      "cell_type": "code",
      "metadata": {
        "colab": {
          "base_uri": "https://localhost:8080/",
          "height": 300
        },
        "id": "WmcTS8lV1NEM",
        "outputId": "f6fe65a1-90a8-4d62-ef91-674555af8b5c"
      },
      "source": [
        "df_intercom.describe()"
      ],
      "execution_count": 23,
      "outputs": [
        {
          "output_type": "execute_result",
          "data": {
            "text/html": [
              "<div>\n",
              "<style scoped>\n",
              "    .dataframe tbody tr th:only-of-type {\n",
              "        vertical-align: middle;\n",
              "    }\n",
              "\n",
              "    .dataframe tbody tr th {\n",
              "        vertical-align: top;\n",
              "    }\n",
              "\n",
              "    .dataframe thead th {\n",
              "        text-align: right;\n",
              "    }\n",
              "</style>\n",
              "<table border=\"1\" class=\"dataframe\">\n",
              "  <thead>\n",
              "    <tr style=\"text-align: right;\">\n",
              "      <th></th>\n",
              "      <th>index</th>\n",
              "      <th>y</th>\n",
              "      <th>ds_ordinal</th>\n",
              "      <th>koeff</th>\n",
              "      <th>smooth_y</th>\n",
              "      <th>smooth_p</th>\n",
              "    </tr>\n",
              "  </thead>\n",
              "  <tbody>\n",
              "    <tr>\n",
              "      <th>count</th>\n",
              "      <td>28.000000</td>\n",
              "      <td>28.000000</td>\n",
              "      <td>28.000000</td>\n",
              "      <td>28.000000</td>\n",
              "      <td>28.000000</td>\n",
              "      <td>28.000000</td>\n",
              "    </tr>\n",
              "    <tr>\n",
              "      <th>mean</th>\n",
              "      <td>13.500000</td>\n",
              "      <td>2238.571429</td>\n",
              "      <td>736575.500000</td>\n",
              "      <td>0.013410</td>\n",
              "      <td>2270.723051</td>\n",
              "      <td>21.833875</td>\n",
              "    </tr>\n",
              "    <tr>\n",
              "      <th>std</th>\n",
              "      <td>8.225975</td>\n",
              "      <td>326.675445</td>\n",
              "      <td>92.889221</td>\n",
              "      <td>0.104390</td>\n",
              "      <td>435.615090</td>\n",
              "      <td>4.188607</td>\n",
              "    </tr>\n",
              "    <tr>\n",
              "      <th>min</th>\n",
              "      <td>0.000000</td>\n",
              "      <td>1832.000000</td>\n",
              "      <td>736340.000000</td>\n",
              "      <td>-0.107205</td>\n",
              "      <td>1734.816064</td>\n",
              "      <td>16.680924</td>\n",
              "    </tr>\n",
              "    <tr>\n",
              "      <th>25%</th>\n",
              "      <td>6.750000</td>\n",
              "      <td>1987.250000</td>\n",
              "      <td>736544.250000</td>\n",
              "      <td>-0.056287</td>\n",
              "      <td>1981.364500</td>\n",
              "      <td>19.051582</td>\n",
              "    </tr>\n",
              "    <tr>\n",
              "      <th>50%</th>\n",
              "      <td>13.500000</td>\n",
              "      <td>2196.500000</td>\n",
              "      <td>736622.500000</td>\n",
              "      <td>-0.034104</td>\n",
              "      <td>2233.184436</td>\n",
              "      <td>21.472927</td>\n",
              "    </tr>\n",
              "    <tr>\n",
              "      <th>75%</th>\n",
              "      <td>20.250000</td>\n",
              "      <td>2398.750000</td>\n",
              "      <td>736629.250000</td>\n",
              "      <td>0.155909</td>\n",
              "      <td>2432.247155</td>\n",
              "      <td>23.386992</td>\n",
              "    </tr>\n",
              "    <tr>\n",
              "      <th>max</th>\n",
              "      <td>27.000000</td>\n",
              "      <td>3370.000000</td>\n",
              "      <td>736674.000000</td>\n",
              "      <td>0.177063</td>\n",
              "      <td>3895.413330</td>\n",
              "      <td>37.455897</td>\n",
              "    </tr>\n",
              "  </tbody>\n",
              "</table>\n",
              "</div>"
            ],
            "text/plain": [
              "           index            y     ds_ordinal      koeff     smooth_y   smooth_p\n",
              "count  28.000000    28.000000      28.000000  28.000000    28.000000  28.000000\n",
              "mean   13.500000  2238.571429  736575.500000   0.013410  2270.723051  21.833875\n",
              "std     8.225975   326.675445      92.889221   0.104390   435.615090   4.188607\n",
              "min     0.000000  1832.000000  736340.000000  -0.107205  1734.816064  16.680924\n",
              "25%     6.750000  1987.250000  736544.250000  -0.056287  1981.364500  19.051582\n",
              "50%    13.500000  2196.500000  736622.500000  -0.034104  2233.184436  21.472927\n",
              "75%    20.250000  2398.750000  736629.250000   0.155909  2432.247155  23.386992\n",
              "max    27.000000  3370.000000  736674.000000   0.177063  3895.413330  37.455897"
            ]
          },
          "metadata": {},
          "execution_count": 23
        }
      ]
    },
    {
      "cell_type": "code",
      "metadata": {
        "colab": {
          "base_uri": "https://localhost:8080/"
        },
        "id": "VfYnqZtWb9Pp",
        "outputId": "60d8415c-3def-4922-c1b0-0c265c7bb59b"
      },
      "source": [
        "df_intercom.info()"
      ],
      "execution_count": 24,
      "outputs": [
        {
          "output_type": "stream",
          "name": "stdout",
          "text": [
            "<class 'pandas.core.frame.DataFrame'>\n",
            "RangeIndex: 28 entries, 0 to 27\n",
            "Data columns (total 8 columns):\n",
            " #   Column      Non-Null Count  Dtype         \n",
            "---  ------      --------------  -----         \n",
            " 0   index       28 non-null     int64         \n",
            " 1   ds          28 non-null     datetime64[ns]\n",
            " 2   y           28 non-null     int64         \n",
            " 3   ds_ordinal  28 non-null     int64         \n",
            " 4   weekday     28 non-null     object        \n",
            " 5   koeff       28 non-null     float64       \n",
            " 6   smooth_y    28 non-null     float64       \n",
            " 7   smooth_p    28 non-null     float64       \n",
            "dtypes: datetime64[ns](1), float64(3), int64(3), object(1)\n",
            "memory usage: 1.9+ KB\n"
          ]
        }
      ]
    },
    {
      "cell_type": "code",
      "metadata": {
        "colab": {
          "base_uri": "https://localhost:8080/",
          "height": 302
        },
        "id": "PSXcaEexznm9",
        "outputId": "1a023cf7-b5c6-4794-fe2d-e1f8425f2a1a"
      },
      "source": [
        "sns.regplot(x=\"ds_ordinal\", y=\"smooth_y\", data=df_intercom)"
      ],
      "execution_count": 25,
      "outputs": [
        {
          "output_type": "execute_result",
          "data": {
            "text/plain": [
              "<matplotlib.axes._subplots.AxesSubplot at 0x7f8eef6af290>"
            ]
          },
          "metadata": {},
          "execution_count": 25
        },
        {
          "output_type": "display_data",
          "data": {
            "image/png": "[encoded data removed]",
            "text/plain": [
              "<Figure size 432x288 with 1 Axes>"
            ]
          },
          "metadata": {
            "needs_background": "light"
          }
        }
      ]
    },
    {
      "cell_type": "code",
      "metadata": {
        "colab": {
          "base_uri": "https://localhost:8080/"
        },
        "id": "8WjWOvCWFJJG",
        "outputId": "ea8c98dd-3ab0-4f23-db3b-4ea9d6cfc612"
      },
      "source": [
        "df_intercom['ds_ordinal'].corr(df_intercom['smooth_y'])# расчет кореляции"
      ],
      "execution_count": 26,
      "outputs": [
        {
          "output_type": "execute_result",
          "data": {
            "text/plain": [
              "-0.057412106591733555"
            ]
          },
          "metadata": {},
          "execution_count": 26
        }
      ]
    },
    {
      "cell_type": "markdown",
      "metadata": {
        "id": "ZWHHJzc8Ee6r"
      },
      "source": [
        "На  графике  и расчет показал слабая корреляция данных  -0.057412106591733555"
      ]
    },
    {
      "cell_type": "code",
      "metadata": {
        "id": "VzynkEIjfEoQ"
      },
      "source": [
        "fact = pd.read_csv('fact.csv', sep=';' ) # загружаем данные из  файла csv, с разделителм \";\""
      ],
      "execution_count": 27,
      "outputs": []
    },
    {
      "cell_type": "code",
      "metadata": {
        "colab": {
          "base_uri": "https://localhost:8080/",
          "height": 488
        },
        "id": "wMivtJ0Ghxd6",
        "outputId": "8d19e725-9870-4170-a826-8b21c6c59382"
      },
      "source": [
        "fact"
      ],
      "execution_count": 28,
      "outputs": [
        {
          "output_type": "execute_result",
          "data": {
            "text/html": [
              "<div>\n",
              "<style scoped>\n",
              "    .dataframe tbody tr th:only-of-type {\n",
              "        vertical-align: middle;\n",
              "    }\n",
              "\n",
              "    .dataframe tbody tr th {\n",
              "        vertical-align: top;\n",
              "    }\n",
              "\n",
              "    .dataframe thead th {\n",
              "        text-align: right;\n",
              "    }\n",
              "</style>\n",
              "<table border=\"1\" class=\"dataframe\">\n",
              "  <thead>\n",
              "    <tr style=\"text-align: right;\">\n",
              "      <th></th>\n",
              "      <th>ds</th>\n",
              "      <th>y_i</th>\n",
              "    </tr>\n",
              "  </thead>\n",
              "  <tbody>\n",
              "    <tr>\n",
              "      <th>0</th>\n",
              "      <td>12.01.2017</td>\n",
              "      <td>2218.523</td>\n",
              "    </tr>\n",
              "    <tr>\n",
              "      <th>1</th>\n",
              "      <td>12.02.2017</td>\n",
              "      <td>1759.832</td>\n",
              "    </tr>\n",
              "    <tr>\n",
              "      <th>2</th>\n",
              "      <td>12.03.2017</td>\n",
              "      <td>1989.130</td>\n",
              "    </tr>\n",
              "    <tr>\n",
              "      <th>3</th>\n",
              "      <td>12.04.2017</td>\n",
              "      <td>2219.238</td>\n",
              "    </tr>\n",
              "    <tr>\n",
              "      <th>4</th>\n",
              "      <td>12.05.2017</td>\n",
              "      <td>2300.771</td>\n",
              "    </tr>\n",
              "    <tr>\n",
              "      <th>5</th>\n",
              "      <td>12.06.2017</td>\n",
              "      <td>2193.764</td>\n",
              "    </tr>\n",
              "    <tr>\n",
              "      <th>6</th>\n",
              "      <td>12.07.2017</td>\n",
              "      <td>2222.985</td>\n",
              "    </tr>\n",
              "    <tr>\n",
              "      <th>7</th>\n",
              "      <td>12.08.2017</td>\n",
              "      <td>2177.574</td>\n",
              "    </tr>\n",
              "    <tr>\n",
              "      <th>8</th>\n",
              "      <td>12.09.2017</td>\n",
              "      <td>1957.281</td>\n",
              "    </tr>\n",
              "    <tr>\n",
              "      <th>9</th>\n",
              "      <td>12.10.2017</td>\n",
              "      <td>1694.539</td>\n",
              "    </tr>\n",
              "    <tr>\n",
              "      <th>10</th>\n",
              "      <td>12.11.2017</td>\n",
              "      <td>2163.255</td>\n",
              "    </tr>\n",
              "    <tr>\n",
              "      <th>11</th>\n",
              "      <td>12.12.2017</td>\n",
              "      <td>3000.877</td>\n",
              "    </tr>\n",
              "    <tr>\n",
              "      <th>12</th>\n",
              "      <td>12.13.2017</td>\n",
              "      <td>2121.755</td>\n",
              "    </tr>\n",
              "    <tr>\n",
              "      <th>13</th>\n",
              "      <td>12.14.2017</td>\n",
              "      <td>2387.898</td>\n",
              "    </tr>\n",
              "  </tbody>\n",
              "</table>\n",
              "</div>"
            ],
            "text/plain": [
              "            ds       y_i\n",
              "0   12.01.2017  2218.523\n",
              "1   12.02.2017  1759.832\n",
              "2   12.03.2017  1989.130\n",
              "3   12.04.2017  2219.238\n",
              "4   12.05.2017  2300.771\n",
              "5   12.06.2017  2193.764\n",
              "6   12.07.2017  2222.985\n",
              "7   12.08.2017  2177.574\n",
              "8   12.09.2017  1957.281\n",
              "9   12.10.2017  1694.539\n",
              "10  12.11.2017  2163.255\n",
              "11  12.12.2017  3000.877\n",
              "12  12.13.2017  2121.755\n",
              "13  12.14.2017  2387.898"
            ]
          },
          "metadata": {},
          "execution_count": 28
        }
      ]
    },
    {
      "cell_type": "code",
      "metadata": {
        "colab": {
          "base_uri": "https://localhost:8080/"
        },
        "id": "NrjC-aaRcc8v",
        "outputId": "4f85bcc4-453a-450d-f760-a543dc05cda6"
      },
      "source": [
        "fact['y_i'].astype('float')\n"
      ],
      "execution_count": 29,
      "outputs": [
        {
          "output_type": "execute_result",
          "data": {
            "text/plain": [
              "0     2218.523\n",
              "1     1759.832\n",
              "2     1989.130\n",
              "3     2219.238\n",
              "4     2300.771\n",
              "5     2193.764\n",
              "6     2222.985\n",
              "7     2177.574\n",
              "8     1957.281\n",
              "9     1694.539\n",
              "10    2163.255\n",
              "11    3000.877\n",
              "12    2121.755\n",
              "13    2387.898\n",
              "Name: y_i, dtype: float64"
            ]
          },
          "metadata": {},
          "execution_count": 29
        }
      ]
    },
    {
      "cell_type": "code",
      "metadata": {
        "id": "m9J9-wnDeQ4o"
      },
      "source": [
        "fact['smooth_I']=fact['y_i']/(13)/(8)# предположим, что норма в час 13 шт, 8 часво работы одного человека"
      ],
      "execution_count": 30,
      "outputs": []
    },
    {
      "cell_type": "code",
      "metadata": {
        "colab": {
          "base_uri": "https://localhost:8080/"
        },
        "id": "DMfDxaIMhA-_",
        "outputId": "f26b06e4-ab86-4c62-880a-c1c362285868"
      },
      "source": [
        "fact.info()"
      ],
      "execution_count": 31,
      "outputs": [
        {
          "output_type": "stream",
          "name": "stdout",
          "text": [
            "<class 'pandas.core.frame.DataFrame'>\n",
            "RangeIndex: 14 entries, 0 to 13\n",
            "Data columns (total 3 columns):\n",
            " #   Column    Non-Null Count  Dtype  \n",
            "---  ------    --------------  -----  \n",
            " 0   ds        14 non-null     object \n",
            " 1   y_i       14 non-null     float64\n",
            " 2   smooth_I  14 non-null     float64\n",
            "dtypes: float64(2), object(1)\n",
            "memory usage: 464.0+ bytes\n"
          ]
        }
      ]
    },
    {
      "cell_type": "markdown",
      "metadata": {
        "id": "k2aSp703fPmA"
      },
      "source": [
        "Расчитываем прогноз"
      ]
    },
    {
      "cell_type": "code",
      "metadata": {
        "id": "fZx8wWsf31Ir"
      },
      "source": [
        "dates=df_intercom['ds_ordinal']\n",
        "dates = np.array(dates).reshape((len(dates), 1))#изменяем  форму массива"
      ],
      "execution_count": 32,
      "outputs": []
    },
    {
      "cell_type": "code",
      "metadata": {
        "id": "sxW-w1M434SC"
      },
      "source": [
        "data=df_intercom['smooth_p']\n",
        "data = np.array(data).reshape((len(data), 1))#изменяем  форму массива"
      ],
      "execution_count": 33,
      "outputs": []
    },
    {
      "cell_type": "code",
      "metadata": {
        "id": "y9uGnI0736vM"
      },
      "source": [
        "from sklearn import linear_model \n",
        "X=dates\n",
        "y=data\n",
        "lm = linear_model.LinearRegression()\n",
        "model = lm.fit(X,y)# метод наименьших квадратов Линейная регрессия."
      ],
      "execution_count": 34,
      "outputs": []
    },
    {
      "cell_type": "code",
      "metadata": {
        "id": "924qdgF338lb"
      },
      "source": [
        "def date_generator():\n",
        "  from_date =  datetime.datetime(2017,12, 1)\n",
        "  while True:\n",
        "    yield from_date\n",
        "    from_date = from_date+datetime.timedelta(days=1)"
      ],
      "execution_count": 35,
      "outputs": []
    },
    {
      "cell_type": "code",
      "metadata": {
        "id": "n9epio4d3-fC"
      },
      "source": [
        "import itertools\n",
        "future_dates = itertools.islice(date_generator(), 14)  # генирируем новые даты\n",
        "future_dates=list(future_dates)"
      ],
      "execution_count": 36,
      "outputs": []
    },
    {
      "cell_type": "code",
      "metadata": {
        "id": "hBSvO24D4AMq"
      },
      "source": [
        "from pandas import DataFrame\n",
        "future = DataFrame(future_dates,columns=['future_dates'])"
      ],
      "execution_count": 37,
      "outputs": []
    },
    {
      "cell_type": "code",
      "metadata": {
        "id": "i7YBCKAw4Bj0"
      },
      "source": [
        "future['weekday']=future['future_dates'].dt.strftime('%A')"
      ],
      "execution_count": 38,
      "outputs": []
    },
    {
      "cell_type": "code",
      "metadata": {
        "id": "BiPS9bZR4DPq"
      },
      "source": [
        "future['future_dates_ordinal'] = pd.to_datetime(future.future_dates, format=\"%Y%M%D\") \n",
        "future['future_dates_ordinal'] = future['future_dates_ordinal'].map(datetime.datetime.toordinal)  #создаемн овый столюец с порядковый ноиером "
      ],
      "execution_count": 39,
      "outputs": []
    },
    {
      "cell_type": "code",
      "metadata": {
        "id": "YDc16QzU4FAK"
      },
      "source": [
        "future_dates_for_model=future['future_dates_ordinal']\n",
        "future_dates_for_model = np.array(future_dates_for_model).reshape((len(future_dates), 1))"
      ],
      "execution_count": 40,
      "outputs": []
    },
    {
      "cell_type": "code",
      "metadata": {
        "id": "1Z1ycz2p4Gjr"
      },
      "source": [
        "future_2_weeks_predictions = lm.predict(future_dates_for_model)"
      ],
      "execution_count": 41,
      "outputs": []
    },
    {
      "cell_type": "code",
      "metadata": {
        "id": "XIJSREx54H56"
      },
      "source": [
        "df_predict = pd.DataFrame(data=future_2_weeks_predictions, columns=[\"predict\"])"
      ],
      "execution_count": 42,
      "outputs": []
    },
    {
      "cell_type": "code",
      "metadata": {
        "colab": {
          "base_uri": "https://localhost:8080/"
        },
        "id": "b6ljeVqbwl2f",
        "outputId": "80609625-31ab-4419-a56b-4c05bc7c5c55"
      },
      "source": [
        "df_predict.info()"
      ],
      "execution_count": 43,
      "outputs": [
        {
          "output_type": "stream",
          "name": "stdout",
          "text": [
            "<class 'pandas.core.frame.DataFrame'>\n",
            "RangeIndex: 14 entries, 0 to 13\n",
            "Data columns (total 1 columns):\n",
            " #   Column   Non-Null Count  Dtype  \n",
            "---  ------   --------------  -----  \n",
            " 0   predict  14 non-null     float64\n",
            "dtypes: float64(1)\n",
            "memory usage: 240.0 bytes\n"
          ]
        }
      ]
    },
    {
      "cell_type": "code",
      "metadata": {
        "id": "KylsYC_y4JKj"
      },
      "source": [
        "df_predict=pd.concat([df_predict, future], axis=1)\n",
        "df_predict=df_predict.T.drop_duplicates().T"
      ],
      "execution_count": 44,
      "outputs": []
    },
    {
      "cell_type": "code",
      "metadata": {
        "colab": {
          "base_uri": "https://localhost:8080/"
        },
        "id": "DkGdOXDOwqJ-",
        "outputId": "581d4c58-bb46-41af-c3ff-74884ca31a1d"
      },
      "source": [
        "df_predict.info()"
      ],
      "execution_count": 45,
      "outputs": [
        {
          "output_type": "stream",
          "name": "stdout",
          "text": [
            "<class 'pandas.core.frame.DataFrame'>\n",
            "RangeIndex: 14 entries, 0 to 13\n",
            "Data columns (total 4 columns):\n",
            " #   Column                Non-Null Count  Dtype         \n",
            "---  ------                --------------  -----         \n",
            " 0   predict               14 non-null     object        \n",
            " 1   future_dates          14 non-null     datetime64[ns]\n",
            " 2   weekday               14 non-null     object        \n",
            " 3   future_dates_ordinal  14 non-null     object        \n",
            "dtypes: datetime64[ns](1), object(3)\n",
            "memory usage: 576.0+ bytes\n"
          ]
        }
      ]
    },
    {
      "cell_type": "code",
      "metadata": {
        "id": "AjqSeSYb4LHT"
      },
      "source": [
        "def weekdays(row):\n",
        "    weekday=row.weekday\n",
        "    if weekday=='Thursday' :\n",
        "        return '-0.107205'\n",
        "    if weekday=='Friday' :\n",
        "        return '-0.034104'\n",
        "    if weekday=='Saturday' :\n",
        "        return '0.177063'\n",
        "    if weekday=='Sunday' :\n",
        "        return '0.155909'\n",
        "    if weekday=='Monday' :\n",
        "        return '-0.053048'\n",
        "    if weekday=='Tuesday' :\n",
        "        return '-0.004877'\n",
        "    if weekday=='Wednesday' :\n",
        "        return '-0.066004'\n",
        "        \n",
        "df_predict['koeff']=df_predict.apply (lambda row: weekdays(row), axis=1)"
      ],
      "execution_count": 46,
      "outputs": []
    },
    {
      "cell_type": "code",
      "metadata": {
        "id": "i8s8DHgl4M0i"
      },
      "source": [
        "df_predict['future_dates'] = pd.to_datetime(df_predict['future_dates'] )\n",
        "df_predict['future_dates']=df_predict['future_dates'].dt.strftime('%x')"
      ],
      "execution_count": 47,
      "outputs": []
    },
    {
      "cell_type": "code",
      "metadata": {
        "id": "u09nH5364OQ8"
      },
      "source": [
        "df_predict['koeff']=df_predict['koeff'].astype('float')\n",
        "df_predict['predict'] = df_predict['predict'].astype('float')"
      ],
      "execution_count": 48,
      "outputs": []
    },
    {
      "cell_type": "code",
      "metadata": {
        "id": "y6A3jbZC4PkL"
      },
      "source": [
        "df_predict['final_predictions']=df_predict.predict-(df_predict.predict*df_predict.koeff)"
      ],
      "execution_count": 49,
      "outputs": []
    },
    {
      "cell_type": "code",
      "metadata": {
        "colab": {
          "base_uri": "https://localhost:8080/"
        },
        "id": "kIJyK_RLgLu3",
        "outputId": "6a0c6ecf-510f-4440-cd2f-cb27de6e9dc3"
      },
      "source": [
        "df_predict.info()"
      ],
      "execution_count": 50,
      "outputs": [
        {
          "output_type": "stream",
          "name": "stdout",
          "text": [
            "<class 'pandas.core.frame.DataFrame'>\n",
            "RangeIndex: 14 entries, 0 to 13\n",
            "Data columns (total 6 columns):\n",
            " #   Column                Non-Null Count  Dtype  \n",
            "---  ------                --------------  -----  \n",
            " 0   predict               14 non-null     float64\n",
            " 1   future_dates          14 non-null     object \n",
            " 2   weekday               14 non-null     object \n",
            " 3   future_dates_ordinal  14 non-null     object \n",
            " 4   koeff                 14 non-null     float64\n",
            " 5   final_predictions     14 non-null     float64\n",
            "dtypes: float64(3), object(3)\n",
            "memory usage: 800.0+ bytes\n"
          ]
        }
      ]
    },
    {
      "cell_type": "code",
      "metadata": {
        "colab": {
          "base_uri": "https://localhost:8080/",
          "height": 488
        },
        "id": "7BeIrg_OiryA",
        "outputId": "9d00fa90-487f-4bd0-a47b-c5634da6a8b9"
      },
      "source": [
        "df_predict"
      ],
      "execution_count": 51,
      "outputs": [
        {
          "output_type": "execute_result",
          "data": {
            "text/html": [
              "<div>\n",
              "<style scoped>\n",
              "    .dataframe tbody tr th:only-of-type {\n",
              "        vertical-align: middle;\n",
              "    }\n",
              "\n",
              "    .dataframe tbody tr th {\n",
              "        vertical-align: top;\n",
              "    }\n",
              "\n",
              "    .dataframe thead th {\n",
              "        text-align: right;\n",
              "    }\n",
              "</style>\n",
              "<table border=\"1\" class=\"dataframe\">\n",
              "  <thead>\n",
              "    <tr style=\"text-align: right;\">\n",
              "      <th></th>\n",
              "      <th>predict</th>\n",
              "      <th>future_dates</th>\n",
              "      <th>weekday</th>\n",
              "      <th>future_dates_ordinal</th>\n",
              "      <th>koeff</th>\n",
              "      <th>final_predictions</th>\n",
              "    </tr>\n",
              "  </thead>\n",
              "  <tbody>\n",
              "    <tr>\n",
              "      <th>0</th>\n",
              "      <td>21.604762</td>\n",
              "      <td>12/01/17</td>\n",
              "      <td>Friday</td>\n",
              "      <td>736664</td>\n",
              "      <td>-0.034104</td>\n",
              "      <td>22.341571</td>\n",
              "    </tr>\n",
              "    <tr>\n",
              "      <th>1</th>\n",
              "      <td>21.602173</td>\n",
              "      <td>12/02/17</td>\n",
              "      <td>Saturday</td>\n",
              "      <td>736665</td>\n",
              "      <td>0.177063</td>\n",
              "      <td>17.777227</td>\n",
              "    </tr>\n",
              "    <tr>\n",
              "      <th>2</th>\n",
              "      <td>21.599584</td>\n",
              "      <td>12/03/17</td>\n",
              "      <td>Sunday</td>\n",
              "      <td>736666</td>\n",
              "      <td>0.155909</td>\n",
              "      <td>18.232015</td>\n",
              "    </tr>\n",
              "    <tr>\n",
              "      <th>3</th>\n",
              "      <td>21.596995</td>\n",
              "      <td>12/04/17</td>\n",
              "      <td>Monday</td>\n",
              "      <td>736667</td>\n",
              "      <td>-0.053048</td>\n",
              "      <td>22.742673</td>\n",
              "    </tr>\n",
              "    <tr>\n",
              "      <th>4</th>\n",
              "      <td>21.594406</td>\n",
              "      <td>12/05/17</td>\n",
              "      <td>Tuesday</td>\n",
              "      <td>736668</td>\n",
              "      <td>-0.004877</td>\n",
              "      <td>21.699722</td>\n",
              "    </tr>\n",
              "    <tr>\n",
              "      <th>5</th>\n",
              "      <td>21.591818</td>\n",
              "      <td>12/06/17</td>\n",
              "      <td>Wednesday</td>\n",
              "      <td>736669</td>\n",
              "      <td>-0.066004</td>\n",
              "      <td>23.016964</td>\n",
              "    </tr>\n",
              "    <tr>\n",
              "      <th>6</th>\n",
              "      <td>21.589229</td>\n",
              "      <td>12/07/17</td>\n",
              "      <td>Thursday</td>\n",
              "      <td>736670</td>\n",
              "      <td>-0.107205</td>\n",
              "      <td>23.903702</td>\n",
              "    </tr>\n",
              "    <tr>\n",
              "      <th>7</th>\n",
              "      <td>21.586640</td>\n",
              "      <td>12/08/17</td>\n",
              "      <td>Friday</td>\n",
              "      <td>736671</td>\n",
              "      <td>-0.034104</td>\n",
              "      <td>22.322831</td>\n",
              "    </tr>\n",
              "    <tr>\n",
              "      <th>8</th>\n",
              "      <td>21.584051</td>\n",
              "      <td>12/09/17</td>\n",
              "      <td>Saturday</td>\n",
              "      <td>736672</td>\n",
              "      <td>0.177063</td>\n",
              "      <td>17.762314</td>\n",
              "    </tr>\n",
              "    <tr>\n",
              "      <th>9</th>\n",
              "      <td>21.581462</td>\n",
              "      <td>12/10/17</td>\n",
              "      <td>Sunday</td>\n",
              "      <td>736673</td>\n",
              "      <td>0.155909</td>\n",
              "      <td>18.216718</td>\n",
              "    </tr>\n",
              "    <tr>\n",
              "      <th>10</th>\n",
              "      <td>21.578873</td>\n",
              "      <td>12/11/17</td>\n",
              "      <td>Monday</td>\n",
              "      <td>736674</td>\n",
              "      <td>-0.053048</td>\n",
              "      <td>22.723589</td>\n",
              "    </tr>\n",
              "    <tr>\n",
              "      <th>11</th>\n",
              "      <td>21.576284</td>\n",
              "      <td>12/12/17</td>\n",
              "      <td>Tuesday</td>\n",
              "      <td>736675</td>\n",
              "      <td>-0.004877</td>\n",
              "      <td>21.681512</td>\n",
              "    </tr>\n",
              "    <tr>\n",
              "      <th>12</th>\n",
              "      <td>21.573696</td>\n",
              "      <td>12/13/17</td>\n",
              "      <td>Wednesday</td>\n",
              "      <td>736676</td>\n",
              "      <td>-0.066004</td>\n",
              "      <td>22.997646</td>\n",
              "    </tr>\n",
              "    <tr>\n",
              "      <th>13</th>\n",
              "      <td>21.571107</td>\n",
              "      <td>12/14/17</td>\n",
              "      <td>Thursday</td>\n",
              "      <td>736677</td>\n",
              "      <td>-0.107205</td>\n",
              "      <td>23.883637</td>\n",
              "    </tr>\n",
              "  </tbody>\n",
              "</table>\n",
              "</div>"
            ],
            "text/plain": [
              "      predict future_dates  ...     koeff final_predictions\n",
              "0   21.604762     12/01/17  ... -0.034104         22.341571\n",
              "1   21.602173     12/02/17  ...  0.177063         17.777227\n",
              "2   21.599584     12/03/17  ...  0.155909         18.232015\n",
              "3   21.596995     12/04/17  ... -0.053048         22.742673\n",
              "4   21.594406     12/05/17  ... -0.004877         21.699722\n",
              "5   21.591818     12/06/17  ... -0.066004         23.016964\n",
              "6   21.589229     12/07/17  ... -0.107205         23.903702\n",
              "7   21.586640     12/08/17  ... -0.034104         22.322831\n",
              "8   21.584051     12/09/17  ...  0.177063         17.762314\n",
              "9   21.581462     12/10/17  ...  0.155909         18.216718\n",
              "10  21.578873     12/11/17  ... -0.053048         22.723589\n",
              "11  21.576284     12/12/17  ... -0.004877         21.681512\n",
              "12  21.573696     12/13/17  ... -0.066004         22.997646\n",
              "13  21.571107     12/14/17  ... -0.107205         23.883637\n",
              "\n",
              "[14 rows x 6 columns]"
            ]
          },
          "metadata": {},
          "execution_count": 51
        }
      ]
    },
    {
      "cell_type": "code",
      "metadata": {
        "id": "ywv_cHfWgYB2"
      },
      "source": [
        "df_s= df_predict.join(fact)"
      ],
      "execution_count": 52,
      "outputs": []
    },
    {
      "cell_type": "code",
      "metadata": {
        "colab": {
          "base_uri": "https://localhost:8080/",
          "height": 488
        },
        "id": "iqfx5kGIg6MY",
        "outputId": "14bec3e8-9743-4ba3-e798-587b31786f52"
      },
      "source": [
        "df_s"
      ],
      "execution_count": 53,
      "outputs": [
        {
          "output_type": "execute_result",
          "data": {
            "text/html": [
              "<div>\n",
              "<style scoped>\n",
              "    .dataframe tbody tr th:only-of-type {\n",
              "        vertical-align: middle;\n",
              "    }\n",
              "\n",
              "    .dataframe tbody tr th {\n",
              "        vertical-align: top;\n",
              "    }\n",
              "\n",
              "    .dataframe thead th {\n",
              "        text-align: right;\n",
              "    }\n",
              "</style>\n",
              "<table border=\"1\" class=\"dataframe\">\n",
              "  <thead>\n",
              "    <tr style=\"text-align: right;\">\n",
              "      <th></th>\n",
              "      <th>predict</th>\n",
              "      <th>future_dates</th>\n",
              "      <th>weekday</th>\n",
              "      <th>future_dates_ordinal</th>\n",
              "      <th>koeff</th>\n",
              "      <th>final_predictions</th>\n",
              "      <th>ds</th>\n",
              "      <th>y_i</th>\n",
              "      <th>smooth_I</th>\n",
              "    </tr>\n",
              "  </thead>\n",
              "  <tbody>\n",
              "    <tr>\n",
              "      <th>0</th>\n",
              "      <td>21.604762</td>\n",
              "      <td>12/01/17</td>\n",
              "      <td>Friday</td>\n",
              "      <td>736664</td>\n",
              "      <td>-0.034104</td>\n",
              "      <td>22.341571</td>\n",
              "      <td>12.01.2017</td>\n",
              "      <td>2218.523</td>\n",
              "      <td>21.331952</td>\n",
              "    </tr>\n",
              "    <tr>\n",
              "      <th>1</th>\n",
              "      <td>21.602173</td>\n",
              "      <td>12/02/17</td>\n",
              "      <td>Saturday</td>\n",
              "      <td>736665</td>\n",
              "      <td>0.177063</td>\n",
              "      <td>17.777227</td>\n",
              "      <td>12.02.2017</td>\n",
              "      <td>1759.832</td>\n",
              "      <td>16.921462</td>\n",
              "    </tr>\n",
              "    <tr>\n",
              "      <th>2</th>\n",
              "      <td>21.599584</td>\n",
              "      <td>12/03/17</td>\n",
              "      <td>Sunday</td>\n",
              "      <td>736666</td>\n",
              "      <td>0.155909</td>\n",
              "      <td>18.232015</td>\n",
              "      <td>12.03.2017</td>\n",
              "      <td>1989.130</td>\n",
              "      <td>19.126250</td>\n",
              "    </tr>\n",
              "    <tr>\n",
              "      <th>3</th>\n",
              "      <td>21.596995</td>\n",
              "      <td>12/04/17</td>\n",
              "      <td>Monday</td>\n",
              "      <td>736667</td>\n",
              "      <td>-0.053048</td>\n",
              "      <td>22.742673</td>\n",
              "      <td>12.04.2017</td>\n",
              "      <td>2219.238</td>\n",
              "      <td>21.338827</td>\n",
              "    </tr>\n",
              "    <tr>\n",
              "      <th>4</th>\n",
              "      <td>21.594406</td>\n",
              "      <td>12/05/17</td>\n",
              "      <td>Tuesday</td>\n",
              "      <td>736668</td>\n",
              "      <td>-0.004877</td>\n",
              "      <td>21.699722</td>\n",
              "      <td>12.05.2017</td>\n",
              "      <td>2300.771</td>\n",
              "      <td>22.122798</td>\n",
              "    </tr>\n",
              "    <tr>\n",
              "      <th>5</th>\n",
              "      <td>21.591818</td>\n",
              "      <td>12/06/17</td>\n",
              "      <td>Wednesday</td>\n",
              "      <td>736669</td>\n",
              "      <td>-0.066004</td>\n",
              "      <td>23.016964</td>\n",
              "      <td>12.06.2017</td>\n",
              "      <td>2193.764</td>\n",
              "      <td>21.093885</td>\n",
              "    </tr>\n",
              "    <tr>\n",
              "      <th>6</th>\n",
              "      <td>21.589229</td>\n",
              "      <td>12/07/17</td>\n",
              "      <td>Thursday</td>\n",
              "      <td>736670</td>\n",
              "      <td>-0.107205</td>\n",
              "      <td>23.903702</td>\n",
              "      <td>12.07.2017</td>\n",
              "      <td>2222.985</td>\n",
              "      <td>21.374856</td>\n",
              "    </tr>\n",
              "    <tr>\n",
              "      <th>7</th>\n",
              "      <td>21.586640</td>\n",
              "      <td>12/08/17</td>\n",
              "      <td>Friday</td>\n",
              "      <td>736671</td>\n",
              "      <td>-0.034104</td>\n",
              "      <td>22.322831</td>\n",
              "      <td>12.08.2017</td>\n",
              "      <td>2177.574</td>\n",
              "      <td>20.938212</td>\n",
              "    </tr>\n",
              "    <tr>\n",
              "      <th>8</th>\n",
              "      <td>21.584051</td>\n",
              "      <td>12/09/17</td>\n",
              "      <td>Saturday</td>\n",
              "      <td>736672</td>\n",
              "      <td>0.177063</td>\n",
              "      <td>17.762314</td>\n",
              "      <td>12.09.2017</td>\n",
              "      <td>1957.281</td>\n",
              "      <td>18.820010</td>\n",
              "    </tr>\n",
              "    <tr>\n",
              "      <th>9</th>\n",
              "      <td>21.581462</td>\n",
              "      <td>12/10/17</td>\n",
              "      <td>Sunday</td>\n",
              "      <td>736673</td>\n",
              "      <td>0.155909</td>\n",
              "      <td>18.216718</td>\n",
              "      <td>12.10.2017</td>\n",
              "      <td>1694.539</td>\n",
              "      <td>16.293644</td>\n",
              "    </tr>\n",
              "    <tr>\n",
              "      <th>10</th>\n",
              "      <td>21.578873</td>\n",
              "      <td>12/11/17</td>\n",
              "      <td>Monday</td>\n",
              "      <td>736674</td>\n",
              "      <td>-0.053048</td>\n",
              "      <td>22.723589</td>\n",
              "      <td>12.11.2017</td>\n",
              "      <td>2163.255</td>\n",
              "      <td>20.800529</td>\n",
              "    </tr>\n",
              "    <tr>\n",
              "      <th>11</th>\n",
              "      <td>21.576284</td>\n",
              "      <td>12/12/17</td>\n",
              "      <td>Tuesday</td>\n",
              "      <td>736675</td>\n",
              "      <td>-0.004877</td>\n",
              "      <td>21.681512</td>\n",
              "      <td>12.12.2017</td>\n",
              "      <td>3000.877</td>\n",
              "      <td>28.854587</td>\n",
              "    </tr>\n",
              "    <tr>\n",
              "      <th>12</th>\n",
              "      <td>21.573696</td>\n",
              "      <td>12/13/17</td>\n",
              "      <td>Wednesday</td>\n",
              "      <td>736676</td>\n",
              "      <td>-0.066004</td>\n",
              "      <td>22.997646</td>\n",
              "      <td>12.13.2017</td>\n",
              "      <td>2121.755</td>\n",
              "      <td>20.401490</td>\n",
              "    </tr>\n",
              "    <tr>\n",
              "      <th>13</th>\n",
              "      <td>21.571107</td>\n",
              "      <td>12/14/17</td>\n",
              "      <td>Thursday</td>\n",
              "      <td>736677</td>\n",
              "      <td>-0.107205</td>\n",
              "      <td>23.883637</td>\n",
              "      <td>12.14.2017</td>\n",
              "      <td>2387.898</td>\n",
              "      <td>22.960558</td>\n",
              "    </tr>\n",
              "  </tbody>\n",
              "</table>\n",
              "</div>"
            ],
            "text/plain": [
              "      predict future_dates    weekday  ...          ds       y_i   smooth_I\n",
              "0   21.604762     12/01/17     Friday  ...  12.01.2017  2218.523  21.331952\n",
              "1   21.602173     12/02/17   Saturday  ...  12.02.2017  1759.832  16.921462\n",
              "2   21.599584     12/03/17     Sunday  ...  12.03.2017  1989.130  19.126250\n",
              "3   21.596995     12/04/17     Monday  ...  12.04.2017  2219.238  21.338827\n",
              "4   21.594406     12/05/17    Tuesday  ...  12.05.2017  2300.771  22.122798\n",
              "5   21.591818     12/06/17  Wednesday  ...  12.06.2017  2193.764  21.093885\n",
              "6   21.589229     12/07/17   Thursday  ...  12.07.2017  2222.985  21.374856\n",
              "7   21.586640     12/08/17     Friday  ...  12.08.2017  2177.574  20.938212\n",
              "8   21.584051     12/09/17   Saturday  ...  12.09.2017  1957.281  18.820010\n",
              "9   21.581462     12/10/17     Sunday  ...  12.10.2017  1694.539  16.293644\n",
              "10  21.578873     12/11/17     Monday  ...  12.11.2017  2163.255  20.800529\n",
              "11  21.576284     12/12/17    Tuesday  ...  12.12.2017  3000.877  28.854587\n",
              "12  21.573696     12/13/17  Wednesday  ...  12.13.2017  2121.755  20.401490\n",
              "13  21.571107     12/14/17   Thursday  ...  12.14.2017  2387.898  22.960558\n",
              "\n",
              "[14 rows x 9 columns]"
            ]
          },
          "metadata": {},
          "execution_count": 53
        }
      ]
    },
    {
      "cell_type": "code",
      "metadata": {
        "colab": {
          "base_uri": "https://localhost:8080/",
          "height": 300
        },
        "id": "sx9dXtKJ1VgE",
        "outputId": "f4f91af9-09da-437c-d44f-916bb0bdb486"
      },
      "source": [
        "df_s.describe()"
      ],
      "execution_count": 54,
      "outputs": [
        {
          "output_type": "execute_result",
          "data": {
            "text/html": [
              "<div>\n",
              "<style scoped>\n",
              "    .dataframe tbody tr th:only-of-type {\n",
              "        vertical-align: middle;\n",
              "    }\n",
              "\n",
              "    .dataframe tbody tr th {\n",
              "        vertical-align: top;\n",
              "    }\n",
              "\n",
              "    .dataframe thead th {\n",
              "        text-align: right;\n",
              "    }\n",
              "</style>\n",
              "<table border=\"1\" class=\"dataframe\">\n",
              "  <thead>\n",
              "    <tr style=\"text-align: right;\">\n",
              "      <th></th>\n",
              "      <th>predict</th>\n",
              "      <th>koeff</th>\n",
              "      <th>final_predictions</th>\n",
              "      <th>y_i</th>\n",
              "      <th>smooth_I</th>\n",
              "    </tr>\n",
              "  </thead>\n",
              "  <tbody>\n",
              "    <tr>\n",
              "      <th>count</th>\n",
              "      <td>14.000000</td>\n",
              "      <td>14.000000</td>\n",
              "      <td>14.000000</td>\n",
              "      <td>14.000000</td>\n",
              "      <td>14.000000</td>\n",
              "    </tr>\n",
              "    <tr>\n",
              "      <th>mean</th>\n",
              "      <td>21.587934</td>\n",
              "      <td>0.009676</td>\n",
              "      <td>21.378723</td>\n",
              "      <td>2171.958714</td>\n",
              "      <td>20.884218</td>\n",
              "    </tr>\n",
              "    <tr>\n",
              "      <th>std</th>\n",
              "      <td>0.010830</td>\n",
              "      <td>0.107313</td>\n",
              "      <td>2.313609</td>\n",
              "      <td>308.561076</td>\n",
              "      <td>2.966933</td>\n",
              "    </tr>\n",
              "    <tr>\n",
              "      <th>min</th>\n",
              "      <td>21.571107</td>\n",
              "      <td>-0.107205</td>\n",
              "      <td>17.762314</td>\n",
              "      <td>1694.539000</td>\n",
              "      <td>16.293644</td>\n",
              "    </tr>\n",
              "    <tr>\n",
              "      <th>25%</th>\n",
              "      <td>21.579520</td>\n",
              "      <td>-0.062765</td>\n",
              "      <td>19.094389</td>\n",
              "      <td>2022.286250</td>\n",
              "      <td>19.445060</td>\n",
              "    </tr>\n",
              "    <tr>\n",
              "      <th>50%</th>\n",
              "      <td>21.587934</td>\n",
              "      <td>-0.034104</td>\n",
              "      <td>22.332201</td>\n",
              "      <td>2185.669000</td>\n",
              "      <td>21.016048</td>\n",
              "    </tr>\n",
              "    <tr>\n",
              "      <th>75%</th>\n",
              "      <td>21.596348</td>\n",
              "      <td>0.115712</td>\n",
              "      <td>22.933902</td>\n",
              "      <td>2222.048250</td>\n",
              "      <td>21.365849</td>\n",
              "    </tr>\n",
              "    <tr>\n",
              "      <th>max</th>\n",
              "      <td>21.604762</td>\n",
              "      <td>0.177063</td>\n",
              "      <td>23.903702</td>\n",
              "      <td>3000.877000</td>\n",
              "      <td>28.854587</td>\n",
              "    </tr>\n",
              "  </tbody>\n",
              "</table>\n",
              "</div>"
            ],
            "text/plain": [
              "         predict      koeff  final_predictions          y_i   smooth_I\n",
              "count  14.000000  14.000000          14.000000    14.000000  14.000000\n",
              "mean   21.587934   0.009676          21.378723  2171.958714  20.884218\n",
              "std     0.010830   0.107313           2.313609   308.561076   2.966933\n",
              "min    21.571107  -0.107205          17.762314  1694.539000  16.293644\n",
              "25%    21.579520  -0.062765          19.094389  2022.286250  19.445060\n",
              "50%    21.587934  -0.034104          22.332201  2185.669000  21.016048\n",
              "75%    21.596348   0.115712          22.933902  2222.048250  21.365849\n",
              "max    21.604762   0.177063          23.903702  3000.877000  28.854587"
            ]
          },
          "metadata": {},
          "execution_count": 54
        }
      ]
    },
    {
      "cell_type": "code",
      "metadata": {
        "id": "5Y0ImSwjhhqW"
      },
      "source": [
        "df_s_m = df_s[['ds','weekday','final_predictions','smooth_I']]"
      ],
      "execution_count": 55,
      "outputs": []
    },
    {
      "cell_type": "code",
      "metadata": {
        "colab": {
          "base_uri": "https://localhost:8080/"
        },
        "id": "YWMrLpSclheG",
        "outputId": "21369912-cffe-499d-b6ca-3a556f115908"
      },
      "source": [
        "df_s_m.info()"
      ],
      "execution_count": 56,
      "outputs": [
        {
          "output_type": "stream",
          "name": "stdout",
          "text": [
            "<class 'pandas.core.frame.DataFrame'>\n",
            "RangeIndex: 14 entries, 0 to 13\n",
            "Data columns (total 4 columns):\n",
            " #   Column             Non-Null Count  Dtype  \n",
            "---  ------             --------------  -----  \n",
            " 0   ds                 14 non-null     object \n",
            " 1   weekday            14 non-null     object \n",
            " 2   final_predictions  14 non-null     float64\n",
            " 3   smooth_I           14 non-null     float64\n",
            "dtypes: float64(2), object(2)\n",
            "memory usage: 576.0+ bytes\n"
          ]
        }
      ]
    },
    {
      "cell_type": "code",
      "metadata": {
        "colab": {
          "base_uri": "https://localhost:8080/",
          "height": 112
        },
        "id": "aucILaCtQg_y",
        "outputId": "a9985dfc-278d-4be9-c00e-0b1943938d3f"
      },
      "source": [
        "df_s_m.corr()"
      ],
      "execution_count": 57,
      "outputs": [
        {
          "output_type": "execute_result",
          "data": {
            "text/html": [
              "<div>\n",
              "<style scoped>\n",
              "    .dataframe tbody tr th:only-of-type {\n",
              "        vertical-align: middle;\n",
              "    }\n",
              "\n",
              "    .dataframe tbody tr th {\n",
              "        vertical-align: top;\n",
              "    }\n",
              "\n",
              "    .dataframe thead th {\n",
              "        text-align: right;\n",
              "    }\n",
              "</style>\n",
              "<table border=\"1\" class=\"dataframe\">\n",
              "  <thead>\n",
              "    <tr style=\"text-align: right;\">\n",
              "      <th></th>\n",
              "      <th>final_predictions</th>\n",
              "      <th>smooth_I</th>\n",
              "    </tr>\n",
              "  </thead>\n",
              "  <tbody>\n",
              "    <tr>\n",
              "      <th>final_predictions</th>\n",
              "      <td>1.000000</td>\n",
              "      <td>0.578089</td>\n",
              "    </tr>\n",
              "    <tr>\n",
              "      <th>smooth_I</th>\n",
              "      <td>0.578089</td>\n",
              "      <td>1.000000</td>\n",
              "    </tr>\n",
              "  </tbody>\n",
              "</table>\n",
              "</div>"
            ],
            "text/plain": [
              "                   final_predictions  smooth_I\n",
              "final_predictions           1.000000  0.578089\n",
              "smooth_I                    0.578089  1.000000"
            ]
          },
          "metadata": {},
          "execution_count": 57
        }
      ]
    },
    {
      "cell_type": "code",
      "metadata": {
        "colab": {
          "base_uri": "https://localhost:8080/",
          "height": 112
        },
        "id": "8cy9hLnKQnTX",
        "outputId": "07be12e3-4690-498c-c92c-5c25919352d8"
      },
      "source": [
        "df_s_m.corr(method='spearman')"
      ],
      "execution_count": 58,
      "outputs": [
        {
          "output_type": "execute_result",
          "data": {
            "text/html": [
              "<div>\n",
              "<style scoped>\n",
              "    .dataframe tbody tr th:only-of-type {\n",
              "        vertical-align: middle;\n",
              "    }\n",
              "\n",
              "    .dataframe tbody tr th {\n",
              "        vertical-align: top;\n",
              "    }\n",
              "\n",
              "    .dataframe thead th {\n",
              "        text-align: right;\n",
              "    }\n",
              "</style>\n",
              "<table border=\"1\" class=\"dataframe\">\n",
              "  <thead>\n",
              "    <tr style=\"text-align: right;\">\n",
              "      <th></th>\n",
              "      <th>final_predictions</th>\n",
              "      <th>smooth_I</th>\n",
              "    </tr>\n",
              "  </thead>\n",
              "  <tbody>\n",
              "    <tr>\n",
              "      <th>final_predictions</th>\n",
              "      <td>1.000000</td>\n",
              "      <td>0.569231</td>\n",
              "    </tr>\n",
              "    <tr>\n",
              "      <th>smooth_I</th>\n",
              "      <td>0.569231</td>\n",
              "      <td>1.000000</td>\n",
              "    </tr>\n",
              "  </tbody>\n",
              "</table>\n",
              "</div>"
            ],
            "text/plain": [
              "                   final_predictions  smooth_I\n",
              "final_predictions           1.000000  0.569231\n",
              "smooth_I                    0.569231  1.000000"
            ]
          },
          "metadata": {},
          "execution_count": 58
        }
      ]
    },
    {
      "cell_type": "markdown",
      "metadata": {
        "id": "IjGdikyIRXqX"
      },
      "source": [
        "Проверили гипотезу, что в выходные надо  меньше  людей, чем в будни.\n",
        "\n",
        "H0 В выходные надо меншье людей, чем в будни \n",
        "H1 В будни надо  меньше людей , чем в будни"
      ]
    },
    {
      "cell_type": "code",
      "metadata": {
        "colab": {
          "base_uri": "https://localhost:8080/"
        },
        "id": "gx-xa3RnRgTn",
        "outputId": "2a7029e7-24c7-4ac5-be47-e3201f43f0ed"
      },
      "source": [
        "alpha = 0.05  \n",
        "df_g = st.ttest_ind(df_intercom[df_intercom['weekday'] == 'Sunday']['smooth_p'], df_intercom[df_intercom['weekday'] == 'Monday']['smooth_p'], equal_var=False)\n",
        "print(df_g)\n",
        "if (df_g.pvalue < alpha):\n",
        "    print('Отвергаем Н0 гипотезу. В будни надо меншье людей, чем в выходные ')\n",
        "else:\n",
        "    print('Не отвергаем Н0 гипотезу. В выходные надо  меньше людей, чем в будни')"
      ],
      "execution_count": 59,
      "outputs": [
        {
          "output_type": "stream",
          "name": "stdout",
          "text": [
            "Ttest_indResult(statistic=1.804186409390875, pvalue=0.20515437793142147)\n",
            "Не отвергаем Н0 гипотезу. В выходные надо  меньше людей, чем в будни\n"
          ]
        }
      ]
    },
    {
      "cell_type": "code",
      "metadata": {
        "colab": {
          "base_uri": "https://localhost:8080/",
          "height": 542
        },
        "id": "phT86B7N4S7a",
        "outputId": "ba69082d-ee81-4223-ab10-dcc855509c8b"
      },
      "source": [
        "fig_2 = px.line(df_predict, x=\"future_dates\", y=\"final_predictions\", title='Людей на звонках по дням - прогноз')\n",
        "fig_2.show()"
      ],
      "execution_count": 60,
      "outputs": [
        {
          "output_type": "display_data",
          "data": {
            "text/html": [
              "<html>\n",
              "<head><meta charset=\"utf-8\" /></head>\n",
              "<body>\n",
              "    <div>\n",
              "            <script src=\"https://cdnjs.cloudflare.com/ajax/libs/mathjax/2.7.5/MathJax.js?config=TeX-AMS-MML_SVG\"></script><script type=\"text/javascript\">if (window.MathJax) {MathJax.Hub.Config({SVG: {font: \"STIX-Web\"}});}</script>\n",
              "                <script type=\"text/javascript\">window.PlotlyConfig = {MathJaxConfig: 'local'};</script>\n",
              "        <script src=\"https://cdn.plot.ly/plotly-latest.min.js\"></script>    \n",
              "            <div id=\"c5223306-a5ab-495b-95d9-aace275a4128\" class=\"plotly-graph-div\" style=\"height:525px; width:100%;\"></div>\n",
              "            <script type=\"text/javascript\">\n",
              "                \n",
              "                    window.PLOTLYENV=window.PLOTLYENV || {};\n",
              "                    \n",
              "                if (document.getElementById(\"c5223306-a5ab-495b-95d9-aace275a4128\")) {\n",
              "                    Plotly.newPlot(\n",
              "                        'c5223306-a5ab-495b-95d9-aace275a4128',\n",
              "                        [{\"hoverlabel\": {\"namelength\": 0}, \"hovertemplate\": \"future_dates=%{x}<br>final_predictions=%{y}\", \"legendgroup\": \"\", \"line\": {\"color\": \"#636efa\", \"dash\": \"solid\"}, \"mode\": \"lines\", \"name\": \"\", \"showlegend\": false, \"type\": \"scatter\", \"x\": [\"12/01/17\", \"12/02/17\", \"12/03/17\", \"12/04/17\", \"12/05/17\", \"12/06/17\", \"12/07/17\", \"12/08/17\", \"12/09/17\", \"12/10/17\", \"12/11/17\", \"12/12/17\", \"12/13/17\", \"12/14/17\"], \"xaxis\": \"x\", \"y\": [22.341570617182896, 17.777227413305052, 18.23201455094797, 22.742672659163595, 21.699722319831867, 23.016963869981225, 23.903701951372877, 22.322830599551608, 17.76231416097314, 18.21671794613606, 22.723589338640135, 21.68151195346903, 22.997645761014404, 23.88363719848395], \"yaxis\": \"y\"}],\n",
              "                        {\"legend\": {\"tracegroupgap\": 0}, \"template\": {\"data\": {\"bar\": [{\"error_x\": {\"color\": \"#2a3f5f\"}, \"error_y\": {\"color\": \"#2a3f5f\"}, \"marker\": {\"line\": {\"color\": \"#E5ECF6\", \"width\": 0.5}}, \"type\": \"bar\"}], \"barpolar\": [{\"marker\": {\"line\": {\"color\": \"#E5ECF6\", \"width\": 0.5}}, \"type\": \"barpolar\"}], \"carpet\": [{\"aaxis\": {\"endlinecolor\": \"#2a3f5f\", \"gridcolor\": \"white\", \"linecolor\": \"white\", \"minorgridcolor\": \"white\", \"startlinecolor\": \"#2a3f5f\"}, \"baxis\": {\"endlinecolor\": \"#2a3f5f\", \"gridcolor\": \"white\", \"linecolor\": \"white\", \"minorgridcolor\": \"white\", \"startlinecolor\": \"#2a3f5f\"}, \"type\": \"carpet\"}], \"choropleth\": [{\"colorbar\": {\"outlinewidth\": 0, \"ticks\": \"\"}, \"type\": \"choropleth\"}], \"contour\": [{\"colorbar\": {\"outlinewidth\": 0, \"ticks\": \"\"}, \"colorscale\": [[0.0, \"#0d0887\"], [0.1111111111111111, \"#46039f\"], [0.2222222222222222, \"#7201a8\"], [0.3333333333333333, \"#9c179e\"], [0.4444444444444444, \"#bd3786\"], [0.5555555555555556, \"#d8576b\"], [0.6666666666666666, \"#ed7953\"], [0.7777777777777778, \"#fb9f3a\"], [0.8888888888888888, \"#fdca26\"], [1.0, \"#f0f921\"]], \"type\": \"contour\"}], \"contourcarpet\": [{\"colorbar\": {\"outlinewidth\": 0, \"ticks\": \"\"}, \"type\": \"contourcarpet\"}], \"heatmap\": [{\"colorbar\": {\"outlinewidth\": 0, \"ticks\": \"\"}, \"colorscale\": [[0.0, \"#0d0887\"], [0.1111111111111111, \"#46039f\"], [0.2222222222222222, \"#7201a8\"], [0.3333333333333333, \"#9c179e\"], [0.4444444444444444, \"#bd3786\"], [0.5555555555555556, \"#d8576b\"], [0.6666666666666666, \"#ed7953\"], [0.7777777777777778, \"#fb9f3a\"], [0.8888888888888888, \"#fdca26\"], [1.0, \"#f0f921\"]], \"type\": \"heatmap\"}], \"heatmapgl\": [{\"colorbar\": {\"outlinewidth\": 0, \"ticks\": \"\"}, \"colorscale\": [[0.0, \"#0d0887\"], [0.1111111111111111, \"#46039f\"], [0.2222222222222222, \"#7201a8\"], [0.3333333333333333, \"#9c179e\"], [0.4444444444444444, \"#bd3786\"], [0.5555555555555556, \"#d8576b\"], [0.6666666666666666, \"#ed7953\"], [0.7777777777777778, \"#fb9f3a\"], [0.8888888888888888, \"#fdca26\"], [1.0, \"#f0f921\"]], \"type\": \"heatmapgl\"}], \"histogram\": [{\"marker\": {\"colorbar\": {\"outlinewidth\": 0, \"ticks\": \"\"}}, \"type\": \"histogram\"}], \"histogram2d\": [{\"colorbar\": {\"outlinewidth\": 0, \"ticks\": \"\"}, \"colorscale\": [[0.0, \"#0d0887\"], [0.1111111111111111, \"#46039f\"], [0.2222222222222222, \"#7201a8\"], [0.3333333333333333, \"#9c179e\"], [0.4444444444444444, \"#bd3786\"], [0.5555555555555556, \"#d8576b\"], [0.6666666666666666, \"#ed7953\"], [0.7777777777777778, \"#fb9f3a\"], [0.8888888888888888, \"#fdca26\"], [1.0, \"#f0f921\"]], \"type\": \"histogram2d\"}], \"histogram2dcontour\": [{\"colorbar\": {\"outlinewidth\": 0, \"ticks\": \"\"}, \"colorscale\": [[0.0, \"#0d0887\"], [0.1111111111111111, \"#46039f\"], [0.2222222222222222, \"#7201a8\"], [0.3333333333333333, \"#9c179e\"], [0.4444444444444444, \"#bd3786\"], [0.5555555555555556, \"#d8576b\"], [0.6666666666666666, \"#ed7953\"], [0.7777777777777778, \"#fb9f3a\"], [0.8888888888888888, \"#fdca26\"], [1.0, \"#f0f921\"]], \"type\": \"histogram2dcontour\"}], \"mesh3d\": [{\"colorbar\": {\"outlinewidth\": 0, \"ticks\": \"\"}, \"type\": \"mesh3d\"}], \"parcoords\": [{\"line\": {\"colorbar\": {\"outlinewidth\": 0, \"ticks\": \"\"}}, \"type\": \"parcoords\"}], \"pie\": [{\"automargin\": true, \"type\": \"pie\"}], \"scatter\": [{\"marker\": {\"colorbar\": {\"outlinewidth\": 0, \"ticks\": \"\"}}, \"type\": \"scatter\"}], \"scatter3d\": [{\"line\": {\"colorbar\": {\"outlinewidth\": 0, \"ticks\": \"\"}}, \"marker\": {\"colorbar\": {\"outlinewidth\": 0, \"ticks\": \"\"}}, \"type\": \"scatter3d\"}], \"scattercarpet\": [{\"marker\": {\"colorbar\": {\"outlinewidth\": 0, \"ticks\": \"\"}}, \"type\": \"scattercarpet\"}], \"scattergeo\": [{\"marker\": {\"colorbar\": {\"outlinewidth\": 0, \"ticks\": \"\"}}, \"type\": \"scattergeo\"}], \"scattergl\": [{\"marker\": {\"colorbar\": {\"outlinewidth\": 0, \"ticks\": \"\"}}, \"type\": \"scattergl\"}], \"scattermapbox\": [{\"marker\": {\"colorbar\": {\"outlinewidth\": 0, \"ticks\": \"\"}}, \"type\": \"scattermapbox\"}], \"scatterpolar\": [{\"marker\": {\"colorbar\": {\"outlinewidth\": 0, \"ticks\": \"\"}}, \"type\": \"scatterpolar\"}], \"scatterpolargl\": [{\"marker\": {\"colorbar\": {\"outlinewidth\": 0, \"ticks\": \"\"}}, \"type\": \"scatterpolargl\"}], \"scatterternary\": [{\"marker\": {\"colorbar\": {\"outlinewidth\": 0, \"ticks\": \"\"}}, \"type\": \"scatterternary\"}], \"surface\": [{\"colorbar\": {\"outlinewidth\": 0, \"ticks\": \"\"}, \"colorscale\": [[0.0, \"#0d0887\"], [0.1111111111111111, \"#46039f\"], [0.2222222222222222, \"#7201a8\"], [0.3333333333333333, \"#9c179e\"], [0.4444444444444444, \"#bd3786\"], [0.5555555555555556, \"#d8576b\"], [0.6666666666666666, \"#ed7953\"], [0.7777777777777778, \"#fb9f3a\"], [0.8888888888888888, \"#fdca26\"], [1.0, \"#f0f921\"]], \"type\": \"surface\"}], \"table\": [{\"cells\": {\"fill\": {\"color\": \"#EBF0F8\"}, \"line\": {\"color\": \"white\"}}, \"header\": {\"fill\": {\"color\": \"#C8D4E3\"}, \"line\": {\"color\": \"white\"}}, \"type\": \"table\"}]}, \"layout\": {\"annotationdefaults\": {\"arrowcolor\": \"#2a3f5f\", \"arrowhead\": 0, \"arrowwidth\": 1}, \"coloraxis\": {\"colorbar\": {\"outlinewidth\": 0, \"ticks\": \"\"}}, \"colorscale\": {\"diverging\": [[0, \"#8e0152\"], [0.1, \"#c51b7d\"], [0.2, \"#de77ae\"], [0.3, \"#f1b6da\"], [0.4, \"#fde0ef\"], [0.5, \"#f7f7f7\"], [0.6, \"#e6f5d0\"], [0.7, \"#b8e186\"], [0.8, \"#7fbc41\"], [0.9, \"#4d9221\"], [1, \"#276419\"]], \"sequential\": [[0.0, \"#0d0887\"], [0.1111111111111111, \"#46039f\"], [0.2222222222222222, \"#7201a8\"], [0.3333333333333333, \"#9c179e\"], [0.4444444444444444, \"#bd3786\"], [0.5555555555555556, \"#d8576b\"], [0.6666666666666666, \"#ed7953\"], [0.7777777777777778, \"#fb9f3a\"], [0.8888888888888888, \"#fdca26\"], [1.0, \"#f0f921\"]], \"sequentialminus\": [[0.0, \"#0d0887\"], [0.1111111111111111, \"#46039f\"], [0.2222222222222222, \"#7201a8\"], [0.3333333333333333, \"#9c179e\"], [0.4444444444444444, \"#bd3786\"], [0.5555555555555556, \"#d8576b\"], [0.6666666666666666, \"#ed7953\"], [0.7777777777777778, \"#fb9f3a\"], [0.8888888888888888, \"#fdca26\"], [1.0, \"#f0f921\"]]}, \"colorway\": [\"#636efa\", \"#EF553B\", \"#00cc96\", \"#ab63fa\", \"#FFA15A\", \"#19d3f3\", \"#FF6692\", \"#B6E880\", \"#FF97FF\", \"#FECB52\"], \"font\": {\"color\": \"#2a3f5f\"}, \"geo\": {\"bgcolor\": \"white\", \"lakecolor\": \"white\", \"landcolor\": \"#E5ECF6\", \"showlakes\": true, \"showland\": true, \"subunitcolor\": \"white\"}, \"hoverlabel\": {\"align\": \"left\"}, \"hovermode\": \"closest\", \"mapbox\": {\"style\": \"light\"}, \"paper_bgcolor\": \"white\", \"plot_bgcolor\": \"#E5ECF6\", \"polar\": {\"angularaxis\": {\"gridcolor\": \"white\", \"linecolor\": \"white\", \"ticks\": \"\"}, \"bgcolor\": \"#E5ECF6\", \"radialaxis\": {\"gridcolor\": \"white\", \"linecolor\": \"white\", \"ticks\": \"\"}}, \"scene\": {\"xaxis\": {\"backgroundcolor\": \"#E5ECF6\", \"gridcolor\": \"white\", \"gridwidth\": 2, \"linecolor\": \"white\", \"showbackground\": true, \"ticks\": \"\", \"zerolinecolor\": \"white\"}, \"yaxis\": {\"backgroundcolor\": \"#E5ECF6\", \"gridcolor\": \"white\", \"gridwidth\": 2, \"linecolor\": \"white\", \"showbackground\": true, \"ticks\": \"\", \"zerolinecolor\": \"white\"}, \"zaxis\": {\"backgroundcolor\": \"#E5ECF6\", \"gridcolor\": \"white\", \"gridwidth\": 2, \"linecolor\": \"white\", \"showbackground\": true, \"ticks\": \"\", \"zerolinecolor\": \"white\"}}, \"shapedefaults\": {\"line\": {\"color\": \"#2a3f5f\"}}, \"ternary\": {\"aaxis\": {\"gridcolor\": \"white\", \"linecolor\": \"white\", \"ticks\": \"\"}, \"baxis\": {\"gridcolor\": \"white\", \"linecolor\": \"white\", \"ticks\": \"\"}, \"bgcolor\": \"#E5ECF6\", \"caxis\": {\"gridcolor\": \"white\", \"linecolor\": \"white\", \"ticks\": \"\"}}, \"title\": {\"x\": 0.05}, \"xaxis\": {\"automargin\": true, \"gridcolor\": \"white\", \"linecolor\": \"white\", \"ticks\": \"\", \"title\": {\"standoff\": 15}, \"zerolinecolor\": \"white\", \"zerolinewidth\": 2}, \"yaxis\": {\"automargin\": true, \"gridcolor\": \"white\", \"linecolor\": \"white\", \"ticks\": \"\", \"title\": {\"standoff\": 15}, \"zerolinecolor\": \"white\", \"zerolinewidth\": 2}}}, \"title\": {\"text\": \"\\u041b\\u044e\\u0434\\u0435\\u0439 \\u043d\\u0430 \\u0437\\u0432\\u043e\\u043d\\u043a\\u0430\\u0445 \\u043f\\u043e \\u0434\\u043d\\u044f\\u043c - \\u043f\\u0440\\u043e\\u0433\\u043d\\u043e\\u0437\"}, \"xaxis\": {\"anchor\": \"y\", \"domain\": [0.0, 1.0], \"title\": {\"text\": \"future_dates\"}}, \"yaxis\": {\"anchor\": \"x\", \"domain\": [0.0, 1.0], \"title\": {\"text\": \"final_predictions\"}}},\n",
              "                        {\"responsive\": true}\n",
              "                    ).then(function(){\n",
              "                            \n",
              "var gd = document.getElementById('c5223306-a5ab-495b-95d9-aace275a4128');\n",
              "var x = new MutationObserver(function (mutations, observer) {{\n",
              "        var display = window.getComputedStyle(gd).display;\n",
              "        if (!display || display === 'none') {{\n",
              "            console.log([gd, 'removed!']);\n",
              "            Plotly.purge(gd);\n",
              "            observer.disconnect();\n",
              "        }}\n",
              "}});\n",
              "\n",
              "// Listen for the removal of the full notebook cells\n",
              "var notebookContainer = gd.closest('#notebook-container');\n",
              "if (notebookContainer) {{\n",
              "    x.observe(notebookContainer, {childList: true});\n",
              "}}\n",
              "\n",
              "// Listen for the clearing of the current output cell\n",
              "var outputEl = gd.closest('.output');\n",
              "if (outputEl) {{\n",
              "    x.observe(outputEl, {childList: true});\n",
              "}}\n",
              "\n",
              "                        })\n",
              "                };\n",
              "                \n",
              "            </script>\n",
              "        </div>\n",
              "</body>\n",
              "</html>"
            ]
          },
          "metadata": {}
        }
      ]
    },
    {
      "cell_type": "code",
      "metadata": {
        "colab": {
          "base_uri": "https://localhost:8080/",
          "height": 542
        },
        "id": "8_jhcGKCnrC1",
        "outputId": "f9da1be5-98ad-4b74-b92a-c75d61f3b3d8"
      },
      "source": [
        "fig_1 = px.line(df_s_m, x=\"ds\", y=\"smooth_I\", title='Людей на звонках по дням - факт')\n",
        "fig_1.show()"
      ],
      "execution_count": 61,
      "outputs": [
        {
          "output_type": "display_data",
          "data": {
            "text/html": [
              "<html>\n",
              "<head><meta charset=\"utf-8\" /></head>\n",
              "<body>\n",
              "    <div>\n",
              "            <script src=\"https://cdnjs.cloudflare.com/ajax/libs/mathjax/2.7.5/MathJax.js?config=TeX-AMS-MML_SVG\"></script><script type=\"text/javascript\">if (window.MathJax) {MathJax.Hub.Config({SVG: {font: \"STIX-Web\"}});}</script>\n",
              "                <script type=\"text/javascript\">window.PlotlyConfig = {MathJaxConfig: 'local'};</script>\n",
              "        <script src=\"https://cdn.plot.ly/plotly-latest.min.js\"></script>    \n",
              "            <div id=\"e04cee26-16c4-4f2e-a71e-4e79840aa546\" class=\"plotly-graph-div\" style=\"height:525px; width:100%;\"></div>\n",
              "            <script type=\"text/javascript\">\n",
              "                \n",
              "                    window.PLOTLYENV=window.PLOTLYENV || {};\n",
              "                    \n",
              "                if (document.getElementById(\"e04cee26-16c4-4f2e-a71e-4e79840aa546\")) {\n",
              "                    Plotly.newPlot(\n",
              "                        'e04cee26-16c4-4f2e-a71e-4e79840aa546',\n",
              "                        [{\"hoverlabel\": {\"namelength\": 0}, \"hovertemplate\": \"ds=%{x}<br>smooth_I=%{y}\", \"legendgroup\": \"\", \"line\": {\"color\": \"#636efa\", \"dash\": \"solid\"}, \"mode\": \"lines\", \"name\": \"\", \"showlegend\": false, \"type\": \"scatter\", \"x\": [\"12.01.2017\", \"12.02.2017\", \"12.03.2017\", \"12.04.2017\", \"12.05.2017\", \"12.06.2017\", \"12.07.2017\", \"12.08.2017\", \"12.09.2017\", \"12.10.2017\", \"12.11.2017\", \"12.12.2017\", \"12.13.2017\", \"12.14.2017\"], \"xaxis\": \"x\", \"y\": [21.33195192307692, 16.92146153846154, 19.126250000000002, 21.338826923076923, 22.12279807692308, 21.093884615384617, 21.37485576923077, 20.938211538461537, 18.820009615384613, 16.29364423076923, 20.800528846153846, 28.85458653846154, 20.401490384615386, 22.960557692307688], \"yaxis\": \"y\"}],\n",
              "                        {\"legend\": {\"tracegroupgap\": 0}, \"template\": {\"data\": {\"bar\": [{\"error_x\": {\"color\": \"#2a3f5f\"}, \"error_y\": {\"color\": \"#2a3f5f\"}, \"marker\": {\"line\": {\"color\": \"#E5ECF6\", \"width\": 0.5}}, \"type\": \"bar\"}], \"barpolar\": [{\"marker\": {\"line\": {\"color\": \"#E5ECF6\", \"width\": 0.5}}, \"type\": \"barpolar\"}], \"carpet\": [{\"aaxis\": {\"endlinecolor\": \"#2a3f5f\", \"gridcolor\": \"white\", \"linecolor\": \"white\", \"minorgridcolor\": \"white\", \"startlinecolor\": \"#2a3f5f\"}, \"baxis\": {\"endlinecolor\": \"#2a3f5f\", \"gridcolor\": \"white\", \"linecolor\": \"white\", \"minorgridcolor\": \"white\", \"startlinecolor\": \"#2a3f5f\"}, \"type\": \"carpet\"}], \"choropleth\": [{\"colorbar\": {\"outlinewidth\": 0, \"ticks\": \"\"}, \"type\": \"choropleth\"}], \"contour\": [{\"colorbar\": {\"outlinewidth\": 0, \"ticks\": \"\"}, \"colorscale\": [[0.0, \"#0d0887\"], [0.1111111111111111, \"#46039f\"], [0.2222222222222222, \"#7201a8\"], [0.3333333333333333, \"#9c179e\"], [0.4444444444444444, \"#bd3786\"], [0.5555555555555556, \"#d8576b\"], [0.6666666666666666, \"#ed7953\"], [0.7777777777777778, \"#fb9f3a\"], [0.8888888888888888, \"#fdca26\"], [1.0, \"#f0f921\"]], \"type\": \"contour\"}], \"contourcarpet\": [{\"colorbar\": {\"outlinewidth\": 0, \"ticks\": \"\"}, \"type\": \"contourcarpet\"}], \"heatmap\": [{\"colorbar\": {\"outlinewidth\": 0, \"ticks\": \"\"}, \"colorscale\": [[0.0, \"#0d0887\"], [0.1111111111111111, \"#46039f\"], [0.2222222222222222, \"#7201a8\"], [0.3333333333333333, \"#9c179e\"], [0.4444444444444444, \"#bd3786\"], [0.5555555555555556, \"#d8576b\"], [0.6666666666666666, \"#ed7953\"], [0.7777777777777778, \"#fb9f3a\"], [0.8888888888888888, \"#fdca26\"], [1.0, \"#f0f921\"]], \"type\": \"heatmap\"}], \"heatmapgl\": [{\"colorbar\": {\"outlinewidth\": 0, \"ticks\": \"\"}, \"colorscale\": [[0.0, \"#0d0887\"], [0.1111111111111111, \"#46039f\"], [0.2222222222222222, \"#7201a8\"], [0.3333333333333333, \"#9c179e\"], [0.4444444444444444, \"#bd3786\"], [0.5555555555555556, \"#d8576b\"], [0.6666666666666666, \"#ed7953\"], [0.7777777777777778, \"#fb9f3a\"], [0.8888888888888888, \"#fdca26\"], [1.0, \"#f0f921\"]], \"type\": \"heatmapgl\"}], \"histogram\": [{\"marker\": {\"colorbar\": {\"outlinewidth\": 0, \"ticks\": \"\"}}, \"type\": \"histogram\"}], \"histogram2d\": [{\"colorbar\": {\"outlinewidth\": 0, \"ticks\": \"\"}, \"colorscale\": [[0.0, \"#0d0887\"], [0.1111111111111111, \"#46039f\"], [0.2222222222222222, \"#7201a8\"], [0.3333333333333333, \"#9c179e\"], [0.4444444444444444, \"#bd3786\"], [0.5555555555555556, \"#d8576b\"], [0.6666666666666666, \"#ed7953\"], [0.7777777777777778, \"#fb9f3a\"], [0.8888888888888888, \"#fdca26\"], [1.0, \"#f0f921\"]], \"type\": \"histogram2d\"}], \"histogram2dcontour\": [{\"colorbar\": {\"outlinewidth\": 0, \"ticks\": \"\"}, \"colorscale\": [[0.0, \"#0d0887\"], [0.1111111111111111, \"#46039f\"], [0.2222222222222222, \"#7201a8\"], [0.3333333333333333, \"#9c179e\"], [0.4444444444444444, \"#bd3786\"], [0.5555555555555556, \"#d8576b\"], [0.6666666666666666, \"#ed7953\"], [0.7777777777777778, \"#fb9f3a\"], [0.8888888888888888, \"#fdca26\"], [1.0, \"#f0f921\"]], \"type\": \"histogram2dcontour\"}], \"mesh3d\": [{\"colorbar\": {\"outlinewidth\": 0, \"ticks\": \"\"}, \"type\": \"mesh3d\"}], \"parcoords\": [{\"line\": {\"colorbar\": {\"outlinewidth\": 0, \"ticks\": \"\"}}, \"type\": \"parcoords\"}], \"pie\": [{\"automargin\": true, \"type\": \"pie\"}], \"scatter\": [{\"marker\": {\"colorbar\": {\"outlinewidth\": 0, \"ticks\": \"\"}}, \"type\": \"scatter\"}], \"scatter3d\": [{\"line\": {\"colorbar\": {\"outlinewidth\": 0, \"ticks\": \"\"}}, \"marker\": {\"colorbar\": {\"outlinewidth\": 0, \"ticks\": \"\"}}, \"type\": \"scatter3d\"}], \"scattercarpet\": [{\"marker\": {\"colorbar\": {\"outlinewidth\": 0, \"ticks\": \"\"}}, \"type\": \"scattercarpet\"}], \"scattergeo\": [{\"marker\": {\"colorbar\": {\"outlinewidth\": 0, \"ticks\": \"\"}}, \"type\": \"scattergeo\"}], \"scattergl\": [{\"marker\": {\"colorbar\": {\"outlinewidth\": 0, \"ticks\": \"\"}}, \"type\": \"scattergl\"}], \"scattermapbox\": [{\"marker\": {\"colorbar\": {\"outlinewidth\": 0, \"ticks\": \"\"}}, \"type\": \"scattermapbox\"}], \"scatterpolar\": [{\"marker\": {\"colorbar\": {\"outlinewidth\": 0, \"ticks\": \"\"}}, \"type\": \"scatterpolar\"}], \"scatterpolargl\": [{\"marker\": {\"colorbar\": {\"outlinewidth\": 0, \"ticks\": \"\"}}, \"type\": \"scatterpolargl\"}], \"scatterternary\": [{\"marker\": {\"colorbar\": {\"outlinewidth\": 0, \"ticks\": \"\"}}, \"type\": \"scatterternary\"}], \"surface\": [{\"colorbar\": {\"outlinewidth\": 0, \"ticks\": \"\"}, \"colorscale\": [[0.0, \"#0d0887\"], [0.1111111111111111, \"#46039f\"], [0.2222222222222222, \"#7201a8\"], [0.3333333333333333, \"#9c179e\"], [0.4444444444444444, \"#bd3786\"], [0.5555555555555556, \"#d8576b\"], [0.6666666666666666, \"#ed7953\"], [0.7777777777777778, \"#fb9f3a\"], [0.8888888888888888, \"#fdca26\"], [1.0, \"#f0f921\"]], \"type\": \"surface\"}], \"table\": [{\"cells\": {\"fill\": {\"color\": \"#EBF0F8\"}, \"line\": {\"color\": \"white\"}}, \"header\": {\"fill\": {\"color\": \"#C8D4E3\"}, \"line\": {\"color\": \"white\"}}, \"type\": \"table\"}]}, \"layout\": {\"annotationdefaults\": {\"arrowcolor\": \"#2a3f5f\", \"arrowhead\": 0, \"arrowwidth\": 1}, \"coloraxis\": {\"colorbar\": {\"outlinewidth\": 0, \"ticks\": \"\"}}, \"colorscale\": {\"diverging\": [[0, \"#8e0152\"], [0.1, \"#c51b7d\"], [0.2, \"#de77ae\"], [0.3, \"#f1b6da\"], [0.4, \"#fde0ef\"], [0.5, \"#f7f7f7\"], [0.6, \"#e6f5d0\"], [0.7, \"#b8e186\"], [0.8, \"#7fbc41\"], [0.9, \"#4d9221\"], [1, \"#276419\"]], \"sequential\": [[0.0, \"#0d0887\"], [0.1111111111111111, \"#46039f\"], [0.2222222222222222, \"#7201a8\"], [0.3333333333333333, \"#9c179e\"], [0.4444444444444444, \"#bd3786\"], [0.5555555555555556, \"#d8576b\"], [0.6666666666666666, \"#ed7953\"], [0.7777777777777778, \"#fb9f3a\"], [0.8888888888888888, \"#fdca26\"], [1.0, \"#f0f921\"]], \"sequentialminus\": [[0.0, \"#0d0887\"], [0.1111111111111111, \"#46039f\"], [0.2222222222222222, \"#7201a8\"], [0.3333333333333333, \"#9c179e\"], [0.4444444444444444, \"#bd3786\"], [0.5555555555555556, \"#d8576b\"], [0.6666666666666666, \"#ed7953\"], [0.7777777777777778, \"#fb9f3a\"], [0.8888888888888888, \"#fdca26\"], [1.0, \"#f0f921\"]]}, \"colorway\": [\"#636efa\", \"#EF553B\", \"#00cc96\", \"#ab63fa\", \"#FFA15A\", \"#19d3f3\", \"#FF6692\", \"#B6E880\", \"#FF97FF\", \"#FECB52\"], \"font\": {\"color\": \"#2a3f5f\"}, \"geo\": {\"bgcolor\": \"white\", \"lakecolor\": \"white\", \"landcolor\": \"#E5ECF6\", \"showlakes\": true, \"showland\": true, \"subunitcolor\": \"white\"}, \"hoverlabel\": {\"align\": \"left\"}, \"hovermode\": \"closest\", \"mapbox\": {\"style\": \"light\"}, \"paper_bgcolor\": \"white\", \"plot_bgcolor\": \"#E5ECF6\", \"polar\": {\"angularaxis\": {\"gridcolor\": \"white\", \"linecolor\": \"white\", \"ticks\": \"\"}, \"bgcolor\": \"#E5ECF6\", \"radialaxis\": {\"gridcolor\": \"white\", \"linecolor\": \"white\", \"ticks\": \"\"}}, \"scene\": {\"xaxis\": {\"backgroundcolor\": \"#E5ECF6\", \"gridcolor\": \"white\", \"gridwidth\": 2, \"linecolor\": \"white\", \"showbackground\": true, \"ticks\": \"\", \"zerolinecolor\": \"white\"}, \"yaxis\": {\"backgroundcolor\": \"#E5ECF6\", \"gridcolor\": \"white\", \"gridwidth\": 2, \"linecolor\": \"white\", \"showbackground\": true, \"ticks\": \"\", \"zerolinecolor\": \"white\"}, \"zaxis\": {\"backgroundcolor\": \"#E5ECF6\", \"gridcolor\": \"white\", \"gridwidth\": 2, \"linecolor\": \"white\", \"showbackground\": true, \"ticks\": \"\", \"zerolinecolor\": \"white\"}}, \"shapedefaults\": {\"line\": {\"color\": \"#2a3f5f\"}}, \"ternary\": {\"aaxis\": {\"gridcolor\": \"white\", \"linecolor\": \"white\", \"ticks\": \"\"}, \"baxis\": {\"gridcolor\": \"white\", \"linecolor\": \"white\", \"ticks\": \"\"}, \"bgcolor\": \"#E5ECF6\", \"caxis\": {\"gridcolor\": \"white\", \"linecolor\": \"white\", \"ticks\": \"\"}}, \"title\": {\"x\": 0.05}, \"xaxis\": {\"automargin\": true, \"gridcolor\": \"white\", \"linecolor\": \"white\", \"ticks\": \"\", \"title\": {\"standoff\": 15}, \"zerolinecolor\": \"white\", \"zerolinewidth\": 2}, \"yaxis\": {\"automargin\": true, \"gridcolor\": \"white\", \"linecolor\": \"white\", \"ticks\": \"\", \"title\": {\"standoff\": 15}, \"zerolinecolor\": \"white\", \"zerolinewidth\": 2}}}, \"title\": {\"text\": \"\\u041b\\u044e\\u0434\\u0435\\u0439 \\u043d\\u0430 \\u0437\\u0432\\u043e\\u043d\\u043a\\u0430\\u0445 \\u043f\\u043e \\u0434\\u043d\\u044f\\u043c - \\u0444\\u0430\\u043a\\u0442\"}, \"xaxis\": {\"anchor\": \"y\", \"domain\": [0.0, 1.0], \"title\": {\"text\": \"ds\"}}, \"yaxis\": {\"anchor\": \"x\", \"domain\": [0.0, 1.0], \"title\": {\"text\": \"smooth_I\"}}},\n",
              "                        {\"responsive\": true}\n",
              "                    ).then(function(){\n",
              "                            \n",
              "var gd = document.getElementById('e04cee26-16c4-4f2e-a71e-4e79840aa546');\n",
              "var x = new MutationObserver(function (mutations, observer) {{\n",
              "        var display = window.getComputedStyle(gd).display;\n",
              "        if (!display || display === 'none') {{\n",
              "            console.log([gd, 'removed!']);\n",
              "            Plotly.purge(gd);\n",
              "            observer.disconnect();\n",
              "        }}\n",
              "}});\n",
              "\n",
              "// Listen for the removal of the full notebook cells\n",
              "var notebookContainer = gd.closest('#notebook-container');\n",
              "if (notebookContainer) {{\n",
              "    x.observe(notebookContainer, {childList: true});\n",
              "}}\n",
              "\n",
              "// Listen for the clearing of the current output cell\n",
              "var outputEl = gd.closest('.output');\n",
              "if (outputEl) {{\n",
              "    x.observe(outputEl, {childList: true});\n",
              "}}\n",
              "\n",
              "                        })\n",
              "                };\n",
              "                \n",
              "            </script>\n",
              "        </div>\n",
              "</body>\n",
              "</html>"
            ]
          },
          "metadata": {}
        }
      ]
    },
    {
      "cell_type": "code",
      "metadata": {
        "colab": {
          "base_uri": "https://localhost:8080/",
          "height": 542
        },
        "id": "wBdTp1fUiGa4",
        "outputId": "c9e049c1-a4f2-4b10-dc64-5283a3dccee6"
      },
      "source": [
        "import plotly.express as px\n",
        "import plotly.graph_objects as go\n",
        "\n",
        "fig1 = px.line(fact, x='ds', y='smooth_I')\n",
        "fig2 = px.line(df_predict, x='future_dates', y='final_predictions')\n",
        "\n",
        "fig = go.Figure(data = fig1.data + fig2.data)\n",
        "fig.show()"
      ],
      "execution_count": 72,
      "outputs": [
        {
          "output_type": "display_data",
          "data": {
            "text/html": [
              "<html>\n",
              "<head><meta charset=\"utf-8\" /></head>\n",
              "<body>\n",
              "    <div>\n",
              "            <script src=\"https://cdnjs.cloudflare.com/ajax/libs/mathjax/2.7.5/MathJax.js?config=TeX-AMS-MML_SVG\"></script><script type=\"text/javascript\">if (window.MathJax) {MathJax.Hub.Config({SVG: {font: \"STIX-Web\"}});}</script>\n",
              "                <script type=\"text/javascript\">window.PlotlyConfig = {MathJaxConfig: 'local'};</script>\n",
              "        <script src=\"https://cdn.plot.ly/plotly-latest.min.js\"></script>    \n",
              "            <div id=\"2c7e4d39-fcee-4f93-99f2-33d408a7323a\" class=\"plotly-graph-div\" style=\"height:525px; width:100%;\"></div>\n",
              "            <script type=\"text/javascript\">\n",
              "                \n",
              "                    window.PLOTLYENV=window.PLOTLYENV || {};\n",
              "                    \n",
              "                if (document.getElementById(\"2c7e4d39-fcee-4f93-99f2-33d408a7323a\")) {\n",
              "                    Plotly.newPlot(\n",
              "                        '2c7e4d39-fcee-4f93-99f2-33d408a7323a',\n",
              "                        [{\"hoverlabel\": {\"namelength\": 0}, \"hovertemplate\": \"ds=%{x}<br>smooth_I=%{y}\", \"legendgroup\": \"\", \"line\": {\"color\": \"#636efa\", \"dash\": \"solid\"}, \"mode\": \"lines\", \"name\": \"\", \"showlegend\": false, \"type\": \"scatter\", \"x\": [\"12.01.2017\", \"12.02.2017\", \"12.03.2017\", \"12.04.2017\", \"12.05.2017\", \"12.06.2017\", \"12.07.2017\", \"12.08.2017\", \"12.09.2017\", \"12.10.2017\", \"12.11.2017\", \"12.12.2017\", \"12.13.2017\", \"12.14.2017\"], \"xaxis\": \"x\", \"y\": [21.33195192307692, 16.92146153846154, 19.126250000000002, 21.338826923076923, 22.12279807692308, 21.093884615384617, 21.37485576923077, 20.938211538461537, 18.820009615384613, 16.29364423076923, 20.800528846153846, 28.85458653846154, 20.401490384615386, 22.960557692307688], \"yaxis\": \"y\"}, {\"hoverlabel\": {\"namelength\": 0}, \"hovertemplate\": \"future_dates=%{x}<br>final_predictions=%{y}\", \"legendgroup\": \"\", \"line\": {\"color\": \"#636efa\", \"dash\": \"solid\"}, \"mode\": \"lines\", \"name\": \"\", \"showlegend\": false, \"type\": \"scatter\", \"x\": [\"12/01/17\", \"12/02/17\", \"12/03/17\", \"12/04/17\", \"12/05/17\", \"12/06/17\", \"12/07/17\", \"12/08/17\", \"12/09/17\", \"12/10/17\", \"12/11/17\", \"12/12/17\", \"12/13/17\", \"12/14/17\"], \"xaxis\": \"x\", \"y\": [22.341570617182896, 17.777227413305052, 18.23201455094797, 22.742672659163595, 21.699722319831867, 23.016963869981225, 23.903701951372877, 22.322830599551608, 17.76231416097314, 18.21671794613606, 22.723589338640135, 21.68151195346903, 22.997645761014404, 23.88363719848395], \"yaxis\": \"y\"}],\n",
              "                        {\"template\": {\"data\": {\"bar\": [{\"error_x\": {\"color\": \"#2a3f5f\"}, \"error_y\": {\"color\": \"#2a3f5f\"}, \"marker\": {\"line\": {\"color\": \"#E5ECF6\", \"width\": 0.5}}, \"type\": \"bar\"}], \"barpolar\": [{\"marker\": {\"line\": {\"color\": \"#E5ECF6\", \"width\": 0.5}}, \"type\": \"barpolar\"}], \"carpet\": [{\"aaxis\": {\"endlinecolor\": \"#2a3f5f\", \"gridcolor\": \"white\", \"linecolor\": \"white\", \"minorgridcolor\": \"white\", \"startlinecolor\": \"#2a3f5f\"}, \"baxis\": {\"endlinecolor\": \"#2a3f5f\", \"gridcolor\": \"white\", \"linecolor\": \"white\", \"minorgridcolor\": \"white\", \"startlinecolor\": \"#2a3f5f\"}, \"type\": \"carpet\"}], \"choropleth\": [{\"colorbar\": {\"outlinewidth\": 0, \"ticks\": \"\"}, \"type\": \"choropleth\"}], \"contour\": [{\"colorbar\": {\"outlinewidth\": 0, \"ticks\": \"\"}, \"colorscale\": [[0.0, \"#0d0887\"], [0.1111111111111111, \"#46039f\"], [0.2222222222222222, \"#7201a8\"], [0.3333333333333333, \"#9c179e\"], [0.4444444444444444, \"#bd3786\"], [0.5555555555555556, \"#d8576b\"], [0.6666666666666666, \"#ed7953\"], [0.7777777777777778, \"#fb9f3a\"], [0.8888888888888888, \"#fdca26\"], [1.0, \"#f0f921\"]], \"type\": \"contour\"}], \"contourcarpet\": [{\"colorbar\": {\"outlinewidth\": 0, \"ticks\": \"\"}, \"type\": \"contourcarpet\"}], \"heatmap\": [{\"colorbar\": {\"outlinewidth\": 0, \"ticks\": \"\"}, \"colorscale\": [[0.0, \"#0d0887\"], [0.1111111111111111, \"#46039f\"], [0.2222222222222222, \"#7201a8\"], [0.3333333333333333, \"#9c179e\"], [0.4444444444444444, \"#bd3786\"], [0.5555555555555556, \"#d8576b\"], [0.6666666666666666, \"#ed7953\"], [0.7777777777777778, \"#fb9f3a\"], [0.8888888888888888, \"#fdca26\"], [1.0, \"#f0f921\"]], \"type\": \"heatmap\"}], \"heatmapgl\": [{\"colorbar\": {\"outlinewidth\": 0, \"ticks\": \"\"}, \"colorscale\": [[0.0, \"#0d0887\"], [0.1111111111111111, \"#46039f\"], [0.2222222222222222, \"#7201a8\"], [0.3333333333333333, \"#9c179e\"], [0.4444444444444444, \"#bd3786\"], [0.5555555555555556, \"#d8576b\"], [0.6666666666666666, \"#ed7953\"], [0.7777777777777778, \"#fb9f3a\"], [0.8888888888888888, \"#fdca26\"], [1.0, \"#f0f921\"]], \"type\": \"heatmapgl\"}], \"histogram\": [{\"marker\": {\"colorbar\": {\"outlinewidth\": 0, \"ticks\": \"\"}}, \"type\": \"histogram\"}], \"histogram2d\": [{\"colorbar\": {\"outlinewidth\": 0, \"ticks\": \"\"}, \"colorscale\": [[0.0, \"#0d0887\"], [0.1111111111111111, \"#46039f\"], [0.2222222222222222, \"#7201a8\"], [0.3333333333333333, \"#9c179e\"], [0.4444444444444444, \"#bd3786\"], [0.5555555555555556, \"#d8576b\"], [0.6666666666666666, \"#ed7953\"], [0.7777777777777778, \"#fb9f3a\"], [0.8888888888888888, \"#fdca26\"], [1.0, \"#f0f921\"]], \"type\": \"histogram2d\"}], \"histogram2dcontour\": [{\"colorbar\": {\"outlinewidth\": 0, \"ticks\": \"\"}, \"colorscale\": [[0.0, \"#0d0887\"], [0.1111111111111111, \"#46039f\"], [0.2222222222222222, \"#7201a8\"], [0.3333333333333333, \"#9c179e\"], [0.4444444444444444, \"#bd3786\"], [0.5555555555555556, \"#d8576b\"], [0.6666666666666666, \"#ed7953\"], [0.7777777777777778, \"#fb9f3a\"], [0.8888888888888888, \"#fdca26\"], [1.0, \"#f0f921\"]], \"type\": \"histogram2dcontour\"}], \"mesh3d\": [{\"colorbar\": {\"outlinewidth\": 0, \"ticks\": \"\"}, \"type\": \"mesh3d\"}], \"parcoords\": [{\"line\": {\"colorbar\": {\"outlinewidth\": 0, \"ticks\": \"\"}}, \"type\": \"parcoords\"}], \"pie\": [{\"automargin\": true, \"type\": \"pie\"}], \"scatter\": [{\"marker\": {\"colorbar\": {\"outlinewidth\": 0, \"ticks\": \"\"}}, \"type\": \"scatter\"}], \"scatter3d\": [{\"line\": {\"colorbar\": {\"outlinewidth\": 0, \"ticks\": \"\"}}, \"marker\": {\"colorbar\": {\"outlinewidth\": 0, \"ticks\": \"\"}}, \"type\": \"scatter3d\"}], \"scattercarpet\": [{\"marker\": {\"colorbar\": {\"outlinewidth\": 0, \"ticks\": \"\"}}, \"type\": \"scattercarpet\"}], \"scattergeo\": [{\"marker\": {\"colorbar\": {\"outlinewidth\": 0, \"ticks\": \"\"}}, \"type\": \"scattergeo\"}], \"scattergl\": [{\"marker\": {\"colorbar\": {\"outlinewidth\": 0, \"ticks\": \"\"}}, \"type\": \"scattergl\"}], \"scattermapbox\": [{\"marker\": {\"colorbar\": {\"outlinewidth\": 0, \"ticks\": \"\"}}, \"type\": \"scattermapbox\"}], \"scatterpolar\": [{\"marker\": {\"colorbar\": {\"outlinewidth\": 0, \"ticks\": \"\"}}, \"type\": \"scatterpolar\"}], \"scatterpolargl\": [{\"marker\": {\"colorbar\": {\"outlinewidth\": 0, \"ticks\": \"\"}}, \"type\": \"scatterpolargl\"}], \"scatterternary\": [{\"marker\": {\"colorbar\": {\"outlinewidth\": 0, \"ticks\": \"\"}}, \"type\": \"scatterternary\"}], \"surface\": [{\"colorbar\": {\"outlinewidth\": 0, \"ticks\": \"\"}, \"colorscale\": [[0.0, \"#0d0887\"], [0.1111111111111111, \"#46039f\"], [0.2222222222222222, \"#7201a8\"], [0.3333333333333333, \"#9c179e\"], [0.4444444444444444, \"#bd3786\"], [0.5555555555555556, \"#d8576b\"], [0.6666666666666666, \"#ed7953\"], [0.7777777777777778, \"#fb9f3a\"], [0.8888888888888888, \"#fdca26\"], [1.0, \"#f0f921\"]], \"type\": \"surface\"}], \"table\": [{\"cells\": {\"fill\": {\"color\": \"#EBF0F8\"}, \"line\": {\"color\": \"white\"}}, \"header\": {\"fill\": {\"color\": \"#C8D4E3\"}, \"line\": {\"color\": \"white\"}}, \"type\": \"table\"}]}, \"layout\": {\"annotationdefaults\": {\"arrowcolor\": \"#2a3f5f\", \"arrowhead\": 0, \"arrowwidth\": 1}, \"coloraxis\": {\"colorbar\": {\"outlinewidth\": 0, \"ticks\": \"\"}}, \"colorscale\": {\"diverging\": [[0, \"#8e0152\"], [0.1, \"#c51b7d\"], [0.2, \"#de77ae\"], [0.3, \"#f1b6da\"], [0.4, \"#fde0ef\"], [0.5, \"#f7f7f7\"], [0.6, \"#e6f5d0\"], [0.7, \"#b8e186\"], [0.8, \"#7fbc41\"], [0.9, \"#4d9221\"], [1, \"#276419\"]], \"sequential\": [[0.0, \"#0d0887\"], [0.1111111111111111, \"#46039f\"], [0.2222222222222222, \"#7201a8\"], [0.3333333333333333, \"#9c179e\"], [0.4444444444444444, \"#bd3786\"], [0.5555555555555556, \"#d8576b\"], [0.6666666666666666, \"#ed7953\"], [0.7777777777777778, \"#fb9f3a\"], [0.8888888888888888, \"#fdca26\"], [1.0, \"#f0f921\"]], \"sequentialminus\": [[0.0, \"#0d0887\"], [0.1111111111111111, \"#46039f\"], [0.2222222222222222, \"#7201a8\"], [0.3333333333333333, \"#9c179e\"], [0.4444444444444444, \"#bd3786\"], [0.5555555555555556, \"#d8576b\"], [0.6666666666666666, \"#ed7953\"], [0.7777777777777778, \"#fb9f3a\"], [0.8888888888888888, \"#fdca26\"], [1.0, \"#f0f921\"]]}, \"colorway\": [\"#636efa\", \"#EF553B\", \"#00cc96\", \"#ab63fa\", \"#FFA15A\", \"#19d3f3\", \"#FF6692\", \"#B6E880\", \"#FF97FF\", \"#FECB52\"], \"font\": {\"color\": \"#2a3f5f\"}, \"geo\": {\"bgcolor\": \"white\", \"lakecolor\": \"white\", \"landcolor\": \"#E5ECF6\", \"showlakes\": true, \"showland\": true, \"subunitcolor\": \"white\"}, \"hoverlabel\": {\"align\": \"left\"}, \"hovermode\": \"closest\", \"mapbox\": {\"style\": \"light\"}, \"paper_bgcolor\": \"white\", \"plot_bgcolor\": \"#E5ECF6\", \"polar\": {\"angularaxis\": {\"gridcolor\": \"white\", \"linecolor\": \"white\", \"ticks\": \"\"}, \"bgcolor\": \"#E5ECF6\", \"radialaxis\": {\"gridcolor\": \"white\", \"linecolor\": \"white\", \"ticks\": \"\"}}, \"scene\": {\"xaxis\": {\"backgroundcolor\": \"#E5ECF6\", \"gridcolor\": \"white\", \"gridwidth\": 2, \"linecolor\": \"white\", \"showbackground\": true, \"ticks\": \"\", \"zerolinecolor\": \"white\"}, \"yaxis\": {\"backgroundcolor\": \"#E5ECF6\", \"gridcolor\": \"white\", \"gridwidth\": 2, \"linecolor\": \"white\", \"showbackground\": true, \"ticks\": \"\", \"zerolinecolor\": \"white\"}, \"zaxis\": {\"backgroundcolor\": \"#E5ECF6\", \"gridcolor\": \"white\", \"gridwidth\": 2, \"linecolor\": \"white\", \"showbackground\": true, \"ticks\": \"\", \"zerolinecolor\": \"white\"}}, \"shapedefaults\": {\"line\": {\"color\": \"#2a3f5f\"}}, \"ternary\": {\"aaxis\": {\"gridcolor\": \"white\", \"linecolor\": \"white\", \"ticks\": \"\"}, \"baxis\": {\"gridcolor\": \"white\", \"linecolor\": \"white\", \"ticks\": \"\"}, \"bgcolor\": \"#E5ECF6\", \"caxis\": {\"gridcolor\": \"white\", \"linecolor\": \"white\", \"ticks\": \"\"}}, \"title\": {\"x\": 0.05}, \"xaxis\": {\"automargin\": true, \"gridcolor\": \"white\", \"linecolor\": \"white\", \"ticks\": \"\", \"title\": {\"standoff\": 15}, \"zerolinecolor\": \"white\", \"zerolinewidth\": 2}, \"yaxis\": {\"automargin\": true, \"gridcolor\": \"white\", \"linecolor\": \"white\", \"ticks\": \"\", \"title\": {\"standoff\": 15}, \"zerolinecolor\": \"white\", \"zerolinewidth\": 2}}}},\n",
              "                        {\"responsive\": true}\n",
              "                    ).then(function(){\n",
              "                            \n",
              "var gd = document.getElementById('2c7e4d39-fcee-4f93-99f2-33d408a7323a');\n",
              "var x = new MutationObserver(function (mutations, observer) {{\n",
              "        var display = window.getComputedStyle(gd).display;\n",
              "        if (!display || display === 'none') {{\n",
              "            console.log([gd, 'removed!']);\n",
              "            Plotly.purge(gd);\n",
              "            observer.disconnect();\n",
              "        }}\n",
              "}});\n",
              "\n",
              "// Listen for the removal of the full notebook cells\n",
              "var notebookContainer = gd.closest('#notebook-container');\n",
              "if (notebookContainer) {{\n",
              "    x.observe(notebookContainer, {childList: true});\n",
              "}}\n",
              "\n",
              "// Listen for the clearing of the current output cell\n",
              "var outputEl = gd.closest('.output');\n",
              "if (outputEl) {{\n",
              "    x.observe(outputEl, {childList: true});\n",
              "}}\n",
              "\n",
              "                        })\n",
              "                };\n",
              "                \n",
              "            </script>\n",
              "        </div>\n",
              "</body>\n",
              "</html>"
            ]
          },
          "metadata": {}
        }
      ]
    },
    {
      "cell_type": "code",
      "metadata": {
        "colab": {
          "base_uri": "https://localhost:8080/",
          "height": 265
        },
        "id": "NiyoQvNDhpbW",
        "outputId": "4b85da95-9885-4c67-ed75-d940a81c44b7"
      },
      "source": [
        "ax =df_s_m.plot.kde()"
      ],
      "execution_count": 63,
      "outputs": [
        {
          "output_type": "display_data",
          "data": {
            "image/png": "[encoded data removed]",
            "text/plain": [
              "<Figure size 432x288 with 1 Axes>"
            ]
          },
          "metadata": {
            "needs_background": "light"
          }
        }
      ]
    },
    {
      "cell_type": "code",
      "metadata": {
        "colab": {
          "base_uri": "https://localhost:8080/",
          "height": 265
        },
        "id": "qI1g4XBOlu2Q",
        "outputId": "98338d45-b4d1-4d70-a760-cdd190f0e6b6"
      },
      "source": [
        "lines = df_s_m.plot.line()"
      ],
      "execution_count": 64,
      "outputs": [
        {
          "output_type": "display_data",
          "data": {
            "image/png": "[encoded data removed]",
            "text/plain": [
              "<Figure size 432x288 with 1 Axes>"
            ]
          },
          "metadata": {
            "needs_background": "light"
          }
        }
      ]
    },
    {
      "cell_type": "code",
      "metadata": {
        "colab": {
          "base_uri": "https://localhost:8080/",
          "height": 252
        },
        "id": "j8X1tzZ_l5yd",
        "outputId": "93e79ce0-d1a7-4291-e027-cf557c00048a"
      },
      "source": [
        "ax2 = df_s_m.plot.scatter(x='smooth_I',\n",
        "                      y='weekday',\n",
        "                      c='final_predictions',\n",
        "                      colormap='viridis')"
      ],
      "execution_count": 65,
      "outputs": [
        {
          "output_type": "display_data",
          "data": {
            "image/png": "[encoded data removed]",
            "text/plain": [
              "<Figure size 432x288 with 2 Axes>"
            ]
          },
          "metadata": {
            "needs_background": "light"
          }
        }
      ]
    },
    {
      "cell_type": "code",
      "metadata": {
        "colab": {
          "base_uri": "https://localhost:8080/",
          "height": 564
        },
        "id": "8bNvYyti2ATP",
        "outputId": "1b6448c1-3bc4-44a5-a363-202214968ccf"
      },
      "source": [
        "itog =  df_s_m.describe()\n",
        "df_s_m.hist()\n",
        "itog"
      ],
      "execution_count": 66,
      "outputs": [
        {
          "output_type": "execute_result",
          "data": {
            "text/html": [
              "<div>\n",
              "<style scoped>\n",
              "    .dataframe tbody tr th:only-of-type {\n",
              "        vertical-align: middle;\n",
              "    }\n",
              "\n",
              "    .dataframe tbody tr th {\n",
              "        vertical-align: top;\n",
              "    }\n",
              "\n",
              "    .dataframe thead th {\n",
              "        text-align: right;\n",
              "    }\n",
              "</style>\n",
              "<table border=\"1\" class=\"dataframe\">\n",
              "  <thead>\n",
              "    <tr style=\"text-align: right;\">\n",
              "      <th></th>\n",
              "      <th>final_predictions</th>\n",
              "      <th>smooth_I</th>\n",
              "    </tr>\n",
              "  </thead>\n",
              "  <tbody>\n",
              "    <tr>\n",
              "      <th>count</th>\n",
              "      <td>14.000000</td>\n",
              "      <td>14.000000</td>\n",
              "    </tr>\n",
              "    <tr>\n",
              "      <th>mean</th>\n",
              "      <td>21.378723</td>\n",
              "      <td>20.884218</td>\n",
              "    </tr>\n",
              "    <tr>\n",
              "      <th>std</th>\n",
              "      <td>2.313609</td>\n",
              "      <td>2.966933</td>\n",
              "    </tr>\n",
              "    <tr>\n",
              "      <th>min</th>\n",
              "      <td>17.762314</td>\n",
              "      <td>16.293644</td>\n",
              "    </tr>\n",
              "    <tr>\n",
              "      <th>25%</th>\n",
              "      <td>19.094389</td>\n",
              "      <td>19.445060</td>\n",
              "    </tr>\n",
              "    <tr>\n",
              "      <th>50%</th>\n",
              "      <td>22.332201</td>\n",
              "      <td>21.016048</td>\n",
              "    </tr>\n",
              "    <tr>\n",
              "      <th>75%</th>\n",
              "      <td>22.933902</td>\n",
              "      <td>21.365849</td>\n",
              "    </tr>\n",
              "    <tr>\n",
              "      <th>max</th>\n",
              "      <td>23.903702</td>\n",
              "      <td>28.854587</td>\n",
              "    </tr>\n",
              "  </tbody>\n",
              "</table>\n",
              "</div>"
            ],
            "text/plain": [
              "       final_predictions   smooth_I\n",
              "count          14.000000  14.000000\n",
              "mean           21.378723  20.884218\n",
              "std             2.313609   2.966933\n",
              "min            17.762314  16.293644\n",
              "25%            19.094389  19.445060\n",
              "50%            22.332201  21.016048\n",
              "75%            22.933902  21.365849\n",
              "max            23.903702  28.854587"
            ]
          },
          "metadata": {},
          "execution_count": 66
        },
        {
          "output_type": "display_data",
          "data": {
            "image/png": "[encoded data removed]",
            "text/plain": [
              "<Figure size 432x288 with 2 Axes>"
            ]
          },
          "metadata": {
            "needs_background": "light"
          }
        }
      ]
    },
    {
      "cell_type": "code",
      "metadata": {
        "colab": {
          "base_uri": "https://localhost:8080/"
        },
        "id": "e23StqDQ4SHi",
        "outputId": "9c8e0a71-dc84-481d-f29d-f5f4b9e28ffa"
      },
      "source": [
        "from scipy.stats import variation \n",
        "var = variation(itog['final_predictions'], axis=0)\n",
        "idmax = np.argmax(var)\n",
        "print(idmax)"
      ],
      "execution_count": 67,
      "outputs": [
        {
          "output_type": "stream",
          "name": "stdout",
          "text": [
            "0\n"
          ]
        }
      ]
    },
    {
      "cell_type": "markdown",
      "metadata": {
        "id": "mY3ae41Z34bA"
      },
      "source": [
        "Как можно заметить из характеристик и гистограммы, ряд у нас не однородный и имеет разброс о чем свидетельствует  коэффициент вариации равный  0"
      ]
    },
    {
      "cell_type": "code",
      "metadata": {
        "colab": {
          "base_uri": "https://localhost:8080/",
          "height": 488
        },
        "id": "JZ5PItjeSVUb",
        "outputId": "efb9825b-85fb-45e6-fd74-63e6be34a410"
      },
      "source": [
        "final_predictions=df_predict[['future_dates','final_predictions']]\n",
        "final_predictions"
      ],
      "execution_count": 69,
      "outputs": [
        {
          "output_type": "execute_result",
          "data": {
            "text/html": [
              "<div>\n",
              "<style scoped>\n",
              "    .dataframe tbody tr th:only-of-type {\n",
              "        vertical-align: middle;\n",
              "    }\n",
              "\n",
              "    .dataframe tbody tr th {\n",
              "        vertical-align: top;\n",
              "    }\n",
              "\n",
              "    .dataframe thead th {\n",
              "        text-align: right;\n",
              "    }\n",
              "</style>\n",
              "<table border=\"1\" class=\"dataframe\">\n",
              "  <thead>\n",
              "    <tr style=\"text-align: right;\">\n",
              "      <th></th>\n",
              "      <th>future_dates</th>\n",
              "      <th>final_predictions</th>\n",
              "    </tr>\n",
              "  </thead>\n",
              "  <tbody>\n",
              "    <tr>\n",
              "      <th>0</th>\n",
              "      <td>12/01/17</td>\n",
              "      <td>22.341571</td>\n",
              "    </tr>\n",
              "    <tr>\n",
              "      <th>1</th>\n",
              "      <td>12/02/17</td>\n",
              "      <td>17.777227</td>\n",
              "    </tr>\n",
              "    <tr>\n",
              "      <th>2</th>\n",
              "      <td>12/03/17</td>\n",
              "      <td>18.232015</td>\n",
              "    </tr>\n",
              "    <tr>\n",
              "      <th>3</th>\n",
              "      <td>12/04/17</td>\n",
              "      <td>22.742673</td>\n",
              "    </tr>\n",
              "    <tr>\n",
              "      <th>4</th>\n",
              "      <td>12/05/17</td>\n",
              "      <td>21.699722</td>\n",
              "    </tr>\n",
              "    <tr>\n",
              "      <th>5</th>\n",
              "      <td>12/06/17</td>\n",
              "      <td>23.016964</td>\n",
              "    </tr>\n",
              "    <tr>\n",
              "      <th>6</th>\n",
              "      <td>12/07/17</td>\n",
              "      <td>23.903702</td>\n",
              "    </tr>\n",
              "    <tr>\n",
              "      <th>7</th>\n",
              "      <td>12/08/17</td>\n",
              "      <td>22.322831</td>\n",
              "    </tr>\n",
              "    <tr>\n",
              "      <th>8</th>\n",
              "      <td>12/09/17</td>\n",
              "      <td>17.762314</td>\n",
              "    </tr>\n",
              "    <tr>\n",
              "      <th>9</th>\n",
              "      <td>12/10/17</td>\n",
              "      <td>18.216718</td>\n",
              "    </tr>\n",
              "    <tr>\n",
              "      <th>10</th>\n",
              "      <td>12/11/17</td>\n",
              "      <td>22.723589</td>\n",
              "    </tr>\n",
              "    <tr>\n",
              "      <th>11</th>\n",
              "      <td>12/12/17</td>\n",
              "      <td>21.681512</td>\n",
              "    </tr>\n",
              "    <tr>\n",
              "      <th>12</th>\n",
              "      <td>12/13/17</td>\n",
              "      <td>22.997646</td>\n",
              "    </tr>\n",
              "    <tr>\n",
              "      <th>13</th>\n",
              "      <td>12/14/17</td>\n",
              "      <td>23.883637</td>\n",
              "    </tr>\n",
              "  </tbody>\n",
              "</table>\n",
              "</div>"
            ],
            "text/plain": [
              "   future_dates  final_predictions\n",
              "0      12/01/17          22.341571\n",
              "1      12/02/17          17.777227\n",
              "2      12/03/17          18.232015\n",
              "3      12/04/17          22.742673\n",
              "4      12/05/17          21.699722\n",
              "5      12/06/17          23.016964\n",
              "6      12/07/17          23.903702\n",
              "7      12/08/17          22.322831\n",
              "8      12/09/17          17.762314\n",
              "9      12/10/17          18.216718\n",
              "10     12/11/17          22.723589\n",
              "11     12/12/17          21.681512\n",
              "12     12/13/17          22.997646\n",
              "13     12/14/17          23.883637"
            ]
          },
          "metadata": {},
          "execution_count": 69
        }
      ]
    },
    {
      "cell_type": "code",
      "metadata": {
        "id": "SlKkQK4QSZ9Z"
      },
      "source": [
        "writer = pd.ExcelWriter('итог.xlsx')\n",
        "final_predictions.to_excel(writer, sheet_name='bar')\n",
        "writer.save()"
      ],
      "execution_count": 70,
      "outputs": []
    }
  ]
}