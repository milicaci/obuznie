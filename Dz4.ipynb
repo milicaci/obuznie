{
 "cells": [
  {
   "cell_type": "code",
   "execution_count": 13,
   "metadata": {},
   "outputs": [
    {
     "name": "stdout",
     "output_type": "stream",
     "text": [
      "{98, 35, 15, 213, 54, 119}\n"
     ]
    }
   ],
   "source": [
    "#1 задание\n",
    "ids = {'user1': [213, 213, 213, 15, 213],\n",
    "'user2': [54, 54, 119, 119, 119],\n",
    "'user3': [213, 98, 98, 35]}\n",
    "spis = [] # cоздаем пустой спискок \n",
    "for a in ids.values():#состоящий из уникальных не повторяющихся элементов в каждой строке\n",
    "    for b in a:\n",
    "        spis.append(b)#добавляет b в конец списка\n",
    "print(set(spis))# выводим неповторяющиеся элементы в случайном порядке из списка"
   ]
  },
  {
   "cell_type": "code",
   "execution_count": 14,
   "metadata": {},
   "outputs": [
    {
     "name": "stdout",
     "output_type": "stream",
     "text": [
      "Поисковых запросов, содержащих 3 слов(а):  57.14 %\n",
      "Поисковых запросов, содержащих 2 слов(а):  42.86 %\n"
     ]
    }
   ],
   "source": [
    "#2 задание\n",
    "queries = [\n",
    "'смотреть сериалы онлайн',\n",
    "'новости спорта',\n",
    "'афиша кино',\n",
    "'курс доллара',\n",
    "'сериалы этим летом',\n",
    "'курс по питону',\n",
    "'сериалы про спорт',\n",
    "]\n",
    "a = {}\n",
    "for spisok in queries:\n",
    "    dlina = len(spisok.split()) # разделить по проблелу строчку и  посчитать\n",
    "    if dlina not in a:\n",
    "        a[dlina] = 1\n",
    "    else:\n",
    "        a[dlina] += 1 # обновляем длину строки\n",
    "for key, value in a.items():#список пар (ключ, значение) \n",
    "    c = round((value / len(queries)) * 100, 2)\n",
    "    print(f'Поисковых запросов, содержащих {key} слов(а): ', c, '%')"
   ]
  },
  {
   "cell_type": "code",
   "execution_count": 17,
   "metadata": {},
   "outputs": [
    {
     "name": "stdout",
     "output_type": "stream",
     "text": [
      "{'adwords': {'roi': 2.94, 'revenue': 35, 'cost': 34}, 'facebook': {'roi': -6.36, 'revenue': 103, 'cost': 110}, 'twitter': {'roi': -54.17, 'revenue': 11, 'cost': 24}, 'vk': {'roi': 5.1, 'revenue': 103, 'cost': 98}, 'yandex': {'roi': 16.99, 'revenue': 179, 'cost': 153}}\n"
     ]
    }
   ],
   "source": [
    "#3 задание втрое решение \n",
    "results = {\n",
    "    'vk': {'revenue': 103, 'cost': 98},\n",
    "    'yandex': {'revenue': 179, 'cost': 153},\n",
    "    'facebook': {'revenue': 103, 'cost': 110},\n",
    "    'adwords': {'revenue': 35, 'cost': 34},\n",
    "    'twitter': {'revenue': 11, 'cost': 24},\n",
    "}\n",
    "\n",
    "for b in results:   \n",
    "    results[b]['roi'] = float('{:.2f}'.format((results[b]['revenue'] / results[b]['cost'] - 1) * 100))\n",
    "    results[b] = dict((sorted(results[b].items(), reverse=True)))\n",
    "print(dict(sorted(results.items())))"
   ]
  },
  {
   "cell_type": "code",
   "execution_count": 16,
   "metadata": {},
   "outputs": [
    {
     "name": "stdout",
     "output_type": "stream",
     "text": [
      "Максимальный объем продаж на рекламном канале: vk\n"
     ]
    }
   ],
   "source": [
    "#4 задание \n",
    "stats = {'facebook': 55, 'yandex': 115, 'vk': 120, 'google': 99, 'email': 42, 'ok': 98}\n",
    "max_znach = 0\n",
    "for company, znach in stats.items():\n",
    "    if znach > max_znach:\n",
    "        company_n = company\n",
    "        max_znach = znach\n",
    "\n",
    "print(f'Максимальный объем продаж на рекламном канале: {company_n}')"
   ]
  }
 ],
 "metadata": {
  "kernelspec": {
   "display_name": "Python 3",
   "language": "python",
   "name": "python3"
  },
  "language_info": {
   "codemirror_mode": {
    "name": "ipython",
    "version": 3
   },
   "file_extension": ".py",
   "mimetype": "text/x-python",
   "name": "python",
   "nbconvert_exporter": "python",
   "pygments_lexer": "ipython3",
   "version": "3.8.5"
  }
 },
 "nbformat": 4,
 "nbformat_minor": 4
}
