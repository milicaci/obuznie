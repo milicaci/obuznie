{
 "cells": [
  {
   "cell_type": "code",
   "execution_count": 48,
   "metadata": {},
   "outputs": [],
   "source": [
    "documents = [\n",
    " {'type': 'passport', 'number': '2207 876234', 'name': 'Василий Гупкин'},\n",
    " {'type': 'invoice', 'number': '11-2', 'name': 'Геннадий Покемонов'},\n",
    " {'type': 'insurance', 'number': '10006', 'name': 'Аристарх Павлов'}\n",
    "]"
   ]
  },
  {
   "cell_type": "code",
   "execution_count": 49,
   "metadata": {},
   "outputs": [],
   "source": [
    "directories = {\n",
    " '1': ['2207 876234', '11-2'],\n",
    " '2': ['10006'],\n",
    " '3': []\n",
    "}"
   ]
  },
  {
   "cell_type": "markdown",
   "metadata": {},
   "source": [
    "Пункт 1. Пользователь по команде \"p\" может узнать владельца документа по его номеру"
   ]
  },
  {
   "cell_type": "code",
   "execution_count": 50,
   "metadata": {},
   "outputs": [],
   "source": [
    "def  nomer():\n",
    "    nomer_d = input('Введите номер документа: ')\n",
    "    i = 0\n",
    "    for doc in documents:\n",
    "        if doc['number'] == nomer_d:\n",
    "            print(doc['name'])\n",
    "            i = 1\n",
    "    if i == 0:\n",
    "        print('Документ не найден в базе')\n",
    "#nomer()"
   ]
  },
  {
   "cell_type": "markdown",
   "metadata": {},
   "source": [
    "Пункт 2. Пользователь по команде “s” может по номеру документа узнать на какой полке он хранится"
   ]
  },
  {
   "cell_type": "code",
   "execution_count": 51,
   "metadata": {},
   "outputs": [],
   "source": [
    "def polka():\n",
    "    nomer_d = input('Введите номер документа: ')\n",
    "    i = 0\n",
    "    for key, value in directories.items():\n",
    "        if nomer_d in value:\n",
    "            print(key)\n",
    "            i = 1\n",
    "            \n",
    "    if i == 0:\n",
    "        print('Документ не найден в базе')\n",
    "#polka()"
   ]
  },
  {
   "cell_type": "markdown",
   "metadata": {},
   "source": [
    "Пункт 3. Пользователь по команде “l” может увидеть полную информацию по всем документам"
   ]
  },
  {
   "cell_type": "code",
   "execution_count": 52,
   "metadata": {},
   "outputs": [],
   "source": [
    "def vce():\n",
    "    nomer_d = input('Введите номер документа: ')\n",
    "    for doc in documents:\n",
    "        for key, value in directories.items():\n",
    "            if doc['number'] in value:\n",
    "                num = doc['number']\n",
    "                doc_tip = doc['type']\n",
    "                name = doc['name']\n",
    "                print(f'№: {num}, тип: {doc_tip}, владелец: {name}, полка: {key}')\n",
    "#vce()"
   ]
  },
  {
   "cell_type": "markdown",
   "metadata": {},
   "source": [
    "Пункт 4. Пользователь по команде “as” может добавить новую полку"
   ]
  },
  {
   "cell_type": "code",
   "execution_count": 53,
   "metadata": {},
   "outputs": [],
   "source": [
    "def new_p():\n",
    "    nomer_d = input('Введите номер полки: ')\n",
    "    new_p_d = []\n",
    "    i = 0  \n",
    "    for key, value in directories.items():\n",
    "        new_p_d += [int(key)]\n",
    "        if nomer_d == key:\n",
    "            i = 1\n",
    "    if i == 1:\n",
    "        print(f'Такая полка уже существует. Текущий перечень полок: {new_p_d}')\n",
    "    else:\n",
    "        print(f'Полка добавлена. Текущий перечень полок: {new_p_d + list([int(nomer_d)])}')\n",
    "        directories[nomer_d] = []\n",
    "        \n",
    "    print(directories.keys())\n",
    "    \n",
    "    \n",
    "#new_p()"
   ]
  },
  {
   "cell_type": "markdown",
   "metadata": {},
   "source": [
    "Пункт 5. Пользователь по команде “ds” может удалить существующую полку из данных (только если она пустая)"
   ]
  },
  {
   "cell_type": "code",
   "execution_count": 54,
   "metadata": {},
   "outputs": [],
   "source": [
    "def old_dil():\n",
    "    nomer_d = input('Введите номер полки:')\n",
    "    new_p_d = []\n",
    "    i = 0  \n",
    "    n = 0  \n",
    "    for key, value in directories.items():\n",
    "        \n",
    "        if nomer_d == key and len(value) > 0:\n",
    "            i = 1            \n",
    "        elif nomer_d == key:\n",
    "            n = 1\n",
    "        else:\n",
    "            new_p_d += [int(key)]\n",
    "    \n",
    "    if i == 1:\n",
    "        print(f'На полке есть документы, удалите их перед удалением полки. Текущий перечень полок: {new_p_d}')\n",
    "    elif n == 1:\n",
    "        print(f'Полка удалена. Текущий перечень полок: {new_p_d}')    \n",
    "        del(directories[nomer_d])\n",
    "    else:\n",
    "        print(f'Такой полки не существует. Текущий перечень полок: {new_p_d}')\n",
    "        \n",
    "    print(directories.keys())\n",
    "    \n",
    "#old_del()"
   ]
  },
  {
   "cell_type": "markdown",
   "metadata": {},
   "source": [
    "6. Запрос по  кодам."
   ]
  },
  {
   "cell_type": "code",
   "execution_count": 56,
   "metadata": {},
   "outputs": [
    {
     "name": "stdout",
     "output_type": "stream",
     "text": [
      "Введите команду:p\n",
      "Введите номер документа: 10006\n",
      "Аристарх Павлов\n",
      "Введите команду:s\n",
      "Введите номер документа: 1006\n",
      "Документ не найден в базе\n"
     ]
    },
    {
     "ename": "KeyboardInterrupt",
     "evalue": "Interrupted by user",
     "output_type": "error",
     "traceback": [
      "\u001b[1;31m---------------------------------------------------------------------------\u001b[0m",
      "\u001b[1;31mKeyboardInterrupt\u001b[0m                         Traceback (most recent call last)",
      "\u001b[1;32m<ipython-input-56-662158e854b7>\u001b[0m in \u001b[0;36m<module>\u001b[1;34m\u001b[0m\n\u001b[0;32m      1\u001b[0m \u001b[1;32mwhile\u001b[0m \u001b[1;32mTrue\u001b[0m\u001b[1;33m:\u001b[0m\u001b[1;33m\u001b[0m\u001b[1;33m\u001b[0m\u001b[0m\n\u001b[1;32m----> 2\u001b[1;33m     \u001b[0mcommand\u001b[0m \u001b[1;33m=\u001b[0m \u001b[0minput\u001b[0m\u001b[1;33m(\u001b[0m\u001b[1;34m'Введите команду:'\u001b[0m\u001b[1;33m)\u001b[0m\u001b[1;33m\u001b[0m\u001b[1;33m\u001b[0m\u001b[0m\n\u001b[0m\u001b[0;32m      3\u001b[0m     \u001b[1;32mif\u001b[0m \u001b[0mcommand\u001b[0m \u001b[1;33m==\u001b[0m \u001b[1;34m'p'\u001b[0m\u001b[1;33m:\u001b[0m\u001b[1;33m\u001b[0m\u001b[1;33m\u001b[0m\u001b[0m\n\u001b[0;32m      4\u001b[0m         \u001b[0mnomer\u001b[0m\u001b[1;33m(\u001b[0m\u001b[1;33m)\u001b[0m\u001b[1;33m\u001b[0m\u001b[1;33m\u001b[0m\u001b[0m\n\u001b[0;32m      5\u001b[0m     \u001b[1;32melif\u001b[0m \u001b[0mcommand\u001b[0m \u001b[1;33m==\u001b[0m \u001b[1;34m's'\u001b[0m\u001b[1;33m:\u001b[0m\u001b[1;33m\u001b[0m\u001b[1;33m\u001b[0m\u001b[0m\n",
      "\u001b[1;32m~\\anaconda3\\lib\\site-packages\\ipykernel\\kernelbase.py\u001b[0m in \u001b[0;36mraw_input\u001b[1;34m(self, prompt)\u001b[0m\n\u001b[0;32m    858\u001b[0m                 \u001b[1;34m\"raw_input was called, but this frontend does not support input requests.\"\u001b[0m\u001b[1;33m\u001b[0m\u001b[1;33m\u001b[0m\u001b[0m\n\u001b[0;32m    859\u001b[0m             )\n\u001b[1;32m--> 860\u001b[1;33m         return self._input_request(str(prompt),\n\u001b[0m\u001b[0;32m    861\u001b[0m             \u001b[0mself\u001b[0m\u001b[1;33m.\u001b[0m\u001b[0m_parent_ident\u001b[0m\u001b[1;33m,\u001b[0m\u001b[1;33m\u001b[0m\u001b[1;33m\u001b[0m\u001b[0m\n\u001b[0;32m    862\u001b[0m             \u001b[0mself\u001b[0m\u001b[1;33m.\u001b[0m\u001b[0m_parent_header\u001b[0m\u001b[1;33m,\u001b[0m\u001b[1;33m\u001b[0m\u001b[1;33m\u001b[0m\u001b[0m\n",
      "\u001b[1;32m~\\anaconda3\\lib\\site-packages\\ipykernel\\kernelbase.py\u001b[0m in \u001b[0;36m_input_request\u001b[1;34m(self, prompt, ident, parent, password)\u001b[0m\n\u001b[0;32m    902\u001b[0m             \u001b[1;32mexcept\u001b[0m \u001b[0mKeyboardInterrupt\u001b[0m\u001b[1;33m:\u001b[0m\u001b[1;33m\u001b[0m\u001b[1;33m\u001b[0m\u001b[0m\n\u001b[0;32m    903\u001b[0m                 \u001b[1;31m# re-raise KeyboardInterrupt, to truncate traceback\u001b[0m\u001b[1;33m\u001b[0m\u001b[1;33m\u001b[0m\u001b[1;33m\u001b[0m\u001b[0m\n\u001b[1;32m--> 904\u001b[1;33m                 \u001b[1;32mraise\u001b[0m \u001b[0mKeyboardInterrupt\u001b[0m\u001b[1;33m(\u001b[0m\u001b[1;34m\"Interrupted by user\"\u001b[0m\u001b[1;33m)\u001b[0m \u001b[1;32mfrom\u001b[0m \u001b[1;32mNone\u001b[0m\u001b[1;33m\u001b[0m\u001b[1;33m\u001b[0m\u001b[0m\n\u001b[0m\u001b[0;32m    905\u001b[0m             \u001b[1;32mexcept\u001b[0m \u001b[0mException\u001b[0m \u001b[1;32mas\u001b[0m \u001b[0me\u001b[0m\u001b[1;33m:\u001b[0m\u001b[1;33m\u001b[0m\u001b[1;33m\u001b[0m\u001b[0m\n\u001b[0;32m    906\u001b[0m                 \u001b[0mself\u001b[0m\u001b[1;33m.\u001b[0m\u001b[0mlog\u001b[0m\u001b[1;33m.\u001b[0m\u001b[0mwarning\u001b[0m\u001b[1;33m(\u001b[0m\u001b[1;34m\"Invalid Message:\"\u001b[0m\u001b[1;33m,\u001b[0m \u001b[0mexc_info\u001b[0m\u001b[1;33m=\u001b[0m\u001b[1;32mTrue\u001b[0m\u001b[1;33m)\u001b[0m\u001b[1;33m\u001b[0m\u001b[1;33m\u001b[0m\u001b[0m\n",
      "\u001b[1;31mKeyboardInterrupt\u001b[0m: Interrupted by user"
     ]
    }
   ],
   "source": [
    "    while True:\n",
    "        command = input('Введите команду:')\n",
    "        if command == 'p':\n",
    "            nomer()\n",
    "        elif command == 's':\n",
    "            polka()\n",
    "        elif command == 'l':\n",
    "            vce()\n",
    "        elif command == 'ads':\n",
    "            new_p()\n",
    "        elif command == 'ds':\n",
    "            old_del()\n",
    "        elif command == 'q':\n",
    "            break\n",
    "        else:\n",
    "            print('Команда не найдена')"
   ]
  },
  {
   "cell_type": "code",
   "execution_count": null,
   "metadata": {},
   "outputs": [],
   "source": []
  }
 ],
 "metadata": {
  "kernelspec": {
   "display_name": "Python 3",
   "language": "python",
   "name": "python3"
  },
  "language_info": {
   "codemirror_mode": {
    "name": "ipython",
    "version": 3
   },
   "file_extension": ".py",
   "mimetype": "text/x-python",
   "name": "python",
   "nbconvert_exporter": "python",
   "pygments_lexer": "ipython3",
   "version": "3.8.5"
  }
 },
 "nbformat": 4,
 "nbformat_minor": 4
}
